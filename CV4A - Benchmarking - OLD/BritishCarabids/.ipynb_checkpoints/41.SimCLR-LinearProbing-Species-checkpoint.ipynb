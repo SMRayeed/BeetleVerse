{
 "cells": [
  {
   "cell_type": "code",
   "execution_count": 1,
   "id": "d43ed39a-334c-4c88-91ab-136abdde815c",
   "metadata": {},
   "outputs": [],
   "source": [
    "import timm\n",
    "import torch\n",
    "import numpy as np\n",
    "import pandas as pd\n",
    "from PIL import Image\n",
    "from tqdm import tqdm\n",
    "from urllib.request import urlopen\n",
    "from sklearn.preprocessing import LabelEncoder, StandardScaler\n",
    "from sklearn.model_selection import train_test_split\n",
    "from sklearn.naive_bayes import GaussianNB\n",
    "from sklearn.linear_model import LogisticRegression\n",
    "from sklearn.svm import SVC\n",
    "from sklearn.neighbors import KNeighborsClassifier\n",
    "from sklearn.ensemble import RandomForestClassifier\n",
    "from sklearn.neural_network import MLPClassifier\n",
    "from sklearn.metrics import accuracy_score, precision_score, recall_score, f1_score, balanced_accuracy_score, matthews_corrcoef"
   ]
  },
  {
   "cell_type": "code",
   "execution_count": 2,
   "id": "7332ebcf-0837-4252-99a3-5c3c5ce9c960",
   "metadata": {},
   "outputs": [],
   "source": [
    "file_path = \"/fs/ess/PAS2136/Hawaii-2025/beetles_intake/BeetlePUUM/1. Completed_Data/CanonBeetles.csv\"\n",
    "\n",
    "canon_df = pd.read_csv(file_path)\n",
    "\n",
    "canon_df[\"ImageFilePath\"] = canon_df[\"cropped_image_path\"].apply(lambda x: f\"/fs/ess/PAS2136/Hawaii-2025/beetles_intake/BeetlePUUM/CANON/{x}\")\n",
    "\n",
    "cols = ['ImageFilePath', 'ScientificName']\n",
    "\n",
    "df = canon_df[cols]\n"
   ]
  },
  {
   "cell_type": "code",
   "execution_count": 3,
   "id": "791a1ef8-4e25-4b61-955e-3f7cc91a32f3",
   "metadata": {},
   "outputs": [],
   "source": [
    "device = \"cuda\" if torch.cuda.is_available() else \"cpu\"\n",
    "\n",
    "model = timm.create_model(\n",
    "    model_name=\"hf-hub:1aurent/resnet50.tcga_brca_simclr\",\n",
    "    pretrained=True,\n",
    ").to(device).eval()\n",
    "\n",
    "data_config = timm.data.resolve_model_data_config(model)\n",
    "\n",
    "transforms = timm.data.create_transform(**data_config, is_training=False)\n"
   ]
  },
  {
   "cell_type": "code",
   "execution_count": 4,
   "id": "a24dba86-6c0c-4e01-9134-75ed85a5c5cc",
   "metadata": {},
   "outputs": [],
   "source": [
    "def extract_features(image_path) :\n",
    "    \n",
    "    image = Image.open(image_path).convert(\"RGB\")\n",
    "    \n",
    "    image_tensor = transforms(image).unsqueeze(0).to(device)\n",
    "    \n",
    "    with torch.no_grad():\n",
    "        features = model(image_tensor)\n",
    "    \n",
    "    return features.cpu().numpy()\n",
    "    "
   ]
  },
  {
   "cell_type": "code",
   "execution_count": 5,
   "id": "b6c229d1-5afd-49f9-b2be-1dd9b24dee3a",
   "metadata": {},
   "outputs": [
    {
     "name": "stderr",
     "output_type": "stream",
     "text": [
      "100%|██████████| 1622/1622 [36:11<00:00,  1.34s/it]\n"
     ]
    }
   ],
   "source": [
    "X = np.vstack([extract_features(img) for img in tqdm(df[\"ImageFilePath\"])])\n",
    "\n",
    "le = LabelEncoder()\n",
    "\n",
    "y = le.fit_transform(df[\"ScientificName\"])\n",
    "\n",
    "df_indices = df.index \n",
    "\n",
    "X_train, X_test, y_train, y_test, train_idx, test_idx = train_test_split(X, y, df_indices, test_size=0.2, random_state=42)\n",
    "\n",
    "test_df = df.loc[test_idx].copy()\n",
    "\n",
    "scaler = StandardScaler()\n",
    "\n",
    "X_train_scaled = scaler.fit_transform(X_train)\n",
    "\n",
    "X_test_scaled = scaler.transform(X_test)\n"
   ]
  },
  {
   "cell_type": "code",
   "execution_count": 6,
   "id": "e05bd339-efa9-45e2-8666-6643c03808ea",
   "metadata": {},
   "outputs": [
    {
     "name": "stderr",
     "output_type": "stream",
     "text": [
      "/users/PAS2136/rayees/myenv/lib64/python3.9/site-packages/sklearn/metrics/_classification.py:1531: UndefinedMetricWarning: Precision is ill-defined and being set to 0.0 in labels with no predicted samples. Use `zero_division` parameter to control this behavior.\n",
      "  _warn_prf(average, modifier, f\"{metric.capitalize()} is\", len(result))\n"
     ]
    },
    {
     "name": "stdout",
     "output_type": "stream",
     "text": [
      "NaiveBayes                | Acc: 22.77% | Prec: 46.19% | Rec: 22.77% | F1: 27.01% | Bal Acc: 14.43% | MCC: 0.0994\n"
     ]
    },
    {
     "name": "stderr",
     "output_type": "stream",
     "text": [
      "/users/PAS2136/rayees/myenv/lib64/python3.9/site-packages/sklearn/linear_model/_logistic.py:469: ConvergenceWarning: lbfgs failed to converge (status=1):\n",
      "STOP: TOTAL NO. of ITERATIONS REACHED LIMIT.\n",
      "\n",
      "Increase the number of iterations (max_iter) or scale the data as shown in:\n",
      "    https://scikit-learn.org/stable/modules/preprocessing.html\n",
      "Please also refer to the documentation for alternative solver options:\n",
      "    https://scikit-learn.org/stable/modules/linear_model.html#logistic-regression\n",
      "  n_iter_i = _check_optimize_result(\n",
      "/users/PAS2136/rayees/myenv/lib64/python3.9/site-packages/sklearn/metrics/_classification.py:1531: UndefinedMetricWarning: Precision is ill-defined and being set to 0.0 in labels with no predicted samples. Use `zero_division` parameter to control this behavior.\n",
      "  _warn_prf(average, modifier, f\"{metric.capitalize()} is\", len(result))\n",
      "/users/PAS2136/rayees/myenv/lib64/python3.9/site-packages/sklearn/metrics/_classification.py:1531: UndefinedMetricWarning: Recall is ill-defined and being set to 0.0 in labels with no true samples. Use `zero_division` parameter to control this behavior.\n",
      "  _warn_prf(average, modifier, f\"{metric.capitalize()} is\", len(result))\n",
      "/users/PAS2136/rayees/myenv/lib64/python3.9/site-packages/sklearn/metrics/_classification.py:2480: UserWarning: y_pred contains classes not in y_true\n",
      "  warnings.warn(\"y_pred contains classes not in y_true\")\n"
     ]
    },
    {
     "name": "stdout",
     "output_type": "stream",
     "text": [
      "LogisticRegression        | Acc: 85.85% | Prec: 85.66% | Rec: 85.85% | F1: 84.96% | Bal Acc: 41.71% | MCC: 0.7801\n"
     ]
    },
    {
     "name": "stderr",
     "output_type": "stream",
     "text": [
      "/users/PAS2136/rayees/myenv/lib64/python3.9/site-packages/sklearn/metrics/_classification.py:1531: UndefinedMetricWarning: Precision is ill-defined and being set to 0.0 in labels with no predicted samples. Use `zero_division` parameter to control this behavior.\n",
      "  _warn_prf(average, modifier, f\"{metric.capitalize()} is\", len(result))\n",
      "/users/PAS2136/rayees/myenv/lib64/python3.9/site-packages/sklearn/metrics/_classification.py:1531: UndefinedMetricWarning: Recall is ill-defined and being set to 0.0 in labels with no true samples. Use `zero_division` parameter to control this behavior.\n",
      "  _warn_prf(average, modifier, f\"{metric.capitalize()} is\", len(result))\n",
      "/users/PAS2136/rayees/myenv/lib64/python3.9/site-packages/sklearn/metrics/_classification.py:2480: UserWarning: y_pred contains classes not in y_true\n",
      "  warnings.warn(\"y_pred contains classes not in y_true\")\n"
     ]
    },
    {
     "name": "stdout",
     "output_type": "stream",
     "text": [
      "SVMLinear                 | Acc: 84.92% | Prec: 83.37% | Rec: 84.92% | F1: 83.74% | Bal Acc: 39.04% | MCC: 0.7663\n"
     ]
    },
    {
     "name": "stderr",
     "output_type": "stream",
     "text": [
      "/users/PAS2136/rayees/myenv/lib64/python3.9/site-packages/sklearn/metrics/_classification.py:1531: UndefinedMetricWarning: Precision is ill-defined and being set to 0.0 in labels with no predicted samples. Use `zero_division` parameter to control this behavior.\n",
      "  _warn_prf(average, modifier, f\"{metric.capitalize()} is\", len(result))\n",
      "/users/PAS2136/rayees/myenv/lib64/python3.9/site-packages/sklearn/metrics/_classification.py:1531: UndefinedMetricWarning: Recall is ill-defined and being set to 0.0 in labels with no true samples. Use `zero_division` parameter to control this behavior.\n",
      "  _warn_prf(average, modifier, f\"{metric.capitalize()} is\", len(result))\n",
      "/users/PAS2136/rayees/myenv/lib64/python3.9/site-packages/sklearn/metrics/_classification.py:2480: UserWarning: y_pred contains classes not in y_true\n",
      "  warnings.warn(\"y_pred contains classes not in y_true\")\n"
     ]
    },
    {
     "name": "stdout",
     "output_type": "stream",
     "text": [
      "SVMPolynomial             | Acc: 53.85% | Prec: 59.07% | Rec: 53.85% | F1: 43.87% | Bal Acc: 11.79% | MCC: 0.2283\n"
     ]
    },
    {
     "name": "stderr",
     "output_type": "stream",
     "text": [
      "/users/PAS2136/rayees/myenv/lib64/python3.9/site-packages/sklearn/metrics/_classification.py:1531: UndefinedMetricWarning: Precision is ill-defined and being set to 0.0 in labels with no predicted samples. Use `zero_division` parameter to control this behavior.\n",
      "  _warn_prf(average, modifier, f\"{metric.capitalize()} is\", len(result))\n"
     ]
    },
    {
     "name": "stdout",
     "output_type": "stream",
     "text": [
      "SVMRadialBasis            | Acc: 73.85% | Prec: 67.96% | Rec: 73.85% | F1: 65.86% | Bal Acc: 17.16% | MCC: 0.5766\n"
     ]
    },
    {
     "name": "stderr",
     "output_type": "stream",
     "text": [
      "/users/PAS2136/rayees/myenv/lib64/python3.9/site-packages/sklearn/metrics/_classification.py:1531: UndefinedMetricWarning: Precision is ill-defined and being set to 0.0 in labels with no predicted samples. Use `zero_division` parameter to control this behavior.\n",
      "  _warn_prf(average, modifier, f\"{metric.capitalize()} is\", len(result))\n"
     ]
    },
    {
     "name": "stdout",
     "output_type": "stream",
     "text": [
      "NearestNeighbor           | Acc: 66.77% | Prec: 59.91% | Rec: 66.77% | F1: 62.94% | Bal Acc: 18.71% | MCC: 0.4634\n"
     ]
    },
    {
     "name": "stderr",
     "output_type": "stream",
     "text": [
      "/users/PAS2136/rayees/myenv/lib64/python3.9/site-packages/sklearn/metrics/_classification.py:1531: UndefinedMetricWarning: Precision is ill-defined and being set to 0.0 in labels with no predicted samples. Use `zero_division` parameter to control this behavior.\n",
      "  _warn_prf(average, modifier, f\"{metric.capitalize()} is\", len(result))\n"
     ]
    },
    {
     "name": "stdout",
     "output_type": "stream",
     "text": [
      "RandomForest              | Acc: 72.00% | Prec: 61.10% | Rec: 72.00% | F1: 64.21% | Bal Acc: 17.11% | MCC: 0.5440\n",
      "MLP_Baseline              | Acc: 85.54% | Prec: 84.39% | Rec: 85.54% | F1: 84.12% | Bal Acc: 40.07% | MCC: 0.7749\n"
     ]
    },
    {
     "name": "stderr",
     "output_type": "stream",
     "text": [
      "/users/PAS2136/rayees/myenv/lib64/python3.9/site-packages/sklearn/metrics/_classification.py:1531: UndefinedMetricWarning: Precision is ill-defined and being set to 0.0 in labels with no predicted samples. Use `zero_division` parameter to control this behavior.\n",
      "  _warn_prf(average, modifier, f\"{metric.capitalize()} is\", len(result))\n",
      "/users/PAS2136/rayees/myenv/lib64/python3.9/site-packages/sklearn/metrics/_classification.py:1531: UndefinedMetricWarning: Recall is ill-defined and being set to 0.0 in labels with no true samples. Use `zero_division` parameter to control this behavior.\n",
      "  _warn_prf(average, modifier, f\"{metric.capitalize()} is\", len(result))\n",
      "/users/PAS2136/rayees/myenv/lib64/python3.9/site-packages/sklearn/metrics/_classification.py:2480: UserWarning: y_pred contains classes not in y_true\n",
      "  warnings.warn(\"y_pred contains classes not in y_true\")\n"
     ]
    }
   ],
   "source": [
    "seed = 99\n",
    "\n",
    "models = {\n",
    "    \"NaiveBayes\": GaussianNB(),\n",
    "    \"LogisticRegression\": LogisticRegression(max_iter=100),\n",
    "    \"SVMLinear\": SVC(kernel=\"linear\"),\n",
    "    \"SVMPolynomial\": SVC(kernel=\"poly\", degree=4),\n",
    "    \"SVMRadialBasis\": SVC(kernel=\"rbf\", degree=4),\n",
    "    \"NearestNeighbor\": KNeighborsClassifier(n_neighbors=5),\n",
    "    \"RandomForest\": RandomForestClassifier(n_estimators=100, random_state=seed),    \n",
    "    \"MLP_Baseline\": MLPClassifier(hidden_layer_sizes=(100,), activation='logistic', max_iter=200, random_state=seed)\n",
    "}\n",
    "\n",
    "predictions = {}\n",
    "\n",
    "metrics = {}\n",
    "\n",
    "for name, model in models.items():\n",
    "    \n",
    "    model.fit(X_train_scaled, y_train)\n",
    "    preds = model.predict(X_test_scaled)\n",
    "    predictions[name] = preds\n",
    "    \n",
    "    acc = accuracy_score(y_test, preds)\n",
    "    prec = precision_score(y_test, preds, average=\"weighted\")\n",
    "    rec = recall_score(y_test, preds, average=\"weighted\")\n",
    "    f1 = f1_score(y_test, preds, average=\"weighted\")\n",
    "    bal_acc = balanced_accuracy_score(y_test, preds)\n",
    "    mcc = matthews_corrcoef(y_test, preds)\n",
    "    \n",
    "    metrics[name] = {\"Model\": name, \"Accuracy\": acc, \"Precision\": prec, \"Recall\": rec, \"F1-Score\": f1, \"Balanced Acc\": bal_acc, \"MCC\": mcc}\n",
    "    print(f\"{name:<25} | Acc: {acc:.2%} | Prec: {prec:.2%} | Rec: {rec:.2%} | F1: {f1:.2%} | Bal Acc: {bal_acc:.2%} | MCC: {mcc:.4f}\")\n",
    "\n",
    "\n",
    "metrics_df = pd.DataFrame(metrics).T\n"
   ]
  },
  {
   "cell_type": "code",
   "execution_count": 7,
   "id": "eb61c056-21b5-4927-a403-0b6303b5e7dd",
   "metadata": {},
   "outputs": [
    {
     "data": {
      "text/html": [
       "<div>\n",
       "<style scoped>\n",
       "    .dataframe tbody tr th:only-of-type {\n",
       "        vertical-align: middle;\n",
       "    }\n",
       "\n",
       "    .dataframe tbody tr th {\n",
       "        vertical-align: top;\n",
       "    }\n",
       "\n",
       "    .dataframe thead th {\n",
       "        text-align: right;\n",
       "    }\n",
       "</style>\n",
       "<table border=\"1\" class=\"dataframe\">\n",
       "  <thead>\n",
       "    <tr style=\"text-align: right;\">\n",
       "      <th></th>\n",
       "      <th>ImageFilePath</th>\n",
       "      <th>ScientificName</th>\n",
       "      <th>Pred_NaiveBayes</th>\n",
       "      <th>Pred_LogisticRegression</th>\n",
       "      <th>Pred_SVMLinear</th>\n",
       "      <th>Pred_SVMPolynomial</th>\n",
       "      <th>Pred_SVMRadialBasis</th>\n",
       "      <th>Pred_NearestNeighbor</th>\n",
       "      <th>Pred_RandomForest</th>\n",
       "      <th>Pred_MLP_Baseline</th>\n",
       "    </tr>\n",
       "  </thead>\n",
       "  <tbody>\n",
       "    <tr>\n",
       "      <th>135</th>\n",
       "      <td>/fs/ess/PAS2136/Hawaii-2025/beetles_intake/Bee...</td>\n",
       "      <td>Mecyclothorax discedens</td>\n",
       "      <td>Mecyclothorax brunneonubiger</td>\n",
       "      <td>Mecyclothorax discedens</td>\n",
       "      <td>Mecyclothorax discedens</td>\n",
       "      <td>Mecyclothorax konanus</td>\n",
       "      <td>Mecyclothorax discedens</td>\n",
       "      <td>Mecyclothorax discedens</td>\n",
       "      <td>Mecyclothorax konanus</td>\n",
       "      <td>Mecyclothorax discedens</td>\n",
       "    </tr>\n",
       "    <tr>\n",
       "      <th>844</th>\n",
       "      <td>/fs/ess/PAS2136/Hawaii-2025/beetles_intake/Bee...</td>\n",
       "      <td>Mecyclothorax konanus</td>\n",
       "      <td>Mecyclothorax discedens</td>\n",
       "      <td>Mecyclothorax konanus</td>\n",
       "      <td>Mecyclothorax konanus</td>\n",
       "      <td>Mecyclothorax konanus</td>\n",
       "      <td>Mecyclothorax konanus</td>\n",
       "      <td>Mecyclothorax discedens</td>\n",
       "      <td>Mecyclothorax konanus</td>\n",
       "      <td>Mecyclothorax konanus</td>\n",
       "    </tr>\n",
       "  </tbody>\n",
       "</table>\n",
       "</div>"
      ],
      "text/plain": [
       "                                         ImageFilePath  \\\n",
       "135  /fs/ess/PAS2136/Hawaii-2025/beetles_intake/Bee...   \n",
       "844  /fs/ess/PAS2136/Hawaii-2025/beetles_intake/Bee...   \n",
       "\n",
       "              ScientificName               Pred_NaiveBayes  \\\n",
       "135  Mecyclothorax discedens  Mecyclothorax brunneonubiger   \n",
       "844    Mecyclothorax konanus       Mecyclothorax discedens   \n",
       "\n",
       "     Pred_LogisticRegression           Pred_SVMLinear     Pred_SVMPolynomial  \\\n",
       "135  Mecyclothorax discedens  Mecyclothorax discedens  Mecyclothorax konanus   \n",
       "844    Mecyclothorax konanus    Mecyclothorax konanus  Mecyclothorax konanus   \n",
       "\n",
       "         Pred_SVMRadialBasis     Pred_NearestNeighbor      Pred_RandomForest  \\\n",
       "135  Mecyclothorax discedens  Mecyclothorax discedens  Mecyclothorax konanus   \n",
       "844    Mecyclothorax konanus  Mecyclothorax discedens  Mecyclothorax konanus   \n",
       "\n",
       "           Pred_MLP_Baseline  \n",
       "135  Mecyclothorax discedens  \n",
       "844    Mecyclothorax konanus  "
      ]
     },
     "execution_count": 7,
     "metadata": {},
     "output_type": "execute_result"
    }
   ],
   "source": [
    "test_df = test_df.assign(**{f\"Pred_{name}\": le.inverse_transform(pred) for name, pred in predictions.items()})\n",
    "test_df.head(2)"
   ]
  },
  {
   "cell_type": "code",
   "execution_count": 8,
   "id": "eb1ca360-1951-4418-9461-7df6f8ebdc64",
   "metadata": {},
   "outputs": [
    {
     "data": {
      "text/html": [
       "<div>\n",
       "<style scoped>\n",
       "    .dataframe tbody tr th:only-of-type {\n",
       "        vertical-align: middle;\n",
       "    }\n",
       "\n",
       "    .dataframe tbody tr th {\n",
       "        vertical-align: top;\n",
       "    }\n",
       "\n",
       "    .dataframe thead th {\n",
       "        text-align: right;\n",
       "    }\n",
       "</style>\n",
       "<table border=\"1\" class=\"dataframe\">\n",
       "  <thead>\n",
       "    <tr style=\"text-align: right;\">\n",
       "      <th></th>\n",
       "      <th>Model</th>\n",
       "      <th>Accuracy</th>\n",
       "      <th>Precision</th>\n",
       "      <th>Recall</th>\n",
       "      <th>F1-Score</th>\n",
       "      <th>Balanced Acc</th>\n",
       "      <th>MCC</th>\n",
       "    </tr>\n",
       "  </thead>\n",
       "  <tbody>\n",
       "    <tr>\n",
       "      <th>NaiveBayes</th>\n",
       "      <td>NaiveBayes</td>\n",
       "      <td>0.227692</td>\n",
       "      <td>0.461864</td>\n",
       "      <td>0.227692</td>\n",
       "      <td>0.270113</td>\n",
       "      <td>0.144312</td>\n",
       "      <td>0.099385</td>\n",
       "    </tr>\n",
       "    <tr>\n",
       "      <th>LogisticRegression</th>\n",
       "      <td>LogisticRegression</td>\n",
       "      <td>0.858462</td>\n",
       "      <td>0.856589</td>\n",
       "      <td>0.858462</td>\n",
       "      <td>0.849603</td>\n",
       "      <td>0.417088</td>\n",
       "      <td>0.780087</td>\n",
       "    </tr>\n",
       "    <tr>\n",
       "      <th>SVMLinear</th>\n",
       "      <td>SVMLinear</td>\n",
       "      <td>0.849231</td>\n",
       "      <td>0.833676</td>\n",
       "      <td>0.849231</td>\n",
       "      <td>0.837421</td>\n",
       "      <td>0.390381</td>\n",
       "      <td>0.766295</td>\n",
       "    </tr>\n",
       "    <tr>\n",
       "      <th>SVMPolynomial</th>\n",
       "      <td>SVMPolynomial</td>\n",
       "      <td>0.538462</td>\n",
       "      <td>0.590722</td>\n",
       "      <td>0.538462</td>\n",
       "      <td>0.438718</td>\n",
       "      <td>0.117901</td>\n",
       "      <td>0.228334</td>\n",
       "    </tr>\n",
       "    <tr>\n",
       "      <th>SVMRadialBasis</th>\n",
       "      <td>SVMRadialBasis</td>\n",
       "      <td>0.738462</td>\n",
       "      <td>0.679593</td>\n",
       "      <td>0.738462</td>\n",
       "      <td>0.658562</td>\n",
       "      <td>0.171617</td>\n",
       "      <td>0.576588</td>\n",
       "    </tr>\n",
       "    <tr>\n",
       "      <th>NearestNeighbor</th>\n",
       "      <td>NearestNeighbor</td>\n",
       "      <td>0.667692</td>\n",
       "      <td>0.599149</td>\n",
       "      <td>0.667692</td>\n",
       "      <td>0.629425</td>\n",
       "      <td>0.187092</td>\n",
       "      <td>0.463353</td>\n",
       "    </tr>\n",
       "    <tr>\n",
       "      <th>RandomForest</th>\n",
       "      <td>RandomForest</td>\n",
       "      <td>0.72</td>\n",
       "      <td>0.610963</td>\n",
       "      <td>0.72</td>\n",
       "      <td>0.642123</td>\n",
       "      <td>0.171123</td>\n",
       "      <td>0.544044</td>\n",
       "    </tr>\n",
       "    <tr>\n",
       "      <th>MLP_Baseline</th>\n",
       "      <td>MLP_Baseline</td>\n",
       "      <td>0.855385</td>\n",
       "      <td>0.84394</td>\n",
       "      <td>0.855385</td>\n",
       "      <td>0.841184</td>\n",
       "      <td>0.400748</td>\n",
       "      <td>0.774917</td>\n",
       "    </tr>\n",
       "  </tbody>\n",
       "</table>\n",
       "</div>"
      ],
      "text/plain": [
       "                                 Model  Accuracy Precision    Recall  \\\n",
       "NaiveBayes                  NaiveBayes  0.227692  0.461864  0.227692   \n",
       "LogisticRegression  LogisticRegression  0.858462  0.856589  0.858462   \n",
       "SVMLinear                    SVMLinear  0.849231  0.833676  0.849231   \n",
       "SVMPolynomial            SVMPolynomial  0.538462  0.590722  0.538462   \n",
       "SVMRadialBasis          SVMRadialBasis  0.738462  0.679593  0.738462   \n",
       "NearestNeighbor        NearestNeighbor  0.667692  0.599149  0.667692   \n",
       "RandomForest              RandomForest      0.72  0.610963      0.72   \n",
       "MLP_Baseline              MLP_Baseline  0.855385   0.84394  0.855385   \n",
       "\n",
       "                    F1-Score Balanced Acc       MCC  \n",
       "NaiveBayes          0.270113     0.144312  0.099385  \n",
       "LogisticRegression  0.849603     0.417088  0.780087  \n",
       "SVMLinear           0.837421     0.390381  0.766295  \n",
       "SVMPolynomial       0.438718     0.117901  0.228334  \n",
       "SVMRadialBasis      0.658562     0.171617  0.576588  \n",
       "NearestNeighbor     0.629425     0.187092  0.463353  \n",
       "RandomForest        0.642123     0.171123  0.544044  \n",
       "MLP_Baseline        0.841184     0.400748  0.774917  "
      ]
     },
     "execution_count": 8,
     "metadata": {},
     "output_type": "execute_result"
    }
   ],
   "source": [
    "metrics_df"
   ]
  },
  {
   "cell_type": "code",
   "execution_count": 9,
   "id": "41556121-edd8-485b-978c-02a1c3207493",
   "metadata": {},
   "outputs": [],
   "source": [
    "test_df.to_csv(\"/users/PAS2136/rayees/3. Benchmarking/Beetle-PUUM/41.SimCLR-linear-probing-species.csv\", index=False)\n",
    "metrics_df.to_csv(\"/users/PAS2136/rayees/3. Benchmarking/Beetle-PUUM/41.SimCLR-linear-probing-species-metrics.csv\", index=False)"
   ]
  },
  {
   "cell_type": "code",
   "execution_count": null,
   "id": "1e3d1bf6-e53f-4dda-8bd1-78c676331019",
   "metadata": {},
   "outputs": [],
   "source": []
  },
  {
   "cell_type": "code",
   "execution_count": null,
   "id": "6773986d-e2dc-453b-a500-35b7dfc5efcd",
   "metadata": {},
   "outputs": [],
   "source": []
  }
 ],
 "metadata": {
  "kernelspec": {
   "display_name": "Python myenv",
   "language": "python",
   "name": "myenv"
  },
  "language_info": {
   "codemirror_mode": {
    "name": "ipython",
    "version": 3
   },
   "file_extension": ".py",
   "mimetype": "text/x-python",
   "name": "python",
   "nbconvert_exporter": "python",
   "pygments_lexer": "ipython3",
   "version": "3.9.18"
  }
 },
 "nbformat": 4,
 "nbformat_minor": 5
}
