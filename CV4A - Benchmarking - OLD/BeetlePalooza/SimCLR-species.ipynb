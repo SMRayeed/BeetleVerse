{
 "cells": [
  {
   "cell_type": "code",
   "execution_count": 1,
   "id": "d43ed39a-334c-4c88-91ab-136abdde815c",
   "metadata": {},
   "outputs": [],
   "source": [
    "import timm\n",
    "import torch\n",
    "import numpy as np\n",
    "import pandas as pd\n",
    "from PIL import Image\n",
    "from tqdm import tqdm\n",
    "from urllib.request import urlopen\n",
    "from sklearn.preprocessing import LabelEncoder, StandardScaler\n",
    "from sklearn.model_selection import train_test_split\n",
    "from sklearn.naive_bayes import GaussianNB\n",
    "from sklearn.linear_model import LogisticRegression\n",
    "from sklearn.svm import SVC\n",
    "from sklearn.neighbors import KNeighborsClassifier\n",
    "from sklearn.ensemble import RandomForestClassifier\n",
    "from sklearn.neural_network import MLPClassifier\n",
    "from sklearn.metrics import accuracy_score, precision_score, recall_score, f1_score, balanced_accuracy_score, matthews_corrcoef"
   ]
  },
  {
   "cell_type": "code",
   "execution_count": 2,
   "id": "7332ebcf-0837-4252-99a3-5c3c5ce9c960",
   "metadata": {},
   "outputs": [
    {
     "data": {
      "text/html": [
       "<div>\n",
       "<style scoped>\n",
       "    .dataframe tbody tr th:only-of-type {\n",
       "        vertical-align: middle;\n",
       "    }\n",
       "\n",
       "    .dataframe tbody tr th {\n",
       "        vertical-align: top;\n",
       "    }\n",
       "\n",
       "    .dataframe thead th {\n",
       "        text-align: right;\n",
       "    }\n",
       "</style>\n",
       "<table border=\"1\" class=\"dataframe\">\n",
       "  <thead>\n",
       "    <tr style=\"text-align: right;\">\n",
       "      <th></th>\n",
       "      <th>ImageFilePath</th>\n",
       "      <th>ScientificName</th>\n",
       "    </tr>\n",
       "  </thead>\n",
       "  <tbody>\n",
       "    <tr>\n",
       "      <th>0</th>\n",
       "      <td>/fs/ess/PAS2136/Rayeed/BeetlePalooza/individua...</td>\n",
       "      <td>Chlaenius aestivus</td>\n",
       "    </tr>\n",
       "    <tr>\n",
       "      <th>1</th>\n",
       "      <td>/fs/ess/PAS2136/Rayeed/BeetlePalooza/individua...</td>\n",
       "      <td>Chlaenius aestivus</td>\n",
       "    </tr>\n",
       "  </tbody>\n",
       "</table>\n",
       "</div>"
      ],
      "text/plain": [
       "                                       ImageFilePath      ScientificName\n",
       "0  /fs/ess/PAS2136/Rayeed/BeetlePalooza/individua...  Chlaenius aestivus\n",
       "1  /fs/ess/PAS2136/Rayeed/BeetlePalooza/individua...  Chlaenius aestivus"
      ]
     },
     "execution_count": 2,
     "metadata": {},
     "output_type": "execute_result"
    }
   ],
   "source": [
    "file_path = \"/fs/ess/PAS2136/Hawaii-2025/beetles_intake/BeetlePalooza Data/Benchmarking/Beetlepalooza_beetles_image_only.csv\"\n",
    "df = pd.read_csv(file_path, sep=\"\\t\")\n",
    "df = df[['ImageFilePath', 'ScientificName']]\n",
    "df.head(2)"
   ]
  },
  {
   "cell_type": "code",
   "execution_count": 3,
   "id": "791a1ef8-4e25-4b61-955e-3f7cc91a32f3",
   "metadata": {},
   "outputs": [],
   "source": [
    "device = \"cuda\" if torch.cuda.is_available() else \"cpu\"\n",
    "\n",
    "model = timm.create_model(\n",
    "    model_name=\"hf-hub:1aurent/resnet50.tcga_brca_simclr\",\n",
    "    pretrained=True,\n",
    ").to(device).eval()\n",
    "\n",
    "data_config = timm.data.resolve_model_data_config(model)\n",
    "\n",
    "transforms = timm.data.create_transform(**data_config, is_training=False)\n"
   ]
  },
  {
   "cell_type": "code",
   "execution_count": 4,
   "id": "a24dba86-6c0c-4e01-9134-75ed85a5c5cc",
   "metadata": {},
   "outputs": [],
   "source": [
    "def extract_features(image_path) :\n",
    "    \n",
    "    image = Image.open(image_path).convert(\"RGB\")\n",
    "    \n",
    "    image_tensor = transforms(image).unsqueeze(0).to(device)\n",
    "    \n",
    "    with torch.no_grad():\n",
    "        features = model(image_tensor)\n",
    "    \n",
    "    return features.cpu().numpy()\n",
    "    "
   ]
  },
  {
   "cell_type": "code",
   "execution_count": 5,
   "id": "b6c229d1-5afd-49f9-b2be-1dd9b24dee3a",
   "metadata": {},
   "outputs": [
    {
     "name": "stderr",
     "output_type": "stream",
     "text": [
      "100%|██████████| 11399/11399 [01:40<00:00, 113.00it/s]\n"
     ]
    }
   ],
   "source": [
    "X = np.vstack([extract_features(img) for img in tqdm(df[\"ImageFilePath\"])])\n",
    "\n",
    "le = LabelEncoder()\n",
    "\n",
    "y = le.fit_transform(df[\"ScientificName\"])\n",
    "\n",
    "df_indices = df.index \n",
    "\n",
    "X_train, X_test, y_train, y_test, train_idx, test_idx = train_test_split(X, y, df_indices, test_size=0.2, random_state=42)\n",
    "\n",
    "test_df = df.loc[test_idx].copy()\n",
    "\n",
    "scaler = StandardScaler()\n",
    "\n",
    "X_train_scaled = scaler.fit_transform(X_train)\n",
    "\n",
    "X_test_scaled = scaler.transform(X_test)\n"
   ]
  },
  {
   "cell_type": "code",
   "execution_count": 6,
   "id": "e05bd339-efa9-45e2-8666-6643c03808ea",
   "metadata": {},
   "outputs": [
    {
     "name": "stderr",
     "output_type": "stream",
     "text": [
      "/users/PAS2136/rayees/myenv/lib64/python3.9/site-packages/sklearn/metrics/_classification.py:1531: UndefinedMetricWarning: Precision is ill-defined and being set to 0.0 in labels with no predicted samples. Use `zero_division` parameter to control this behavior.\n",
      "  _warn_prf(average, modifier, f\"{metric.capitalize()} is\", len(result))\n",
      "/users/PAS2136/rayees/myenv/lib64/python3.9/site-packages/sklearn/metrics/_classification.py:1531: UndefinedMetricWarning: Recall is ill-defined and being set to 0.0 in labels with no true samples. Use `zero_division` parameter to control this behavior.\n",
      "  _warn_prf(average, modifier, f\"{metric.capitalize()} is\", len(result))\n",
      "/users/PAS2136/rayees/myenv/lib64/python3.9/site-packages/sklearn/metrics/_classification.py:2480: UserWarning: y_pred contains classes not in y_true\n",
      "  warnings.warn(\"y_pred contains classes not in y_true\")\n"
     ]
    },
    {
     "name": "stdout",
     "output_type": "stream",
     "text": [
      "NaiveBayes                | Acc: 24.65% | Prec: 42.21% | Rec: 24.65% | F1: 27.90% | Bal Acc: 18.35% | MCC: 0.2280\n"
     ]
    },
    {
     "name": "stderr",
     "output_type": "stream",
     "text": [
      "/users/PAS2136/rayees/myenv/lib64/python3.9/site-packages/sklearn/metrics/_classification.py:1531: UndefinedMetricWarning: Precision is ill-defined and being set to 0.0 in labels with no predicted samples. Use `zero_division` parameter to control this behavior.\n",
      "  _warn_prf(average, modifier, f\"{metric.capitalize()} is\", len(result))\n"
     ]
    },
    {
     "name": "stdout",
     "output_type": "stream",
     "text": [
      "LogisticRegression        | Acc: 80.13% | Prec: 78.30% | Rec: 80.13% | F1: 78.71% | Bal Acc: 49.42% | MCC: 0.7866\n"
     ]
    },
    {
     "name": "stderr",
     "output_type": "stream",
     "text": [
      "/users/PAS2136/rayees/myenv/lib64/python3.9/site-packages/sklearn/metrics/_classification.py:1531: UndefinedMetricWarning: Precision is ill-defined and being set to 0.0 in labels with no predicted samples. Use `zero_division` parameter to control this behavior.\n",
      "  _warn_prf(average, modifier, f\"{metric.capitalize()} is\", len(result))\n"
     ]
    },
    {
     "name": "stdout",
     "output_type": "stream",
     "text": [
      "SVMLinear                 | Acc: 79.96% | Prec: 78.50% | Rec: 79.96% | F1: 78.75% | Bal Acc: 50.89% | MCC: 0.7847\n"
     ]
    },
    {
     "name": "stderr",
     "output_type": "stream",
     "text": [
      "/users/PAS2136/rayees/myenv/lib64/python3.9/site-packages/sklearn/metrics/_classification.py:1531: UndefinedMetricWarning: Precision is ill-defined and being set to 0.0 in labels with no predicted samples. Use `zero_division` parameter to control this behavior.\n",
      "  _warn_prf(average, modifier, f\"{metric.capitalize()} is\", len(result))\n",
      "/users/PAS2136/rayees/myenv/lib64/python3.9/site-packages/sklearn/metrics/_classification.py:1531: UndefinedMetricWarning: Recall is ill-defined and being set to 0.0 in labels with no true samples. Use `zero_division` parameter to control this behavior.\n",
      "  _warn_prf(average, modifier, f\"{metric.capitalize()} is\", len(result))\n",
      "/users/PAS2136/rayees/myenv/lib64/python3.9/site-packages/sklearn/metrics/_classification.py:2480: UserWarning: y_pred contains classes not in y_true\n",
      "  warnings.warn(\"y_pred contains classes not in y_true\")\n"
     ]
    },
    {
     "name": "stdout",
     "output_type": "stream",
     "text": [
      "SVMPolynomial             | Acc: 41.62% | Prec: 55.75% | Rec: 41.62% | F1: 36.87% | Bal Acc: 15.14% | MCC: 0.3784\n"
     ]
    },
    {
     "name": "stderr",
     "output_type": "stream",
     "text": [
      "/users/PAS2136/rayees/myenv/lib64/python3.9/site-packages/sklearn/metrics/_classification.py:1531: UndefinedMetricWarning: Precision is ill-defined and being set to 0.0 in labels with no predicted samples. Use `zero_division` parameter to control this behavior.\n",
      "  _warn_prf(average, modifier, f\"{metric.capitalize()} is\", len(result))\n"
     ]
    },
    {
     "name": "stdout",
     "output_type": "stream",
     "text": [
      "SVMRadialBasis            | Acc: 71.84% | Prec: 67.10% | Rec: 71.84% | F1: 67.60% | Bal Acc: 28.37% | MCC: 0.6963\n"
     ]
    },
    {
     "name": "stderr",
     "output_type": "stream",
     "text": [
      "/users/PAS2136/rayees/myenv/lib64/python3.9/site-packages/sklearn/metrics/_classification.py:1531: UndefinedMetricWarning: Precision is ill-defined and being set to 0.0 in labels with no predicted samples. Use `zero_division` parameter to control this behavior.\n",
      "  _warn_prf(average, modifier, f\"{metric.capitalize()} is\", len(result))\n"
     ]
    },
    {
     "name": "stdout",
     "output_type": "stream",
     "text": [
      "NearestNeighbor           | Acc: 58.68% | Prec: 57.15% | Rec: 58.68% | F1: 56.22% | Bal Acc: 29.80% | MCC: 0.5549\n"
     ]
    },
    {
     "name": "stderr",
     "output_type": "stream",
     "text": [
      "/users/PAS2136/rayees/myenv/lib64/python3.9/site-packages/sklearn/metrics/_classification.py:1531: UndefinedMetricWarning: Precision is ill-defined and being set to 0.0 in labels with no predicted samples. Use `zero_division` parameter to control this behavior.\n",
      "  _warn_prf(average, modifier, f\"{metric.capitalize()} is\", len(result))\n"
     ]
    },
    {
     "name": "stdout",
     "output_type": "stream",
     "text": [
      "RandomForest              | Acc: 62.50% | Prec: 59.22% | Rec: 62.50% | F1: 57.27% | Bal Acc: 22.87% | MCC: 0.5940\n",
      "MLP_Baseline              | Acc: 82.63% | Prec: 80.94% | Rec: 82.63% | F1: 81.10% | Bal Acc: 51.60% | MCC: 0.8134\n"
     ]
    },
    {
     "name": "stderr",
     "output_type": "stream",
     "text": [
      "/users/PAS2136/rayees/myenv/lib64/python3.9/site-packages/sklearn/metrics/_classification.py:1531: UndefinedMetricWarning: Precision is ill-defined and being set to 0.0 in labels with no predicted samples. Use `zero_division` parameter to control this behavior.\n",
      "  _warn_prf(average, modifier, f\"{metric.capitalize()} is\", len(result))\n"
     ]
    }
   ],
   "source": [
    "seed = 99\n",
    "\n",
    "models = {\n",
    "    \"NaiveBayes\": GaussianNB(),\n",
    "    \"LogisticRegression\": LogisticRegression(max_iter=100),\n",
    "    \"SVMLinear\": SVC(kernel=\"linear\"),\n",
    "    \"SVMPolynomial\": SVC(kernel=\"poly\", degree=4),\n",
    "    \"SVMRadialBasis\": SVC(kernel=\"rbf\", degree=4),\n",
    "    \"NearestNeighbor\": KNeighborsClassifier(n_neighbors=5),\n",
    "    \"RandomForest\": RandomForestClassifier(n_estimators=100, random_state=seed),    \n",
    "    \"MLP_Baseline\": MLPClassifier(hidden_layer_sizes=(100,), activation='logistic', max_iter=200, random_state=seed)\n",
    "}\n",
    "\n",
    "predictions = {}\n",
    "\n",
    "metrics = {}\n",
    "\n",
    "for name, model in models.items():\n",
    "    \n",
    "    model.fit(X_train_scaled, y_train)\n",
    "    preds = model.predict(X_test_scaled)\n",
    "    predictions[name] = preds\n",
    "    \n",
    "    acc = accuracy_score(y_test, preds)\n",
    "    prec = precision_score(y_test, preds, average=\"weighted\")\n",
    "    rec = recall_score(y_test, preds, average=\"weighted\")\n",
    "    f1 = f1_score(y_test, preds, average=\"weighted\")\n",
    "    bal_acc = balanced_accuracy_score(y_test, preds)\n",
    "    mcc = matthews_corrcoef(y_test, preds)\n",
    "    \n",
    "    metrics[name] = {\"Model\": name, \"Accuracy\": acc, \"Precision\": prec, \"Recall\": rec, \"F1-Score\": f1, \"Balanced Acc\": bal_acc, \"MCC\": mcc}\n",
    "    print(f\"{name:<25} | Acc: {acc:.2%} | Prec: {prec:.2%} | Rec: {rec:.2%} | F1: {f1:.2%} | Bal Acc: {bal_acc:.2%} | MCC: {mcc:.4f}\")\n",
    "\n",
    "\n",
    "metrics_df = pd.DataFrame(metrics).T\n"
   ]
  },
  {
   "cell_type": "code",
   "execution_count": 7,
   "id": "eb61c056-21b5-4927-a403-0b6303b5e7dd",
   "metadata": {},
   "outputs": [
    {
     "data": {
      "text/html": [
       "<div>\n",
       "<style scoped>\n",
       "    .dataframe tbody tr th:only-of-type {\n",
       "        vertical-align: middle;\n",
       "    }\n",
       "\n",
       "    .dataframe tbody tr th {\n",
       "        vertical-align: top;\n",
       "    }\n",
       "\n",
       "    .dataframe thead th {\n",
       "        text-align: right;\n",
       "    }\n",
       "</style>\n",
       "<table border=\"1\" class=\"dataframe\">\n",
       "  <thead>\n",
       "    <tr style=\"text-align: right;\">\n",
       "      <th></th>\n",
       "      <th>ImageFilePath</th>\n",
       "      <th>ScientificName</th>\n",
       "      <th>Pred_NaiveBayes</th>\n",
       "      <th>Pred_LogisticRegression</th>\n",
       "      <th>Pred_SVMLinear</th>\n",
       "      <th>Pred_SVMPolynomial</th>\n",
       "      <th>Pred_SVMRadialBasis</th>\n",
       "      <th>Pred_NearestNeighbor</th>\n",
       "      <th>Pred_RandomForest</th>\n",
       "      <th>Pred_MLP_Baseline</th>\n",
       "    </tr>\n",
       "  </thead>\n",
       "  <tbody>\n",
       "    <tr>\n",
       "      <th>1766</th>\n",
       "      <td>/fs/ess/PAS2136/Rayeed/BeetlePalooza/individua...</td>\n",
       "      <td>Synuchus impunctatus</td>\n",
       "      <td>Cymindis neglecta</td>\n",
       "      <td>Synuchus impunctatus</td>\n",
       "      <td>Calathus advena</td>\n",
       "      <td>Synuchus impunctatus</td>\n",
       "      <td>Calathus advena</td>\n",
       "      <td>Synuchus impunctatus</td>\n",
       "      <td>Calathus advena</td>\n",
       "      <td>Synuchus impunctatus</td>\n",
       "    </tr>\n",
       "    <tr>\n",
       "      <th>2629</th>\n",
       "      <td>/fs/ess/PAS2136/Rayeed/BeetlePalooza/individua...</td>\n",
       "      <td>Agonum punctiforme</td>\n",
       "      <td>Harpalus amputatus</td>\n",
       "      <td>Synuchus impunctatus</td>\n",
       "      <td>Synuchus impunctatus</td>\n",
       "      <td>Synuchus impunctatus</td>\n",
       "      <td>Calathus advena</td>\n",
       "      <td>Calathus advena</td>\n",
       "      <td>Synuchus impunctatus</td>\n",
       "      <td>Synuchus impunctatus</td>\n",
       "    </tr>\n",
       "  </tbody>\n",
       "</table>\n",
       "</div>"
      ],
      "text/plain": [
       "                                          ImageFilePath        ScientificName  \\\n",
       "1766  /fs/ess/PAS2136/Rayeed/BeetlePalooza/individua...  Synuchus impunctatus   \n",
       "2629  /fs/ess/PAS2136/Rayeed/BeetlePalooza/individua...    Agonum punctiforme   \n",
       "\n",
       "         Pred_NaiveBayes Pred_LogisticRegression        Pred_SVMLinear  \\\n",
       "1766   Cymindis neglecta    Synuchus impunctatus       Calathus advena   \n",
       "2629  Harpalus amputatus    Synuchus impunctatus  Synuchus impunctatus   \n",
       "\n",
       "        Pred_SVMPolynomial Pred_SVMRadialBasis  Pred_NearestNeighbor  \\\n",
       "1766  Synuchus impunctatus     Calathus advena  Synuchus impunctatus   \n",
       "2629  Synuchus impunctatus     Calathus advena       Calathus advena   \n",
       "\n",
       "         Pred_RandomForest     Pred_MLP_Baseline  \n",
       "1766       Calathus advena  Synuchus impunctatus  \n",
       "2629  Synuchus impunctatus  Synuchus impunctatus  "
      ]
     },
     "execution_count": 7,
     "metadata": {},
     "output_type": "execute_result"
    }
   ],
   "source": [
    "test_df = test_df.assign(**{f\"Pred_{name}\": le.inverse_transform(pred) for name, pred in predictions.items()})\n",
    "test_df.head(2)"
   ]
  },
  {
   "cell_type": "code",
   "execution_count": 8,
   "id": "eb1ca360-1951-4418-9461-7df6f8ebdc64",
   "metadata": {},
   "outputs": [
    {
     "data": {
      "text/html": [
       "<div>\n",
       "<style scoped>\n",
       "    .dataframe tbody tr th:only-of-type {\n",
       "        vertical-align: middle;\n",
       "    }\n",
       "\n",
       "    .dataframe tbody tr th {\n",
       "        vertical-align: top;\n",
       "    }\n",
       "\n",
       "    .dataframe thead th {\n",
       "        text-align: right;\n",
       "    }\n",
       "</style>\n",
       "<table border=\"1\" class=\"dataframe\">\n",
       "  <thead>\n",
       "    <tr style=\"text-align: right;\">\n",
       "      <th></th>\n",
       "      <th>Model</th>\n",
       "      <th>Accuracy</th>\n",
       "      <th>Precision</th>\n",
       "      <th>Recall</th>\n",
       "      <th>F1-Score</th>\n",
       "      <th>Balanced Acc</th>\n",
       "      <th>MCC</th>\n",
       "    </tr>\n",
       "  </thead>\n",
       "  <tbody>\n",
       "    <tr>\n",
       "      <th>NaiveBayes</th>\n",
       "      <td>NaiveBayes</td>\n",
       "      <td>0.246491</td>\n",
       "      <td>0.422115</td>\n",
       "      <td>0.246491</td>\n",
       "      <td>0.279046</td>\n",
       "      <td>0.183486</td>\n",
       "      <td>0.228037</td>\n",
       "    </tr>\n",
       "    <tr>\n",
       "      <th>LogisticRegression</th>\n",
       "      <td>LogisticRegression</td>\n",
       "      <td>0.801316</td>\n",
       "      <td>0.783018</td>\n",
       "      <td>0.801316</td>\n",
       "      <td>0.787141</td>\n",
       "      <td>0.494199</td>\n",
       "      <td>0.786567</td>\n",
       "    </tr>\n",
       "    <tr>\n",
       "      <th>SVMLinear</th>\n",
       "      <td>SVMLinear</td>\n",
       "      <td>0.799561</td>\n",
       "      <td>0.784973</td>\n",
       "      <td>0.799561</td>\n",
       "      <td>0.787507</td>\n",
       "      <td>0.508865</td>\n",
       "      <td>0.784692</td>\n",
       "    </tr>\n",
       "    <tr>\n",
       "      <th>SVMPolynomial</th>\n",
       "      <td>SVMPolynomial</td>\n",
       "      <td>0.416228</td>\n",
       "      <td>0.557533</td>\n",
       "      <td>0.416228</td>\n",
       "      <td>0.368688</td>\n",
       "      <td>0.151367</td>\n",
       "      <td>0.378446</td>\n",
       "    </tr>\n",
       "    <tr>\n",
       "      <th>SVMRadialBasis</th>\n",
       "      <td>SVMRadialBasis</td>\n",
       "      <td>0.718421</td>\n",
       "      <td>0.670997</td>\n",
       "      <td>0.718421</td>\n",
       "      <td>0.676049</td>\n",
       "      <td>0.283712</td>\n",
       "      <td>0.696315</td>\n",
       "    </tr>\n",
       "    <tr>\n",
       "      <th>NearestNeighbor</th>\n",
       "      <td>NearestNeighbor</td>\n",
       "      <td>0.586842</td>\n",
       "      <td>0.571547</td>\n",
       "      <td>0.586842</td>\n",
       "      <td>0.562233</td>\n",
       "      <td>0.298048</td>\n",
       "      <td>0.55487</td>\n",
       "    </tr>\n",
       "    <tr>\n",
       "      <th>RandomForest</th>\n",
       "      <td>RandomForest</td>\n",
       "      <td>0.625</td>\n",
       "      <td>0.592151</td>\n",
       "      <td>0.625</td>\n",
       "      <td>0.572703</td>\n",
       "      <td>0.228707</td>\n",
       "      <td>0.593955</td>\n",
       "    </tr>\n",
       "    <tr>\n",
       "      <th>MLP_Baseline</th>\n",
       "      <td>MLP_Baseline</td>\n",
       "      <td>0.826316</td>\n",
       "      <td>0.809389</td>\n",
       "      <td>0.826316</td>\n",
       "      <td>0.810958</td>\n",
       "      <td>0.516022</td>\n",
       "      <td>0.813379</td>\n",
       "    </tr>\n",
       "  </tbody>\n",
       "</table>\n",
       "</div>"
      ],
      "text/plain": [
       "                                 Model  Accuracy Precision    Recall  \\\n",
       "NaiveBayes                  NaiveBayes  0.246491  0.422115  0.246491   \n",
       "LogisticRegression  LogisticRegression  0.801316  0.783018  0.801316   \n",
       "SVMLinear                    SVMLinear  0.799561  0.784973  0.799561   \n",
       "SVMPolynomial            SVMPolynomial  0.416228  0.557533  0.416228   \n",
       "SVMRadialBasis          SVMRadialBasis  0.718421  0.670997  0.718421   \n",
       "NearestNeighbor        NearestNeighbor  0.586842  0.571547  0.586842   \n",
       "RandomForest              RandomForest     0.625  0.592151     0.625   \n",
       "MLP_Baseline              MLP_Baseline  0.826316  0.809389  0.826316   \n",
       "\n",
       "                    F1-Score Balanced Acc       MCC  \n",
       "NaiveBayes          0.279046     0.183486  0.228037  \n",
       "LogisticRegression  0.787141     0.494199  0.786567  \n",
       "SVMLinear           0.787507     0.508865  0.784692  \n",
       "SVMPolynomial       0.368688     0.151367  0.378446  \n",
       "SVMRadialBasis      0.676049     0.283712  0.696315  \n",
       "NearestNeighbor     0.562233     0.298048   0.55487  \n",
       "RandomForest        0.572703     0.228707  0.593955  \n",
       "MLP_Baseline        0.810958     0.516022  0.813379  "
      ]
     },
     "execution_count": 8,
     "metadata": {},
     "output_type": "execute_result"
    }
   ],
   "source": [
    "metrics_df"
   ]
  },
  {
   "cell_type": "code",
   "execution_count": 9,
   "id": "41556121-edd8-485b-978c-02a1c3207493",
   "metadata": {},
   "outputs": [],
   "source": [
    "test_df.to_csv(\"/users/PAS2136/rayees/3. Benchmarking/BeetlePalooza/41.SimCLR-linear-probing-species.csv\", index=False)\n",
    "metrics_df.to_csv(\"/users/PAS2136/rayees/3. Benchmarking/BeetlePalooza/41.SimCLR-linear-probing-species-metrics.csv\", index=False)"
   ]
  },
  {
   "cell_type": "code",
   "execution_count": null,
   "id": "1e3d1bf6-e53f-4dda-8bd1-78c676331019",
   "metadata": {},
   "outputs": [],
   "source": []
  },
  {
   "cell_type": "code",
   "execution_count": null,
   "id": "6773986d-e2dc-453b-a500-35b7dfc5efcd",
   "metadata": {},
   "outputs": [],
   "source": []
  }
 ],
 "metadata": {
  "kernelspec": {
   "display_name": "Python myenv",
   "language": "python",
   "name": "myenv"
  },
  "language_info": {
   "codemirror_mode": {
    "name": "ipython",
    "version": 3
   },
   "file_extension": ".py",
   "mimetype": "text/x-python",
   "name": "python",
   "nbconvert_exporter": "python",
   "pygments_lexer": "ipython3",
   "version": "3.9.18"
  }
 },
 "nbformat": 4,
 "nbformat_minor": 5
}
