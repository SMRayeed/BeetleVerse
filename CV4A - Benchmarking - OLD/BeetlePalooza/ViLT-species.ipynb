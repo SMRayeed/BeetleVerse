{
 "cells": [
  {
   "cell_type": "code",
   "execution_count": 1,
   "id": "ef796d9c-78ff-40fa-84b0-47d93e25fd55",
   "metadata": {},
   "outputs": [],
   "source": [
    "import torch\n",
    "import numpy as np\n",
    "import pandas as pd\n",
    "from PIL import Image\n",
    "from tqdm import tqdm\n",
    "from transformers import ViltProcessor, ViltModel\n",
    "from sklearn.preprocessing import LabelEncoder, StandardScaler\n",
    "from sklearn.model_selection import train_test_split\n",
    "from sklearn.naive_bayes import GaussianNB\n",
    "from sklearn.linear_model import LogisticRegression\n",
    "from sklearn.svm import SVC\n",
    "from sklearn.neighbors import KNeighborsClassifier\n",
    "from sklearn.ensemble import RandomForestClassifier\n",
    "from sklearn.neural_network import MLPClassifier\n",
    "from sklearn.metrics import accuracy_score, precision_score, recall_score, f1_score, balanced_accuracy_score, matthews_corrcoef"
   ]
  },
  {
   "cell_type": "code",
   "execution_count": 2,
   "id": "50c04078-c802-4858-9c27-a0f7e9a81928",
   "metadata": {},
   "outputs": [
    {
     "data": {
      "text/html": [
       "<div>\n",
       "<style scoped>\n",
       "    .dataframe tbody tr th:only-of-type {\n",
       "        vertical-align: middle;\n",
       "    }\n",
       "\n",
       "    .dataframe tbody tr th {\n",
       "        vertical-align: top;\n",
       "    }\n",
       "\n",
       "    .dataframe thead th {\n",
       "        text-align: right;\n",
       "    }\n",
       "</style>\n",
       "<table border=\"1\" class=\"dataframe\">\n",
       "  <thead>\n",
       "    <tr style=\"text-align: right;\">\n",
       "      <th></th>\n",
       "      <th>ImageFilePath</th>\n",
       "      <th>ScientificName</th>\n",
       "    </tr>\n",
       "  </thead>\n",
       "  <tbody>\n",
       "    <tr>\n",
       "      <th>0</th>\n",
       "      <td>/fs/ess/PAS2136/Rayeed/BeetlePalooza/individua...</td>\n",
       "      <td>Chlaenius aestivus</td>\n",
       "    </tr>\n",
       "    <tr>\n",
       "      <th>1</th>\n",
       "      <td>/fs/ess/PAS2136/Rayeed/BeetlePalooza/individua...</td>\n",
       "      <td>Chlaenius aestivus</td>\n",
       "    </tr>\n",
       "  </tbody>\n",
       "</table>\n",
       "</div>"
      ],
      "text/plain": [
       "                                       ImageFilePath      ScientificName\n",
       "0  /fs/ess/PAS2136/Rayeed/BeetlePalooza/individua...  Chlaenius aestivus\n",
       "1  /fs/ess/PAS2136/Rayeed/BeetlePalooza/individua...  Chlaenius aestivus"
      ]
     },
     "execution_count": 2,
     "metadata": {},
     "output_type": "execute_result"
    }
   ],
   "source": [
    "file_path = \"/fs/ess/PAS2136/Hawaii-2025/beetles_intake/BeetlePalooza Data/Benchmarking/Beetlepalooza_beetles_image_only.csv\"\n",
    "df = pd.read_csv(file_path, sep=\"\\t\")\n",
    "df = df[['ImageFilePath', 'ScientificName']]\n",
    "df.head(2)"
   ]
  },
  {
   "cell_type": "code",
   "execution_count": 3,
   "id": "6d7c592c-2d16-4bbe-af4b-2d389e6a7756",
   "metadata": {},
   "outputs": [],
   "source": [
    "device = \"cuda\" if torch.cuda.is_available() else \"cpu\"\n",
    "\n",
    "model_name = \"dandelin/vilt-b32-mlm\"\n",
    "\n",
    "model = ViltModel.from_pretrained(model_name).eval().to(device)\n",
    "\n",
    "processor = ViltProcessor.from_pretrained(model_name)\n"
   ]
  },
  {
   "cell_type": "code",
   "execution_count": 4,
   "id": "0c7eec3e-94f4-4e39-9e1e-b3058367967e",
   "metadata": {},
   "outputs": [],
   "source": [
    "def extract_features(image_path, taxa) :\n",
    "    \n",
    "    image = Image.open(image_path).convert(\"RGB\")\n",
    "    \n",
    "    text = f\"This is an image of a beetle, of species : {taxa}\"\n",
    "    \n",
    "    inputs = processor(images=image, text=text, return_tensors=\"pt\").to(device)\n",
    "    \n",
    "    with torch.no_grad():\n",
    "        outputs = model(**inputs)\n",
    "    \n",
    "    features = outputs.last_hidden_state.mean(dim=1)\n",
    "    \n",
    "    return features.cpu().numpy().flatten()\n",
    "    "
   ]
  },
  {
   "cell_type": "code",
   "execution_count": 5,
   "id": "8769b292-efc4-4d7e-bab1-32433b80f753",
   "metadata": {},
   "outputs": [
    {
     "name": "stderr",
     "output_type": "stream",
     "text": [
      "11399it [26:42,  7.11it/s]\n"
     ]
    }
   ],
   "source": [
    "X = np.vstack([extract_features(img, taxa) for img, taxa in tqdm(zip(df[\"ImageFilePath\"], df[\"ScientificName\"])) ])\n",
    "\n",
    "le = LabelEncoder()\n",
    "\n",
    "y = le.fit_transform(df[\"ScientificName\"])\n",
    "\n",
    "df_indices = df.index \n",
    "\n",
    "X_train, X_test, y_train, y_test, train_idx, test_idx = train_test_split(X, y, df_indices, test_size=0.2, random_state=42)\n",
    "\n",
    "test_df = df.loc[test_idx].copy()\n",
    "\n",
    "scaler = StandardScaler()\n",
    "\n",
    "X_train_scaled = scaler.fit_transform(X_train)\n",
    "\n",
    "X_test_scaled = scaler.transform(X_test)\n"
   ]
  },
  {
   "cell_type": "code",
   "execution_count": 6,
   "id": "ebe96a35-2dc4-46eb-806b-c9d39e390e03",
   "metadata": {},
   "outputs": [
    {
     "name": "stderr",
     "output_type": "stream",
     "text": [
      "/users/PAS2136/rayees/myenv/lib64/python3.9/site-packages/sklearn/metrics/_classification.py:1531: UndefinedMetricWarning: Precision is ill-defined and being set to 0.0 in labels with no predicted samples. Use `zero_division` parameter to control this behavior.\n",
      "  _warn_prf(average, modifier, f\"{metric.capitalize()} is\", len(result))\n"
     ]
    },
    {
     "name": "stdout",
     "output_type": "stream",
     "text": [
      "NaiveBayes                | Acc: 93.60% | Prec: 94.53% | Rec: 93.60% | F1: 93.67% | Bal Acc: 81.43% | MCC: 0.9318\n"
     ]
    },
    {
     "name": "stderr",
     "output_type": "stream",
     "text": [
      "/users/PAS2136/rayees/myenv/lib64/python3.9/site-packages/sklearn/metrics/_classification.py:1531: UndefinedMetricWarning: Precision is ill-defined and being set to 0.0 in labels with no predicted samples. Use `zero_division` parameter to control this behavior.\n",
      "  _warn_prf(average, modifier, f\"{metric.capitalize()} is\", len(result))\n",
      "/users/PAS2136/rayees/myenv/lib64/python3.9/site-packages/sklearn/metrics/_classification.py:1531: UndefinedMetricWarning: Recall is ill-defined and being set to 0.0 in labels with no true samples. Use `zero_division` parameter to control this behavior.\n",
      "  _warn_prf(average, modifier, f\"{metric.capitalize()} is\", len(result))\n",
      "/users/PAS2136/rayees/myenv/lib64/python3.9/site-packages/sklearn/metrics/_classification.py:2480: UserWarning: y_pred contains classes not in y_true\n",
      "  warnings.warn(\"y_pred contains classes not in y_true\")\n"
     ]
    },
    {
     "name": "stdout",
     "output_type": "stream",
     "text": [
      "LogisticRegression        | Acc: 99.39% | Prec: 99.42% | Rec: 99.39% | F1: 99.35% | Bal Acc: 93.30% | MCC: 0.9934\n"
     ]
    },
    {
     "name": "stderr",
     "output_type": "stream",
     "text": [
      "/users/PAS2136/rayees/myenv/lib64/python3.9/site-packages/sklearn/metrics/_classification.py:1531: UndefinedMetricWarning: Precision is ill-defined and being set to 0.0 in labels with no predicted samples. Use `zero_division` parameter to control this behavior.\n",
      "  _warn_prf(average, modifier, f\"{metric.capitalize()} is\", len(result))\n",
      "/users/PAS2136/rayees/myenv/lib64/python3.9/site-packages/sklearn/metrics/_classification.py:1531: UndefinedMetricWarning: Recall is ill-defined and being set to 0.0 in labels with no true samples. Use `zero_division` parameter to control this behavior.\n",
      "  _warn_prf(average, modifier, f\"{metric.capitalize()} is\", len(result))\n",
      "/users/PAS2136/rayees/myenv/lib64/python3.9/site-packages/sklearn/metrics/_classification.py:2480: UserWarning: y_pred contains classes not in y_true\n",
      "  warnings.warn(\"y_pred contains classes not in y_true\")\n"
     ]
    },
    {
     "name": "stdout",
     "output_type": "stream",
     "text": [
      "SVMLinear                 | Acc: 99.69% | Prec: 99.66% | Rec: 99.69% | F1: 99.65% | Bal Acc: 95.28% | MCC: 0.9967\n"
     ]
    },
    {
     "name": "stderr",
     "output_type": "stream",
     "text": [
      "/users/PAS2136/rayees/myenv/lib64/python3.9/site-packages/sklearn/metrics/_classification.py:1531: UndefinedMetricWarning: Precision is ill-defined and being set to 0.0 in labels with no predicted samples. Use `zero_division` parameter to control this behavior.\n",
      "  _warn_prf(average, modifier, f\"{metric.capitalize()} is\", len(result))\n",
      "/users/PAS2136/rayees/myenv/lib64/python3.9/site-packages/sklearn/metrics/_classification.py:1531: UndefinedMetricWarning: Recall is ill-defined and being set to 0.0 in labels with no true samples. Use `zero_division` parameter to control this behavior.\n",
      "  _warn_prf(average, modifier, f\"{metric.capitalize()} is\", len(result))\n",
      "/users/PAS2136/rayees/myenv/lib64/python3.9/site-packages/sklearn/metrics/_classification.py:2480: UserWarning: y_pred contains classes not in y_true\n",
      "  warnings.warn(\"y_pred contains classes not in y_true\")\n"
     ]
    },
    {
     "name": "stdout",
     "output_type": "stream",
     "text": [
      "SVMPolynomial             | Acc: 85.70% | Prec: 88.30% | Rec: 85.70% | F1: 84.41% | Bal Acc: 51.41% | MCC: 0.8510\n"
     ]
    },
    {
     "name": "stderr",
     "output_type": "stream",
     "text": [
      "/users/PAS2136/rayees/myenv/lib64/python3.9/site-packages/sklearn/metrics/_classification.py:1531: UndefinedMetricWarning: Precision is ill-defined and being set to 0.0 in labels with no predicted samples. Use `zero_division` parameter to control this behavior.\n",
      "  _warn_prf(average, modifier, f\"{metric.capitalize()} is\", len(result))\n",
      "huggingface/tokenizers: The current process just got forked, after parallelism has already been used. Disabling parallelism to avoid deadlocks...\n",
      "To disable this warning, you can either:\n",
      "\t- Avoid using `tokenizers` before the fork if possible\n",
      "\t- Explicitly set the environment variable TOKENIZERS_PARALLELISM=(true | false)\n"
     ]
    },
    {
     "name": "stdout",
     "output_type": "stream",
     "text": [
      "SVMRadialBasis            | Acc: 97.37% | Prec: 96.12% | Rec: 97.37% | F1: 96.59% | Bal Acc: 79.72% | MCC: 0.9719\n"
     ]
    },
    {
     "name": "stderr",
     "output_type": "stream",
     "text": [
      "/users/PAS2136/rayees/myenv/lib64/python3.9/site-packages/sklearn/metrics/_classification.py:1531: UndefinedMetricWarning: Precision is ill-defined and being set to 0.0 in labels with no predicted samples. Use `zero_division` parameter to control this behavior.\n",
      "  _warn_prf(average, modifier, f\"{metric.capitalize()} is\", len(result))\n"
     ]
    },
    {
     "name": "stdout",
     "output_type": "stream",
     "text": [
      "NearestNeighbor           | Acc: 96.10% | Prec: 95.78% | Rec: 96.10% | F1: 95.56% | Bal Acc: 77.16% | MCC: 0.9583\n"
     ]
    },
    {
     "name": "stderr",
     "output_type": "stream",
     "text": [
      "/users/PAS2136/rayees/myenv/lib64/python3.9/site-packages/sklearn/metrics/_classification.py:1531: UndefinedMetricWarning: Precision is ill-defined and being set to 0.0 in labels with no predicted samples. Use `zero_division` parameter to control this behavior.\n",
      "  _warn_prf(average, modifier, f\"{metric.capitalize()} is\", len(result))\n"
     ]
    },
    {
     "name": "stdout",
     "output_type": "stream",
     "text": [
      "RandomForest              | Acc: 89.69% | Prec: 87.35% | Rec: 89.69% | F1: 86.79% | Bal Acc: 47.69% | MCC: 0.8898\n",
      "MLP_Baseline              | Acc: 99.82% | Prec: 99.74% | Rec: 99.82% | F1: 99.78% | Bal Acc: 96.69% | MCC: 0.9981\n"
     ]
    },
    {
     "name": "stderr",
     "output_type": "stream",
     "text": [
      "/users/PAS2136/rayees/myenv/lib64/python3.9/site-packages/sklearn/metrics/_classification.py:1531: UndefinedMetricWarning: Precision is ill-defined and being set to 0.0 in labels with no predicted samples. Use `zero_division` parameter to control this behavior.\n",
      "  _warn_prf(average, modifier, f\"{metric.capitalize()} is\", len(result))\n"
     ]
    }
   ],
   "source": [
    "seed = 99\n",
    "\n",
    "models = {\n",
    "    \"NaiveBayes\": GaussianNB(),\n",
    "    \"LogisticRegression\": LogisticRegression(max_iter=100),\n",
    "    \"SVMLinear\": SVC(kernel=\"linear\"),\n",
    "    \"SVMPolynomial\": SVC(kernel=\"poly\", degree=4),\n",
    "    \"SVMRadialBasis\": SVC(kernel=\"rbf\", degree=4),\n",
    "    \"NearestNeighbor\": KNeighborsClassifier(n_neighbors=5),\n",
    "    \"RandomForest\": RandomForestClassifier(n_estimators=100, random_state=seed),    \n",
    "    \"MLP_Baseline\": MLPClassifier(hidden_layer_sizes=(100,), activation='logistic', max_iter=200, random_state=seed)\n",
    "}\n",
    "\n",
    "predictions = {}\n",
    "\n",
    "metrics = {}\n",
    "\n",
    "for name, model in models.items():\n",
    "    \n",
    "    model.fit(X_train_scaled, y_train)\n",
    "    preds = model.predict(X_test_scaled)\n",
    "    predictions[name] = preds\n",
    "    \n",
    "    acc = accuracy_score(y_test, preds)\n",
    "    prec = precision_score(y_test, preds, average=\"weighted\")\n",
    "    rec = recall_score(y_test, preds, average=\"weighted\")\n",
    "    f1 = f1_score(y_test, preds, average=\"weighted\")\n",
    "    bal_acc = balanced_accuracy_score(y_test, preds)\n",
    "    mcc = matthews_corrcoef(y_test, preds)\n",
    "    \n",
    "    metrics[name] = {\"Model\": name, \"Accuracy\": acc, \"Precision\": prec, \"Recall\": rec, \"F1-Score\": f1, \"Balanced Acc\": bal_acc, \"MCC\": mcc}\n",
    "    print(f\"{name:<25} | Acc: {acc:.2%} | Prec: {prec:.2%} | Rec: {rec:.2%} | F1: {f1:.2%} | Bal Acc: {bal_acc:.2%} | MCC: {mcc:.4f}\")\n",
    "\n",
    "\n",
    "metrics_df = pd.DataFrame(metrics).T\n"
   ]
  },
  {
   "cell_type": "code",
   "execution_count": 7,
   "id": "2e80e8fb-fae8-40e6-8071-f6539b5470f8",
   "metadata": {},
   "outputs": [
    {
     "data": {
      "text/html": [
       "<div>\n",
       "<style scoped>\n",
       "    .dataframe tbody tr th:only-of-type {\n",
       "        vertical-align: middle;\n",
       "    }\n",
       "\n",
       "    .dataframe tbody tr th {\n",
       "        vertical-align: top;\n",
       "    }\n",
       "\n",
       "    .dataframe thead th {\n",
       "        text-align: right;\n",
       "    }\n",
       "</style>\n",
       "<table border=\"1\" class=\"dataframe\">\n",
       "  <thead>\n",
       "    <tr style=\"text-align: right;\">\n",
       "      <th></th>\n",
       "      <th>ImageFilePath</th>\n",
       "      <th>ScientificName</th>\n",
       "      <th>Pred_NaiveBayes</th>\n",
       "      <th>Pred_LogisticRegression</th>\n",
       "      <th>Pred_SVMLinear</th>\n",
       "      <th>Pred_SVMPolynomial</th>\n",
       "      <th>Pred_SVMRadialBasis</th>\n",
       "      <th>Pred_NearestNeighbor</th>\n",
       "      <th>Pred_RandomForest</th>\n",
       "      <th>Pred_MLP_Baseline</th>\n",
       "    </tr>\n",
       "  </thead>\n",
       "  <tbody>\n",
       "    <tr>\n",
       "      <th>1766</th>\n",
       "      <td>/fs/ess/PAS2136/Rayeed/BeetlePalooza/individua...</td>\n",
       "      <td>Synuchus impunctatus</td>\n",
       "      <td>Synuchus impunctatus</td>\n",
       "      <td>Synuchus impunctatus</td>\n",
       "      <td>Synuchus impunctatus</td>\n",
       "      <td>Synuchus impunctatus</td>\n",
       "      <td>Synuchus impunctatus</td>\n",
       "      <td>Synuchus impunctatus</td>\n",
       "      <td>Synuchus impunctatus</td>\n",
       "      <td>Synuchus impunctatus</td>\n",
       "    </tr>\n",
       "    <tr>\n",
       "      <th>2629</th>\n",
       "      <td>/fs/ess/PAS2136/Rayeed/BeetlePalooza/individua...</td>\n",
       "      <td>Agonum punctiforme</td>\n",
       "      <td>Agonum punctiforme</td>\n",
       "      <td>Agonum punctiforme</td>\n",
       "      <td>Agonum punctiforme</td>\n",
       "      <td>Cyclotrachelus torvus</td>\n",
       "      <td>Agonum punctiforme</td>\n",
       "      <td>Agonum punctiforme</td>\n",
       "      <td>Amara quenseli</td>\n",
       "      <td>Agonum punctiforme</td>\n",
       "    </tr>\n",
       "  </tbody>\n",
       "</table>\n",
       "</div>"
      ],
      "text/plain": [
       "                                          ImageFilePath        ScientificName  \\\n",
       "1766  /fs/ess/PAS2136/Rayeed/BeetlePalooza/individua...  Synuchus impunctatus   \n",
       "2629  /fs/ess/PAS2136/Rayeed/BeetlePalooza/individua...    Agonum punctiforme   \n",
       "\n",
       "           Pred_NaiveBayes Pred_LogisticRegression        Pred_SVMLinear  \\\n",
       "1766  Synuchus impunctatus    Synuchus impunctatus  Synuchus impunctatus   \n",
       "2629    Agonum punctiforme      Agonum punctiforme    Agonum punctiforme   \n",
       "\n",
       "         Pred_SVMPolynomial   Pred_SVMRadialBasis  Pred_NearestNeighbor  \\\n",
       "1766   Synuchus impunctatus  Synuchus impunctatus  Synuchus impunctatus   \n",
       "2629  Cyclotrachelus torvus    Agonum punctiforme    Agonum punctiforme   \n",
       "\n",
       "         Pred_RandomForest     Pred_MLP_Baseline  \n",
       "1766  Synuchus impunctatus  Synuchus impunctatus  \n",
       "2629        Amara quenseli    Agonum punctiforme  "
      ]
     },
     "execution_count": 7,
     "metadata": {},
     "output_type": "execute_result"
    }
   ],
   "source": [
    "test_df = test_df.assign(**{f\"Pred_{name}\": le.inverse_transform(pred) for name, pred in predictions.items()})\n",
    "test_df.head(2)"
   ]
  },
  {
   "cell_type": "code",
   "execution_count": 8,
   "id": "6658b5e3-7f11-46dd-b284-b259f9e0c2fe",
   "metadata": {},
   "outputs": [
    {
     "data": {
      "text/html": [
       "<div>\n",
       "<style scoped>\n",
       "    .dataframe tbody tr th:only-of-type {\n",
       "        vertical-align: middle;\n",
       "    }\n",
       "\n",
       "    .dataframe tbody tr th {\n",
       "        vertical-align: top;\n",
       "    }\n",
       "\n",
       "    .dataframe thead th {\n",
       "        text-align: right;\n",
       "    }\n",
       "</style>\n",
       "<table border=\"1\" class=\"dataframe\">\n",
       "  <thead>\n",
       "    <tr style=\"text-align: right;\">\n",
       "      <th></th>\n",
       "      <th>Model</th>\n",
       "      <th>Accuracy</th>\n",
       "      <th>Precision</th>\n",
       "      <th>Recall</th>\n",
       "      <th>F1-Score</th>\n",
       "      <th>Balanced Acc</th>\n",
       "      <th>MCC</th>\n",
       "    </tr>\n",
       "  </thead>\n",
       "  <tbody>\n",
       "    <tr>\n",
       "      <th>NaiveBayes</th>\n",
       "      <td>NaiveBayes</td>\n",
       "      <td>0.935965</td>\n",
       "      <td>0.945299</td>\n",
       "      <td>0.935965</td>\n",
       "      <td>0.936732</td>\n",
       "      <td>0.814259</td>\n",
       "      <td>0.931819</td>\n",
       "    </tr>\n",
       "    <tr>\n",
       "      <th>LogisticRegression</th>\n",
       "      <td>LogisticRegression</td>\n",
       "      <td>0.99386</td>\n",
       "      <td>0.994154</td>\n",
       "      <td>0.99386</td>\n",
       "      <td>0.993519</td>\n",
       "      <td>0.933043</td>\n",
       "      <td>0.993444</td>\n",
       "    </tr>\n",
       "    <tr>\n",
       "      <th>SVMLinear</th>\n",
       "      <td>SVMLinear</td>\n",
       "      <td>0.99693</td>\n",
       "      <td>0.996583</td>\n",
       "      <td>0.99693</td>\n",
       "      <td>0.996491</td>\n",
       "      <td>0.952812</td>\n",
       "      <td>0.996722</td>\n",
       "    </tr>\n",
       "    <tr>\n",
       "      <th>SVMPolynomial</th>\n",
       "      <td>SVMPolynomial</td>\n",
       "      <td>0.857018</td>\n",
       "      <td>0.882959</td>\n",
       "      <td>0.857018</td>\n",
       "      <td>0.844093</td>\n",
       "      <td>0.514143</td>\n",
       "      <td>0.850981</td>\n",
       "    </tr>\n",
       "    <tr>\n",
       "      <th>SVMRadialBasis</th>\n",
       "      <td>SVMRadialBasis</td>\n",
       "      <td>0.973684</td>\n",
       "      <td>0.961197</td>\n",
       "      <td>0.973684</td>\n",
       "      <td>0.965947</td>\n",
       "      <td>0.797199</td>\n",
       "      <td>0.971915</td>\n",
       "    </tr>\n",
       "    <tr>\n",
       "      <th>NearestNeighbor</th>\n",
       "      <td>NearestNeighbor</td>\n",
       "      <td>0.960965</td>\n",
       "      <td>0.957816</td>\n",
       "      <td>0.960965</td>\n",
       "      <td>0.955633</td>\n",
       "      <td>0.771595</td>\n",
       "      <td>0.958319</td>\n",
       "    </tr>\n",
       "    <tr>\n",
       "      <th>RandomForest</th>\n",
       "      <td>RandomForest</td>\n",
       "      <td>0.89693</td>\n",
       "      <td>0.873498</td>\n",
       "      <td>0.89693</td>\n",
       "      <td>0.867908</td>\n",
       "      <td>0.476948</td>\n",
       "      <td>0.88981</td>\n",
       "    </tr>\n",
       "    <tr>\n",
       "      <th>MLP_Baseline</th>\n",
       "      <td>MLP_Baseline</td>\n",
       "      <td>0.998246</td>\n",
       "      <td>0.997377</td>\n",
       "      <td>0.998246</td>\n",
       "      <td>0.99778</td>\n",
       "      <td>0.966912</td>\n",
       "      <td>0.998127</td>\n",
       "    </tr>\n",
       "  </tbody>\n",
       "</table>\n",
       "</div>"
      ],
      "text/plain": [
       "                                 Model  Accuracy Precision    Recall  \\\n",
       "NaiveBayes                  NaiveBayes  0.935965  0.945299  0.935965   \n",
       "LogisticRegression  LogisticRegression   0.99386  0.994154   0.99386   \n",
       "SVMLinear                    SVMLinear   0.99693  0.996583   0.99693   \n",
       "SVMPolynomial            SVMPolynomial  0.857018  0.882959  0.857018   \n",
       "SVMRadialBasis          SVMRadialBasis  0.973684  0.961197  0.973684   \n",
       "NearestNeighbor        NearestNeighbor  0.960965  0.957816  0.960965   \n",
       "RandomForest              RandomForest   0.89693  0.873498   0.89693   \n",
       "MLP_Baseline              MLP_Baseline  0.998246  0.997377  0.998246   \n",
       "\n",
       "                    F1-Score Balanced Acc       MCC  \n",
       "NaiveBayes          0.936732     0.814259  0.931819  \n",
       "LogisticRegression  0.993519     0.933043  0.993444  \n",
       "SVMLinear           0.996491     0.952812  0.996722  \n",
       "SVMPolynomial       0.844093     0.514143  0.850981  \n",
       "SVMRadialBasis      0.965947     0.797199  0.971915  \n",
       "NearestNeighbor     0.955633     0.771595  0.958319  \n",
       "RandomForest        0.867908     0.476948   0.88981  \n",
       "MLP_Baseline         0.99778     0.966912  0.998127  "
      ]
     },
     "execution_count": 8,
     "metadata": {},
     "output_type": "execute_result"
    }
   ],
   "source": [
    "metrics_df"
   ]
  },
  {
   "cell_type": "code",
   "execution_count": 9,
   "id": "4146536f-2efe-4bd7-a8d4-c07f58faefbf",
   "metadata": {},
   "outputs": [],
   "source": [
    "test_df.to_csv(\"/users/PAS2136/rayees/3. Benchmarking/BeetlePalooza/27.ViLT-linear-probing-species.csv\", index=False)\n",
    "metrics_df.to_csv(\"/users/PAS2136/rayees/3. Benchmarking/BeetlePalooza/27.ViLT-linear-probing-species-metrics.csv\", index=False)"
   ]
  },
  {
   "cell_type": "code",
   "execution_count": null,
   "id": "4a1dcd1c-340f-4622-9717-83cf7b3bd0d2",
   "metadata": {},
   "outputs": [],
   "source": []
  },
  {
   "cell_type": "code",
   "execution_count": null,
   "id": "50897d91-c897-4730-9595-9315950be14d",
   "metadata": {},
   "outputs": [],
   "source": []
  },
  {
   "cell_type": "code",
   "execution_count": null,
   "id": "1cc1d7c2-93f7-4b94-8bfe-91a088ef6a35",
   "metadata": {},
   "outputs": [],
   "source": []
  }
 ],
 "metadata": {
  "kernelspec": {
   "display_name": "Python myenv",
   "language": "python",
   "name": "myenv"
  },
  "language_info": {
   "codemirror_mode": {
    "name": "ipython",
    "version": 3
   },
   "file_extension": ".py",
   "mimetype": "text/x-python",
   "name": "python",
   "nbconvert_exporter": "python",
   "pygments_lexer": "ipython3",
   "version": "3.9.18"
  }
 },
 "nbformat": 4,
 "nbformat_minor": 5
}
