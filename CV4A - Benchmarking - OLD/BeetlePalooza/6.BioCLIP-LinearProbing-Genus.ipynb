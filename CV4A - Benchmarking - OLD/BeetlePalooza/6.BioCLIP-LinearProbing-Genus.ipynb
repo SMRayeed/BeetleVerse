{
 "cells": [
  {
   "cell_type": "code",
   "execution_count": 1,
   "id": "cb9b11d5-14db-49fd-92d1-47e095f3eeba",
   "metadata": {},
   "outputs": [],
   "source": [
    "import warnings\n",
    "warnings.filterwarnings(\"ignore\")"
   ]
  },
  {
   "cell_type": "code",
   "execution_count": 2,
   "id": "f080c998-f139-4f80-93d3-16d0f71e6763",
   "metadata": {},
   "outputs": [],
   "source": [
    "import os\n",
    "import torch\n",
    "import open_clip\n",
    "import numpy as np\n",
    "import pandas as pd\n",
    "from tqdm import tqdm\n",
    "from PIL import Image\n",
    "from torchvision import transforms\n",
    "from sklearn.metrics import accuracy_score\n",
    "from sklearn.preprocessing import LabelEncoder\n",
    "from sklearn.model_selection import train_test_split"
   ]
  },
  {
   "cell_type": "code",
   "execution_count": 3,
   "id": "2792b02d-0828-433a-8bc4-85ae4644b8ab",
   "metadata": {},
   "outputs": [
    {
     "data": {
      "text/html": [
       "<div>\n",
       "<style scoped>\n",
       "    .dataframe tbody tr th:only-of-type {\n",
       "        vertical-align: middle;\n",
       "    }\n",
       "\n",
       "    .dataframe tbody tr th {\n",
       "        vertical-align: top;\n",
       "    }\n",
       "\n",
       "    .dataframe thead th {\n",
       "        text-align: right;\n",
       "    }\n",
       "</style>\n",
       "<table border=\"1\" class=\"dataframe\">\n",
       "  <thead>\n",
       "    <tr style=\"text-align: right;\">\n",
       "      <th></th>\n",
       "      <th>ImageFilePath</th>\n",
       "      <th>Genus</th>\n",
       "    </tr>\n",
       "  </thead>\n",
       "  <tbody>\n",
       "    <tr>\n",
       "      <th>0</th>\n",
       "      <td>/fs/ess/PAS2136/Rayeed/BeetlePalooza/individua...</td>\n",
       "      <td>Chlaenius</td>\n",
       "    </tr>\n",
       "    <tr>\n",
       "      <th>1</th>\n",
       "      <td>/fs/ess/PAS2136/Rayeed/BeetlePalooza/individua...</td>\n",
       "      <td>Chlaenius</td>\n",
       "    </tr>\n",
       "  </tbody>\n",
       "</table>\n",
       "</div>"
      ],
      "text/plain": [
       "                                       ImageFilePath      Genus\n",
       "0  /fs/ess/PAS2136/Rayeed/BeetlePalooza/individua...  Chlaenius\n",
       "1  /fs/ess/PAS2136/Rayeed/BeetlePalooza/individua...  Chlaenius"
      ]
     },
     "execution_count": 3,
     "metadata": {},
     "output_type": "execute_result"
    }
   ],
   "source": [
    "file_path = \"/fs/ess/PAS2136/Hawaii-2025/beetles_intake/BeetlePalooza Data/Benchmarking/Beetlepalooza_beetles_image_only.csv\"\n",
    "df = pd.read_csv(file_path, sep=\"\\t\")\n",
    "df = df[['ImageFilePath', 'Genus']]\n",
    "df.head(2)"
   ]
  },
  {
   "cell_type": "code",
   "execution_count": 4,
   "id": "d6c33fa3-0c1f-4d39-a4aa-e4f26da941fb",
   "metadata": {},
   "outputs": [],
   "source": [
    "model, preprocess_train, preprocess_val = open_clip.create_model_and_transforms(\"hf-hub:imageomics/bioclip\")\n",
    "tokenizer = open_clip.get_tokenizer(\"hf-hub:imageomics/bioclip\")\n",
    "\n",
    "device = \"cuda\" if torch.cuda.is_available() else \"cpu\"\n",
    "model.to(device)\n",
    "\n",
    "for param in model.parameters() :\n",
    "    param.requires_grad = False\n",
    "    "
   ]
  },
  {
   "cell_type": "code",
   "execution_count": 5,
   "id": "45e70ee2-7499-412c-b08f-a4ad89348a80",
   "metadata": {},
   "outputs": [],
   "source": [
    "def extract_image_features(image_path):\n",
    "    \n",
    "    image = Image.open(image_path).convert(\"RGB\")\n",
    "\n",
    "    image_tensor = preprocess_val(image).unsqueeze(0).to(device)\n",
    "\n",
    "    with torch.no_grad():\n",
    "        image_features = model.encode_image(image_tensor)\n",
    "        image_features /= image_features.norm(dim=-1, keepdim=True)\n",
    "\n",
    "    return image_features.cpu().numpy()\n",
    "\n",
    "\n",
    "\n",
    "def classify_image(model, image_path) :\n",
    "    \n",
    "    image_features = extract_image_features(image_path)\n",
    "    \n",
    "    predicted_label = model.predict(image_features)[0]\n",
    "    \n",
    "    return le.inverse_transform([predicted_label])[0]\n",
    "\n"
   ]
  },
  {
   "cell_type": "code",
   "execution_count": 6,
   "id": "98518101-2ca8-4fd1-acbc-c6ae82ef07d2",
   "metadata": {},
   "outputs": [
    {
     "name": "stderr",
     "output_type": "stream",
     "text": [
      "Processing Images ... : 100%|██████████| 11399/11399 [19:40<00:00,  9.66it/s]"
     ]
    },
    {
     "name": "stdout",
     "output_type": "stream",
     "text": [
      "Extracted feature shape: (11399, 512)\n"
     ]
    },
    {
     "name": "stderr",
     "output_type": "stream",
     "text": [
      "\n"
     ]
    }
   ],
   "source": [
    "X = np.vstack([extract_image_features(img) for img in tqdm(df[\"ImageFilePath\"], desc=\"Processing Images ... \")])\n",
    "\n",
    "print(f\"Extracted feature shape: {X.shape}\")\n",
    "\n",
    "le = LabelEncoder()\n",
    "\n",
    "y = le.fit_transform(df[\"Genus\"])\n",
    "\n",
    "df_indices = df.index \n",
    "\n",
    "X_train, X_test, y_train, y_test, train_idx, test_idx = train_test_split(X, y, df_indices, test_size=0.2, random_state=42)\n",
    "\n",
    "test_df = df.loc[test_idx].copy()\n"
   ]
  },
  {
   "cell_type": "code",
   "execution_count": null,
   "id": "a58befaf-d74e-4bad-ae63-23dcec5feffe",
   "metadata": {},
   "outputs": [],
   "source": []
  },
  {
   "cell_type": "code",
   "execution_count": 7,
   "id": "051dbd43-559f-46a6-8a23-103f346ff46f",
   "metadata": {},
   "outputs": [
    {
     "name": "stdout",
     "output_type": "stream",
     "text": [
      "NaiveBayes                | Acc: 81.32% | Prec: 85.18% | Rec: 81.32% | F1: 82.50% | Bal Acc: 73.91% | MCC: 0.7925\n",
      "LogisticRegression        | Acc: 88.55% | Prec: 87.86% | Rec: 88.55% | F1: 87.25% | Bal Acc: 51.72% | MCC: 0.8705\n",
      "SVMLinear                 | Acc: 92.32% | Prec: 91.43% | Rec: 92.32% | F1: 91.50% | Bal Acc: 64.23% | MCC: 0.9133\n",
      "SVMPolynomial             | Acc: 95.13% | Prec: 94.94% | Rec: 95.13% | F1: 94.71% | Bal Acc: 75.42% | MCC: 0.9450\n",
      "SVMRadialBasis            | Acc: 93.99% | Prec: 93.09% | Rec: 93.99% | F1: 93.38% | Bal Acc: 70.32% | MCC: 0.9321\n",
      "NearestNeighbor           | Acc: 93.68% | Prec: 93.21% | Rec: 93.68% | F1: 93.19% | Bal Acc: 76.54% | MCC: 0.9287\n",
      "RandomForest              | Acc: 89.61% | Prec: 89.41% | Rec: 89.61% | F1: 88.74% | Bal Acc: 60.77% | MCC: 0.8825\n",
      "MLP_Baseline              | Acc: 95.09% | Prec: 94.99% | Rec: 95.09% | F1: 94.88% | Bal Acc: 78.99% | MCC: 0.9446\n"
     ]
    }
   ],
   "source": [
    "from sklearn.naive_bayes import GaussianNB\n",
    "from sklearn.linear_model import LogisticRegression\n",
    "from sklearn.svm import SVC\n",
    "from sklearn.neighbors import KNeighborsClassifier\n",
    "from sklearn.ensemble import RandomForestClassifier\n",
    "from sklearn.neural_network import MLPClassifier\n",
    "from sklearn.metrics import accuracy_score, precision_score, recall_score, f1_score, balanced_accuracy_score, matthews_corrcoef\n",
    "\n",
    "\n",
    "seed = 99\n",
    "\n",
    "\n",
    "models = {\n",
    "    \"NaiveBayes\": GaussianNB(),\n",
    "    \"LogisticRegression\": LogisticRegression(max_iter=100),\n",
    "    \"SVMLinear\": SVC(kernel=\"linear\"),\n",
    "    \"SVMPolynomial\": SVC(kernel=\"poly\", degree=4),\n",
    "    \"SVMRadialBasis\": SVC(kernel=\"rbf\", degree=4),\n",
    "    \"NearestNeighbor\": KNeighborsClassifier(n_neighbors=5),\n",
    "    \"RandomForest\": RandomForestClassifier(n_estimators=100, random_state=seed),    \n",
    "    \"MLP_Baseline\": MLPClassifier(hidden_layer_sizes=(256, 64), activation='logistic', learning_rate='adaptive', max_iter=200, random_state=seed)\n",
    "}\n",
    "\n",
    "predictions = {}\n",
    "\n",
    "metrics = {}\n",
    "\n",
    "\n",
    "for name, model in models.items():\n",
    "    model.fit(X_train, y_train)\n",
    "    preds = model.predict(X_test)\n",
    "    predictions[name] = preds\n",
    "\n",
    "    acc = accuracy_score(y_test, preds)\n",
    "    prec = precision_score(y_test, preds, average=\"weighted\")\n",
    "    rec = recall_score(y_test, preds, average=\"weighted\")\n",
    "    f1 = f1_score(y_test, preds, average=\"weighted\")\n",
    "    bal_acc = balanced_accuracy_score(y_test, preds)\n",
    "    mcc = matthews_corrcoef(y_test, preds)\n",
    "\n",
    "    metrics[name] = {\"Accuracy\": acc, \"Precision\": prec, \"Recall\": rec, \"F1-Score\": f1, \"Balanced Acc\": bal_acc, \"MCC\": mcc}\n",
    "\n",
    "    print(f\"{name:<25} | Acc: {acc:.2%} | Prec: {prec:.2%} | Rec: {rec:.2%} | F1: {f1:.2%} | Bal Acc: {bal_acc:.2%} | MCC: {mcc:.4f}\")\n",
    "\n",
    "\n",
    "metrics_df = pd.DataFrame(metrics).T\n"
   ]
  },
  {
   "cell_type": "code",
   "execution_count": 8,
   "id": "314abdeb-4007-4fff-acfc-e8417ff45344",
   "metadata": {},
   "outputs": [
    {
     "data": {
      "text/html": [
       "<div>\n",
       "<style scoped>\n",
       "    .dataframe tbody tr th:only-of-type {\n",
       "        vertical-align: middle;\n",
       "    }\n",
       "\n",
       "    .dataframe tbody tr th {\n",
       "        vertical-align: top;\n",
       "    }\n",
       "\n",
       "    .dataframe thead th {\n",
       "        text-align: right;\n",
       "    }\n",
       "</style>\n",
       "<table border=\"1\" class=\"dataframe\">\n",
       "  <thead>\n",
       "    <tr style=\"text-align: right;\">\n",
       "      <th></th>\n",
       "      <th>ImageFilePath</th>\n",
       "      <th>Genus</th>\n",
       "      <th>Pred_NaiveBayes</th>\n",
       "      <th>Pred_LogisticRegression</th>\n",
       "      <th>Pred_SVMLinear</th>\n",
       "      <th>Pred_SVMPolynomial</th>\n",
       "      <th>Pred_SVMRadialBasis</th>\n",
       "      <th>Pred_NearestNeighbor</th>\n",
       "      <th>Pred_RandomForest</th>\n",
       "      <th>Pred_MLP_Baseline</th>\n",
       "    </tr>\n",
       "  </thead>\n",
       "  <tbody>\n",
       "    <tr>\n",
       "      <th>1766</th>\n",
       "      <td>/fs/ess/PAS2136/Rayeed/BeetlePalooza/individua...</td>\n",
       "      <td>Synuchus</td>\n",
       "      <td>Calathus</td>\n",
       "      <td>Synuchus</td>\n",
       "      <td>Synuchus</td>\n",
       "      <td>Synuchus</td>\n",
       "      <td>Synuchus</td>\n",
       "      <td>Synuchus</td>\n",
       "      <td>Calathus</td>\n",
       "      <td>Synuchus</td>\n",
       "    </tr>\n",
       "    <tr>\n",
       "      <th>2629</th>\n",
       "      <td>/fs/ess/PAS2136/Rayeed/BeetlePalooza/individua...</td>\n",
       "      <td>Agonum</td>\n",
       "      <td>Calathus</td>\n",
       "      <td>Calathus</td>\n",
       "      <td>Calathus</td>\n",
       "      <td>Calathus</td>\n",
       "      <td>Calathus</td>\n",
       "      <td>Calathus</td>\n",
       "      <td>Calathus</td>\n",
       "      <td>Calathus</td>\n",
       "    </tr>\n",
       "  </tbody>\n",
       "</table>\n",
       "</div>"
      ],
      "text/plain": [
       "                                          ImageFilePath     Genus  \\\n",
       "1766  /fs/ess/PAS2136/Rayeed/BeetlePalooza/individua...  Synuchus   \n",
       "2629  /fs/ess/PAS2136/Rayeed/BeetlePalooza/individua...    Agonum   \n",
       "\n",
       "     Pred_NaiveBayes Pred_LogisticRegression Pred_SVMLinear  \\\n",
       "1766        Calathus                Synuchus       Synuchus   \n",
       "2629        Calathus                Calathus       Calathus   \n",
       "\n",
       "     Pred_SVMPolynomial Pred_SVMRadialBasis Pred_NearestNeighbor  \\\n",
       "1766           Synuchus            Synuchus             Synuchus   \n",
       "2629           Calathus            Calathus             Calathus   \n",
       "\n",
       "     Pred_RandomForest Pred_MLP_Baseline  \n",
       "1766          Calathus          Synuchus  \n",
       "2629          Calathus          Calathus  "
      ]
     },
     "execution_count": 8,
     "metadata": {},
     "output_type": "execute_result"
    }
   ],
   "source": [
    "test_df = test_df.assign(**{f\"Pred_{name}\": le.inverse_transform(pred) for name, pred in predictions.items()})\n",
    "test_df.head(2)"
   ]
  },
  {
   "cell_type": "code",
   "execution_count": 9,
   "id": "c005482e-aa8d-40a7-a466-3106116bc4c8",
   "metadata": {},
   "outputs": [],
   "source": [
    "test_df.to_csv(\"/users/PAS2136/rayees/3. Benchmarking/BeetlePalooza/6.BioCLIP-linear-probing-genus.csv\", index=False)\n",
    "metrics_df.to_csv(\"/users/PAS2136/rayees/3. Benchmarking/BeetlePalooza/6.BioCLIP-linear-probing-genus-metrics.csv\", index=False)"
   ]
  },
  {
   "cell_type": "code",
   "execution_count": null,
   "id": "1ed53111-1d85-481e-bb24-422365576f3a",
   "metadata": {},
   "outputs": [],
   "source": []
  },
  {
   "cell_type": "code",
   "execution_count": null,
   "id": "15e46769-33c2-445e-962e-0dc71717d905",
   "metadata": {},
   "outputs": [],
   "source": []
  },
  {
   "cell_type": "code",
   "execution_count": null,
   "id": "38e28fe1-1b0f-4752-83ba-0c30a95977ba",
   "metadata": {},
   "outputs": [],
   "source": []
  }
 ],
 "metadata": {
  "kernelspec": {
   "display_name": "Python myenv",
   "language": "python",
   "name": "myenv"
  },
  "language_info": {
   "codemirror_mode": {
    "name": "ipython",
    "version": 3
   },
   "file_extension": ".py",
   "mimetype": "text/x-python",
   "name": "python",
   "nbconvert_exporter": "python",
   "pygments_lexer": "ipython3",
   "version": "3.9.18"
  }
 },
 "nbformat": 4,
 "nbformat_minor": 5
}
