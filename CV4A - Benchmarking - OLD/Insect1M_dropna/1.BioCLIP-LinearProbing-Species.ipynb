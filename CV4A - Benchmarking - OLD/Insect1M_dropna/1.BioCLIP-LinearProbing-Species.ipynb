{
 "cells": [
  {
   "cell_type": "code",
   "execution_count": 1,
   "id": "cb9b11d5-14db-49fd-92d1-47e095f3eeba",
   "metadata": {},
   "outputs": [],
   "source": [
    "import warnings\n",
    "warnings.filterwarnings(\"ignore\")"
   ]
  },
  {
   "cell_type": "code",
   "execution_count": 2,
   "id": "f080c998-f139-4f80-93d3-16d0f71e6763",
   "metadata": {},
   "outputs": [],
   "source": [
    "import os\n",
    "import torch\n",
    "import open_clip\n",
    "import numpy as np\n",
    "import pandas as pd\n",
    "from PIL import Image\n",
    "from tqdm.notebook import tqdm \n",
    "from torchvision import transforms\n",
    "from sklearn.metrics import accuracy_score\n",
    "from sklearn.preprocessing import LabelEncoder, StandardScaler\n",
    "from sklearn.model_selection import train_test_split\n",
    "from sklearn.naive_bayes import GaussianNB\n",
    "from sklearn.linear_model import LogisticRegression\n",
    "from sklearn.svm import SVC\n",
    "from sklearn.neighbors import KNeighborsClassifier\n",
    "from sklearn.ensemble import RandomForestClassifier\n",
    "from sklearn.neural_network import MLPClassifier\n",
    "from sklearn.metrics import accuracy_score, precision_score, recall_score, f1_score, balanced_accuracy_score, matthews_corrcoef"
   ]
  },
  {
   "cell_type": "code",
   "execution_count": 3,
   "id": "5e1e46f2-8ea1-4c67-b26b-5bd78f01e99c",
   "metadata": {},
   "outputs": [
    {
     "data": {
      "text/html": [
       "<div>\n",
       "<style scoped>\n",
       "    .dataframe tbody tr th:only-of-type {\n",
       "        vertical-align: middle;\n",
       "    }\n",
       "\n",
       "    .dataframe tbody tr th {\n",
       "        vertical-align: top;\n",
       "    }\n",
       "\n",
       "    .dataframe thead th {\n",
       "        text-align: right;\n",
       "    }\n",
       "</style>\n",
       "<table border=\"1\" class=\"dataframe\">\n",
       "  <thead>\n",
       "    <tr style=\"text-align: right;\">\n",
       "      <th></th>\n",
       "      <th>ImageFilePath</th>\n",
       "      <th>ScientificName</th>\n",
       "    </tr>\n",
       "  </thead>\n",
       "  <tbody>\n",
       "    <tr>\n",
       "      <th>0</th>\n",
       "      <td>/fs/ess/PAS2136/Rayeed/Carabids-100K-V2/Insect...</td>\n",
       "      <td>Cicindela sexguttata</td>\n",
       "    </tr>\n",
       "    <tr>\n",
       "      <th>1</th>\n",
       "      <td>/fs/ess/PAS2136/Rayeed/Carabids-100K-V2/Insect...</td>\n",
       "      <td>Cicindela sexguttata</td>\n",
       "    </tr>\n",
       "  </tbody>\n",
       "</table>\n",
       "</div>"
      ],
      "text/plain": [
       "                                       ImageFilePath        ScientificName\n",
       "0  /fs/ess/PAS2136/Rayeed/Carabids-100K-V2/Insect...  Cicindela sexguttata\n",
       "1  /fs/ess/PAS2136/Rayeed/Carabids-100K-V2/Insect...  Cicindela sexguttata"
      ]
     },
     "execution_count": 3,
     "metadata": {},
     "output_type": "execute_result"
    }
   ],
   "source": [
    "df_allCarabids = pd.read_csv(\"/fs/ess/PAS2136/Rayeed/Carabids-100K-V2/AllCarabids.csv\", sep=\"\\t\")\n",
    "df_insect1M = df_allCarabids[df_allCarabids[\"filepath\"].str.startswith(\"Insect-1M\")].copy()\n",
    "df_insect1M.rename(columns={\"filepath\": \"ImageFilePath\", \"class\": \"ScientificName\"}, inplace=True)\n",
    "cols = ['ImageFilePath', 'ScientificName']\n",
    "df = df_insect1M[cols]\n",
    "df['ImageFilePath'] = \"/fs/ess/PAS2136/Rayeed/Carabids-100K-V2/\" + df['ImageFilePath']\n",
    "df = df.dropna()\n",
    "df.head(2)"
   ]
  },
  {
   "cell_type": "code",
   "execution_count": null,
   "id": "fc00401e-c29a-43ac-9fda-1c26e9574379",
   "metadata": {},
   "outputs": [],
   "source": []
  },
  {
   "cell_type": "code",
   "execution_count": 4,
   "id": "d6c33fa3-0c1f-4d39-a4aa-e4f26da941fb",
   "metadata": {},
   "outputs": [],
   "source": [
    "model, preprocess_train, preprocess_val = open_clip.create_model_and_transforms(\"hf-hub:imageomics/bioclip\")\n",
    "tokenizer = open_clip.get_tokenizer(\"hf-hub:imageomics/bioclip\")\n",
    "\n",
    "device = \"cuda\" if torch.cuda.is_available() else \"cpu\"\n",
    "model.to(device)\n",
    "\n",
    "for param in model.parameters() :\n",
    "    param.requires_grad = False\n",
    "    "
   ]
  },
  {
   "cell_type": "code",
   "execution_count": 5,
   "id": "45e70ee2-7499-412c-b08f-a4ad89348a80",
   "metadata": {},
   "outputs": [],
   "source": [
    "def extract_features(image_path):\n",
    "    \n",
    "    image = Image.open(image_path).convert(\"RGB\")\n",
    "\n",
    "    image_tensor = preprocess_val(image).unsqueeze(0).to(device)\n",
    "\n",
    "    with torch.no_grad():\n",
    "        image_features = model.encode_image(image_tensor)\n",
    "        image_features /= image_features.norm(dim=-1, keepdim=True)\n",
    "\n",
    "    return image_features.cpu().numpy()\n"
   ]
  },
  {
   "cell_type": "code",
   "execution_count": 6,
   "id": "7427b056-3f7c-4c16-a213-76433fb9ca6e",
   "metadata": {},
   "outputs": [
    {
     "data": {
      "application/vnd.jupyter.widget-view+json": {
       "model_id": "b87bd96c23e641f1962f100ba53a262a",
       "version_major": 2,
       "version_minor": 0
      },
      "text/plain": [
       "Processing ...:   0%|          | 0/20278 [00:00<?, ?it/s]"
      ]
     },
     "metadata": {},
     "output_type": "display_data"
    }
   ],
   "source": [
    "\n",
    "X = np.vstack([extract_features(img) for img in tqdm(df[\"ImageFilePath\"], desc=\"Processing ...\")])\n",
    "\n",
    "le = LabelEncoder()\n",
    "\n",
    "y = le.fit_transform(df[\"ScientificName\"])\n",
    "\n",
    "df_indices = df.index \n",
    "\n",
    "X_train, X_test, y_train, y_test, train_idx, test_idx = train_test_split(X, y, df_indices, test_size=0.2, random_state=42)\n",
    "\n"
   ]
  },
  {
   "cell_type": "code",
   "execution_count": null,
   "id": "a58befaf-d74e-4bad-ae63-23dcec5feffe",
   "metadata": {},
   "outputs": [],
   "source": []
  },
  {
   "cell_type": "code",
   "execution_count": 7,
   "id": "051dbd43-559f-46a6-8a23-103f346ff46f",
   "metadata": {},
   "outputs": [
    {
     "data": {
      "application/vnd.jupyter.widget-view+json": {
       "model_id": "64dbd12861ee456aa3a9936f5fdbb78f",
       "version_major": 2,
       "version_minor": 0
      },
      "text/plain": [
       "Training Models:   0%|          | 0/4 [00:00<?, ?it/s]"
      ]
     },
     "metadata": {},
     "output_type": "display_data"
    },
    {
     "name": "stdout",
     "output_type": "stream",
     "text": [
      "NaiveBayes                | Acc: 51.28% | Prec: 51.48% | Rec: 51.28% | F1: 48.95% | Bal Acc: 30.94% | MCC: 0.5116\n",
      "LogisticRegression        | Acc: 60.95% | Prec: 59.77% | Rec: 60.95% | F1: 58.00% | Bal Acc: 43.07% | MCC: 0.6082\n",
      "NearestNeighbor           | Acc: 49.31% | Prec: 49.11% | Rec: 49.31% | F1: 45.71% | Bal Acc: 29.64% | MCC: 0.4915\n",
      "MLP_Baseline              | Acc: 53.38% | Prec: 53.57% | Rec: 53.38% | F1: 51.55% | Bal Acc: 36.72% | MCC: 0.5324\n"
     ]
    }
   ],
   "source": [
    "\n",
    "test_df = df.loc[test_idx].copy()\n",
    "\n",
    "scaler = StandardScaler()\n",
    "\n",
    "X_train_scaled = scaler.fit_transform(X_train)\n",
    "\n",
    "X_test_scaled = scaler.transform(X_test)\n",
    "\n",
    "seed = 99\n",
    "\n",
    "\n",
    "models = {\n",
    "    \"NaiveBayes\": GaussianNB(),\n",
    "    \"LogisticRegression\": LogisticRegression(max_iter=100),\n",
    "    \"NearestNeighbor\": KNeighborsClassifier(n_neighbors=11),  \n",
    "    \"MLP_Baseline\": MLPClassifier(hidden_layer_sizes=(100,), max_iter=200, random_state=seed)\n",
    "}\n",
    "\n",
    "predictions = {}\n",
    "\n",
    "metrics = {}\n",
    "\n",
    "\n",
    "for name, model in tqdm(models.items(), desc=\"Training Models\", leave=True):\n",
    "    \n",
    "    model.fit(X_train_scaled, y_train)\n",
    "    preds = model.predict(X_test_scaled)\n",
    "    predictions[name] = preds\n",
    "\n",
    "    acc = accuracy_score(y_test, preds)\n",
    "    prec = precision_score(y_test, preds, average=\"weighted\")\n",
    "    rec = recall_score(y_test, preds, average=\"weighted\")\n",
    "    f1 = f1_score(y_test, preds, average=\"weighted\")\n",
    "    bal_acc = balanced_accuracy_score(y_test, preds)\n",
    "    mcc = matthews_corrcoef(y_test, preds)\n",
    "\n",
    "    metrics[name] = {\"Model\": name, \"Accuracy\": acc, \"Precision\": prec, \"Recall\": rec, \"F1-Score\": f1, \"Balanced Acc\": bal_acc, \"MCC\": mcc}\n",
    "\n",
    "    print(f\"{name:<25} | Acc: {acc:.2%} | Prec: {prec:.2%} | Rec: {rec:.2%} | F1: {f1:.2%} | Bal Acc: {bal_acc:.2%} | MCC: {mcc:.4f}\")\n",
    "\n",
    "\n",
    "metrics_df = pd.DataFrame(metrics).T\n",
    "\n"
   ]
  },
  {
   "cell_type": "code",
   "execution_count": 8,
   "id": "314abdeb-4007-4fff-acfc-e8417ff45344",
   "metadata": {},
   "outputs": [
    {
     "data": {
      "text/html": [
       "<div>\n",
       "<style scoped>\n",
       "    .dataframe tbody tr th:only-of-type {\n",
       "        vertical-align: middle;\n",
       "    }\n",
       "\n",
       "    .dataframe tbody tr th {\n",
       "        vertical-align: top;\n",
       "    }\n",
       "\n",
       "    .dataframe thead th {\n",
       "        text-align: right;\n",
       "    }\n",
       "</style>\n",
       "<table border=\"1\" class=\"dataframe\">\n",
       "  <thead>\n",
       "    <tr style=\"text-align: right;\">\n",
       "      <th></th>\n",
       "      <th>ImageFilePath</th>\n",
       "      <th>ScientificName</th>\n",
       "      <th>Pred_NaiveBayes</th>\n",
       "      <th>Pred_LogisticRegression</th>\n",
       "      <th>Pred_NearestNeighbor</th>\n",
       "      <th>Pred_MLP_Baseline</th>\n",
       "    </tr>\n",
       "  </thead>\n",
       "  <tbody>\n",
       "    <tr>\n",
       "      <th>8222</th>\n",
       "      <td>/fs/ess/PAS2136/Rayeed/Carabids-100K-V2/Insect...</td>\n",
       "      <td>Cicindela willistoni</td>\n",
       "      <td>Cicindela willistoni</td>\n",
       "      <td>Cicindela willistoni</td>\n",
       "      <td>Cicindela tranquebarica</td>\n",
       "      <td>Cicindela fulgida</td>\n",
       "    </tr>\n",
       "    <tr>\n",
       "      <th>15309</th>\n",
       "      <td>/fs/ess/PAS2136/Rayeed/Carabids-100K-V2/Insect...</td>\n",
       "      <td>Cicindela hirticollis</td>\n",
       "      <td>Cicindela hirticollis</td>\n",
       "      <td>Cicindela hirticollis</td>\n",
       "      <td>Cicindela hirticollis</td>\n",
       "      <td>Cicindela hirticollis</td>\n",
       "    </tr>\n",
       "  </tbody>\n",
       "</table>\n",
       "</div>"
      ],
      "text/plain": [
       "                                           ImageFilePath  \\\n",
       "8222   /fs/ess/PAS2136/Rayeed/Carabids-100K-V2/Insect...   \n",
       "15309  /fs/ess/PAS2136/Rayeed/Carabids-100K-V2/Insect...   \n",
       "\n",
       "              ScientificName        Pred_NaiveBayes Pred_LogisticRegression  \\\n",
       "8222    Cicindela willistoni   Cicindela willistoni    Cicindela willistoni   \n",
       "15309  Cicindela hirticollis  Cicindela hirticollis   Cicindela hirticollis   \n",
       "\n",
       "          Pred_NearestNeighbor      Pred_MLP_Baseline  \n",
       "8222   Cicindela tranquebarica      Cicindela fulgida  \n",
       "15309    Cicindela hirticollis  Cicindela hirticollis  "
      ]
     },
     "execution_count": 8,
     "metadata": {},
     "output_type": "execute_result"
    }
   ],
   "source": [
    "test_df = test_df.assign(**{f\"Pred_{name}\": le.inverse_transform(pred) for name, pred in predictions.items()})\n",
    "test_df.head(2)"
   ]
  },
  {
   "cell_type": "code",
   "execution_count": 10,
   "id": "c005482e-aa8d-40a7-a466-3106116bc4c8",
   "metadata": {},
   "outputs": [],
   "source": [
    "test_df.to_csv(\"/users/PAS2136/rayees/3. Benchmarking/Insect1M_dropna/1.BioCLIP-Insect1M_dropna-species.csv\", index=False)\n",
    "metrics_df.to_csv(\"/users/PAS2136/rayees/3. Benchmarking/Insect1M_dropna/1.BioCLIP-Insect1M_dropna-species-metrics.csv\", index=False)"
   ]
  },
  {
   "cell_type": "code",
   "execution_count": null,
   "id": "1ed53111-1d85-481e-bb24-422365576f3a",
   "metadata": {},
   "outputs": [],
   "source": []
  },
  {
   "cell_type": "code",
   "execution_count": null,
   "id": "15e46769-33c2-445e-962e-0dc71717d905",
   "metadata": {},
   "outputs": [],
   "source": []
  },
  {
   "cell_type": "code",
   "execution_count": null,
   "id": "38e28fe1-1b0f-4752-83ba-0c30a95977ba",
   "metadata": {},
   "outputs": [],
   "source": []
  }
 ],
 "metadata": {
  "kernelspec": {
   "display_name": "Python myenv",
   "language": "python",
   "name": "myenv"
  },
  "language_info": {
   "codemirror_mode": {
    "name": "ipython",
    "version": 3
   },
   "file_extension": ".py",
   "mimetype": "text/x-python",
   "name": "python",
   "nbconvert_exporter": "python",
   "pygments_lexer": "ipython3",
   "version": "3.9.18"
  }
 },
 "nbformat": 4,
 "nbformat_minor": 5
}
