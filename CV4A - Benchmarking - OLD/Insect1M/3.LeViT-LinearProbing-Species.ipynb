{
 "cells": [
  {
   "cell_type": "code",
   "execution_count": 1,
   "id": "d43b91bf-e523-4932-9e59-5dba04a8a4a3",
   "metadata": {},
   "outputs": [],
   "source": [
    "import warnings\n",
    "warnings.filterwarnings(\"ignore\")"
   ]
  },
  {
   "cell_type": "code",
   "execution_count": 2,
   "id": "15ae9bc3-7e86-4667-af03-79271e9a09ec",
   "metadata": {},
   "outputs": [],
   "source": [
    "import torch\n",
    "import numpy as np\n",
    "import pandas as pd\n",
    "from PIL import Image\n",
    "from tqdm.notebook import tqdm\n",
    "from transformers import AutoModel, AutoProcessor\n",
    "from sklearn.preprocessing import LabelEncoder, StandardScaler\n",
    "from sklearn.model_selection import train_test_split\n",
    "from sklearn.naive_bayes import GaussianNB\n",
    "from sklearn.linear_model import LogisticRegression\n",
    "from sklearn.svm import SVC\n",
    "from sklearn.neighbors import KNeighborsClassifier\n",
    "from sklearn.ensemble import RandomForestClassifier\n",
    "from sklearn.neural_network import MLPClassifier\n",
    "from sklearn.metrics import accuracy_score, precision_score, recall_score, f1_score, balanced_accuracy_score, matthews_corrcoef"
   ]
  },
  {
   "cell_type": "code",
   "execution_count": 3,
   "id": "fe01e1c4-a64e-4c39-99b8-5c890cde9e37",
   "metadata": {},
   "outputs": [
    {
     "data": {
      "text/html": [
       "<div>\n",
       "<style scoped>\n",
       "    .dataframe tbody tr th:only-of-type {\n",
       "        vertical-align: middle;\n",
       "    }\n",
       "\n",
       "    .dataframe tbody tr th {\n",
       "        vertical-align: top;\n",
       "    }\n",
       "\n",
       "    .dataframe thead th {\n",
       "        text-align: right;\n",
       "    }\n",
       "</style>\n",
       "<table border=\"1\" class=\"dataframe\">\n",
       "  <thead>\n",
       "    <tr style=\"text-align: right;\">\n",
       "      <th></th>\n",
       "      <th>ImageFilePath</th>\n",
       "      <th>ScientificName</th>\n",
       "    </tr>\n",
       "  </thead>\n",
       "  <tbody>\n",
       "    <tr>\n",
       "      <th>0</th>\n",
       "      <td>/fs/ess/PAS2136/Rayeed/Carabids-100K-V2/Insect...</td>\n",
       "      <td>Cicindela sexguttata</td>\n",
       "    </tr>\n",
       "    <tr>\n",
       "      <th>1</th>\n",
       "      <td>/fs/ess/PAS2136/Rayeed/Carabids-100K-V2/Insect...</td>\n",
       "      <td>Cicindela sexguttata</td>\n",
       "    </tr>\n",
       "  </tbody>\n",
       "</table>\n",
       "</div>"
      ],
      "text/plain": [
       "                                       ImageFilePath        ScientificName\n",
       "0  /fs/ess/PAS2136/Rayeed/Carabids-100K-V2/Insect...  Cicindela sexguttata\n",
       "1  /fs/ess/PAS2136/Rayeed/Carabids-100K-V2/Insect...  Cicindela sexguttata"
      ]
     },
     "execution_count": 3,
     "metadata": {},
     "output_type": "execute_result"
    }
   ],
   "source": [
    "df_allCarabids = pd.read_csv(\"/fs/ess/PAS2136/Rayeed/Carabids-100K-V2/AllCarabids.csv\", sep=\"\\t\")\n",
    "df_insect1M = df_allCarabids[df_allCarabids[\"filepath\"].str.startswith(\"Insect-1M\")].copy()\n",
    "df_insect1M.rename(columns={\"filepath\": \"ImageFilePath\", \"class\": \"ScientificName\"}, inplace=True)\n",
    "cols = ['ImageFilePath', 'ScientificName']\n",
    "df = df_insect1M[cols]\n",
    "df['ImageFilePath'] = \"/fs/ess/PAS2136/Rayeed/Carabids-100K-V2/\" + df['ImageFilePath']\n",
    "df = df.fillna(\"Unknown\")\n",
    "df.head(2)"
   ]
  },
  {
   "cell_type": "code",
   "execution_count": 4,
   "id": "34251065-984c-497c-ad00-9a072063618b",
   "metadata": {},
   "outputs": [
    {
     "name": "stderr",
     "output_type": "stream",
     "text": [
      "Using a slow image processor as `use_fast` is unset and a slow processor was saved with this model. `use_fast=True` will be the default behavior in v4.48, even if the model was saved with a slow processor. This will result in minor differences in outputs. You'll still be able to use a slow processor with `use_fast=False`.\n"
     ]
    }
   ],
   "source": [
    "device = \"cuda\" if torch.cuda.is_available() else \"cpu\"\n",
    "\n",
    "model_name = \"facebook/levit-128S\"\n",
    "\n",
    "model = AutoModel.from_pretrained(model_name).eval().to(device)\n",
    "\n",
    "processor = AutoProcessor.from_pretrained(model_name)\n"
   ]
  },
  {
   "cell_type": "code",
   "execution_count": 5,
   "id": "a6a6ef75-6e5a-4b9a-994c-46b1a16d0f69",
   "metadata": {},
   "outputs": [],
   "source": [
    "def extract_features(image_path) :\n",
    "    \n",
    "    image = Image.open(image_path).convert(\"RGB\")\n",
    "    \n",
    "    inputs = processor(images=image, return_tensors=\"pt\").to(device)\n",
    "    \n",
    "    with torch.no_grad():\n",
    "        outputs = model(**inputs)\n",
    "    \n",
    "    \n",
    "    features = outputs.last_hidden_state.mean(dim=1)\n",
    "    \n",
    "    return features.cpu().numpy().flatten()\n",
    "    "
   ]
  },
  {
   "cell_type": "code",
   "execution_count": 6,
   "id": "1fa2902e-c7b3-4a38-a9d9-101e63820a02",
   "metadata": {},
   "outputs": [
    {
     "data": {
      "application/vnd.jupyter.widget-view+json": {
       "model_id": "9953d830df254247b4e8209bfae64311",
       "version_major": 2,
       "version_minor": 0
      },
      "text/plain": [
       "Processing ...:   0%|          | 0/20278 [00:00<?, ?it/s]"
      ]
     },
     "metadata": {},
     "output_type": "display_data"
    },
    {
     "data": {
      "application/vnd.jupyter.widget-view+json": {
       "model_id": "730ebc0754df4768ae674fcd1e5c96a5",
       "version_major": 2,
       "version_minor": 0
      },
      "text/plain": [
       "Processing Unknown ...:   0%|          | 0/4328 [00:00<?, ?it/s]"
      ]
     },
     "metadata": {},
     "output_type": "display_data"
    },
    {
     "name": "stdout",
     "output_type": "stream",
     "text": [
      "Train set: (16222, 384), Test set: (8384, 384)\n"
     ]
    }
   ],
   "source": [
    "# Separate known and unknown samples\n",
    "df_known = df[df[\"ScientificName\"] != \"Unknown\"]\n",
    "df_unknown = df[df[\"ScientificName\"] == \"Unknown\"]\n",
    "\n",
    "# Extract features for known samples (only passing img)\n",
    "X_known = np.vstack([extract_features(img) for img in tqdm(df_known[\"ImageFilePath\"], desc=\"Processing ...\")])\n",
    "\n",
    "# Encode labels only for known species\n",
    "le = LabelEncoder()\n",
    "y_known = le.fit_transform(df_known[\"ScientificName\"])\n",
    "\n",
    "df_indices_known = df_known.index\n",
    "\n",
    "# Train-test split only on known species\n",
    "X_train, X_test_known, y_train, y_test_known, train_idx, test_idx_known = train_test_split(\n",
    "    X_known, y_known, df_indices_known, test_size=0.2, random_state=42\n",
    ")\n",
    "\n",
    "# Extract features for unknown samples (only passing img)\n",
    "X_test_unknown = np.vstack([extract_features(img) for img in tqdm(df_unknown[\"ImageFilePath\"], desc=\"Processing Unknown ...\")])\n",
    "test_idx_unknown = df_unknown.index\n",
    "\n",
    "# Assign a placeholder label (-1) for unknown samples\n",
    "y_test_unknown = np.full(len(X_test_unknown), -1)\n",
    "\n",
    "# Combine known and unknown test sets\n",
    "X_test = np.vstack([X_test_known, X_test_unknown])\n",
    "y_test = np.concatenate([y_test_known, y_test_unknown])\n",
    "test_idx = np.concatenate([test_idx_known, test_idx_unknown])\n",
    "\n",
    "print(f\"Train set: {X_train.shape}, Test set: {X_test.shape}\")\n"
   ]
  },
  {
   "cell_type": "code",
   "execution_count": 7,
   "id": "ebe96a35-2dc4-46eb-806b-c9d39e390e03",
   "metadata": {},
   "outputs": [
    {
     "data": {
      "application/vnd.jupyter.widget-view+json": {
       "model_id": "5fc787ce74a342458ae1e81d18ad0ee6",
       "version_major": 2,
       "version_minor": 0
      },
      "text/plain": [
       "Training Models:   0%|          | 0/4 [00:00<?, ?it/s]"
      ]
     },
     "metadata": {},
     "output_type": "display_data"
    },
    {
     "name": "stdout",
     "output_type": "stream",
     "text": [
      "NaiveBayes                | Acc: 8.06% | Prec: 5.60% | Rec: 8.06% | F1: 5.30% | Bal Acc: 9.43% | MCC: 0.0932\n",
      "LogisticRegression        | Acc: 15.99% | Prec: 9.73% | Rec: 15.99% | F1: 10.97% | Bal Acc: 18.38% | MCC: 0.1855\n",
      "NearestNeighbor           | Acc: 10.00% | Prec: 6.86% | Rec: 10.00% | F1: 6.95% | Bal Acc: 9.41% | MCC: 0.1154\n",
      "MLP_Baseline              | Acc: 14.01% | Prec: 9.14% | Rec: 14.01% | F1: 10.29% | Bal Acc: 16.05% | MCC: 0.1625\n"
     ]
    }
   ],
   "source": [
    "seed = 99\n",
    "\n",
    "test_df = df.loc[test_idx].copy()\n",
    "\n",
    "scaler = StandardScaler()\n",
    "\n",
    "X_train_scaled = scaler.fit_transform(X_train)\n",
    "\n",
    "X_test_scaled = scaler.transform(X_test)\n",
    "\n",
    "\n",
    "models = {\n",
    "    \"NaiveBayes\": GaussianNB(),\n",
    "    \"LogisticRegression\": LogisticRegression(max_iter=100),\n",
    "    \"NearestNeighbor\": KNeighborsClassifier(n_neighbors=11),  \n",
    "    \"MLP_Baseline\": MLPClassifier(hidden_layer_sizes=(100,), max_iter=200, random_state=seed)\n",
    "}\n",
    "\n",
    "predictions = {}\n",
    "\n",
    "metrics = {}\n",
    "\n",
    "for name, model in tqdm(models.items(), desc=\"Training Models\", leave=True):\n",
    "    \n",
    "    model.fit(X_train_scaled, y_train)\n",
    "    preds = model.predict(X_test_scaled)\n",
    "    predictions[name] = preds\n",
    "    \n",
    "    acc = accuracy_score(y_test, preds)\n",
    "    prec = precision_score(y_test, preds, average=\"weighted\")\n",
    "    rec = recall_score(y_test, preds, average=\"weighted\")\n",
    "    f1 = f1_score(y_test, preds, average=\"weighted\")\n",
    "    bal_acc = balanced_accuracy_score(y_test, preds)\n",
    "    mcc = matthews_corrcoef(y_test, preds)\n",
    "    \n",
    "    metrics[name] = {\"Model\": name, \"Accuracy\": acc, \"Precision\": prec, \"Recall\": rec, \"F1-Score\": f1, \"Balanced Acc\": bal_acc, \"MCC\": mcc}\n",
    "    print(f\"{name:<25} | Acc: {acc:.2%} | Prec: {prec:.2%} | Rec: {rec:.2%} | F1: {f1:.2%} | Bal Acc: {bal_acc:.2%} | MCC: {mcc:.4f}\")\n",
    "\n",
    "\n",
    "metrics_df = pd.DataFrame(metrics).T\n"
   ]
  },
  {
   "cell_type": "code",
   "execution_count": 8,
   "id": "2e80e8fb-fae8-40e6-8071-f6539b5470f8",
   "metadata": {},
   "outputs": [
    {
     "data": {
      "text/html": [
       "<div>\n",
       "<style scoped>\n",
       "    .dataframe tbody tr th:only-of-type {\n",
       "        vertical-align: middle;\n",
       "    }\n",
       "\n",
       "    .dataframe tbody tr th {\n",
       "        vertical-align: top;\n",
       "    }\n",
       "\n",
       "    .dataframe thead th {\n",
       "        text-align: right;\n",
       "    }\n",
       "</style>\n",
       "<table border=\"1\" class=\"dataframe\">\n",
       "  <thead>\n",
       "    <tr style=\"text-align: right;\">\n",
       "      <th></th>\n",
       "      <th>ImageFilePath</th>\n",
       "      <th>ScientificName</th>\n",
       "      <th>Pred_NaiveBayes</th>\n",
       "      <th>Pred_LogisticRegression</th>\n",
       "      <th>Pred_NearestNeighbor</th>\n",
       "      <th>Pred_MLP_Baseline</th>\n",
       "    </tr>\n",
       "  </thead>\n",
       "  <tbody>\n",
       "    <tr>\n",
       "      <th>8222</th>\n",
       "      <td>/fs/ess/PAS2136/Rayeed/Carabids-100K-V2/Insect...</td>\n",
       "      <td>Cicindela willistoni</td>\n",
       "      <td>Habroscelimorpha dorsalis</td>\n",
       "      <td>Cicindela repanda</td>\n",
       "      <td>Cicindela tranquebarica</td>\n",
       "      <td>Cicindelidia schauppii</td>\n",
       "    </tr>\n",
       "    <tr>\n",
       "      <th>15309</th>\n",
       "      <td>/fs/ess/PAS2136/Rayeed/Carabids-100K-V2/Insect...</td>\n",
       "      <td>Cicindela hirticollis</td>\n",
       "      <td>Amara angustata</td>\n",
       "      <td>Cicindela hirticollis</td>\n",
       "      <td>Cicindela hirticollis</td>\n",
       "      <td>Cicindela hirticollis</td>\n",
       "    </tr>\n",
       "  </tbody>\n",
       "</table>\n",
       "</div>"
      ],
      "text/plain": [
       "                                           ImageFilePath  \\\n",
       "8222   /fs/ess/PAS2136/Rayeed/Carabids-100K-V2/Insect...   \n",
       "15309  /fs/ess/PAS2136/Rayeed/Carabids-100K-V2/Insect...   \n",
       "\n",
       "              ScientificName            Pred_NaiveBayes  \\\n",
       "8222    Cicindela willistoni  Habroscelimorpha dorsalis   \n",
       "15309  Cicindela hirticollis            Amara angustata   \n",
       "\n",
       "      Pred_LogisticRegression     Pred_NearestNeighbor       Pred_MLP_Baseline  \n",
       "8222        Cicindela repanda  Cicindela tranquebarica  Cicindelidia schauppii  \n",
       "15309   Cicindela hirticollis    Cicindela hirticollis   Cicindela hirticollis  "
      ]
     },
     "execution_count": 8,
     "metadata": {},
     "output_type": "execute_result"
    }
   ],
   "source": [
    "test_df = test_df.assign(**{f\"Pred_{name}\": le.inverse_transform(pred) for name, pred in predictions.items()})\n",
    "test_df.head(2)"
   ]
  },
  {
   "cell_type": "code",
   "execution_count": 9,
   "id": "6658b5e3-7f11-46dd-b284-b259f9e0c2fe",
   "metadata": {},
   "outputs": [
    {
     "data": {
      "text/html": [
       "<div>\n",
       "<style scoped>\n",
       "    .dataframe tbody tr th:only-of-type {\n",
       "        vertical-align: middle;\n",
       "    }\n",
       "\n",
       "    .dataframe tbody tr th {\n",
       "        vertical-align: top;\n",
       "    }\n",
       "\n",
       "    .dataframe thead th {\n",
       "        text-align: right;\n",
       "    }\n",
       "</style>\n",
       "<table border=\"1\" class=\"dataframe\">\n",
       "  <thead>\n",
       "    <tr style=\"text-align: right;\">\n",
       "      <th></th>\n",
       "      <th>Model</th>\n",
       "      <th>Accuracy</th>\n",
       "      <th>Precision</th>\n",
       "      <th>Recall</th>\n",
       "      <th>F1-Score</th>\n",
       "      <th>Balanced Acc</th>\n",
       "      <th>MCC</th>\n",
       "    </tr>\n",
       "  </thead>\n",
       "  <tbody>\n",
       "    <tr>\n",
       "      <th>NaiveBayes</th>\n",
       "      <td>NaiveBayes</td>\n",
       "      <td>0.08063</td>\n",
       "      <td>0.055961</td>\n",
       "      <td>0.08063</td>\n",
       "      <td>0.05304</td>\n",
       "      <td>0.094349</td>\n",
       "      <td>0.093247</td>\n",
       "    </tr>\n",
       "    <tr>\n",
       "      <th>LogisticRegression</th>\n",
       "      <td>LogisticRegression</td>\n",
       "      <td>0.159948</td>\n",
       "      <td>0.097273</td>\n",
       "      <td>0.159948</td>\n",
       "      <td>0.109717</td>\n",
       "      <td>0.183787</td>\n",
       "      <td>0.185483</td>\n",
       "    </tr>\n",
       "    <tr>\n",
       "      <th>NearestNeighbor</th>\n",
       "      <td>NearestNeighbor</td>\n",
       "      <td>0.099952</td>\n",
       "      <td>0.068637</td>\n",
       "      <td>0.099952</td>\n",
       "      <td>0.069522</td>\n",
       "      <td>0.094087</td>\n",
       "      <td>0.115381</td>\n",
       "    </tr>\n",
       "    <tr>\n",
       "      <th>MLP_Baseline</th>\n",
       "      <td>MLP_Baseline</td>\n",
       "      <td>0.140148</td>\n",
       "      <td>0.0914</td>\n",
       "      <td>0.140148</td>\n",
       "      <td>0.102905</td>\n",
       "      <td>0.160514</td>\n",
       "      <td>0.162468</td>\n",
       "    </tr>\n",
       "  </tbody>\n",
       "</table>\n",
       "</div>"
      ],
      "text/plain": [
       "                                 Model  Accuracy Precision    Recall  \\\n",
       "NaiveBayes                  NaiveBayes   0.08063  0.055961   0.08063   \n",
       "LogisticRegression  LogisticRegression  0.159948  0.097273  0.159948   \n",
       "NearestNeighbor        NearestNeighbor  0.099952  0.068637  0.099952   \n",
       "MLP_Baseline              MLP_Baseline  0.140148    0.0914  0.140148   \n",
       "\n",
       "                    F1-Score Balanced Acc       MCC  \n",
       "NaiveBayes           0.05304     0.094349  0.093247  \n",
       "LogisticRegression  0.109717     0.183787  0.185483  \n",
       "NearestNeighbor     0.069522     0.094087  0.115381  \n",
       "MLP_Baseline        0.102905     0.160514  0.162468  "
      ]
     },
     "execution_count": 9,
     "metadata": {},
     "output_type": "execute_result"
    }
   ],
   "source": [
    "metrics_df"
   ]
  },
  {
   "cell_type": "code",
   "execution_count": 10,
   "id": "4146536f-2efe-4bd7-a8d4-c07f58faefbf",
   "metadata": {},
   "outputs": [],
   "source": [
    "test_df.to_csv(\"/users/PAS2136/rayees/3. Benchmarking/Insect1M/3.LeViT-Insect1M-species.csv\", index=False)\n",
    "metrics_df.to_csv(\"/users/PAS2136/rayees/3. Benchmarking/Insect1M/3.LeViT-Insect1M-species-metrics.csv\", index=False)"
   ]
  },
  {
   "cell_type": "code",
   "execution_count": null,
   "id": "4a1dcd1c-340f-4622-9717-83cf7b3bd0d2",
   "metadata": {},
   "outputs": [],
   "source": []
  },
  {
   "cell_type": "code",
   "execution_count": null,
   "id": "23e1542a-9916-43d0-b2a6-a6ab29f6257b",
   "metadata": {},
   "outputs": [],
   "source": []
  },
  {
   "cell_type": "code",
   "execution_count": null,
   "id": "b6f1a4f6-5f21-48b3-82d1-a7812ae545cb",
   "metadata": {},
   "outputs": [],
   "source": []
  }
 ],
 "metadata": {
  "kernelspec": {
   "display_name": "Python myenv",
   "language": "python",
   "name": "myenv"
  },
  "language_info": {
   "codemirror_mode": {
    "name": "ipython",
    "version": 3
   },
   "file_extension": ".py",
   "mimetype": "text/x-python",
   "name": "python",
   "nbconvert_exporter": "python",
   "pygments_lexer": "ipython3",
   "version": "3.9.18"
  }
 },
 "nbformat": 4,
 "nbformat_minor": 5
}
