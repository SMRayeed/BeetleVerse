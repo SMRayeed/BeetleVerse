{
 "cells": [
  {
   "cell_type": "code",
   "execution_count": 1,
   "id": "6468b9ee-c826-4dda-91f4-6fe5a173a0d0",
   "metadata": {},
   "outputs": [],
   "source": [
    "import os\n",
    "import timm\n",
    "import torch\n",
    "import open_clip\n",
    "import numpy as np\n",
    "import pandas as pd\n",
    "from tqdm import tqdm\n",
    "from PIL import Image\n",
    "import torchvision.transforms as T\n",
    "from torchvision import transforms\n",
    "from sklearn.metrics import accuracy_score\n",
    "from sklearn.preprocessing import LabelEncoder\n",
    "from sklearn.model_selection import train_test_split"
   ]
  },
  {
   "cell_type": "code",
   "execution_count": 2,
   "id": "e671fb9d-3485-4a26-aecc-1e1527614bfb",
   "metadata": {},
   "outputs": [],
   "source": [
    "file_path = \"/fs/ess/PAS2136/Hawaii-2025/beetles_intake/BeetlePUUM/1. Completed_Data/CanonBeetles.csv\"\n",
    "canon_df = pd.read_csv(file_path)"
   ]
  },
  {
   "cell_type": "code",
   "execution_count": 3,
   "id": "c9d07899-4a79-455c-b0bf-448d06b9396f",
   "metadata": {},
   "outputs": [],
   "source": [
    "canon_df[\"ImageFilePath\"] = canon_df[\"cropped_image_path\"].apply(lambda x: f\"/fs/ess/PAS2136/Hawaii-2025/beetles_intake/BeetlePUUM/CANON/{x}\")"
   ]
  },
  {
   "cell_type": "code",
   "execution_count": 4,
   "id": "b929947f-a97f-49d8-bcad-f8f9a89f708c",
   "metadata": {},
   "outputs": [
    {
     "data": {
      "text/html": [
       "<div>\n",
       "<style scoped>\n",
       "    .dataframe tbody tr th:only-of-type {\n",
       "        vertical-align: middle;\n",
       "    }\n",
       "\n",
       "    .dataframe tbody tr th {\n",
       "        vertical-align: top;\n",
       "    }\n",
       "\n",
       "    .dataframe thead th {\n",
       "        text-align: right;\n",
       "    }\n",
       "</style>\n",
       "<table border=\"1\" class=\"dataframe\">\n",
       "  <thead>\n",
       "    <tr style=\"text-align: right;\">\n",
       "      <th></th>\n",
       "      <th>ImageFilePath</th>\n",
       "      <th>Genus</th>\n",
       "      <th>ScientificName</th>\n",
       "    </tr>\n",
       "  </thead>\n",
       "  <tbody>\n",
       "    <tr>\n",
       "      <th>0</th>\n",
       "      <td>/fs/ess/PAS2136/Hawaii-2025/beetles_intake/Bee...</td>\n",
       "      <td>Mecyclothorax</td>\n",
       "      <td>Mecyclothorax konanus</td>\n",
       "    </tr>\n",
       "    <tr>\n",
       "      <th>1</th>\n",
       "      <td>/fs/ess/PAS2136/Hawaii-2025/beetles_intake/Bee...</td>\n",
       "      <td>Mecyclothorax</td>\n",
       "      <td>Mecyclothorax konanus</td>\n",
       "    </tr>\n",
       "  </tbody>\n",
       "</table>\n",
       "</div>"
      ],
      "text/plain": [
       "                                       ImageFilePath          Genus  \\\n",
       "0  /fs/ess/PAS2136/Hawaii-2025/beetles_intake/Bee...  Mecyclothorax   \n",
       "1  /fs/ess/PAS2136/Hawaii-2025/beetles_intake/Bee...  Mecyclothorax   \n",
       "\n",
       "          ScientificName  \n",
       "0  Mecyclothorax konanus  \n",
       "1  Mecyclothorax konanus  "
      ]
     },
     "execution_count": 4,
     "metadata": {},
     "output_type": "execute_result"
    }
   ],
   "source": [
    "cols = ['ImageFilePath', 'Genus', 'ScientificName']\n",
    "df = canon_df[cols]\n",
    "df.head(2)"
   ]
  },
  {
   "cell_type": "code",
   "execution_count": 5,
   "id": "f6e1e58d-7441-48e8-9436-22bf5106eb91",
   "metadata": {},
   "outputs": [],
   "source": [
    "model, preprocess_train, preprocess_val = open_clip.create_model_and_transforms(\"hf-hub:imageomics/bioclip\")\n",
    "tokenizer = open_clip.get_tokenizer(\"hf-hub:imageomics/bioclip\")\n",
    "\n",
    "\n",
    "device = \"cuda\" if torch.cuda.is_available() else \"cpu\"\n",
    "model.to(device)\n",
    "\n",
    "\n",
    "for param in model.parameters() :\n",
    "    param.requires_grad = False\n",
    "\n",
    "\n",
    "genera_list = df[\"Genus\"].dropna().unique().tolist() \n",
    "\n",
    "text_inputs = tokenizer(genera_list).to(device)\n",
    "\n",
    "correct_predictions = total_images = 0"
   ]
  },
  {
   "cell_type": "code",
   "execution_count": 6,
   "id": "389ce0b8-6879-47f4-9d38-ee1a7afe8987",
   "metadata": {},
   "outputs": [
    {
     "name": "stderr",
     "output_type": "stream",
     "text": [
      "/tmp/slurmtmp.667505/ipykernel_1405920/1565725862.py:1: SettingWithCopyWarning: \n",
      "A value is trying to be set on a copy of a slice from a DataFrame.\n",
      "Try using .loc[row_indexer,col_indexer] = value instead\n",
      "\n",
      "See the caveats in the documentation: https://pandas.pydata.org/pandas-docs/stable/user_guide/indexing.html#returning-a-view-versus-a-copy\n",
      "  df[\"PredGenus\"] = None\n",
      "Processing Images: 100%|██████████| 1622/1622 [21:21<00:00,  1.27it/s]\n"
     ]
    }
   ],
   "source": [
    "df[\"PredGenus\"] = None\n",
    "\n",
    "\n",
    "for idx, row in tqdm(df.iterrows(), total=len(df), desc=\"Processing Images\") : \n",
    "    \n",
    "    image_path = row[\"ImageFilePath\"]\n",
    "\n",
    "    if not os.path.exists(image_path):\n",
    "        print(f\"File not found: {image_path}\")\n",
    "        continue\n",
    "\n",
    "    image = Image.open(image_path).convert(\"RGB\")\n",
    "    image_input = preprocess_val(image).unsqueeze(0).to(device)\n",
    "\n",
    "    with torch.no_grad():\n",
    "        image_features = model.encode_image(image_input)\n",
    "        text_features = model.encode_text(text_inputs)\n",
    "\n",
    "    \n",
    "    image_features /= image_features.norm(dim=-1, keepdim=True)\n",
    "    text_features /= text_features.norm(dim=-1, keepdim=True)\n",
    "\n",
    "    \n",
    "    similarity = (image_features @ text_features.T).squeeze(0)\n",
    "    best_match_idx = similarity.argmax().item()\n",
    "    predicted_genus = genera_list[best_match_idx]\n",
    "\n",
    "    \n",
    "    df.at[idx, \"PredGenus\"] = predicted_genus\n",
    "\n"
   ]
  },
  {
   "cell_type": "code",
   "execution_count": 7,
   "id": "76c196c4-7bfe-4e4f-b44c-1c01e024233e",
   "metadata": {},
   "outputs": [
    {
     "name": "stdout",
     "output_type": "stream",
     "text": [
      "BioCLIP Zero-shot GENUS Classification Accuracy: 40.2589% (653/1622)\n"
     ]
    }
   ],
   "source": [
    "correct_predictions = (df[\"PredGenus\"] == df[\"Genus\"]).sum()\n",
    "\n",
    "total_images = len(df)\n",
    "\n",
    "accuracy = correct_predictions / total_images if total_images > 0 else 0\n",
    "\n",
    "print(f\"BioCLIP Zero-shot GENUS Classification Accuracy: {accuracy*100:.4f}% ({correct_predictions}/{total_images})\")\n"
   ]
  },
  {
   "cell_type": "code",
   "execution_count": 8,
   "id": "5ee024e4-f352-4c37-aa55-4dc161375bfc",
   "metadata": {},
   "outputs": [],
   "source": [
    "df.to_csv('/users/PAS2136/rayees/3. Benchmarking/Beetle-PUUM/2.BioCLIP-zero-shot-genus.csv',index=False)"
   ]
  },
  {
   "cell_type": "code",
   "execution_count": null,
   "id": "d7c7f6fb-067d-4b39-bdce-a35f42e45b9a",
   "metadata": {},
   "outputs": [],
   "source": []
  },
  {
   "cell_type": "code",
   "execution_count": null,
   "id": "41eed267-bb84-4bf0-96d8-4604e3694dbd",
   "metadata": {},
   "outputs": [],
   "source": []
  },
  {
   "cell_type": "code",
   "execution_count": null,
   "id": "0fd46aa1-232c-47d6-bb13-f994dab05216",
   "metadata": {},
   "outputs": [],
   "source": []
  }
 ],
 "metadata": {
  "kernelspec": {
   "display_name": "Python myenv",
   "language": "python",
   "name": "myenv"
  },
  "language_info": {
   "codemirror_mode": {
    "name": "ipython",
    "version": 3
   },
   "file_extension": ".py",
   "mimetype": "text/x-python",
   "name": "python",
   "nbconvert_exporter": "python",
   "pygments_lexer": "ipython3",
   "version": "3.9.18"
  }
 },
 "nbformat": 4,
 "nbformat_minor": 5
}
