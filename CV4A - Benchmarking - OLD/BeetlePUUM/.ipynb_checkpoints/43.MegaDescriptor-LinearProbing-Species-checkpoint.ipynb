{
 "cells": [
  {
   "cell_type": "code",
   "execution_count": 1,
   "id": "d4f29cba-8703-451e-aa9c-504651d7175d",
   "metadata": {},
   "outputs": [
    {
     "name": "stderr",
     "output_type": "stream",
     "text": [
      "100%|██████████| 100/100 [02:18<00:00,  1.39s/it]\n"
     ]
    },
    {
     "name": "stdout",
     "output_type": "stream",
     "text": [
      "Extracted feature shape: (100, 221184)\n"
     ]
    }
   ],
   "source": [
    "import torch\n",
    "import timm\n",
    "import numpy as np\n",
    "import pandas as pd\n",
    "from PIL import Image\n",
    "from sklearn.preprocessing import LabelEncoder, StandardScaler\n",
    "from sklearn.model_selection import train_test_split\n",
    "from sklearn.metrics import accuracy_score, precision_score, recall_score, f1_score, balanced_accuracy_score, matthews_corrcoef\n",
    "from sklearn.naive_bayes import GaussianNB\n",
    "from sklearn.linear_model import LogisticRegression\n",
    "from sklearn.svm import SVC\n",
    "from sklearn.neighbors import KNeighborsClassifier\n",
    "from sklearn.ensemble import RandomForestClassifier\n",
    "from sklearn.neural_network import MLPClassifier\n",
    "from sklearn.ensemble import RandomForestClassifier\n",
    "from tqdm import tqdm\n",
    "import torchvision.transforms as T\n",
    "\n",
    "# Load pretrained MegaDescriptor model\n",
    "model = timm.create_model(\"hf-hub:BVRA/MegaDescriptor-L-384\", pretrained=True)\n",
    "model = model.eval().to(\"cuda\" if torch.cuda.is_available() else \"cpu\")\n",
    "\n",
    "# Define image transformations\n",
    "transform = T.Compose([\n",
    "    T.Resize((384, 384)),\n",
    "    T.ToTensor(),\n",
    "    T.Normalize([0.5, 0.5, 0.5], [0.5, 0.5, 0.5])  # Normalization for MegaDescriptor\n",
    "])\n",
    "\n",
    "# Load dataset\n",
    "file_path = \"/fs/ess/PAS2136/Hawaii-2025/beetles_intake/BeetlePUUM/1. Completed_Data/CanonBeetles.csv\"\n",
    "canon_df = pd.read_csv(file_path)\n",
    "canon_df[\"ImageFilePath\"] = canon_df[\"cropped_image_path\"].apply(lambda x: f\"/fs/ess/PAS2136/Hawaii-2025/beetles_intake/BeetlePUUM/CANON/{x}\")\n",
    "cols = ['ImageFilePath', 'Genus']\n",
    "df = canon_df[cols]\n",
    "df = df.sample(n=100, random_state=99)\n",
    "\n",
    "device = \"cuda\" if torch.cuda.is_available() else \"cpu\"\n",
    "\n",
    "# Feature extraction function using MegaDescriptor\n",
    "def extract_features(image_path):\n",
    "    image = Image.open(image_path).convert(\"RGB\")\n",
    "    image = transform(image).unsqueeze(0).to(device)  # Apply transformations and move to device\n",
    "    with torch.no_grad():\n",
    "        features = model.forward_features(image)  # Forward pass for features extraction\n",
    "    return features.cpu().numpy().flatten()  # Flatten the feature vector\n",
    "\n",
    "# Extract features for all images in the dataset\n",
    "X = np.vstack([extract_features(img) for img in tqdm(df[\"ImageFilePath\"])])\n",
    "\n",
    "print(f\"Extracted feature shape: {X.shape}\")\n",
    "\n",
    "\n",
    "le = LabelEncoder()\n",
    "\n",
    "y = le.fit_transform(df[\"Genus\"])\n",
    "\n",
    "df_indices = df.index \n",
    "\n",
    "X_train, X_test, y_train, y_test, train_idx, test_idx = train_test_split(X, y, df_indices, test_size=0.2, random_state=42)\n",
    "\n",
    "test_df = df.loc[test_idx].copy()\n",
    "\n",
    "\n",
    "scaler = StandardScaler()\n",
    "\n",
    "X_train_scaled = scaler.fit_transform(X_train)\n",
    "\n",
    "X_test_scaled = scaler.transform(X_test)\n"
   ]
  },
  {
   "cell_type": "code",
   "execution_count": null,
   "id": "2d93f844-07c0-49a1-92a1-e29b074a6e48",
   "metadata": {},
   "outputs": [
    {
     "name": "stdout",
     "output_type": "stream",
     "text": [
      "NaiveBayes                | Acc: 85.00% | Prec: 86.67% | Rec: 85.00% | F1: 85.59% | Bal Acc: 81.25% | MCC: 0.5774\n",
      "LogisticRegression        | Acc: 90.00% | Prec: 93.33% | Rec: 90.00% | F1: 90.67% | Bal Acc: 93.75% | MCC: 0.7638\n",
      "SVMLinear                 | Acc: 90.00% | Prec: 93.33% | Rec: 90.00% | F1: 90.67% | Bal Acc: 93.75% | MCC: 0.7638\n"
     ]
    },
    {
     "name": "stderr",
     "output_type": "stream",
     "text": [
      "/users/PAS2136/rayees/myenv/lib64/python3.9/site-packages/sklearn/metrics/_classification.py:1531: UndefinedMetricWarning: Precision is ill-defined and being set to 0.0 in labels with no predicted samples. Use `zero_division` parameter to control this behavior.\n",
      "  _warn_prf(average, modifier, f\"{metric.capitalize()} is\", len(result))\n"
     ]
    },
    {
     "name": "stdout",
     "output_type": "stream",
     "text": [
      "SVMPolynomial             | Acc: 80.00% | Prec: 64.00% | Rec: 80.00% | F1: 71.11% | Bal Acc: 50.00% | MCC: 0.0000\n",
      "SVMRadialBasis            | Acc: 85.00% | Prec: 86.67% | Rec: 85.00% | F1: 85.59% | Bal Acc: 81.25% | MCC: 0.5774\n",
      "NearestNeighbor           | Acc: 100.00% | Prec: 100.00% | Rec: 100.00% | F1: 100.00% | Bal Acc: 100.00% | MCC: 1.0000\n",
      "RandomForest              | Acc: 90.00% | Prec: 90.00% | Rec: 90.00% | F1: 90.00% | Bal Acc: 84.38% | MCC: 0.6875\n"
     ]
    },
    {
     "name": "stderr",
     "output_type": "stream",
     "text": [
      "/users/PAS2136/rayees/myenv/lib64/python3.9/site-packages/sklearn/metrics/_classification.py:1531: UndefinedMetricWarning: Recall is ill-defined and being set to 0.0 in labels with no true samples. Use `zero_division` parameter to control this behavior.\n",
      "  _warn_prf(average, modifier, f\"{metric.capitalize()} is\", len(result))\n",
      "/users/PAS2136/rayees/myenv/lib64/python3.9/site-packages/sklearn/metrics/_classification.py:2480: UserWarning: y_pred contains classes not in y_true\n",
      "  warnings.warn(\"y_pred contains classes not in y_true\")\n"
     ]
    },
    {
     "name": "stdout",
     "output_type": "stream",
     "text": [
      "MLP_Baseline              | Acc: 90.00% | Prec: 96.00% | Rec: 90.00% | F1: 92.44% | Bal Acc: 93.75% | MCC: 0.7685\n"
     ]
    }
   ],
   "source": [
    "models = {\n",
    "    \"NaiveBayes\": GaussianNB(),\n",
    "    \"LogisticRegression\": LogisticRegression(max_iter=100),\n",
    "    \"SVMLinear\": SVC(kernel=\"linear\"),\n",
    "    \"SVMPolynomial\": SVC(kernel=\"poly\", degree=4),\n",
    "    \"SVMRadialBasis\": SVC(kernel=\"rbf\", degree=4),\n",
    "    \"NearestNeighbor\": KNeighborsClassifier(n_neighbors=5),\n",
    "    \"RandomForest\": RandomForestClassifier(n_estimators=100, random_state=42),    \n",
    "    \"MLP_Baseline\": MLPClassifier(hidden_layer_sizes=(256, 64), activation='logistic', max_iter=200, random_state=42),\n",
    "    \"MLP_Baseline\": MLPClassifier(hidden_layer_sizes=(100,), max_iter=200, random_state=42),\n",
    "    \"MLP_Deep\": MLPClassifier(hidden_layer_sizes=(512, 256, 128), max_iter=300, random_state=42),\n",
    "    \"MLP_Light\": MLPClassifier(hidden_layer_sizes=(64, 32), max_iter=150, random_state=42),\n",
    "    \"MLP_Sigmoid\": MLPClassifier(hidden_layer_sizes=(256, 128), activation='logistic', max_iter=200, random_state=42),\n",
    "    \"MLP_Tanh\": MLPClassifier(hidden_layer_sizes=(256, 128), activation='tanh', max_iter=200, random_state=42),\n",
    "    \"MLP_Regularized\": MLPClassifier(hidden_layer_sizes=(256, 128), alpha=0.001, max_iter=250, random_state=42),\n",
    "    \"MLP_SGD\": MLPClassifier(hidden_layer_sizes=(256, 128), solver='sgd', learning_rate='adaptive', max_iter=300, random_state=42)\n",
    "\n",
    "}\n",
    "\n",
    "predictions = {}\n",
    "\n",
    "metrics = {}\n",
    "\n",
    "for name, model in models.items():\n",
    "    \n",
    "    model.fit(X_train_scaled, y_train)\n",
    "    preds = model.predict(X_test_scaled)\n",
    "    predictions[name] = preds\n",
    "    \n",
    "    acc = accuracy_score(y_test, preds)\n",
    "    prec = precision_score(y_test, preds, average=\"weighted\")\n",
    "    rec = recall_score(y_test, preds, average=\"weighted\")\n",
    "    f1 = f1_score(y_test, preds, average=\"weighted\")\n",
    "    bal_acc = balanced_accuracy_score(y_test, preds)\n",
    "    mcc = matthews_corrcoef(y_test, preds)\n",
    "    \n",
    "    metrics[name] = {\"Model\": name, \"Accuracy\": acc, \"Precision\": prec, \"Recall\": rec, \"F1-Score\": f1, \"Balanced Acc\": bal_acc, \"MCC\": mcc}\n",
    "    print(f\"{name:<25} | Acc: {acc:.2%} | Prec: {prec:.2%} | Rec: {rec:.2%} | F1: {f1:.2%} | Bal Acc: {bal_acc:.2%} | MCC: {mcc:.4f}\")\n",
    "\n",
    "\n",
    "metrics_df = pd.DataFrame(metrics).T\n",
    "\n",
    "test_df = test_df.assign(**{f\"Pred_{name}\": le.inverse_transform(pred) for name, pred in predictions.items()})"
   ]
  },
  {
   "cell_type": "code",
   "execution_count": null,
   "id": "278585b7-5485-4c8b-a463-702e99919908",
   "metadata": {},
   "outputs": [],
   "source": [
    "test_df.head(2)"
   ]
  },
  {
   "cell_type": "code",
   "execution_count": null,
   "id": "120b8fca-5c2c-44e5-add6-0f7ebbc968c8",
   "metadata": {},
   "outputs": [],
   "source": [
    "metrics_df"
   ]
  },
  {
   "cell_type": "code",
   "execution_count": null,
   "id": "0568d9e0-a2c0-42b4-9847-6c6bd7c19979",
   "metadata": {},
   "outputs": [],
   "source": []
  }
 ],
 "metadata": {
  "kernelspec": {
   "display_name": "Python myenv",
   "language": "python",
   "name": "myenv"
  },
  "language_info": {
   "codemirror_mode": {
    "name": "ipython",
    "version": 3
   },
   "file_extension": ".py",
   "mimetype": "text/x-python",
   "name": "python",
   "nbconvert_exporter": "python",
   "pygments_lexer": "ipython3",
   "version": "3.9.18"
  }
 },
 "nbformat": 4,
 "nbformat_minor": 5
}
