{
 "cells": [
  {
   "cell_type": "code",
   "execution_count": 1,
   "id": "cbe9f08e-6913-434f-8d73-d3e71fb93f81",
   "metadata": {},
   "outputs": [],
   "source": [
    "import os\n",
    "import timm\n",
    "import torch\n",
    "import open_clip\n",
    "import numpy as np\n",
    "import pandas as pd\n",
    "from tqdm import tqdm\n",
    "from PIL import Image\n",
    "from transformers import ViltProcessor, ViltModel\n",
    "import torchvision.transforms as T\n",
    "from torchvision import transforms\n",
    "from sklearn.metrics import accuracy_score\n",
    "from sklearn.preprocessing import LabelEncoder, StandardScaler\n",
    "from sklearn.linear_model import LogisticRegression\n",
    "from sklearn.model_selection import train_test_split\n",
    "from sklearn.naive_bayes import GaussianNB\n",
    "from sklearn.svm import SVC\n",
    "from sklearn.neighbors import KNeighborsClassifier\n",
    "from sklearn.ensemble import RandomForestClassifier\n",
    "from sklearn.neural_network import MLPClassifier\n",
    "from sklearn.metrics import accuracy_score, precision_score, recall_score, f1_score, balanced_accuracy_score, matthews_corrcoef\n",
    "\n",
    "file_path = \"/fs/ess/PAS2136/Hawaii-2025/beetles_intake/BeetlePalooza Data/Benchmarking/Beetlepalooza_beetles_image_measurements.csv\"\n",
    "df = pd.read_csv(file_path, sep=\"\\t\")"
   ]
  },
  {
   "cell_type": "code",
   "execution_count": 2,
   "id": "5f7ab6ae-8f7f-4e04-8a18-536e45cb8087",
   "metadata": {},
   "outputs": [
    {
     "data": {
      "text/html": [
       "<div>\n",
       "<style scoped>\n",
       "    .dataframe tbody tr th:only-of-type {\n",
       "        vertical-align: middle;\n",
       "    }\n",
       "\n",
       "    .dataframe tbody tr th {\n",
       "        vertical-align: top;\n",
       "    }\n",
       "\n",
       "    .dataframe thead th {\n",
       "        text-align: right;\n",
       "    }\n",
       "</style>\n",
       "<table border=\"1\" class=\"dataframe\">\n",
       "  <thead>\n",
       "    <tr style=\"text-align: right;\">\n",
       "      <th></th>\n",
       "      <th>ImageFilePath</th>\n",
       "      <th>Genus</th>\n",
       "      <th>ScientificName</th>\n",
       "      <th>Length</th>\n",
       "      <th>Width</th>\n",
       "    </tr>\n",
       "  </thead>\n",
       "  <tbody>\n",
       "    <tr>\n",
       "      <th>0</th>\n",
       "      <td>/fs/ess/PAS2136/Rayeed/BeetlePalooza/individua...</td>\n",
       "      <td>Chlaenius</td>\n",
       "      <td>Chlaenius aestivus</td>\n",
       "      <td>1.117336</td>\n",
       "      <td>0.637281</td>\n",
       "    </tr>\n",
       "    <tr>\n",
       "      <th>1</th>\n",
       "      <td>/fs/ess/PAS2136/Rayeed/BeetlePalooza/individua...</td>\n",
       "      <td>Chlaenius</td>\n",
       "      <td>Chlaenius aestivus</td>\n",
       "      <td>1.068345</td>\n",
       "      <td>0.627180</td>\n",
       "    </tr>\n",
       "  </tbody>\n",
       "</table>\n",
       "</div>"
      ],
      "text/plain": [
       "                                       ImageFilePath      Genus  \\\n",
       "0  /fs/ess/PAS2136/Rayeed/BeetlePalooza/individua...  Chlaenius   \n",
       "1  /fs/ess/PAS2136/Rayeed/BeetlePalooza/individua...  Chlaenius   \n",
       "\n",
       "       ScientificName    Length     Width  \n",
       "0  Chlaenius aestivus  1.117336  0.637281  \n",
       "1  Chlaenius aestivus  1.068345  0.627180  "
      ]
     },
     "execution_count": 2,
     "metadata": {},
     "output_type": "execute_result"
    }
   ],
   "source": [
    "df.head(2)"
   ]
  },
  {
   "cell_type": "code",
   "execution_count": 3,
   "id": "8dcdb12f-1727-4fc1-bca3-b66cd21a0660",
   "metadata": {},
   "outputs": [],
   "source": [
    "device = \"cuda\" if torch.cuda.is_available() else \"cpu\"\n",
    "\n",
    "model_name = \"dandelin/vilt-b32-mlm\"\n",
    "\n",
    "model = ViltModel.from_pretrained(model_name).eval().to(device)\n",
    "\n",
    "processor = ViltProcessor.from_pretrained(model_name)\n"
   ]
  },
  {
   "cell_type": "code",
   "execution_count": 4,
   "id": "65eaf788-a250-4224-8a88-8e0b7f79b7e4",
   "metadata": {},
   "outputs": [],
   "source": [
    "def extract_features(image_path, taxa) :\n",
    "    \n",
    "    image = Image.open(image_path).convert(\"RGB\")\n",
    "    \n",
    "    text = f\"This is an image of a beetle, of species : {taxa}\"\n",
    "    \n",
    "    inputs = processor(images=image, text=text, return_tensors=\"pt\").to(device)\n",
    "    \n",
    "    with torch.no_grad():\n",
    "        outputs = model(**inputs)\n",
    "    \n",
    "    features = outputs.last_hidden_state.mean(dim=1)\n",
    "    \n",
    "    return features.cpu().numpy().flatten()\n",
    "    "
   ]
  },
  {
   "cell_type": "code",
   "execution_count": 5,
   "id": "1c03fc02-ce6f-46d0-b486-1b55a91d777f",
   "metadata": {},
   "outputs": [
    {
     "name": "stderr",
     "output_type": "stream",
     "text": [
      "Processing ...: 11399it [15:59, 11.88it/s]\n"
     ]
    }
   ],
   "source": [
    "df['Embedding'] = [extract_features(img, taxa) for img, taxa in tqdm(zip(df[\"ImageFilePath\"], df[\"ScientificName\"]), desc=\"Processing ...\")]\n",
    "\n",
    "X = np.vstack(df['Embedding'].values)\n",
    "X = np.hstack((X, df[['Length', 'Width']].values))\n",
    "\n",
    "label_encoder = LabelEncoder()\n",
    "\n",
    "y = label_encoder.fit_transform(df['ScientificName'])\n"
   ]
  },
  {
   "cell_type": "code",
   "execution_count": 6,
   "id": "3a7e39f6-775c-4ad4-b653-ea2427099106",
   "metadata": {},
   "outputs": [],
   "source": [
    "df_indices = df.index \n",
    "\n",
    "X_train, X_test, y_train, y_test, train_idx, test_idx = train_test_split(X, y, df_indices, test_size=0.2, random_state=42)\n",
    "\n",
    "test_df = df.loc[test_idx].copy()\n",
    "\n",
    "scaler = StandardScaler()\n",
    "\n",
    "X_train_scaled = scaler.fit_transform(X_train)\n",
    "\n",
    "X_test_scaled = scaler.transform(X_test)\n"
   ]
  },
  {
   "cell_type": "code",
   "execution_count": 7,
   "id": "63883177-2a26-437f-88f2-b08a69ad6e22",
   "metadata": {},
   "outputs": [
    {
     "name": "stderr",
     "output_type": "stream",
     "text": [
      "/users/PAS2136/rayees/myenv/lib64/python3.9/site-packages/sklearn/metrics/_classification.py:1531: UndefinedMetricWarning: Precision is ill-defined and being set to 0.0 in labels with no predicted samples. Use `zero_division` parameter to control this behavior.\n",
      "  _warn_prf(average, modifier, f\"{metric.capitalize()} is\", len(result))\n"
     ]
    },
    {
     "name": "stdout",
     "output_type": "stream",
     "text": [
      "NaiveBayes                | Acc: 93.77% | Prec: 95.17% | Rec: 93.77% | F1: 94.08% | Bal Acc: 81.16% | MCC: 0.9336\n"
     ]
    },
    {
     "name": "stderr",
     "output_type": "stream",
     "text": [
      "/users/PAS2136/rayees/myenv/lib64/python3.9/site-packages/sklearn/metrics/_classification.py:1531: UndefinedMetricWarning: Precision is ill-defined and being set to 0.0 in labels with no predicted samples. Use `zero_division` parameter to control this behavior.\n",
      "  _warn_prf(average, modifier, f\"{metric.capitalize()} is\", len(result))\n",
      "/users/PAS2136/rayees/myenv/lib64/python3.9/site-packages/sklearn/metrics/_classification.py:1531: UndefinedMetricWarning: Recall is ill-defined and being set to 0.0 in labels with no true samples. Use `zero_division` parameter to control this behavior.\n",
      "  _warn_prf(average, modifier, f\"{metric.capitalize()} is\", len(result))\n",
      "/users/PAS2136/rayees/myenv/lib64/python3.9/site-packages/sklearn/metrics/_classification.py:2480: UserWarning: y_pred contains classes not in y_true\n",
      "  warnings.warn(\"y_pred contains classes not in y_true\")\n"
     ]
    },
    {
     "name": "stdout",
     "output_type": "stream",
     "text": [
      "LogisticRegression        | Acc: 99.52% | Prec: 99.51% | Rec: 99.52% | F1: 99.47% | Bal Acc: 93.56% | MCC: 0.9948\n"
     ]
    },
    {
     "name": "stderr",
     "output_type": "stream",
     "text": [
      "/users/PAS2136/rayees/myenv/lib64/python3.9/site-packages/sklearn/metrics/_classification.py:1531: UndefinedMetricWarning: Precision is ill-defined and being set to 0.0 in labels with no predicted samples. Use `zero_division` parameter to control this behavior.\n",
      "  _warn_prf(average, modifier, f\"{metric.capitalize()} is\", len(result))\n"
     ]
    },
    {
     "name": "stdout",
     "output_type": "stream",
     "text": [
      "NearestNeighbor           | Acc: 96.01% | Prec: 95.63% | Rec: 96.01% | F1: 95.41% | Bal Acc: 75.37% | MCC: 0.9573\n",
      "MLP_Baseline              | Acc: 99.56% | Prec: 99.49% | Rec: 99.56% | F1: 99.48% | Bal Acc: 93.32% | MCC: 0.9953\n"
     ]
    },
    {
     "name": "stderr",
     "output_type": "stream",
     "text": [
      "/users/PAS2136/rayees/myenv/lib64/python3.9/site-packages/sklearn/metrics/_classification.py:1531: UndefinedMetricWarning: Precision is ill-defined and being set to 0.0 in labels with no predicted samples. Use `zero_division` parameter to control this behavior.\n",
      "  _warn_prf(average, modifier, f\"{metric.capitalize()} is\", len(result))\n"
     ]
    }
   ],
   "source": [
    "seed = 99\n",
    "\n",
    "models = {\n",
    "    \"NaiveBayes\": GaussianNB(),\n",
    "    \"LogisticRegression\": LogisticRegression(max_iter=100),\n",
    "    \"NearestNeighbor\": KNeighborsClassifier(n_neighbors=5),    \n",
    "    \"MLP_Baseline\": MLPClassifier(hidden_layer_sizes=(100,), max_iter=200, random_state=seed)\n",
    "}\n",
    "\n",
    "predictions = {}\n",
    "\n",
    "metrics = {}\n",
    "\n",
    "for name, model in models.items():\n",
    "    \n",
    "    model.fit(X_train_scaled, y_train)\n",
    "    preds = model.predict(X_test_scaled)\n",
    "    predictions[name] = preds\n",
    "    \n",
    "    acc = accuracy_score(y_test, preds)\n",
    "    prec = precision_score(y_test, preds, average=\"weighted\")\n",
    "    rec = recall_score(y_test, preds, average=\"weighted\")\n",
    "    f1 = f1_score(y_test, preds, average=\"weighted\")\n",
    "    bal_acc = balanced_accuracy_score(y_test, preds)\n",
    "    mcc = matthews_corrcoef(y_test, preds)\n",
    "    \n",
    "    metrics[name] = {\"Model\": name, \"Accuracy\": acc, \"Precision\": prec, \"Recall\": rec, \"F1-Score\": f1, \"Balanced Acc\": bal_acc, \"MCC\": mcc}\n",
    "    print(f\"{name:<25} | Acc: {acc:.2%} | Prec: {prec:.2%} | Rec: {rec:.2%} | F1: {f1:.2%} | Bal Acc: {bal_acc:.2%} | MCC: {mcc:.4f}\")\n",
    "\n",
    "\n",
    "metrics_df = pd.DataFrame(metrics).T"
   ]
  },
  {
   "cell_type": "code",
   "execution_count": 8,
   "id": "382dae8a-1c87-4d8b-8d98-b3b8a9afd3b5",
   "metadata": {},
   "outputs": [
    {
     "data": {
      "text/html": [
       "<div>\n",
       "<style scoped>\n",
       "    .dataframe tbody tr th:only-of-type {\n",
       "        vertical-align: middle;\n",
       "    }\n",
       "\n",
       "    .dataframe tbody tr th {\n",
       "        vertical-align: top;\n",
       "    }\n",
       "\n",
       "    .dataframe thead th {\n",
       "        text-align: right;\n",
       "    }\n",
       "</style>\n",
       "<table border=\"1\" class=\"dataframe\">\n",
       "  <thead>\n",
       "    <tr style=\"text-align: right;\">\n",
       "      <th></th>\n",
       "      <th>ImageFilePath</th>\n",
       "      <th>Genus</th>\n",
       "      <th>ScientificName</th>\n",
       "      <th>Length</th>\n",
       "      <th>Width</th>\n",
       "      <th>Embedding</th>\n",
       "      <th>Pred_NaiveBayes</th>\n",
       "      <th>Pred_LogisticRegression</th>\n",
       "      <th>Pred_NearestNeighbor</th>\n",
       "      <th>Pred_MLP_Baseline</th>\n",
       "    </tr>\n",
       "  </thead>\n",
       "  <tbody>\n",
       "    <tr>\n",
       "      <th>1766</th>\n",
       "      <td>/fs/ess/PAS2136/Rayeed/BeetlePalooza/individua...</td>\n",
       "      <td>Synuchus</td>\n",
       "      <td>Synuchus impunctatus</td>\n",
       "      <td>0.530811</td>\n",
       "      <td>0.242519</td>\n",
       "      <td>[-0.14861917, 0.13635914, 0.027334105, -0.2863...</td>\n",
       "      <td>Synuchus impunctatus</td>\n",
       "      <td>Synuchus impunctatus</td>\n",
       "      <td>Synuchus impunctatus</td>\n",
       "      <td>Synuchus impunctatus</td>\n",
       "    </tr>\n",
       "    <tr>\n",
       "      <th>2629</th>\n",
       "      <td>/fs/ess/PAS2136/Rayeed/BeetlePalooza/individua...</td>\n",
       "      <td>Agonum</td>\n",
       "      <td>Agonum punctiforme</td>\n",
       "      <td>0.457965</td>\n",
       "      <td>0.243925</td>\n",
       "      <td>[-0.10435822, 0.15635301, 0.024474462, -0.2421...</td>\n",
       "      <td>Agonum punctiforme</td>\n",
       "      <td>Agonum punctiforme</td>\n",
       "      <td>Agonum punctiforme</td>\n",
       "      <td>Agonum punctiforme</td>\n",
       "    </tr>\n",
       "  </tbody>\n",
       "</table>\n",
       "</div>"
      ],
      "text/plain": [
       "                                          ImageFilePath     Genus  \\\n",
       "1766  /fs/ess/PAS2136/Rayeed/BeetlePalooza/individua...  Synuchus   \n",
       "2629  /fs/ess/PAS2136/Rayeed/BeetlePalooza/individua...    Agonum   \n",
       "\n",
       "            ScientificName    Length     Width  \\\n",
       "1766  Synuchus impunctatus  0.530811  0.242519   \n",
       "2629    Agonum punctiforme  0.457965  0.243925   \n",
       "\n",
       "                                              Embedding       Pred_NaiveBayes  \\\n",
       "1766  [-0.14861917, 0.13635914, 0.027334105, -0.2863...  Synuchus impunctatus   \n",
       "2629  [-0.10435822, 0.15635301, 0.024474462, -0.2421...    Agonum punctiforme   \n",
       "\n",
       "     Pred_LogisticRegression  Pred_NearestNeighbor     Pred_MLP_Baseline  \n",
       "1766    Synuchus impunctatus  Synuchus impunctatus  Synuchus impunctatus  \n",
       "2629      Agonum punctiforme    Agonum punctiforme    Agonum punctiforme  "
      ]
     },
     "execution_count": 8,
     "metadata": {},
     "output_type": "execute_result"
    }
   ],
   "source": [
    "test_df = test_df.assign(**{f\"Pred_{name}\": label_encoder.inverse_transform(pred) for name, pred in predictions.items()})\n",
    "test_df.head(2)"
   ]
  },
  {
   "cell_type": "code",
   "execution_count": 9,
   "id": "6d3a94f5-c678-4d08-8a8d-eda4c3bbb7f7",
   "metadata": {},
   "outputs": [],
   "source": [
    "test_df.to_csv(\"/users/PAS2136/rayees/CV4A - MultiModality/Full/ViLT-traits.csv\", index=False)\n",
    "metrics_df.to_csv(\"/users/PAS2136/rayees/CV4A - MultiModality/Full/ViLT-traits-metrics.csv\", index=False)"
   ]
  },
  {
   "cell_type": "code",
   "execution_count": null,
   "id": "3f8ab02a-8a32-4e57-975f-7610ea8c4b28",
   "metadata": {},
   "outputs": [],
   "source": []
  }
 ],
 "metadata": {
  "kernelspec": {
   "display_name": "Python myenv",
   "language": "python",
   "name": "myenv"
  },
  "language_info": {
   "codemirror_mode": {
    "name": "ipython",
    "version": 3
   },
   "file_extension": ".py",
   "mimetype": "text/x-python",
   "name": "python",
   "nbconvert_exporter": "python",
   "pygments_lexer": "ipython3",
   "version": "3.9.18"
  }
 },
 "nbformat": 4,
 "nbformat_minor": 5
}
