{
 "cells": [
  {
   "cell_type": "code",
   "execution_count": 1,
   "id": "e67db37f-230e-4078-8958-184ce857f179",
   "metadata": {},
   "outputs": [],
   "source": [
    "import warnings\n",
    "warnings.filterwarnings(\"ignore\")"
   ]
  },
  {
   "cell_type": "code",
   "execution_count": 2,
   "id": "74cbc6b4-92aa-4bf2-bd45-564a0f7cf146",
   "metadata": {},
   "outputs": [],
   "source": [
    "import os\n",
    "import torch\n",
    "import open_clip\n",
    "import numpy as np\n",
    "import pandas as pd\n",
    "from PIL import Image\n",
    "from tqdm.notebook import tqdm \n",
    "from timm import create_model\n",
    "from torchvision import transforms\n",
    "from sklearn.metrics import accuracy_score\n",
    "from sklearn.preprocessing import LabelEncoder, StandardScaler\n",
    "from sklearn.model_selection import train_test_split\n",
    "from sklearn.naive_bayes import GaussianNB\n",
    "from sklearn.linear_model import LogisticRegression\n",
    "from sklearn.svm import SVC\n",
    "from sklearn.neighbors import KNeighborsClassifier\n",
    "from sklearn.ensemble import RandomForestClassifier\n",
    "from sklearn.neural_network import MLPClassifier\n",
    "from sklearn.metrics import accuracy_score, precision_score, recall_score, f1_score, balanced_accuracy_score, matthews_corrcoef"
   ]
  },
  {
   "cell_type": "code",
   "execution_count": 3,
   "id": "e1c8b61c-04e5-4506-b22b-1214f1d9d42d",
   "metadata": {},
   "outputs": [
    {
     "data": {
      "text/html": [
       "<div>\n",
       "<style scoped>\n",
       "    .dataframe tbody tr th:only-of-type {\n",
       "        vertical-align: middle;\n",
       "    }\n",
       "\n",
       "    .dataframe tbody tr th {\n",
       "        vertical-align: top;\n",
       "    }\n",
       "\n",
       "    .dataframe thead th {\n",
       "        text-align: right;\n",
       "    }\n",
       "</style>\n",
       "<table border=\"1\" class=\"dataframe\">\n",
       "  <thead>\n",
       "    <tr style=\"text-align: right;\">\n",
       "      <th></th>\n",
       "      <th>ImageFilePath</th>\n",
       "      <th>ScientificName</th>\n",
       "    </tr>\n",
       "  </thead>\n",
       "  <tbody>\n",
       "    <tr>\n",
       "      <th>0</th>\n",
       "      <td>/fs/ess/PAS2136/Rayeed/BritishCarabids/British...</td>\n",
       "      <td>Asaphidion curtum</td>\n",
       "    </tr>\n",
       "    <tr>\n",
       "      <th>1</th>\n",
       "      <td>/fs/ess/PAS2136/Rayeed/BritishCarabids/British...</td>\n",
       "      <td>Asaphidion curtum</td>\n",
       "    </tr>\n",
       "  </tbody>\n",
       "</table>\n",
       "</div>"
      ],
      "text/plain": [
       "                                       ImageFilePath     ScientificName\n",
       "0  /fs/ess/PAS2136/Rayeed/BritishCarabids/British...  Asaphidion curtum\n",
       "1  /fs/ess/PAS2136/Rayeed/BritishCarabids/British...  Asaphidion curtum"
      ]
     },
     "execution_count": 3,
     "metadata": {},
     "output_type": "execute_result"
    }
   ],
   "source": [
    "file_path = \"/fs/ess/PAS2136/Rayeed/BritishCarabids/British Carabids/BritishCarabids.csv\"\n",
    "brit_df = pd.read_csv(file_path)\n",
    "brit_df.rename(columns={\"CanonicalName\": \"ScientificName\"}, inplace=True)\n",
    "cols = ['ImageFilePath', 'ScientificName']\n",
    "df = brit_df[cols]\n",
    "df = df.dropna()\n",
    "df.head(2)"
   ]
  },
  {
   "cell_type": "code",
   "execution_count": 4,
   "id": "e8fd3a43-704d-48a6-b1bb-fa70af1c1e0f",
   "metadata": {},
   "outputs": [],
   "source": [
    "device = \"cuda\" if torch.cuda.is_available() else \"cpu\"\n",
    "\n",
    "model = create_model(\"convnext_base\", pretrained=True).to(device)\n",
    "\n",
    "\n",
    "preprocess = transforms.Compose([\n",
    "    transforms.Resize((224, 224)),\n",
    "    transforms.ToTensor(),\n",
    "    transforms.Normalize(mean=[0.485, 0.456, 0.406], std=[0.229, 0.224, 0.225])\n",
    "])\n"
   ]
  },
  {
   "cell_type": "code",
   "execution_count": 5,
   "id": "ee6274a2-4d4f-481e-941a-3de9d71544a7",
   "metadata": {},
   "outputs": [],
   "source": [
    "def extract_image_features(image_path) : \n",
    "    \n",
    "    image = Image.open(image_path).convert(\"RGB\")\n",
    "    \n",
    "    image_tensor = preprocess(image).unsqueeze(0).to(device)\n",
    "\n",
    "    with torch.no_grad():\n",
    "        features = model.forward_features(image_tensor).mean(dim=[2, 3])\n",
    "\n",
    "    return features.cpu().numpy()\n",
    "    "
   ]
  },
  {
   "cell_type": "code",
   "execution_count": 6,
   "id": "15a63594-09ef-483d-ba88-c46c56d29f28",
   "metadata": {},
   "outputs": [
    {
     "name": "stdout",
     "output_type": "stream",
     "text": [
      "Extracted feature shape: (63077, 1024)\n"
     ]
    }
   ],
   "source": [
    "X = np.vstack([extract_image_features(img) for img in df[\"ImageFilePath\"] ])\n",
    "\n",
    "print(f\"Extracted feature shape: {X.shape}\")\n",
    "\n",
    "\n",
    "le = LabelEncoder()\n",
    "\n",
    "y = le.fit_transform(df[\"ScientificName\"])\n",
    "\n",
    "df_indices = df.index \n",
    "\n",
    "X_train, X_test, y_train, y_test, train_idx, test_idx = train_test_split(X, y, df_indices, test_size=0.2, random_state=42)\n",
    "\n",
    "\n"
   ]
  },
  {
   "cell_type": "code",
   "execution_count": 7,
   "id": "fa2e5c70-78ba-42a7-93b4-39142b873f14",
   "metadata": {},
   "outputs": [
    {
     "data": {
      "application/vnd.jupyter.widget-view+json": {
       "model_id": "ee7152b8fa764fd1bacd4c66db4d43f5",
       "version_major": 2,
       "version_minor": 0
      },
      "text/plain": [
       "Training Models:   0%|          | 0/4 [00:00<?, ?it/s]"
      ]
     },
     "metadata": {},
     "output_type": "display_data"
    },
    {
     "name": "stdout",
     "output_type": "stream",
     "text": [
      "NaiveBayes                | Acc: 50.40% | Prec: 56.63% | Rec: 50.40% | F1: 50.96% | Bal Acc: 54.70% | MCC: 0.5021\n",
      "LogisticRegression        | Acc: 87.85% | Prec: 88.19% | Rec: 87.85% | F1: 87.84% | Bal Acc: 86.34% | MCC: 0.8779\n",
      "NearestNeighbor           | Acc: 67.66% | Prec: 69.93% | Rec: 67.66% | F1: 67.54% | Bal Acc: 63.62% | MCC: 0.6749\n",
      "MLP_Baseline              | Acc: 86.56% | Prec: 86.82% | Rec: 86.56% | F1: 86.54% | Bal Acc: 85.34% | MCC: 0.8649\n"
     ]
    }
   ],
   "source": [
    "test_df = df.loc[test_idx].copy()\n",
    "\n",
    "scaler = StandardScaler()\n",
    "\n",
    "X_train_scaled = scaler.fit_transform(X_train)\n",
    "\n",
    "X_test_scaled = scaler.transform(X_test)\n",
    "\n",
    "seed = 99\n",
    "\n",
    "\n",
    "models = {\n",
    "    \"NaiveBayes\": GaussianNB(),\n",
    "    \"LogisticRegression\": LogisticRegression(max_iter=100),\n",
    "    \"NearestNeighbor\": KNeighborsClassifier(n_neighbors=11),  \n",
    "    \"MLP_Baseline\": MLPClassifier(hidden_layer_sizes=(100,), max_iter=200, random_state=seed)\n",
    "}\n",
    "\n",
    "predictions = {}\n",
    "\n",
    "metrics = {}\n",
    "\n",
    "\n",
    "for name, model in tqdm(models.items(), desc=\"Training Models\", leave=True):\n",
    "    \n",
    "    model.fit(X_train_scaled, y_train)\n",
    "    preds = model.predict(X_test_scaled)\n",
    "    predictions[name] = preds\n",
    "\n",
    "    acc = accuracy_score(y_test, preds)\n",
    "    prec = precision_score(y_test, preds, average=\"weighted\")\n",
    "    rec = recall_score(y_test, preds, average=\"weighted\")\n",
    "    f1 = f1_score(y_test, preds, average=\"weighted\")\n",
    "    bal_acc = balanced_accuracy_score(y_test, preds)\n",
    "    mcc = matthews_corrcoef(y_test, preds)\n",
    "\n",
    "    metrics[name] = {\"Accuracy\": acc, \"Precision\": prec, \"Recall\": rec, \"F1-Score\": f1, \"Balanced Acc\": bal_acc, \"MCC\": mcc}\n",
    "\n",
    "    print(f\"{name:<25} | Acc: {acc:.2%} | Prec: {prec:.2%} | Rec: {rec:.2%} | F1: {f1:.2%} | Bal Acc: {bal_acc:.2%} | MCC: {mcc:.4f}\")\n",
    "\n",
    "\n",
    "metrics_df = pd.DataFrame(metrics).T\n"
   ]
  },
  {
   "cell_type": "code",
   "execution_count": 8,
   "id": "4114caf6-3011-4c4e-a642-c38911ad0b45",
   "metadata": {},
   "outputs": [
    {
     "data": {
      "text/html": [
       "<div>\n",
       "<style scoped>\n",
       "    .dataframe tbody tr th:only-of-type {\n",
       "        vertical-align: middle;\n",
       "    }\n",
       "\n",
       "    .dataframe tbody tr th {\n",
       "        vertical-align: top;\n",
       "    }\n",
       "\n",
       "    .dataframe thead th {\n",
       "        text-align: right;\n",
       "    }\n",
       "</style>\n",
       "<table border=\"1\" class=\"dataframe\">\n",
       "  <thead>\n",
       "    <tr style=\"text-align: right;\">\n",
       "      <th></th>\n",
       "      <th>ImageFilePath</th>\n",
       "      <th>ScientificName</th>\n",
       "      <th>Pred_NaiveBayes</th>\n",
       "      <th>Pred_LogisticRegression</th>\n",
       "      <th>Pred_NearestNeighbor</th>\n",
       "      <th>Pred_MLP_Baseline</th>\n",
       "    </tr>\n",
       "  </thead>\n",
       "  <tbody>\n",
       "    <tr>\n",
       "      <th>6930</th>\n",
       "      <td>/fs/ess/PAS2136/Rayeed/BritishCarabids/British...</td>\n",
       "      <td>Harpalus rubripes</td>\n",
       "      <td>Harpalus rubripes</td>\n",
       "      <td>Harpalus rubripes</td>\n",
       "      <td>Harpalus rubripes</td>\n",
       "      <td>Harpalus rubripes</td>\n",
       "    </tr>\n",
       "    <tr>\n",
       "      <th>2549</th>\n",
       "      <td>/fs/ess/PAS2136/Rayeed/BritishCarabids/British...</td>\n",
       "      <td>Bembidion fumigatum</td>\n",
       "      <td>Bembidion lunulatum</td>\n",
       "      <td>Bembidion fumigatum</td>\n",
       "      <td>Bembidion biguttatum</td>\n",
       "      <td>Bembidion fumigatum</td>\n",
       "    </tr>\n",
       "  </tbody>\n",
       "</table>\n",
       "</div>"
      ],
      "text/plain": [
       "                                          ImageFilePath       ScientificName  \\\n",
       "6930  /fs/ess/PAS2136/Rayeed/BritishCarabids/British...    Harpalus rubripes   \n",
       "2549  /fs/ess/PAS2136/Rayeed/BritishCarabids/British...  Bembidion fumigatum   \n",
       "\n",
       "          Pred_NaiveBayes Pred_LogisticRegression  Pred_NearestNeighbor  \\\n",
       "6930    Harpalus rubripes       Harpalus rubripes     Harpalus rubripes   \n",
       "2549  Bembidion lunulatum     Bembidion fumigatum  Bembidion biguttatum   \n",
       "\n",
       "        Pred_MLP_Baseline  \n",
       "6930    Harpalus rubripes  \n",
       "2549  Bembidion fumigatum  "
      ]
     },
     "execution_count": 8,
     "metadata": {},
     "output_type": "execute_result"
    }
   ],
   "source": [
    "test_df = test_df.assign(**{f\"Pred_{name}\": le.inverse_transform(pred) for name, pred in predictions.items()})\n",
    "test_df.head(2)"
   ]
  },
  {
   "cell_type": "code",
   "execution_count": 9,
   "id": "e3af9cbb-5cec-4209-bc34-e0a0dfcfe90b",
   "metadata": {},
   "outputs": [],
   "source": [
    "test_df.to_csv(\"/users/PAS2136/rayees/3. Benchmarking/BritishCarabids/4.ConvNeXt-BritishCarabids-species.csv\", index=False)\n",
    "metrics_df.to_csv(\"/users/PAS2136/rayees/3. Benchmarking/BritishCarabids/4.ConvNeXt-BritishCarabids-species-metrics.csv\", index=False)"
   ]
  },
  {
   "cell_type": "code",
   "execution_count": null,
   "id": "a8ef5de3-da45-4e73-b225-6d9b9601967c",
   "metadata": {},
   "outputs": [],
   "source": []
  },
  {
   "cell_type": "code",
   "execution_count": null,
   "id": "7d0bdffb-235a-491f-8360-d5816098356e",
   "metadata": {},
   "outputs": [],
   "source": []
  },
  {
   "cell_type": "code",
   "execution_count": null,
   "id": "6af187ea-3249-4365-8dac-aabbbfa628fc",
   "metadata": {},
   "outputs": [],
   "source": []
  }
 ],
 "metadata": {
  "kernelspec": {
   "display_name": "Python myenv",
   "language": "python",
   "name": "myenv"
  },
  "language_info": {
   "codemirror_mode": {
    "name": "ipython",
    "version": 3
   },
   "file_extension": ".py",
   "mimetype": "text/x-python",
   "name": "python",
   "nbconvert_exporter": "python",
   "pygments_lexer": "ipython3",
   "version": "3.9.18"
  }
 },
 "nbformat": 4,
 "nbformat_minor": 5
}
