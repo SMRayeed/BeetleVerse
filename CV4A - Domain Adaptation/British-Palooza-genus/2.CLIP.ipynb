{
 "cells": [
  {
   "cell_type": "code",
   "execution_count": 1,
   "id": "cb9b11d5-14db-49fd-92d1-47e095f3eeba",
   "metadata": {},
   "outputs": [],
   "source": [
    "import warnings\n",
    "warnings.filterwarnings(\"ignore\")"
   ]
  },
  {
   "cell_type": "code",
   "execution_count": 2,
   "id": "f080c998-f139-4f80-93d3-16d0f71e6763",
   "metadata": {},
   "outputs": [],
   "source": [
    "import os\n",
    "import torch\n",
    "import open_clip\n",
    "import numpy as np\n",
    "import pandas as pd\n",
    "from PIL import Image\n",
    "from tqdm.notebook import tqdm \n",
    "from torchvision import transforms\n",
    "from sklearn.metrics import accuracy_score\n",
    "from sklearn.preprocessing import LabelEncoder, StandardScaler\n",
    "from sklearn.model_selection import train_test_split\n",
    "from sklearn.naive_bayes import GaussianNB\n",
    "from sklearn.linear_model import LogisticRegression\n",
    "from sklearn.svm import SVC\n",
    "from sklearn.neighbors import KNeighborsClassifier\n",
    "from sklearn.ensemble import RandomForestClassifier\n",
    "from sklearn.neural_network import MLPClassifier\n",
    "from sklearn.metrics import accuracy_score, precision_score, recall_score, f1_score, balanced_accuracy_score, matthews_corrcoef"
   ]
  },
  {
   "cell_type": "code",
   "execution_count": 3,
   "id": "a6889109-bcd7-4a87-9ca9-157ed7a310b6",
   "metadata": {},
   "outputs": [],
   "source": [
    "import os\n",
    "import pandas as pd\n",
    "current_dir = os.getcwd()"
   ]
  },
  {
   "cell_type": "code",
   "execution_count": 4,
   "id": "20994e4b-3b67-4548-9734-9465756aaaac",
   "metadata": {},
   "outputs": [],
   "source": [
    "\n",
    "train_path = f\"{current_dir}/train.csv\"\n",
    "test_path = f\"{current_dir}/test.csv\"\n",
    "\n",
    "train_df = pd.read_csv(train_path)\n",
    "test_df = pd.read_csv(test_path)\n",
    "\n",
    "cols = ['ImageFilePath', 'Genus']\n",
    "train_df = train_df[cols].dropna()\n",
    "test_df = test_df[cols].dropna()"
   ]
  },
  {
   "cell_type": "code",
   "execution_count": null,
   "id": "136bb6d0-9cd8-448d-ba76-285c71503d41",
   "metadata": {},
   "outputs": [],
   "source": []
  },
  {
   "cell_type": "code",
   "execution_count": 5,
   "id": "d6c33fa3-0c1f-4d39-a4aa-e4f26da941fb",
   "metadata": {},
   "outputs": [],
   "source": [
    "model, preprocess_train, preprocess_val = open_clip.create_model_and_transforms(\"ViT-B-32\", pretrained=\"openai\")\n",
    "\n",
    "tokenizer = open_clip.get_tokenizer(\"ViT-B-32\")\n",
    "\n",
    "device = \"cuda\" if torch.cuda.is_available() else \"cpu\"\n",
    "\n",
    "model.to(device)\n",
    "\n",
    "for param in model.parameters() :\n",
    "    param.requires_grad = False\n"
   ]
  },
  {
   "cell_type": "code",
   "execution_count": 6,
   "id": "45e70ee2-7499-412c-b08f-a4ad89348a80",
   "metadata": {},
   "outputs": [],
   "source": [
    "def extract_features(image_path):\n",
    "    \n",
    "    image = Image.open(image_path).convert(\"RGB\")\n",
    "\n",
    "    image_tensor = preprocess_val(image).unsqueeze(0).to(device)\n",
    "\n",
    "    with torch.no_grad():\n",
    "        image_features = model.encode_image(image_tensor)\n",
    "        image_features /= image_features.norm(dim=-1, keepdim=True)\n",
    "\n",
    "    return image_features.cpu().numpy()\n"
   ]
  },
  {
   "cell_type": "code",
   "execution_count": null,
   "id": "98518101-2ca8-4fd1-acbc-c6ae82ef07d2",
   "metadata": {},
   "outputs": [],
   "source": []
  },
  {
   "cell_type": "code",
   "execution_count": 7,
   "id": "7427b056-3f7c-4c16-a213-76433fb9ca6e",
   "metadata": {},
   "outputs": [
    {
     "data": {
      "application/vnd.jupyter.widget-view+json": {
       "model_id": "70dffab43d7640a68b7e3e6db2425101",
       "version_major": 2,
       "version_minor": 0
      },
      "text/plain": [
       "Processing Training Images...:   0%|          | 0/35951 [00:00<?, ?it/s]"
      ]
     },
     "metadata": {},
     "output_type": "display_data"
    },
    {
     "data": {
      "application/vnd.jupyter.widget-view+json": {
       "model_id": "4d2fa43fa167411a85c6db8677556bb1",
       "version_major": 2,
       "version_minor": 0
      },
      "text/plain": [
       "Processing Testing Images...:   0%|          | 0/9439 [00:00<?, ?it/s]"
      ]
     },
     "metadata": {},
     "output_type": "display_data"
    }
   ],
   "source": [
    "\n",
    "X_train = np.vstack([extract_features(img) for img in tqdm(train_df[\"ImageFilePath\"], desc=\"Processing Training Images...\")])\n",
    "\n",
    "X_test = np.vstack([extract_features(img) for img in tqdm(test_df[\"ImageFilePath\"], desc=\"Processing Testing Images...\")])\n",
    "\n",
    "le = LabelEncoder()\n",
    "\n",
    "all_labels = pd.concat([train_df[\"Genus\"], test_df[\"Genus\"]]).unique()\n",
    "\n",
    "le.fit(all_labels)\n",
    "\n",
    "y_train = le.transform(train_df[\"Genus\"])\n",
    "\n",
    "y_test = le.transform(test_df[\"Genus\"])\n",
    "\n",
    "scaler = StandardScaler()\n",
    "\n",
    "X_train_scaled = scaler.fit_transform(X_train)\n",
    "\n",
    "X_test_scaled = scaler.transform(X_test)\n",
    "\n"
   ]
  },
  {
   "cell_type": "code",
   "execution_count": 8,
   "id": "051dbd43-559f-46a6-8a23-103f346ff46f",
   "metadata": {},
   "outputs": [
    {
     "data": {
      "application/vnd.jupyter.widget-view+json": {
       "model_id": "bc5a4bc8e2884b29bc34c0fac1bf5128",
       "version_major": 2,
       "version_minor": 0
      },
      "text/plain": [
       "Training Models:   0%|          | 0/4 [00:00<?, ?it/s]"
      ]
     },
     "metadata": {},
     "output_type": "display_data"
    },
    {
     "name": "stdout",
     "output_type": "stream",
     "text": [
      "NaiveBayes                | Acc: 28.62% | Prec: 36.75% | Rec: 28.62% | F1: 29.93% | Bal Acc: 28.95% | MCC: 0.2159\n",
      "LogisticRegression        | Acc: 20.73% | Prec: 41.73% | Rec: 20.73% | F1: 24.23% | Bal Acc: 17.08% | MCC: 0.1718\n",
      "NearestNeighbor           | Acc: 24.68% | Prec: 47.59% | Rec: 24.68% | F1: 23.32% | Bal Acc: 31.37% | MCC: 0.1495\n",
      "MLP_Baseline              | Acc: 30.76% | Prec: 47.96% | Rec: 30.76% | F1: 28.54% | Bal Acc: 31.19% | MCC: 0.2161\n"
     ]
    }
   ],
   "source": [
    "seed = 99\n",
    "\n",
    "models = {\n",
    "    \"NaiveBayes\": GaussianNB(),\n",
    "    \"LogisticRegression\": LogisticRegression(max_iter=100),\n",
    "    \"NearestNeighbor\": KNeighborsClassifier(n_neighbors=11),  \n",
    "    \"MLP_Baseline\": MLPClassifier(hidden_layer_sizes=(100,), max_iter=200, random_state=seed)\n",
    "}\n",
    "\n",
    "predictions = {}\n",
    "\n",
    "metrics = {}\n",
    "\n",
    "\n",
    "for name, model in tqdm(models.items(), desc=\"Training Models\", leave=True):\n",
    "    \n",
    "    model.fit(X_train_scaled, y_train)\n",
    "    preds = model.predict(X_test_scaled)\n",
    "    predictions[name] = preds\n",
    "\n",
    "    acc = accuracy_score(y_test, preds)\n",
    "    prec = precision_score(y_test, preds, average=\"weighted\")\n",
    "    rec = recall_score(y_test, preds, average=\"weighted\")\n",
    "    f1 = f1_score(y_test, preds, average=\"weighted\")\n",
    "    bal_acc = balanced_accuracy_score(y_test, preds)\n",
    "    mcc = matthews_corrcoef(y_test, preds)\n",
    "\n",
    "    metrics[name] = {\"Model\": name, \"Accuracy\": acc, \"Precision\": prec, \"Recall\": rec, \"F1-Score\": f1, \"Balanced Acc\": bal_acc, \"MCC\": mcc}\n",
    "\n",
    "    print(f\"{name:<25} | Acc: {acc:.2%} | Prec: {prec:.2%} | Rec: {rec:.2%} | F1: {f1:.2%} | Bal Acc: {bal_acc:.2%} | MCC: {mcc:.4f}\")\n",
    "\n",
    "\n",
    "metrics_df = pd.DataFrame(metrics).T\n",
    "\n"
   ]
  },
  {
   "cell_type": "code",
   "execution_count": 9,
   "id": "314abdeb-4007-4fff-acfc-e8417ff45344",
   "metadata": {},
   "outputs": [
    {
     "data": {
      "text/html": [
       "<div>\n",
       "<style scoped>\n",
       "    .dataframe tbody tr th:only-of-type {\n",
       "        vertical-align: middle;\n",
       "    }\n",
       "\n",
       "    .dataframe tbody tr th {\n",
       "        vertical-align: top;\n",
       "    }\n",
       "\n",
       "    .dataframe thead th {\n",
       "        text-align: right;\n",
       "    }\n",
       "</style>\n",
       "<table border=\"1\" class=\"dataframe\">\n",
       "  <thead>\n",
       "    <tr style=\"text-align: right;\">\n",
       "      <th></th>\n",
       "      <th>ImageFilePath</th>\n",
       "      <th>Genus</th>\n",
       "      <th>Pred_NaiveBayes</th>\n",
       "      <th>Pred_LogisticRegression</th>\n",
       "      <th>Pred_NearestNeighbor</th>\n",
       "      <th>Pred_MLP_Baseline</th>\n",
       "    </tr>\n",
       "  </thead>\n",
       "  <tbody>\n",
       "    <tr>\n",
       "      <th>0</th>\n",
       "      <td>/fs/ess/PAS2136/Rayeed/Carabids-100K-V2/Beetle...</td>\n",
       "      <td>Chlaenius</td>\n",
       "      <td>Bembidion</td>\n",
       "      <td>Carabus</td>\n",
       "      <td>Calathus</td>\n",
       "      <td>Pterostichus</td>\n",
       "    </tr>\n",
       "    <tr>\n",
       "      <th>1</th>\n",
       "      <td>/fs/ess/PAS2136/Rayeed/Carabids-100K-V2/Beetle...</td>\n",
       "      <td>Chlaenius</td>\n",
       "      <td>Calathus</td>\n",
       "      <td>Pterostichus</td>\n",
       "      <td>Amara</td>\n",
       "      <td>Pterostichus</td>\n",
       "    </tr>\n",
       "  </tbody>\n",
       "</table>\n",
       "</div>"
      ],
      "text/plain": [
       "                                       ImageFilePath      Genus  \\\n",
       "0  /fs/ess/PAS2136/Rayeed/Carabids-100K-V2/Beetle...  Chlaenius   \n",
       "1  /fs/ess/PAS2136/Rayeed/Carabids-100K-V2/Beetle...  Chlaenius   \n",
       "\n",
       "  Pred_NaiveBayes Pred_LogisticRegression Pred_NearestNeighbor  \\\n",
       "0       Bembidion                 Carabus             Calathus   \n",
       "1        Calathus            Pterostichus                Amara   \n",
       "\n",
       "  Pred_MLP_Baseline  \n",
       "0      Pterostichus  \n",
       "1      Pterostichus  "
      ]
     },
     "execution_count": 9,
     "metadata": {},
     "output_type": "execute_result"
    }
   ],
   "source": [
    "\n",
    "test_df = test_df.assign(**{f\"Pred_{name}\": le.inverse_transform(pred) for name, pred in predictions.items()})\n",
    "\n",
    "test_df.head(2)\n",
    "\n"
   ]
  },
  {
   "cell_type": "code",
   "execution_count": 10,
   "id": "cd2accc5-3ec5-4d1b-a0f6-e5ff1aa10b00",
   "metadata": {},
   "outputs": [],
   "source": [
    "\n",
    "# basedir = '/users/PAS2136/rayees/CV4A - Efficient Probing/BritishCarabids_10_per_species/'\n"
   ]
  },
  {
   "cell_type": "code",
   "execution_count": 11,
   "id": "c005482e-aa8d-40a7-a466-3106116bc4c8",
   "metadata": {},
   "outputs": [],
   "source": [
    "\n",
    "test_df.to_csv(f\"{current_dir}/2.CLIP.csv\", index=False)\n",
    "\n",
    "metrics_df.to_csv(f\"{current_dir}/2.CLIP-metrics.csv\", index=False)\n",
    "\n"
   ]
  },
  {
   "cell_type": "code",
   "execution_count": null,
   "id": "1ed53111-1d85-481e-bb24-422365576f3a",
   "metadata": {},
   "outputs": [],
   "source": []
  },
  {
   "cell_type": "code",
   "execution_count": null,
   "id": "15e46769-33c2-445e-962e-0dc71717d905",
   "metadata": {},
   "outputs": [],
   "source": []
  },
  {
   "cell_type": "code",
   "execution_count": null,
   "id": "38e28fe1-1b0f-4752-83ba-0c30a95977ba",
   "metadata": {},
   "outputs": [],
   "source": []
  }
 ],
 "metadata": {
  "kernelspec": {
   "display_name": "Python myenv",
   "language": "python",
   "name": "myenv"
  },
  "language_info": {
   "codemirror_mode": {
    "name": "ipython",
    "version": 3
   },
   "file_extension": ".py",
   "mimetype": "text/x-python",
   "name": "python",
   "nbconvert_exporter": "python",
   "pygments_lexer": "ipython3",
   "version": "3.9.18"
  }
 },
 "nbformat": 4,
 "nbformat_minor": 5
}
