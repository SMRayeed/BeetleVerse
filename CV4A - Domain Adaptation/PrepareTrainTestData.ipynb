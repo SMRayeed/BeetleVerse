{
 "cells": [
  {
   "cell_type": "code",
   "execution_count": null,
   "id": "1e9f1233-2f26-44f8-a259-f498f2ac2cd5",
   "metadata": {},
   "outputs": [],
   "source": []
  },
  {
   "cell_type": "code",
   "execution_count": 1,
   "id": "cffeed25-0ffc-4277-94ce-3af73ef06ce4",
   "metadata": {},
   "outputs": [],
   "source": [
    "import warnings\n",
    "warnings.filterwarnings(\"ignore\")"
   ]
  },
  {
   "cell_type": "code",
   "execution_count": 2,
   "id": "6f7f7dde-9462-4809-9aad-20c9fd9bb6f5",
   "metadata": {},
   "outputs": [],
   "source": [
    "import os\n",
    "import numpy as np\n",
    "import pandas as pd"
   ]
  },
  {
   "cell_type": "code",
   "execution_count": 3,
   "id": "f8091255-bb2a-4ea0-92b9-b1929647de5f",
   "metadata": {},
   "outputs": [],
   "source": [
    "curr_dir = \"/users/PAS2136/rayees/CV4A - Domain Adaptation\""
   ]
  },
  {
   "cell_type": "code",
   "execution_count": 4,
   "id": "49bb3589-91a4-4c56-8f2b-52d704168426",
   "metadata": {},
   "outputs": [
    {
     "data": {
      "text/html": [
       "<div>\n",
       "<style scoped>\n",
       "    .dataframe tbody tr th:only-of-type {\n",
       "        vertical-align: middle;\n",
       "    }\n",
       "\n",
       "    .dataframe tbody tr th {\n",
       "        vertical-align: top;\n",
       "    }\n",
       "\n",
       "    .dataframe thead th {\n",
       "        text-align: right;\n",
       "    }\n",
       "</style>\n",
       "<table border=\"1\" class=\"dataframe\">\n",
       "  <thead>\n",
       "    <tr style=\"text-align: right;\">\n",
       "      <th></th>\n",
       "      <th>ImageFilePath</th>\n",
       "      <th>Genus</th>\n",
       "      <th>ScientificName</th>\n",
       "      <th>Dataset</th>\n",
       "    </tr>\n",
       "  </thead>\n",
       "  <tbody>\n",
       "    <tr>\n",
       "      <th>0</th>\n",
       "      <td>/fs/ess/PAS2136/Rayeed/Carabids-100K-V2/Insect...</td>\n",
       "      <td>Cicindela</td>\n",
       "      <td>Cicindela sexguttata</td>\n",
       "      <td>Insect1M</td>\n",
       "    </tr>\n",
       "    <tr>\n",
       "      <th>1</th>\n",
       "      <td>/fs/ess/PAS2136/Rayeed/Carabids-100K-V2/Insect...</td>\n",
       "      <td>Cicindela</td>\n",
       "      <td>Cicindela sexguttata</td>\n",
       "      <td>Insect1M</td>\n",
       "    </tr>\n",
       "    <tr>\n",
       "      <th>2</th>\n",
       "      <td>/fs/ess/PAS2136/Rayeed/Carabids-100K-V2/Insect...</td>\n",
       "      <td>Cicindela</td>\n",
       "      <td>Cicindela sexguttata</td>\n",
       "      <td>Insect1M</td>\n",
       "    </tr>\n",
       "    <tr>\n",
       "      <th>3</th>\n",
       "      <td>/fs/ess/PAS2136/Rayeed/Carabids-100K-V2/Insect...</td>\n",
       "      <td>Cicindela</td>\n",
       "      <td>Cicindela sexguttata</td>\n",
       "      <td>Insect1M</td>\n",
       "    </tr>\n",
       "    <tr>\n",
       "      <th>4</th>\n",
       "      <td>/fs/ess/PAS2136/Rayeed/Carabids-100K-V2/Insect...</td>\n",
       "      <td>Calosoma</td>\n",
       "      <td>Calosoma scrutator</td>\n",
       "      <td>Insect1M</td>\n",
       "    </tr>\n",
       "  </tbody>\n",
       "</table>\n",
       "</div>"
      ],
      "text/plain": [
       "                                       ImageFilePath      Genus  \\\n",
       "0  /fs/ess/PAS2136/Rayeed/Carabids-100K-V2/Insect...  Cicindela   \n",
       "1  /fs/ess/PAS2136/Rayeed/Carabids-100K-V2/Insect...  Cicindela   \n",
       "2  /fs/ess/PAS2136/Rayeed/Carabids-100K-V2/Insect...  Cicindela   \n",
       "3  /fs/ess/PAS2136/Rayeed/Carabids-100K-V2/Insect...  Cicindela   \n",
       "4  /fs/ess/PAS2136/Rayeed/Carabids-100K-V2/Insect...   Calosoma   \n",
       "\n",
       "         ScientificName   Dataset  \n",
       "0  Cicindela sexguttata  Insect1M  \n",
       "1  Cicindela sexguttata  Insect1M  \n",
       "2  Cicindela sexguttata  Insect1M  \n",
       "3  Cicindela sexguttata  Insect1M  \n",
       "4    Calosoma scrutator  Insect1M  "
      ]
     },
     "execution_count": 4,
     "metadata": {},
     "output_type": "execute_result"
    }
   ],
   "source": [
    "\n",
    "file_path = f\"{curr_dir}/DataFinalized.csv\"\n",
    "\n",
    "df = pd.read_csv(file_path)\n",
    "\n",
    "df.head(5)\n"
   ]
  },
  {
   "cell_type": "code",
   "execution_count": 5,
   "id": "14293a64-0054-461f-bb78-67ddb8a30147",
   "metadata": {},
   "outputs": [
    {
     "data": {
      "text/plain": [
       "(96530,\n",
       " Dataset\n",
       " BritishCarabids    63077\n",
       " Insect1M           20278\n",
       " BeetlePalooza      11372\n",
       " BeetlePUUM          1803\n",
       " Name: count, dtype: int64)"
      ]
     },
     "execution_count": 5,
     "metadata": {},
     "output_type": "execute_result"
    }
   ],
   "source": [
    "len(df), df['Dataset'].value_counts()"
   ]
  },
  {
   "cell_type": "code",
   "execution_count": 6,
   "id": "3ed26a4d-3716-46a5-a57a-e34ff8bfc839",
   "metadata": {},
   "outputs": [
    {
     "name": "stdout",
     "output_type": "stream",
     "text": [
      "Common Species Count: 68\n"
     ]
    },
    {
     "data": {
      "text/plain": [
       "(Dataset\n",
       " BritishCarabids    20466\n",
       " Name: count, dtype: int64,\n",
       " Dataset\n",
       " Insect1M    777\n",
       " Name: count, dtype: int64)"
      ]
     },
     "execution_count": 6,
     "metadata": {},
     "output_type": "execute_result"
    }
   ],
   "source": [
    "species_dataset1 = set(df[df[\"Dataset\"] == \"Insect1M\"][\"ScientificName\"].unique())\n",
    "\n",
    "species_dataset2 = set(df[df[\"Dataset\"] == \"BritishCarabids\"][\"ScientificName\"].unique())\n",
    "\n",
    "common_species = species_dataset1.intersection(species_dataset2)\n",
    "\n",
    "print(f\"Common Species Count: {len(common_species)}\")\n",
    "\n",
    "df_common = df[df[\"ScientificName\"].isin(common_species)]\n",
    "\n",
    "species_counts = df_common.groupby([\"ScientificName\", \"Dataset\"]).size().unstack(fill_value=0)\n",
    "\n",
    "train_df = df_common[df_common[\"Dataset\"] == \"BritishCarabids\"]\n",
    "\n",
    "test_df = df_common[df_common[\"Dataset\"] == \"Insect1M\"]\n",
    "\n",
    "save_dir = f\"{curr_dir}/British-Insitu-species/\"\n",
    "os.makedirs(save_dir, exist_ok=True)\n",
    "\n",
    "train_df.to_csv(f\"{save_dir}/train.csv\", index=False)\n",
    "test_df.to_csv(f\"{save_dir}/test.csv\", index=False)\n",
    "\n",
    "train_df[\"Dataset\"].value_counts(), test_df[\"Dataset\"].value_counts()"
   ]
  },
  {
   "cell_type": "code",
   "execution_count": 7,
   "id": "be0000b6-4168-492d-ada6-4b9d6ecb8b73",
   "metadata": {},
   "outputs": [
    {
     "name": "stdout",
     "output_type": "stream",
     "text": [
      "Common Species Count: 57\n"
     ]
    },
    {
     "data": {
      "text/plain": [
       "(Dataset\n",
       " BritishCarabids    59530\n",
       " Name: count, dtype: int64,\n",
       " Dataset\n",
       " Insect1M    12748\n",
       " Name: count, dtype: int64)"
      ]
     },
     "execution_count": 7,
     "metadata": {},
     "output_type": "execute_result"
    }
   ],
   "source": [
    "species_dataset1 = set(df[df[\"Dataset\"] == \"Insect1M\"][\"Genus\"].unique())\n",
    "\n",
    "species_dataset2 = set(df[df[\"Dataset\"] == \"BritishCarabids\"][\"Genus\"].unique())\n",
    "\n",
    "common_species = species_dataset1.intersection(species_dataset2)\n",
    "\n",
    "print(f\"Common Species Count: {len(common_species)}\")\n",
    "\n",
    "df_common = df[df[\"Genus\"].isin(common_species)]\n",
    "\n",
    "species_counts = df_common.groupby([\"Genus\", \"Dataset\"]).size().unstack(fill_value=0)\n",
    "\n",
    "train_df = df_common[df_common[\"Dataset\"] == \"BritishCarabids\"]\n",
    "\n",
    "test_df = df_common[df_common[\"Dataset\"] == \"Insect1M\"]\n",
    "\n",
    "save_dir = f\"{curr_dir}/British-Insitu-genus/\"\n",
    "os.makedirs(save_dir, exist_ok=True)\n",
    "\n",
    "train_df.to_csv(f\"{save_dir}/train.csv\", index=False)\n",
    "test_df.to_csv(f\"{save_dir}/test.csv\", index=False)\n",
    "\n",
    "train_df[\"Dataset\"].value_counts(), test_df[\"Dataset\"].value_counts()"
   ]
  },
  {
   "cell_type": "code",
   "execution_count": 8,
   "id": "79f9a2bc-e4c1-479e-bd9d-18351c6d4f85",
   "metadata": {},
   "outputs": [
    {
     "name": "stdout",
     "output_type": "stream",
     "text": [
      "Common Species Count: 72\n"
     ]
    },
    {
     "data": {
      "text/plain": [
       "(Dataset\n",
       " BeetlePalooza    11325\n",
       " Name: count, dtype: int64,\n",
       " Dataset\n",
       " Insect1M    1871\n",
       " Name: count, dtype: int64)"
      ]
     },
     "execution_count": 8,
     "metadata": {},
     "output_type": "execute_result"
    }
   ],
   "source": [
    "species_dataset1 = set(df[df[\"Dataset\"] == \"Insect1M\"][\"ScientificName\"].unique())\n",
    "\n",
    "species_dataset2 = set(df[df[\"Dataset\"] == \"BeetlePalooza\"][\"ScientificName\"].unique())\n",
    "\n",
    "common_species = species_dataset1.intersection(species_dataset2)\n",
    "\n",
    "print(f\"Common Species Count: {len(common_species)}\")\n",
    "\n",
    "df_common = df[df[\"ScientificName\"].isin(common_species)]\n",
    "\n",
    "species_counts = df_common.groupby([\"ScientificName\", \"Dataset\"]).size().unstack(fill_value=0)\n",
    "\n",
    "train_df = df_common[df_common[\"Dataset\"] == \"BeetlePalooza\"]\n",
    "\n",
    "test_df = df_common[df_common[\"Dataset\"] == \"Insect1M\"]\n",
    "\n",
    "save_dir = f\"{curr_dir}/Palooza-Insitu-species/\"\n",
    "os.makedirs(save_dir, exist_ok=True)\n",
    "\n",
    "train_df.to_csv(f\"{save_dir}/train.csv\", index=False)\n",
    "test_df.to_csv(f\"{save_dir}/test.csv\", index=False)\n",
    "\n",
    "train_df[\"Dataset\"].value_counts(), test_df[\"Dataset\"].value_counts()"
   ]
  },
  {
   "cell_type": "code",
   "execution_count": 9,
   "id": "d8c15f3d-3fd6-4777-980a-02e66ea155aa",
   "metadata": {},
   "outputs": [
    {
     "name": "stdout",
     "output_type": "stream",
     "text": [
      "Common Species Count: 33\n"
     ]
    },
    {
     "data": {
      "text/plain": [
       "(Dataset\n",
       " BeetlePalooza    11372\n",
       " Name: count, dtype: int64,\n",
       " Dataset\n",
       " Insect1M    11480\n",
       " Name: count, dtype: int64)"
      ]
     },
     "execution_count": 9,
     "metadata": {},
     "output_type": "execute_result"
    }
   ],
   "source": [
    "species_dataset1 = set(df[df[\"Dataset\"] == \"Insect1M\"][\"Genus\"].unique())\n",
    "\n",
    "species_dataset2 = set(df[df[\"Dataset\"] == \"BeetlePalooza\"][\"Genus\"].unique())\n",
    "\n",
    "common_species = species_dataset1.intersection(species_dataset2)\n",
    "\n",
    "print(f\"Common Species Count: {len(common_species)}\")\n",
    "\n",
    "df_common = df[df[\"Genus\"].isin(common_species)]\n",
    "\n",
    "species_counts = df_common.groupby([\"Genus\", \"Dataset\"]).size().unstack(fill_value=0)\n",
    "\n",
    "train_df = df_common[df_common[\"Dataset\"] == \"BeetlePalooza\"]\n",
    "\n",
    "test_df = df_common[df_common[\"Dataset\"] == \"Insect1M\"]\n",
    "\n",
    "save_dir = f\"{curr_dir}/Palooza-Insitu-genus/\"\n",
    "os.makedirs(save_dir, exist_ok=True)\n",
    "\n",
    "train_df.to_csv(f\"{save_dir}/train.csv\", index=False)\n",
    "test_df.to_csv(f\"{save_dir}/test.csv\", index=False)\n",
    "\n",
    "train_df[\"Dataset\"].value_counts(), test_df[\"Dataset\"].value_counts()"
   ]
  },
  {
   "cell_type": "code",
   "execution_count": 10,
   "id": "5e7e235f-a992-4bd7-8fe3-8a8a018d4c01",
   "metadata": {},
   "outputs": [
    {
     "name": "stdout",
     "output_type": "stream",
     "text": [
      "Common Species Count: 16\n"
     ]
    },
    {
     "data": {
      "text/plain": [
       "(Dataset\n",
       " BritishCarabids    35951\n",
       " Name: count, dtype: int64,\n",
       " Dataset\n",
       " BeetlePalooza    9439\n",
       " Name: count, dtype: int64)"
      ]
     },
     "execution_count": 10,
     "metadata": {},
     "output_type": "execute_result"
    }
   ],
   "source": [
    "species_dataset1 = set(df[df[\"Dataset\"] == \"BritishCarabids\"][\"Genus\"].unique())\n",
    "\n",
    "species_dataset2 = set(df[df[\"Dataset\"] == \"BeetlePalooza\"][\"Genus\"].unique())\n",
    "\n",
    "common_species = species_dataset1.intersection(species_dataset2)\n",
    "\n",
    "print(f\"Common Species Count: {len(common_species)}\")\n",
    "\n",
    "df_common = df[df[\"Genus\"].isin(common_species)]\n",
    "\n",
    "species_counts = df_common.groupby([\"Genus\", \"Dataset\"]).size().unstack(fill_value=0)\n",
    "\n",
    "train_df = df_common[df_common[\"Dataset\"] == \"BritishCarabids\"]\n",
    "\n",
    "test_df = df_common[df_common[\"Dataset\"] == \"BeetlePalooza\"]\n",
    "\n",
    "save_dir = f\"{curr_dir}/British-Palooza-genus/\"\n",
    "os.makedirs(save_dir, exist_ok=True)\n",
    "\n",
    "train_df.to_csv(f\"{save_dir}/train.csv\", index=False)\n",
    "test_df.to_csv(f\"{save_dir}/test.csv\", index=False)\n",
    "\n",
    "train_df[\"Dataset\"].value_counts(), test_df[\"Dataset\"].value_counts()"
   ]
  },
  {
   "cell_type": "code",
   "execution_count": null,
   "id": "56ced6b6-77ce-4bd3-b3b7-09a8b5bc9bfe",
   "metadata": {},
   "outputs": [],
   "source": []
  },
  {
   "cell_type": "code",
   "execution_count": null,
   "id": "8b5e7b61-9b79-411a-b75a-8b1253ac761e",
   "metadata": {},
   "outputs": [],
   "source": []
  },
  {
   "cell_type": "code",
   "execution_count": null,
   "id": "346e79f8-c543-456b-88a4-76f8ddd2e1b0",
   "metadata": {},
   "outputs": [],
   "source": []
  }
 ],
 "metadata": {
  "kernelspec": {
   "display_name": "Python myenv",
   "language": "python",
   "name": "myenv"
  },
  "language_info": {
   "codemirror_mode": {
    "name": "ipython",
    "version": 3
   },
   "file_extension": ".py",
   "mimetype": "text/x-python",
   "name": "python",
   "nbconvert_exporter": "python",
   "pygments_lexer": "ipython3",
   "version": "3.9.18"
  }
 },
 "nbformat": 4,
 "nbformat_minor": 5
}
