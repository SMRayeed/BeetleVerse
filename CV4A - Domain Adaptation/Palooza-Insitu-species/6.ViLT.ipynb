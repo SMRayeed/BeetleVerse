{
 "cells": [
  {
   "cell_type": "code",
   "execution_count": 1,
   "id": "cb9b11d5-14db-49fd-92d1-47e095f3eeba",
   "metadata": {},
   "outputs": [],
   "source": [
    "import warnings\n",
    "warnings.filterwarnings(\"ignore\")"
   ]
  },
  {
   "cell_type": "code",
   "execution_count": 2,
   "id": "f080c998-f139-4f80-93d3-16d0f71e6763",
   "metadata": {},
   "outputs": [],
   "source": [
    "import torch\n",
    "import numpy as np\n",
    "import pandas as pd\n",
    "from PIL import Image\n",
    "from tqdm.notebook import tqdm \n",
    "from transformers import ViltProcessor, ViltModel\n",
    "from sklearn.preprocessing import LabelEncoder, StandardScaler\n",
    "from sklearn.model_selection import train_test_split\n",
    "from sklearn.naive_bayes import GaussianNB\n",
    "from sklearn.linear_model import LogisticRegression\n",
    "from sklearn.svm import SVC\n",
    "from sklearn.neighbors import KNeighborsClassifier\n",
    "from sklearn.ensemble import RandomForestClassifier\n",
    "from sklearn.neural_network import MLPClassifier\n",
    "from sklearn.metrics import accuracy_score, precision_score, recall_score, f1_score, balanced_accuracy_score, matthews_corrcoef"
   ]
  },
  {
   "cell_type": "code",
   "execution_count": 3,
   "id": "a6889109-bcd7-4a87-9ca9-157ed7a310b6",
   "metadata": {},
   "outputs": [],
   "source": [
    "import os\n",
    "import pandas as pd\n",
    "current_dir = os.getcwd()"
   ]
  },
  {
   "cell_type": "code",
   "execution_count": 4,
   "id": "20994e4b-3b67-4548-9734-9465756aaaac",
   "metadata": {},
   "outputs": [],
   "source": [
    "\n",
    "train_path = f\"{current_dir}/train.csv\"\n",
    "test_path = f\"{current_dir}/test.csv\"\n",
    "\n",
    "train_df = pd.read_csv(train_path)\n",
    "test_df = pd.read_csv(test_path)\n",
    "\n",
    "cols = ['ImageFilePath', 'ScientificName']\n",
    "train_df = train_df[cols].dropna()\n",
    "test_df = test_df[cols].dropna()"
   ]
  },
  {
   "cell_type": "code",
   "execution_count": null,
   "id": "136bb6d0-9cd8-448d-ba76-285c71503d41",
   "metadata": {},
   "outputs": [],
   "source": []
  },
  {
   "cell_type": "code",
   "execution_count": 5,
   "id": "d6c33fa3-0c1f-4d39-a4aa-e4f26da941fb",
   "metadata": {},
   "outputs": [],
   "source": [
    "device = \"cuda\" if torch.cuda.is_available() else \"cpu\"\n",
    "\n",
    "model_name = \"dandelin/vilt-b32-mlm\"\n",
    "\n",
    "model = ViltModel.from_pretrained(model_name).eval().to(device)\n",
    "\n",
    "processor = ViltProcessor.from_pretrained(model_name)\n"
   ]
  },
  {
   "cell_type": "code",
   "execution_count": 6,
   "id": "45e70ee2-7499-412c-b08f-a4ad89348a80",
   "metadata": {},
   "outputs": [],
   "source": [
    "def extract_features(image_path, taxa) :\n",
    "    \n",
    "    image = Image.open(image_path).convert(\"RGB\")\n",
    "    \n",
    "    text = f\"This is an image of a beetle, of species : {taxa}\"\n",
    "    \n",
    "    inputs = processor(images=image, text=text, return_tensors=\"pt\").to(device)\n",
    "    \n",
    "    with torch.no_grad():\n",
    "        outputs = model(**inputs)\n",
    "    \n",
    "    features = outputs.last_hidden_state.mean(dim=1)\n",
    "    \n",
    "    return features.cpu().numpy().flatten()\n",
    "    "
   ]
  },
  {
   "cell_type": "code",
   "execution_count": null,
   "id": "98518101-2ca8-4fd1-acbc-c6ae82ef07d2",
   "metadata": {},
   "outputs": [],
   "source": []
  },
  {
   "cell_type": "code",
   "execution_count": 7,
   "id": "7427b056-3f7c-4c16-a213-76433fb9ca6e",
   "metadata": {},
   "outputs": [
    {
     "data": {
      "application/vnd.jupyter.widget-view+json": {
       "model_id": "0bd79fdcac0244d7a596c0319f37cbc2",
       "version_major": 2,
       "version_minor": 0
      },
      "text/plain": [
       "Processing ....: 0it [00:00, ?it/s]"
      ]
     },
     "metadata": {},
     "output_type": "display_data"
    },
    {
     "data": {
      "application/vnd.jupyter.widget-view+json": {
       "model_id": "f71b8af9caf745d9bb133ecd0cdb964f",
       "version_major": 2,
       "version_minor": 0
      },
      "text/plain": [
       "Processing ....: 0it [00:00, ?it/s]"
      ]
     },
     "metadata": {},
     "output_type": "display_data"
    }
   ],
   "source": [
    "\n",
    "X_train = np.vstack([extract_features(img, taxa) for img, taxa in tqdm(zip(train_df[\"ImageFilePath\"], train_df[\"ScientificName\"]), desc=\"Processing ....\") ])\n",
    "\n",
    "X_test = np.vstack([extract_features(img, taxa) for img, taxa in tqdm(zip(test_df[\"ImageFilePath\"], test_df[\"ScientificName\"]), desc=\"Processing ....\") ])\n",
    "\n",
    "le = LabelEncoder()\n",
    "\n",
    "all_labels = pd.concat([train_df[\"ScientificName\"], test_df[\"ScientificName\"]]).unique()\n",
    "\n",
    "le.fit(all_labels)\n",
    "\n",
    "y_train = le.transform(train_df[\"ScientificName\"])\n",
    "\n",
    "y_test = le.transform(test_df[\"ScientificName\"])\n",
    "\n",
    "scaler = StandardScaler()\n",
    "\n",
    "X_train_scaled = scaler.fit_transform(X_train)\n",
    "\n",
    "X_test_scaled = scaler.transform(X_test)\n",
    "\n"
   ]
  },
  {
   "cell_type": "code",
   "execution_count": 8,
   "id": "051dbd43-559f-46a6-8a23-103f346ff46f",
   "metadata": {},
   "outputs": [
    {
     "data": {
      "application/vnd.jupyter.widget-view+json": {
       "model_id": "3879c3b788f04a20874f819f5b546b54",
       "version_major": 2,
       "version_minor": 0
      },
      "text/plain": [
       "Training Models:   0%|          | 0/4 [00:00<?, ?it/s]"
      ]
     },
     "metadata": {},
     "output_type": "display_data"
    },
    {
     "name": "stdout",
     "output_type": "stream",
     "text": [
      "NaiveBayes                | Acc: 9.94% | Prec: 21.54% | Rec: 9.94% | F1: 10.31% | Bal Acc: 9.31% | MCC: 0.1185\n",
      "LogisticRegression        | Acc: 47.57% | Prec: 49.98% | Rec: 47.57% | F1: 42.87% | Bal Acc: 44.96% | MCC: 0.4676\n"
     ]
    },
    {
     "name": "stderr",
     "output_type": "stream",
     "text": [
      "huggingface/tokenizers: The current process just got forked, after parallelism has already been used. Disabling parallelism to avoid deadlocks...\n",
      "To disable this warning, you can either:\n",
      "\t- Avoid using `tokenizers` before the fork if possible\n",
      "\t- Explicitly set the environment variable TOKENIZERS_PARALLELISM=(true | false)\n"
     ]
    },
    {
     "name": "stdout",
     "output_type": "stream",
     "text": [
      "NearestNeighbor           | Acc: 23.57% | Prec: 33.05% | Rec: 23.57% | F1: 19.27% | Bal Acc: 19.94% | MCC: 0.2242\n",
      "MLP_Baseline              | Acc: 37.89% | Prec: 47.49% | Rec: 37.89% | F1: 34.86% | Bal Acc: 35.66% | MCC: 0.3692\n"
     ]
    }
   ],
   "source": [
    "seed = 99\n",
    "\n",
    "models = {\n",
    "    \"NaiveBayes\": GaussianNB(),\n",
    "    \"LogisticRegression\": LogisticRegression(max_iter=100),\n",
    "    \"NearestNeighbor\": KNeighborsClassifier(n_neighbors=11),  \n",
    "    \"MLP_Baseline\": MLPClassifier(hidden_layer_sizes=(100,), max_iter=200, random_state=seed)\n",
    "}\n",
    "\n",
    "predictions = {}\n",
    "\n",
    "metrics = {}\n",
    "\n",
    "\n",
    "for name, model in tqdm(models.items(), desc=\"Training Models\", leave=True):\n",
    "    \n",
    "    model.fit(X_train_scaled, y_train)\n",
    "    preds = model.predict(X_test_scaled)\n",
    "    predictions[name] = preds\n",
    "\n",
    "    acc = accuracy_score(y_test, preds)\n",
    "    prec = precision_score(y_test, preds, average=\"weighted\")\n",
    "    rec = recall_score(y_test, preds, average=\"weighted\")\n",
    "    f1 = f1_score(y_test, preds, average=\"weighted\")\n",
    "    bal_acc = balanced_accuracy_score(y_test, preds)\n",
    "    mcc = matthews_corrcoef(y_test, preds)\n",
    "\n",
    "    metrics[name] = {\"Model\": name, \"Accuracy\": acc, \"Precision\": prec, \"Recall\": rec, \"F1-Score\": f1, \"Balanced Acc\": bal_acc, \"MCC\": mcc}\n",
    "\n",
    "    print(f\"{name:<25} | Acc: {acc:.2%} | Prec: {prec:.2%} | Rec: {rec:.2%} | F1: {f1:.2%} | Bal Acc: {bal_acc:.2%} | MCC: {mcc:.4f}\")\n",
    "\n",
    "\n",
    "metrics_df = pd.DataFrame(metrics).T\n",
    "\n"
   ]
  },
  {
   "cell_type": "code",
   "execution_count": 9,
   "id": "314abdeb-4007-4fff-acfc-e8417ff45344",
   "metadata": {},
   "outputs": [
    {
     "data": {
      "text/html": [
       "<div>\n",
       "<style scoped>\n",
       "    .dataframe tbody tr th:only-of-type {\n",
       "        vertical-align: middle;\n",
       "    }\n",
       "\n",
       "    .dataframe tbody tr th {\n",
       "        vertical-align: top;\n",
       "    }\n",
       "\n",
       "    .dataframe thead th {\n",
       "        text-align: right;\n",
       "    }\n",
       "</style>\n",
       "<table border=\"1\" class=\"dataframe\">\n",
       "  <thead>\n",
       "    <tr style=\"text-align: right;\">\n",
       "      <th></th>\n",
       "      <th>ImageFilePath</th>\n",
       "      <th>ScientificName</th>\n",
       "      <th>Pred_NaiveBayes</th>\n",
       "      <th>Pred_LogisticRegression</th>\n",
       "      <th>Pred_NearestNeighbor</th>\n",
       "      <th>Pred_MLP_Baseline</th>\n",
       "    </tr>\n",
       "  </thead>\n",
       "  <tbody>\n",
       "    <tr>\n",
       "      <th>0</th>\n",
       "      <td>/fs/ess/PAS2136/Rayeed/Carabids-100K-V2/Insect...</td>\n",
       "      <td>Tetracha carolina</td>\n",
       "      <td>Harpalus paratus</td>\n",
       "      <td>Tetracha carolina</td>\n",
       "      <td>Chlaenius aestivus</td>\n",
       "      <td>Cymindis cribricollis</td>\n",
       "    </tr>\n",
       "    <tr>\n",
       "      <th>1</th>\n",
       "      <td>/fs/ess/PAS2136/Rayeed/Carabids-100K-V2/Insect...</td>\n",
       "      <td>Chlaenius aestivus</td>\n",
       "      <td>Harpalus paratus</td>\n",
       "      <td>Chlaenius aestivus</td>\n",
       "      <td>Chlaenius aestivus</td>\n",
       "      <td>Chlaenius aestivus</td>\n",
       "    </tr>\n",
       "  </tbody>\n",
       "</table>\n",
       "</div>"
      ],
      "text/plain": [
       "                                       ImageFilePath      ScientificName  \\\n",
       "0  /fs/ess/PAS2136/Rayeed/Carabids-100K-V2/Insect...   Tetracha carolina   \n",
       "1  /fs/ess/PAS2136/Rayeed/Carabids-100K-V2/Insect...  Chlaenius aestivus   \n",
       "\n",
       "    Pred_NaiveBayes Pred_LogisticRegression Pred_NearestNeighbor  \\\n",
       "0  Harpalus paratus       Tetracha carolina   Chlaenius aestivus   \n",
       "1  Harpalus paratus      Chlaenius aestivus   Chlaenius aestivus   \n",
       "\n",
       "       Pred_MLP_Baseline  \n",
       "0  Cymindis cribricollis  \n",
       "1     Chlaenius aestivus  "
      ]
     },
     "execution_count": 9,
     "metadata": {},
     "output_type": "execute_result"
    }
   ],
   "source": [
    "\n",
    "test_df = test_df.assign(**{f\"Pred_{name}\": le.inverse_transform(pred) for name, pred in predictions.items()})\n",
    "\n",
    "test_df.head(2)\n",
    "\n"
   ]
  },
  {
   "cell_type": "code",
   "execution_count": 10,
   "id": "cd2accc5-3ec5-4d1b-a0f6-e5ff1aa10b00",
   "metadata": {},
   "outputs": [],
   "source": [
    "\n",
    "# basedir = '/users/PAS2136/rayees/CV4A - Efficient Probing/BritishCarabids_10_per_species/'\n"
   ]
  },
  {
   "cell_type": "code",
   "execution_count": 11,
   "id": "c005482e-aa8d-40a7-a466-3106116bc4c8",
   "metadata": {},
   "outputs": [],
   "source": [
    "\n",
    "test_df.to_csv(f\"{current_dir}/6.ViLT.csv\", index=False)\n",
    "\n",
    "metrics_df.to_csv(f\"{current_dir}/6.ViLT-metrics.csv\", index=False)\n",
    "\n"
   ]
  },
  {
   "cell_type": "code",
   "execution_count": null,
   "id": "1ed53111-1d85-481e-bb24-422365576f3a",
   "metadata": {},
   "outputs": [],
   "source": []
  },
  {
   "cell_type": "code",
   "execution_count": null,
   "id": "15e46769-33c2-445e-962e-0dc71717d905",
   "metadata": {},
   "outputs": [],
   "source": []
  },
  {
   "cell_type": "code",
   "execution_count": null,
   "id": "38e28fe1-1b0f-4752-83ba-0c30a95977ba",
   "metadata": {},
   "outputs": [],
   "source": []
  }
 ],
 "metadata": {
  "kernelspec": {
   "display_name": "Python myenv",
   "language": "python",
   "name": "myenv"
  },
  "language_info": {
   "codemirror_mode": {
    "name": "ipython",
    "version": 3
   },
   "file_extension": ".py",
   "mimetype": "text/x-python",
   "name": "python",
   "nbconvert_exporter": "python",
   "pygments_lexer": "ipython3",
   "version": "3.9.18"
  }
 },
 "nbformat": 4,
 "nbformat_minor": 5
}
