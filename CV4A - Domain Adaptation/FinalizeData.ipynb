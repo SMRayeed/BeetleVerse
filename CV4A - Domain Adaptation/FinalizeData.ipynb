{
 "cells": [
  {
   "cell_type": "code",
   "execution_count": null,
   "id": "1e9f1233-2f26-44f8-a259-f498f2ac2cd5",
   "metadata": {},
   "outputs": [],
   "source": []
  },
  {
   "cell_type": "code",
   "execution_count": 1,
   "id": "cffeed25-0ffc-4277-94ce-3af73ef06ce4",
   "metadata": {},
   "outputs": [],
   "source": [
    "import warnings\n",
    "warnings.filterwarnings(\"ignore\")"
   ]
  },
  {
   "cell_type": "code",
   "execution_count": 2,
   "id": "6f7f7dde-9462-4809-9aad-20c9fd9bb6f5",
   "metadata": {},
   "outputs": [],
   "source": [
    "import os\n",
    "import numpy as np\n",
    "import pandas as pd"
   ]
  },
  {
   "cell_type": "code",
   "execution_count": 3,
   "id": "49bb3589-91a4-4c56-8f2b-52d704168426",
   "metadata": {},
   "outputs": [
    {
     "data": {
      "text/html": [
       "<div>\n",
       "<style scoped>\n",
       "    .dataframe tbody tr th:only-of-type {\n",
       "        vertical-align: middle;\n",
       "    }\n",
       "\n",
       "    .dataframe tbody tr th {\n",
       "        vertical-align: top;\n",
       "    }\n",
       "\n",
       "    .dataframe thead th {\n",
       "        text-align: right;\n",
       "    }\n",
       "</style>\n",
       "<table border=\"1\" class=\"dataframe\">\n",
       "  <thead>\n",
       "    <tr style=\"text-align: right;\">\n",
       "      <th></th>\n",
       "      <th>kingdom</th>\n",
       "      <th>phylum</th>\n",
       "      <th>cls</th>\n",
       "      <th>order</th>\n",
       "      <th>family</th>\n",
       "      <th>genus</th>\n",
       "      <th>species</th>\n",
       "      <th>common_name</th>\n",
       "      <th>filepath</th>\n",
       "      <th>class</th>\n",
       "    </tr>\n",
       "  </thead>\n",
       "  <tbody>\n",
       "    <tr>\n",
       "      <th>0</th>\n",
       "      <td>Animalia</td>\n",
       "      <td>Arthropoda</td>\n",
       "      <td>Insecta</td>\n",
       "      <td>Coleoptera</td>\n",
       "      <td>Carabidae</td>\n",
       "      <td>Cicindela</td>\n",
       "      <td>sexguttata</td>\n",
       "      <td>NaN</td>\n",
       "      <td>Insect-1M/Images/Arthropoda/Insecta/Coleoptera...</td>\n",
       "      <td>Cicindela sexguttata</td>\n",
       "    </tr>\n",
       "    <tr>\n",
       "      <th>1</th>\n",
       "      <td>Animalia</td>\n",
       "      <td>Arthropoda</td>\n",
       "      <td>Insecta</td>\n",
       "      <td>Coleoptera</td>\n",
       "      <td>Carabidae</td>\n",
       "      <td>Cicindela</td>\n",
       "      <td>sexguttata</td>\n",
       "      <td>NaN</td>\n",
       "      <td>Insect-1M/Images/Arthropoda/Insecta/Coleoptera...</td>\n",
       "      <td>Cicindela sexguttata</td>\n",
       "    </tr>\n",
       "  </tbody>\n",
       "</table>\n",
       "</div>"
      ],
      "text/plain": [
       "    kingdom      phylum      cls       order     family      genus  \\\n",
       "0  Animalia  Arthropoda  Insecta  Coleoptera  Carabidae  Cicindela   \n",
       "1  Animalia  Arthropoda  Insecta  Coleoptera  Carabidae  Cicindela   \n",
       "\n",
       "      species  common_name                                           filepath  \\\n",
       "0  sexguttata          NaN  Insect-1M/Images/Arthropoda/Insecta/Coleoptera...   \n",
       "1  sexguttata          NaN  Insect-1M/Images/Arthropoda/Insecta/Coleoptera...   \n",
       "\n",
       "                  class  \n",
       "0  Cicindela sexguttata  \n",
       "1  Cicindela sexguttata  "
      ]
     },
     "execution_count": 3,
     "metadata": {},
     "output_type": "execute_result"
    }
   ],
   "source": [
    "\n",
    "file_path = \"/fs/ess/PAS2136/Rayeed/Carabids-100K-V2/AllCarabids.csv\"\n",
    "\n",
    "df = pd.read_csv(file_path, sep=\"\\t\")\n",
    "\n",
    "df.head(2)\n"
   ]
  },
  {
   "cell_type": "code",
   "execution_count": 4,
   "id": "508b3d83-402f-4417-8f34-67039ef5346c",
   "metadata": {},
   "outputs": [
    {
     "data": {
      "text/html": [
       "<div>\n",
       "<style scoped>\n",
       "    .dataframe tbody tr th:only-of-type {\n",
       "        vertical-align: middle;\n",
       "    }\n",
       "\n",
       "    .dataframe tbody tr th {\n",
       "        vertical-align: top;\n",
       "    }\n",
       "\n",
       "    .dataframe thead th {\n",
       "        text-align: right;\n",
       "    }\n",
       "</style>\n",
       "<table border=\"1\" class=\"dataframe\">\n",
       "  <thead>\n",
       "    <tr style=\"text-align: right;\">\n",
       "      <th></th>\n",
       "      <th>ImageFilePath</th>\n",
       "      <th>Genus</th>\n",
       "      <th>ScientificName</th>\n",
       "      <th>Dataset</th>\n",
       "    </tr>\n",
       "  </thead>\n",
       "  <tbody>\n",
       "    <tr>\n",
       "      <th>0</th>\n",
       "      <td>/fs/ess/PAS2136/Rayeed/Carabids-100K-V2/Insect...</td>\n",
       "      <td>Cicindela</td>\n",
       "      <td>Cicindela sexguttata</td>\n",
       "      <td>Insect1M</td>\n",
       "    </tr>\n",
       "    <tr>\n",
       "      <th>1</th>\n",
       "      <td>/fs/ess/PAS2136/Rayeed/Carabids-100K-V2/Insect...</td>\n",
       "      <td>Cicindela</td>\n",
       "      <td>Cicindela sexguttata</td>\n",
       "      <td>Insect1M</td>\n",
       "    </tr>\n",
       "    <tr>\n",
       "      <th>2</th>\n",
       "      <td>/fs/ess/PAS2136/Rayeed/Carabids-100K-V2/Insect...</td>\n",
       "      <td>Cicindela</td>\n",
       "      <td>Cicindela sexguttata</td>\n",
       "      <td>Insect1M</td>\n",
       "    </tr>\n",
       "    <tr>\n",
       "      <th>3</th>\n",
       "      <td>/fs/ess/PAS2136/Rayeed/Carabids-100K-V2/Insect...</td>\n",
       "      <td>Cicindela</td>\n",
       "      <td>Cicindela sexguttata</td>\n",
       "      <td>Insect1M</td>\n",
       "    </tr>\n",
       "    <tr>\n",
       "      <th>4</th>\n",
       "      <td>/fs/ess/PAS2136/Rayeed/Carabids-100K-V2/Insect...</td>\n",
       "      <td>Calosoma</td>\n",
       "      <td>Calosoma scrutator</td>\n",
       "      <td>Insect1M</td>\n",
       "    </tr>\n",
       "  </tbody>\n",
       "</table>\n",
       "</div>"
      ],
      "text/plain": [
       "                                       ImageFilePath      Genus  \\\n",
       "0  /fs/ess/PAS2136/Rayeed/Carabids-100K-V2/Insect...  Cicindela   \n",
       "1  /fs/ess/PAS2136/Rayeed/Carabids-100K-V2/Insect...  Cicindela   \n",
       "2  /fs/ess/PAS2136/Rayeed/Carabids-100K-V2/Insect...  Cicindela   \n",
       "3  /fs/ess/PAS2136/Rayeed/Carabids-100K-V2/Insect...  Cicindela   \n",
       "4  /fs/ess/PAS2136/Rayeed/Carabids-100K-V2/Insect...   Calosoma   \n",
       "\n",
       "         ScientificName   Dataset  \n",
       "0  Cicindela sexguttata  Insect1M  \n",
       "1  Cicindela sexguttata  Insect1M  \n",
       "2  Cicindela sexguttata  Insect1M  \n",
       "3  Cicindela sexguttata  Insect1M  \n",
       "4    Calosoma scrutator  Insect1M  "
      ]
     },
     "execution_count": 4,
     "metadata": {},
     "output_type": "execute_result"
    }
   ],
   "source": [
    "dataset_mapping = {\n",
    "    'Insect-1M': 'Insect1M',\n",
    "    'BritishCarabids': 'BritishCarabids',\n",
    "    'BeetlePalooza': 'BeetlePalooza',\n",
    "    'BeetlePUUM': 'BeetlePUUM'\n",
    "}\n",
    "\n",
    "df['Dataset'] = df['filepath'].apply(lambda x: next((v for k, v in dataset_mapping.items() if k in x), np.nan))\n",
    "\n",
    "df.rename(columns={\"filepath\": \"ImageFilePath\", \"class\": \"ScientificName\"}, inplace=True)\n",
    "\n",
    "df['ImageFilePath'] = \"/fs/ess/PAS2136/Rayeed/Carabids-100K-V2/\" + df['ImageFilePath']\n",
    "\n",
    "df['Genus'] = df[\"ScientificName\"].str.split().str[0]\n",
    "\n",
    "df = df[['ImageFilePath', 'Genus', 'ScientificName', 'Dataset']]\n",
    "\n",
    "df = df.dropna()\n",
    "\n",
    "df.head(5)\n"
   ]
  },
  {
   "cell_type": "code",
   "execution_count": 5,
   "id": "14293a64-0054-461f-bb78-67ddb8a30147",
   "metadata": {},
   "outputs": [
    {
     "data": {
      "text/plain": [
       "(96530,\n",
       " Dataset\n",
       " BritishCarabids    63077\n",
       " Insect1M           20278\n",
       " BeetlePalooza      11372\n",
       " BeetlePUUM          1803\n",
       " Name: count, dtype: int64)"
      ]
     },
     "execution_count": 5,
     "metadata": {},
     "output_type": "execute_result"
    }
   ],
   "source": [
    "len(df), df['Dataset'].value_counts()"
   ]
  },
  {
   "cell_type": "code",
   "execution_count": 6,
   "id": "7f46137d-6b83-4e23-a077-354cb08c123a",
   "metadata": {},
   "outputs": [],
   "source": [
    "\n",
    "df.to_csv(f\"{os.getcwd()}/DataFinalized.csv\", index=False)\n"
   ]
  },
  {
   "cell_type": "code",
   "execution_count": null,
   "id": "e35145d4-c038-4f0c-b9dd-013b471fb3b2",
   "metadata": {},
   "outputs": [],
   "source": [
    "\n",
    "\n"
   ]
  },
  {
   "cell_type": "code",
   "execution_count": null,
   "id": "3ed26a4d-3716-46a5-a57a-e34ff8bfc839",
   "metadata": {},
   "outputs": [],
   "source": []
  },
  {
   "cell_type": "code",
   "execution_count": null,
   "id": "4327ce03-8da4-4a9d-91e6-6271e49a784b",
   "metadata": {},
   "outputs": [],
   "source": []
  }
 ],
 "metadata": {
  "kernelspec": {
   "display_name": "Python myenv",
   "language": "python",
   "name": "myenv"
  },
  "language_info": {
   "codemirror_mode": {
    "name": "ipython",
    "version": 3
   },
   "file_extension": ".py",
   "mimetype": "text/x-python",
   "name": "python",
   "nbconvert_exporter": "python",
   "pygments_lexer": "ipython3",
   "version": "3.9.18"
  }
 },
 "nbformat": 4,
 "nbformat_minor": 5
}
