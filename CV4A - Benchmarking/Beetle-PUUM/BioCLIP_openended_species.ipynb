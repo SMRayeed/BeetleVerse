{
 "cells": [
  {
   "cell_type": "code",
   "execution_count": 1,
   "id": "c9c46300-c702-467e-8b23-b73d1395efef",
   "metadata": {},
   "outputs": [],
   "source": [
    "import warnings\n",
    "warnings.filterwarnings(\"ignore\")"
   ]
  },
  {
   "cell_type": "code",
   "execution_count": 2,
   "id": "c517a3c7-a4cb-4cec-9a9b-157768d3cd78",
   "metadata": {},
   "outputs": [],
   "source": [
    "import os\n",
    "import torch\n",
    "import open_clip\n",
    "import numpy as np\n",
    "import pandas as pd\n",
    "from tqdm import tqdm\n",
    "from PIL import Image\n",
    "from torchvision import transforms\n",
    "from sklearn.metrics import accuracy_score\n",
    "from sklearn.preprocessing import LabelEncoder\n",
    "from sklearn.model_selection import train_test_split"
   ]
  },
  {
   "cell_type": "code",
   "execution_count": 3,
   "id": "37e33ba9-924b-414d-ba69-9c540c443027",
   "metadata": {},
   "outputs": [],
   "source": [
    "file_path = \"/fs/ess/PAS2136/Hawaii-2025/beetles_intake/BeetlePUUM/1. Completed_Data/CanonBeetles.csv\"\n",
    "canon_df = pd.read_csv(file_path)"
   ]
  },
  {
   "cell_type": "code",
   "execution_count": 4,
   "id": "ed32df26-2430-40f9-885b-2e0e7a47c136",
   "metadata": {},
   "outputs": [],
   "source": [
    "canon_df[\"ImageFilePath\"] = canon_df[\"cropped_image_path\"].apply(lambda x: f\"/fs/ess/PAS2136/Hawaii-2025/beetles_intake/BeetlePUUM/CANON/{x}\")"
   ]
  },
  {
   "cell_type": "code",
   "execution_count": 5,
   "id": "259e3ed0-5a04-46f2-bf51-3e8500b5421d",
   "metadata": {},
   "outputs": [
    {
     "data": {
      "text/html": [
       "<div>\n",
       "<style scoped>\n",
       "    .dataframe tbody tr th:only-of-type {\n",
       "        vertical-align: middle;\n",
       "    }\n",
       "\n",
       "    .dataframe tbody tr th {\n",
       "        vertical-align: top;\n",
       "    }\n",
       "\n",
       "    .dataframe thead th {\n",
       "        text-align: right;\n",
       "    }\n",
       "</style>\n",
       "<table border=\"1\" class=\"dataframe\">\n",
       "  <thead>\n",
       "    <tr style=\"text-align: right;\">\n",
       "      <th></th>\n",
       "      <th>ImageFilePath</th>\n",
       "      <th>Genus</th>\n",
       "      <th>ScientificName</th>\n",
       "    </tr>\n",
       "  </thead>\n",
       "  <tbody>\n",
       "    <tr>\n",
       "      <th>0</th>\n",
       "      <td>/fs/ess/PAS2136/Hawaii-2025/beetles_intake/Bee...</td>\n",
       "      <td>Mecyclothorax</td>\n",
       "      <td>Mecyclothorax konanus</td>\n",
       "    </tr>\n",
       "    <tr>\n",
       "      <th>1</th>\n",
       "      <td>/fs/ess/PAS2136/Hawaii-2025/beetles_intake/Bee...</td>\n",
       "      <td>Mecyclothorax</td>\n",
       "      <td>Mecyclothorax konanus</td>\n",
       "    </tr>\n",
       "  </tbody>\n",
       "</table>\n",
       "</div>"
      ],
      "text/plain": [
       "                                       ImageFilePath          Genus  \\\n",
       "0  /fs/ess/PAS2136/Hawaii-2025/beetles_intake/Bee...  Mecyclothorax   \n",
       "1  /fs/ess/PAS2136/Hawaii-2025/beetles_intake/Bee...  Mecyclothorax   \n",
       "\n",
       "          ScientificName  \n",
       "0  Mecyclothorax konanus  \n",
       "1  Mecyclothorax konanus  "
      ]
     },
     "execution_count": 5,
     "metadata": {},
     "output_type": "execute_result"
    }
   ],
   "source": [
    "cols = ['ImageFilePath', 'Genus', 'ScientificName']\n",
    "df = canon_df[cols]\n",
    "df.head(2)"
   ]
  },
  {
   "cell_type": "code",
   "execution_count": 6,
   "id": "18dc5a8d-63b4-47ee-88b3-6602ecade10e",
   "metadata": {},
   "outputs": [],
   "source": [
    "model, preprocess_train, preprocess_val = open_clip.create_model_and_transforms(\"hf-hub:imageomics/bioclip\")\n",
    "tokenizer = open_clip.get_tokenizer(\"hf-hub:imageomics/bioclip\")\n",
    "\n",
    "\n",
    "device = \"cuda\" if torch.cuda.is_available() else \"cpu\"\n",
    "model.to(device)\n",
    "\n",
    "\n",
    "for param in model.parameters() :\n",
    "    param.requires_grad = False\n",
    "\n",
    "\n",
    "species_list = df[\"ScientificName\"].unique().tolist() \n",
    "\n",
    "text_inputs = tokenizer(species_list).to(device)\n",
    "\n",
    "correct_predictions = total_images = 0"
   ]
  },
  {
   "cell_type": "code",
   "execution_count": null,
   "id": "6d81f9d2-9708-4682-b262-ccb3b9cda1ce",
   "metadata": {},
   "outputs": [],
   "source": []
  },
  {
   "cell_type": "code",
   "execution_count": 8,
   "id": "85fa4b9a-01c2-4f81-b73d-fc9e60f50727",
   "metadata": {},
   "outputs": [],
   "source": [
    "os.chdir(\"/users/PAS2136/rayees/pybioclip\")"
   ]
  },
  {
   "cell_type": "code",
   "execution_count": 9,
   "id": "266fff94-9072-4eaf-88df-f8abd02b83df",
   "metadata": {},
   "outputs": [],
   "source": [
    "from bioclip.predict import TreeOfLifeClassifier, Rank"
   ]
  },
  {
   "cell_type": "code",
   "execution_count": 10,
   "id": "ce3b8a8f-c4ca-40b3-b040-f2f24b52d8e8",
   "metadata": {},
   "outputs": [
    {
     "name": "stderr",
     "output_type": "stream",
     "text": [
      "Processing Images:   1%|          | 12/1622 [00:02<06:16,  4.28it/s]/users/PAS2136/rayees/myenv/lib64/python3.9/site-packages/torch/cuda/__init__.py:734: UserWarning: Can't initialize NVML\n",
      "  warnings.warn(\"Can't initialize NVML\")\n",
      "Processing Images: 100%|██████████| 1622/1622 [03:38<00:00,  7.41it/s]\n"
     ]
    }
   ],
   "source": [
    "bioClip = TreeOfLifeClassifier()\n",
    "\n",
    "df['Predictions'] = None\n",
    "\n",
    "for index, row in tqdm(df.iterrows(), total=len(df), desc=\"Processing Images\") :\n",
    "    \n",
    "    im_path = row[\"ImageFilePath\"]\n",
    "    \n",
    "    predictions = bioClip.predict(str(im_path), Rank.SPECIES)\n",
    "    \n",
    "    top_pred = max(predictions, key=lambda x: x['score'])\n",
    "    \n",
    "    df.at[index, \"Predictions\"] = top_pred\n",
    "    "
   ]
  },
  {
   "cell_type": "code",
   "execution_count": 11,
   "id": "3ec53cb3-b887-4bb2-b125-13257d99df3c",
   "metadata": {},
   "outputs": [
    {
     "data": {
      "text/html": [
       "<div>\n",
       "<style scoped>\n",
       "    .dataframe tbody tr th:only-of-type {\n",
       "        vertical-align: middle;\n",
       "    }\n",
       "\n",
       "    .dataframe tbody tr th {\n",
       "        vertical-align: top;\n",
       "    }\n",
       "\n",
       "    .dataframe thead th {\n",
       "        text-align: right;\n",
       "    }\n",
       "</style>\n",
       "<table border=\"1\" class=\"dataframe\">\n",
       "  <thead>\n",
       "    <tr style=\"text-align: right;\">\n",
       "      <th></th>\n",
       "      <th>ImageFilePath</th>\n",
       "      <th>Genus</th>\n",
       "      <th>ScientificName</th>\n",
       "      <th>Predictions</th>\n",
       "      <th>PredSpecies</th>\n",
       "    </tr>\n",
       "  </thead>\n",
       "  <tbody>\n",
       "    <tr>\n",
       "      <th>0</th>\n",
       "      <td>/fs/ess/PAS2136/Hawaii-2025/beetles_intake/Bee...</td>\n",
       "      <td>Mecyclothorax</td>\n",
       "      <td>Mecyclothorax konanus</td>\n",
       "      <td>{'file_name': '/fs/ess/PAS2136/Hawaii-2025/bee...</td>\n",
       "      <td>Pterostichus riparius</td>\n",
       "    </tr>\n",
       "    <tr>\n",
       "      <th>1</th>\n",
       "      <td>/fs/ess/PAS2136/Hawaii-2025/beetles_intake/Bee...</td>\n",
       "      <td>Mecyclothorax</td>\n",
       "      <td>Mecyclothorax konanus</td>\n",
       "      <td>{'file_name': '/fs/ess/PAS2136/Hawaii-2025/bee...</td>\n",
       "      <td>Masoreus wetterhallii</td>\n",
       "    </tr>\n",
       "  </tbody>\n",
       "</table>\n",
       "</div>"
      ],
      "text/plain": [
       "                                       ImageFilePath          Genus  \\\n",
       "0  /fs/ess/PAS2136/Hawaii-2025/beetles_intake/Bee...  Mecyclothorax   \n",
       "1  /fs/ess/PAS2136/Hawaii-2025/beetles_intake/Bee...  Mecyclothorax   \n",
       "\n",
       "          ScientificName                                        Predictions  \\\n",
       "0  Mecyclothorax konanus  {'file_name': '/fs/ess/PAS2136/Hawaii-2025/bee...   \n",
       "1  Mecyclothorax konanus  {'file_name': '/fs/ess/PAS2136/Hawaii-2025/bee...   \n",
       "\n",
       "             PredSpecies  \n",
       "0  Pterostichus riparius  \n",
       "1  Masoreus wetterhallii  "
      ]
     },
     "execution_count": 11,
     "metadata": {},
     "output_type": "execute_result"
    }
   ],
   "source": [
    "df['PredSpecies'] = df['Predictions'].apply(lambda x: x['species'] if isinstance(x, dict) else None)\n",
    "df.head(2)"
   ]
  },
  {
   "cell_type": "code",
   "execution_count": 12,
   "id": "0806d252-55fd-42b1-8301-767cf13adb6a",
   "metadata": {},
   "outputs": [
    {
     "name": "stdout",
     "output_type": "stream",
     "text": [
      "BioCLIP Open-Ended SPECIES Classification Accuracy: 1.2947% (21/1622)\n"
     ]
    }
   ],
   "source": [
    "correct_predictions = (df[\"PredSpecies\"] == df[\"ScientificName\"]).sum()\n",
    "\n",
    "total_images = len(df)\n",
    "\n",
    "accuracy = correct_predictions / total_images if total_images > 0 else 0\n",
    "\n",
    "print(f\"BioCLIP Open-Ended SPECIES Classification Accuracy: {accuracy*100:.4f}% ({correct_predictions}/{total_images})\")\n"
   ]
  },
  {
   "cell_type": "code",
   "execution_count": 13,
   "id": "6f8d309d-a192-46ef-9211-93e1fa20f8bc",
   "metadata": {},
   "outputs": [],
   "source": [
    "df.to_csv('/users/PAS2136/rayees/3. Benchmarking/Beetle-PUUM/3.BioCLIP-open-ended-species.csv',index=False)"
   ]
  },
  {
   "cell_type": "code",
   "execution_count": null,
   "id": "51760105-bf76-4385-b82b-7d1a2fee5543",
   "metadata": {},
   "outputs": [],
   "source": []
  },
  {
   "cell_type": "code",
   "execution_count": null,
   "id": "92368460-a849-4000-9399-bb090e9dc7fc",
   "metadata": {},
   "outputs": [],
   "source": []
  },
  {
   "cell_type": "code",
   "execution_count": null,
   "id": "68e34372-f76a-4a28-b7f3-9a94eadd15ef",
   "metadata": {},
   "outputs": [],
   "source": []
  }
 ],
 "metadata": {
  "kernelspec": {
   "display_name": "Python myenv",
   "language": "python",
   "name": "myenv"
  },
  "language_info": {
   "codemirror_mode": {
    "name": "ipython",
    "version": 3
   },
   "file_extension": ".py",
   "mimetype": "text/x-python",
   "name": "python",
   "nbconvert_exporter": "python",
   "pygments_lexer": "ipython3",
   "version": "3.9.18"
  }
 },
 "nbformat": 4,
 "nbformat_minor": 5
}
