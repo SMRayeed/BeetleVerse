{
 "cells": [
  {
   "cell_type": "code",
   "execution_count": 1,
   "id": "021c046e-4b73-40b6-b1b8-d74af9448bc0",
   "metadata": {},
   "outputs": [],
   "source": [
    "import torch\n",
    "import numpy as np\n",
    "import pandas as pd\n",
    "from PIL import Image\n",
    "from tqdm import tqdm\n",
    "from transformers import AutoProcessor, AutoModelForImageClassification\n",
    "from sklearn.preprocessing import LabelEncoder, StandardScaler\n",
    "from sklearn.model_selection import train_test_split\n",
    "from sklearn.naive_bayes import GaussianNB\n",
    "from sklearn.linear_model import LogisticRegression\n",
    "from sklearn.svm import SVC\n",
    "from sklearn.neighbors import KNeighborsClassifier\n",
    "from sklearn.ensemble import RandomForestClassifier\n",
    "from sklearn.neural_network import MLPClassifier\n",
    "from sklearn.metrics import accuracy_score, precision_score, recall_score, f1_score, balanced_accuracy_score, matthews_corrcoef"
   ]
  },
  {
   "cell_type": "code",
   "execution_count": 2,
   "id": "0ace137d-3c1f-44d7-b97f-7d71b8d41f81",
   "metadata": {},
   "outputs": [],
   "source": [
    "file_path = \"/fs/ess/PAS2136/Hawaii-2025/beetles_intake/BeetlePUUM/1. Completed_Data/CanonBeetles.csv\"\n",
    "\n",
    "canon_df = pd.read_csv(file_path)\n",
    "\n",
    "canon_df[\"ImageFilePath\"] = canon_df[\"cropped_image_path\"].apply(lambda x: f\"/fs/ess/PAS2136/Hawaii-2025/beetles_intake/BeetlePUUM/CANON/{x}\")\n",
    "\n",
    "cols = ['ImageFilePath', 'ScientificName']\n",
    "\n",
    "df = canon_df[cols]\n"
   ]
  },
  {
   "cell_type": "code",
   "execution_count": 3,
   "id": "23077587-e7cf-42d2-a44a-e11ff3c94220",
   "metadata": {},
   "outputs": [],
   "source": [
    "device = \"cuda\" if torch.cuda.is_available() else \"cpu\"\n",
    "\n",
    "model_name = \"microsoft/swinv2-base-patch4-window8-256\"\n",
    "\n",
    "processor = AutoProcessor.from_pretrained(model_name, use_fast=True)\n",
    "\n",
    "model = AutoModelForImageClassification.from_pretrained(model_name).to(device).eval()\n"
   ]
  },
  {
   "cell_type": "code",
   "execution_count": 4,
   "id": "e5171da7-526f-434e-96e3-e83b6c0199a9",
   "metadata": {},
   "outputs": [],
   "source": [
    "def extract_features(image_path) :\n",
    "    \n",
    "    image = Image.open(image_path).convert(\"RGB\")\n",
    "    \n",
    "    inputs = processor(images=image, return_tensors=\"pt\").to(device)\n",
    "    \n",
    "    with torch.no_grad():\n",
    "        outputs = model(**inputs)\n",
    "        features = outputs.logits\n",
    "    \n",
    "    return features.cpu().numpy()\n"
   ]
  },
  {
   "cell_type": "code",
   "execution_count": 5,
   "id": "2d317b55-c9ab-496c-91ee-adce9a516b46",
   "metadata": {},
   "outputs": [
    {
     "name": "stderr",
     "output_type": "stream",
     "text": [
      "100%|██████████| 1622/1622 [06:28<00:00,  4.18it/s]\n"
     ]
    }
   ],
   "source": [
    "X = np.vstack([extract_features(img) for img in tqdm(df[\"ImageFilePath\"])])\n",
    "\n",
    "le = LabelEncoder()\n",
    "\n",
    "y = le.fit_transform(df[\"ScientificName\"])\n",
    "\n",
    "df_indices = df.index \n",
    "\n",
    "X_train, X_test, y_train, y_test, train_idx, test_idx = train_test_split(X, y, df_indices, test_size=0.2, random_state=42)\n",
    "\n",
    "test_df = df.loc[test_idx].copy()\n",
    "\n",
    "scaler = StandardScaler()\n",
    "\n",
    "X_train_scaled = scaler.fit_transform(X_train)\n",
    "\n",
    "X_test_scaled = scaler.transform(X_test)\n"
   ]
  },
  {
   "cell_type": "code",
   "execution_count": 7,
   "id": "37e2edc9-b628-4fb8-9cdf-9fd1368f7ef8",
   "metadata": {},
   "outputs": [
    {
     "name": "stderr",
     "output_type": "stream",
     "text": [
      "/users/PAS2136/rayees/myenv/lib64/python3.9/site-packages/sklearn/metrics/_classification.py:1531: UndefinedMetricWarning: Precision is ill-defined and being set to 0.0 in labels with no predicted samples. Use `zero_division` parameter to control this behavior.\n",
      "  _warn_prf(average, modifier, f\"{metric.capitalize()} is\", len(result))\n",
      "/users/PAS2136/rayees/myenv/lib64/python3.9/site-packages/sklearn/metrics/_classification.py:1531: UndefinedMetricWarning: Recall is ill-defined and being set to 0.0 in labels with no true samples. Use `zero_division` parameter to control this behavior.\n",
      "  _warn_prf(average, modifier, f\"{metric.capitalize()} is\", len(result))\n",
      "/users/PAS2136/rayees/myenv/lib64/python3.9/site-packages/sklearn/metrics/_classification.py:2480: UserWarning: y_pred contains classes not in y_true\n",
      "  warnings.warn(\"y_pred contains classes not in y_true\")\n"
     ]
    },
    {
     "name": "stdout",
     "output_type": "stream",
     "text": [
      "NaiveBayes                | Acc: 29.54% | Prec: 56.13% | Rec: 29.54% | F1: 36.25% | Bal Acc: 22.30% | MCC: 0.1669\n"
     ]
    },
    {
     "name": "stderr",
     "output_type": "stream",
     "text": [
      "/users/PAS2136/rayees/myenv/lib64/python3.9/site-packages/sklearn/linear_model/_logistic.py:469: ConvergenceWarning: lbfgs failed to converge (status=1):\n",
      "STOP: TOTAL NO. of ITERATIONS REACHED LIMIT.\n",
      "\n",
      "Increase the number of iterations (max_iter) or scale the data as shown in:\n",
      "    https://scikit-learn.org/stable/modules/preprocessing.html\n",
      "Please also refer to the documentation for alternative solver options:\n",
      "    https://scikit-learn.org/stable/modules/linear_model.html#logistic-regression\n",
      "  n_iter_i = _check_optimize_result(\n",
      "/users/PAS2136/rayees/myenv/lib64/python3.9/site-packages/sklearn/metrics/_classification.py:1531: UndefinedMetricWarning: Precision is ill-defined and being set to 0.0 in labels with no predicted samples. Use `zero_division` parameter to control this behavior.\n",
      "  _warn_prf(average, modifier, f\"{metric.capitalize()} is\", len(result))\n"
     ]
    },
    {
     "name": "stdout",
     "output_type": "stream",
     "text": [
      "LogisticRegression        | Acc: 88.00% | Prec: 87.02% | Rec: 88.00% | F1: 87.16% | Bal Acc: 49.24% | MCC: 0.8158\n"
     ]
    },
    {
     "name": "stderr",
     "output_type": "stream",
     "text": [
      "/users/PAS2136/rayees/myenv/lib64/python3.9/site-packages/sklearn/metrics/_classification.py:1531: UndefinedMetricWarning: Precision is ill-defined and being set to 0.0 in labels with no predicted samples. Use `zero_division` parameter to control this behavior.\n",
      "  _warn_prf(average, modifier, f\"{metric.capitalize()} is\", len(result))\n",
      "/users/PAS2136/rayees/myenv/lib64/python3.9/site-packages/sklearn/metrics/_classification.py:1531: UndefinedMetricWarning: Recall is ill-defined and being set to 0.0 in labels with no true samples. Use `zero_division` parameter to control this behavior.\n",
      "  _warn_prf(average, modifier, f\"{metric.capitalize()} is\", len(result))\n",
      "/users/PAS2136/rayees/myenv/lib64/python3.9/site-packages/sklearn/metrics/_classification.py:2480: UserWarning: y_pred contains classes not in y_true\n",
      "  warnings.warn(\"y_pred contains classes not in y_true\")\n"
     ]
    },
    {
     "name": "stdout",
     "output_type": "stream",
     "text": [
      "SVMLinear                 | Acc: 83.38% | Prec: 82.77% | Rec: 83.38% | F1: 82.90% | Bal Acc: 44.08% | MCC: 0.7500\n"
     ]
    },
    {
     "name": "stderr",
     "output_type": "stream",
     "text": [
      "/users/PAS2136/rayees/myenv/lib64/python3.9/site-packages/sklearn/metrics/_classification.py:1531: UndefinedMetricWarning: Precision is ill-defined and being set to 0.0 in labels with no predicted samples. Use `zero_division` parameter to control this behavior.\n",
      "  _warn_prf(average, modifier, f\"{metric.capitalize()} is\", len(result))\n"
     ]
    },
    {
     "name": "stdout",
     "output_type": "stream",
     "text": [
      "SVMPolynomial             | Acc: 48.92% | Prec: 42.51% | Rec: 48.92% | F1: 39.86% | Bal Acc: 10.13% | MCC: 0.0926\n"
     ]
    },
    {
     "name": "stderr",
     "output_type": "stream",
     "text": [
      "/users/PAS2136/rayees/myenv/lib64/python3.9/site-packages/sklearn/metrics/_classification.py:1531: UndefinedMetricWarning: Precision is ill-defined and being set to 0.0 in labels with no predicted samples. Use `zero_division` parameter to control this behavior.\n",
      "  _warn_prf(average, modifier, f\"{metric.capitalize()} is\", len(result))\n",
      "/users/PAS2136/rayees/myenv/lib64/python3.9/site-packages/sklearn/metrics/_classification.py:1531: UndefinedMetricWarning: Precision is ill-defined and being set to 0.0 in labels with no predicted samples. Use `zero_division` parameter to control this behavior.\n",
      "  _warn_prf(average, modifier, f\"{metric.capitalize()} is\", len(result))\n"
     ]
    },
    {
     "name": "stdout",
     "output_type": "stream",
     "text": [
      "SVMRadialBasis            | Acc: 75.38% | Prec: 60.12% | Rec: 75.38% | F1: 66.82% | Bal Acc: 17.27% | MCC: 0.6049\n",
      "NearestNeighbor           | Acc: 62.77% | Prec: 58.71% | Rec: 62.77% | F1: 59.47% | Bal Acc: 19.83% | MCC: 0.3949\n"
     ]
    },
    {
     "name": "stderr",
     "output_type": "stream",
     "text": [
      "/users/PAS2136/rayees/myenv/lib64/python3.9/site-packages/sklearn/metrics/_classification.py:1531: UndefinedMetricWarning: Precision is ill-defined and being set to 0.0 in labels with no predicted samples. Use `zero_division` parameter to control this behavior.\n",
      "  _warn_prf(average, modifier, f\"{metric.capitalize()} is\", len(result))\n"
     ]
    },
    {
     "name": "stdout",
     "output_type": "stream",
     "text": [
      "RandomForest              | Acc: 69.23% | Prec: 54.91% | Rec: 69.23% | F1: 61.24% | Bal Acc: 15.61% | MCC: 0.4944\n"
     ]
    },
    {
     "name": "stderr",
     "output_type": "stream",
     "text": [
      "/users/PAS2136/rayees/myenv/lib64/python3.9/site-packages/sklearn/metrics/_classification.py:1531: UndefinedMetricWarning: Precision is ill-defined and being set to 0.0 in labels with no predicted samples. Use `zero_division` parameter to control this behavior.\n",
      "  _warn_prf(average, modifier, f\"{metric.capitalize()} is\", len(result))\n"
     ]
    },
    {
     "name": "stdout",
     "output_type": "stream",
     "text": [
      "MLP_Baseline              | Acc: 88.31% | Prec: 87.62% | Rec: 88.31% | F1: 87.49% | Bal Acc: 54.51% | MCC: 0.8198\n"
     ]
    },
    {
     "name": "stderr",
     "output_type": "stream",
     "text": [
      "/users/PAS2136/rayees/myenv/lib64/python3.9/site-packages/sklearn/neural_network/_multilayer_perceptron.py:690: ConvergenceWarning: Stochastic Optimizer: Maximum iterations (200) reached and the optimization hasn't converged yet.\n",
      "  warnings.warn(\n",
      "/users/PAS2136/rayees/myenv/lib64/python3.9/site-packages/sklearn/metrics/_classification.py:1531: UndefinedMetricWarning: Precision is ill-defined and being set to 0.0 in labels with no predicted samples. Use `zero_division` parameter to control this behavior.\n",
      "  _warn_prf(average, modifier, f\"{metric.capitalize()} is\", len(result))\n"
     ]
    },
    {
     "name": "stdout",
     "output_type": "stream",
     "text": [
      "MLP_BaselineX             | Acc: 88.00% | Prec: 86.43% | Rec: 88.00% | F1: 86.68% | Bal Acc: 43.63% | MCC: 0.8140\n"
     ]
    },
    {
     "name": "stderr",
     "output_type": "stream",
     "text": [
      "/users/PAS2136/rayees/myenv/lib64/python3.9/site-packages/sklearn/metrics/_classification.py:1531: UndefinedMetricWarning: Precision is ill-defined and being set to 0.0 in labels with no predicted samples. Use `zero_division` parameter to control this behavior.\n",
      "  _warn_prf(average, modifier, f\"{metric.capitalize()} is\", len(result))\n"
     ]
    },
    {
     "name": "stdout",
     "output_type": "stream",
     "text": [
      "MLP_Deep                  | Acc: 84.31% | Prec: 80.76% | Rec: 84.31% | F1: 82.03% | Bal Acc: 37.47% | MCC: 0.7551\n"
     ]
    },
    {
     "name": "stderr",
     "output_type": "stream",
     "text": [
      "/users/PAS2136/rayees/myenv/lib64/python3.9/site-packages/sklearn/metrics/_classification.py:1531: UndefinedMetricWarning: Precision is ill-defined and being set to 0.0 in labels with no predicted samples. Use `zero_division` parameter to control this behavior.\n",
      "  _warn_prf(average, modifier, f\"{metric.capitalize()} is\", len(result))\n",
      "/users/PAS2136/rayees/myenv/lib64/python3.9/site-packages/sklearn/metrics/_classification.py:1531: UndefinedMetricWarning: Recall is ill-defined and being set to 0.0 in labels with no true samples. Use `zero_division` parameter to control this behavior.\n",
      "  _warn_prf(average, modifier, f\"{metric.capitalize()} is\", len(result))\n",
      "/users/PAS2136/rayees/myenv/lib64/python3.9/site-packages/sklearn/metrics/_classification.py:2480: UserWarning: y_pred contains classes not in y_true\n",
      "  warnings.warn(\"y_pred contains classes not in y_true\")\n"
     ]
    },
    {
     "name": "stdout",
     "output_type": "stream",
     "text": [
      "MLP_Light                 | Acc: 84.00% | Prec: 82.36% | Rec: 84.00% | F1: 82.75% | Bal Acc: 39.41% | MCC: 0.7519\n"
     ]
    },
    {
     "name": "stderr",
     "output_type": "stream",
     "text": [
      "/users/PAS2136/rayees/myenv/lib64/python3.9/site-packages/sklearn/metrics/_classification.py:1531: UndefinedMetricWarning: Precision is ill-defined and being set to 0.0 in labels with no predicted samples. Use `zero_division` parameter to control this behavior.\n",
      "  _warn_prf(average, modifier, f\"{metric.capitalize()} is\", len(result))\n"
     ]
    },
    {
     "name": "stdout",
     "output_type": "stream",
     "text": [
      "MLP_Sigmoid               | Acc: 88.31% | Prec: 87.62% | Rec: 88.31% | F1: 87.49% | Bal Acc: 54.51% | MCC: 0.8198\n"
     ]
    },
    {
     "name": "stderr",
     "output_type": "stream",
     "text": [
      "/users/PAS2136/rayees/myenv/lib64/python3.9/site-packages/sklearn/metrics/_classification.py:1531: UndefinedMetricWarning: Precision is ill-defined and being set to 0.0 in labels with no predicted samples. Use `zero_division` parameter to control this behavior.\n",
      "  _warn_prf(average, modifier, f\"{metric.capitalize()} is\", len(result))\n",
      "/users/PAS2136/rayees/myenv/lib64/python3.9/site-packages/sklearn/metrics/_classification.py:1531: UndefinedMetricWarning: Recall is ill-defined and being set to 0.0 in labels with no true samples. Use `zero_division` parameter to control this behavior.\n",
      "  _warn_prf(average, modifier, f\"{metric.capitalize()} is\", len(result))\n",
      "/users/PAS2136/rayees/myenv/lib64/python3.9/site-packages/sklearn/metrics/_classification.py:2480: UserWarning: y_pred contains classes not in y_true\n",
      "  warnings.warn(\"y_pred contains classes not in y_true\")\n"
     ]
    },
    {
     "name": "stdout",
     "output_type": "stream",
     "text": [
      "MLP_Tanh                  | Acc: 84.31% | Prec: 83.09% | Rec: 84.31% | F1: 83.41% | Bal Acc: 43.02% | MCC: 0.7595\n"
     ]
    },
    {
     "name": "stderr",
     "output_type": "stream",
     "text": [
      "/users/PAS2136/rayees/myenv/lib64/python3.9/site-packages/sklearn/metrics/_classification.py:1531: UndefinedMetricWarning: Precision is ill-defined and being set to 0.0 in labels with no predicted samples. Use `zero_division` parameter to control this behavior.\n",
      "  _warn_prf(average, modifier, f\"{metric.capitalize()} is\", len(result))\n"
     ]
    },
    {
     "name": "stdout",
     "output_type": "stream",
     "text": [
      "MLP_Regularized           | Acc: 84.00% | Prec: 81.07% | Rec: 84.00% | F1: 82.30% | Bal Acc: 38.41% | MCC: 0.7512\n",
      "MLP_SGD                   | Acc: 81.85% | Prec: 79.34% | Rec: 81.85% | F1: 80.20% | Bal Acc: 37.82% | MCC: 0.7182\n"
     ]
    },
    {
     "name": "stderr",
     "output_type": "stream",
     "text": [
      "/users/PAS2136/rayees/myenv/lib64/python3.9/site-packages/sklearn/neural_network/_multilayer_perceptron.py:690: ConvergenceWarning: Stochastic Optimizer: Maximum iterations (300) reached and the optimization hasn't converged yet.\n",
      "  warnings.warn(\n",
      "/users/PAS2136/rayees/myenv/lib64/python3.9/site-packages/sklearn/metrics/_classification.py:1531: UndefinedMetricWarning: Precision is ill-defined and being set to 0.0 in labels with no predicted samples. Use `zero_division` parameter to control this behavior.\n",
      "  _warn_prf(average, modifier, f\"{metric.capitalize()} is\", len(result))\n"
     ]
    }
   ],
   "source": [
    "seed = 45\n",
    "\n",
    "models = {\n",
    "    \"NaiveBayes\": GaussianNB(),\n",
    "    \"LogisticRegression\": LogisticRegression(max_iter=100),\n",
    "    \"SVMLinear\": SVC(kernel=\"linear\"),\n",
    "    \"SVMPolynomial\": SVC(kernel=\"poly\", degree=4),\n",
    "    \"SVMRadialBasis\": SVC(kernel=\"rbf\", degree=4),\n",
    "    \"NearestNeighbor\": KNeighborsClassifier(n_neighbors=5),\n",
    "    \"RandomForest\": RandomForestClassifier(n_estimators=100, random_state=seed),    \n",
    "    \"MLP_Baseline\": MLPClassifier(hidden_layer_sizes=(256, 128), activation='logistic', max_iter=200, random_state=seed),\n",
    "    \"MLP_BaselineX\": MLPClassifier(hidden_layer_sizes=(100,), activation='logistic', max_iter=200, random_state=seed),\n",
    "    \"MLP_Deep\": MLPClassifier(hidden_layer_sizes=(512, 256, 128), max_iter=300, random_state=seed),\n",
    "    \"MLP_Light\": MLPClassifier(hidden_layer_sizes=(64, 32), max_iter=150, random_state=seed),\n",
    "    \"MLP_Sigmoid\": MLPClassifier(hidden_layer_sizes=(256, 128), activation='logistic', max_iter=200, random_state=seed),\n",
    "    \"MLP_Tanh\": MLPClassifier(hidden_layer_sizes=(256, 128), activation='tanh', max_iter=200, random_state=seed),\n",
    "    \"MLP_Regularized\": MLPClassifier(hidden_layer_sizes=(256, 128), alpha=0.001, max_iter=250, random_state=seed),\n",
    "    \"MLP_SGD\": MLPClassifier(hidden_layer_sizes=(256, 128), solver='sgd', learning_rate='adaptive', max_iter=300, random_state=seed)\n",
    "}\n",
    "\n",
    "metrics = {}\n",
    "\n",
    "predictions = {}\n",
    "\n",
    "for name, model in models.items():\n",
    "\n",
    "    model.fit(X_train_scaled, y_train)\n",
    "    preds = model.predict(X_test_scaled)\n",
    "    predictions[name] = preds\n",
    "    \n",
    "    acc = accuracy_score(y_test, preds)\n",
    "    prec = precision_score(y_test, preds, average=\"weighted\")\n",
    "    rec = recall_score(y_test, preds, average=\"weighted\")\n",
    "    f1 = f1_score(y_test, preds, average=\"weighted\")\n",
    "    bal_acc = balanced_accuracy_score(y_test, preds)\n",
    "    mcc = matthews_corrcoef(y_test, preds)\n",
    "    \n",
    "    metrics[name] = {\"Model\": name, \"Accuracy\": acc, \"Precision\": prec, \"Recall\": rec, \"F1-Score\": f1, \"Balanced Acc\": bal_acc, \"MCC\": mcc}\n",
    "    print(f\"{name:<25} | Acc: {acc:.2%} | Prec: {prec:.2%} | Rec: {rec:.2%} | F1: {f1:.2%} | Bal Acc: {bal_acc:.2%} | MCC: {mcc:.4f}\")\n",
    "\n",
    "metrics_df = pd.DataFrame(metrics).T\n"
   ]
  },
  {
   "cell_type": "code",
   "execution_count": null,
   "id": "68c25d98-1cc4-494e-9568-c4e8ae6c38b8",
   "metadata": {},
   "outputs": [],
   "source": [
    "test_df = test_df.assign(**{f\"Pred_{name}\": le.inverse_transform(pred) for name, pred in predictions.items()})"
   ]
  },
  {
   "cell_type": "code",
   "execution_count": 3,
   "id": "f88edcee-4e2c-498b-8ca7-7269dbe720ce",
   "metadata": {},
   "outputs": [
    {
     "data": {
      "text/html": [
       "<div>\n",
       "<style scoped>\n",
       "    .dataframe tbody tr th:only-of-type {\n",
       "        vertical-align: middle;\n",
       "    }\n",
       "\n",
       "    .dataframe tbody tr th {\n",
       "        vertical-align: top;\n",
       "    }\n",
       "\n",
       "    .dataframe thead th {\n",
       "        text-align: right;\n",
       "    }\n",
       "</style>\n",
       "<table border=\"1\" class=\"dataframe\">\n",
       "  <thead>\n",
       "    <tr style=\"text-align: right;\">\n",
       "      <th></th>\n",
       "      <th>ImageFilePath</th>\n",
       "      <th>Genus</th>\n",
       "      <th>Pred_NaiveBayes</th>\n",
       "      <th>Pred_LogisticRegression</th>\n",
       "      <th>Pred_SVMLinear</th>\n",
       "      <th>Pred_SVMPolynomial</th>\n",
       "      <th>Pred_SVMRadialBasis</th>\n",
       "      <th>Pred_NearestNeighbor</th>\n",
       "      <th>Pred_RandomForest</th>\n",
       "      <th>Pred_MLP_Baseline</th>\n",
       "      <th>Pred_MLP_Deep</th>\n",
       "      <th>Pred_MLP_Light</th>\n",
       "      <th>Pred_MLP_Sigmoid</th>\n",
       "      <th>Pred_MLP_Tanh</th>\n",
       "      <th>Pred_MLP_Regularized</th>\n",
       "      <th>Pred_MLP_SGD</th>\n",
       "    </tr>\n",
       "  </thead>\n",
       "  <tbody>\n",
       "    <tr>\n",
       "      <th>270</th>\n",
       "      <td>/fs/ess/PAS2136/Hawaii-2025/beetles_intake/Bee...</td>\n",
       "      <td>Mecyclothorax</td>\n",
       "      <td>Mecyclothorax</td>\n",
       "      <td>Trechus</td>\n",
       "      <td>Trechus</td>\n",
       "      <td>Trechus</td>\n",
       "      <td>Mecyclothorax</td>\n",
       "      <td>Mecyclothorax</td>\n",
       "      <td>Trechus</td>\n",
       "      <td>Mecyclothorax</td>\n",
       "      <td>Mecyclothorax</td>\n",
       "      <td>Trechus</td>\n",
       "      <td>Trechus</td>\n",
       "      <td>Trechus</td>\n",
       "      <td>Trechus</td>\n",
       "      <td>Trechus</td>\n",
       "    </tr>\n",
       "    <tr>\n",
       "      <th>1457</th>\n",
       "      <td>/fs/ess/PAS2136/Hawaii-2025/beetles_intake/Bee...</td>\n",
       "      <td>Mecyclothorax</td>\n",
       "      <td>Mecyclothorax</td>\n",
       "      <td>Mecyclothorax</td>\n",
       "      <td>Mecyclothorax</td>\n",
       "      <td>Mecyclothorax</td>\n",
       "      <td>Mecyclothorax</td>\n",
       "      <td>Mecyclothorax</td>\n",
       "      <td>Mecyclothorax</td>\n",
       "      <td>Mecyclothorax</td>\n",
       "      <td>Mecyclothorax</td>\n",
       "      <td>Mecyclothorax</td>\n",
       "      <td>Mecyclothorax</td>\n",
       "      <td>Mecyclothorax</td>\n",
       "      <td>Mecyclothorax</td>\n",
       "      <td>Mecyclothorax</td>\n",
       "    </tr>\n",
       "  </tbody>\n",
       "</table>\n",
       "</div>"
      ],
      "text/plain": [
       "                                          ImageFilePath          Genus  \\\n",
       "270   /fs/ess/PAS2136/Hawaii-2025/beetles_intake/Bee...  Mecyclothorax   \n",
       "1457  /fs/ess/PAS2136/Hawaii-2025/beetles_intake/Bee...  Mecyclothorax   \n",
       "\n",
       "     Pred_NaiveBayes Pred_LogisticRegression Pred_SVMLinear  \\\n",
       "270    Mecyclothorax                 Trechus        Trechus   \n",
       "1457   Mecyclothorax           Mecyclothorax  Mecyclothorax   \n",
       "\n",
       "     Pred_SVMPolynomial Pred_SVMRadialBasis Pred_NearestNeighbor  \\\n",
       "270             Trechus       Mecyclothorax        Mecyclothorax   \n",
       "1457      Mecyclothorax       Mecyclothorax        Mecyclothorax   \n",
       "\n",
       "     Pred_RandomForest Pred_MLP_Baseline  Pred_MLP_Deep Pred_MLP_Light  \\\n",
       "270            Trechus     Mecyclothorax  Mecyclothorax        Trechus   \n",
       "1457     Mecyclothorax     Mecyclothorax  Mecyclothorax  Mecyclothorax   \n",
       "\n",
       "     Pred_MLP_Sigmoid  Pred_MLP_Tanh Pred_MLP_Regularized   Pred_MLP_SGD  \n",
       "270           Trechus        Trechus              Trechus        Trechus  \n",
       "1457    Mecyclothorax  Mecyclothorax        Mecyclothorax  Mecyclothorax  "
      ]
     },
     "execution_count": 3,
     "metadata": {},
     "output_type": "execute_result"
    }
   ],
   "source": [
    "test_df.head(2)"
   ]
  },
  {
   "cell_type": "code",
   "execution_count": 4,
   "id": "c299aa70-6cdf-4197-93c5-270d6bf79a8b",
   "metadata": {},
   "outputs": [
    {
     "data": {
      "text/html": [
       "<div>\n",
       "<style scoped>\n",
       "    .dataframe tbody tr th:only-of-type {\n",
       "        vertical-align: middle;\n",
       "    }\n",
       "\n",
       "    .dataframe tbody tr th {\n",
       "        vertical-align: top;\n",
       "    }\n",
       "\n",
       "    .dataframe thead th {\n",
       "        text-align: right;\n",
       "    }\n",
       "</style>\n",
       "<table border=\"1\" class=\"dataframe\">\n",
       "  <thead>\n",
       "    <tr style=\"text-align: right;\">\n",
       "      <th></th>\n",
       "      <th>Model</th>\n",
       "      <th>Accuracy</th>\n",
       "      <th>Precision</th>\n",
       "      <th>Recall</th>\n",
       "      <th>F1-Score</th>\n",
       "      <th>Balanced Acc</th>\n",
       "      <th>MCC</th>\n",
       "    </tr>\n",
       "  </thead>\n",
       "  <tbody>\n",
       "    <tr>\n",
       "      <th>NaiveBayes</th>\n",
       "      <td>NaiveBayes</td>\n",
       "      <td>0.6</td>\n",
       "      <td>0.60989</td>\n",
       "      <td>0.6</td>\n",
       "      <td>0.601852</td>\n",
       "      <td>0.371429</td>\n",
       "      <td>0.127786</td>\n",
       "    </tr>\n",
       "    <tr>\n",
       "      <th>LogisticRegression</th>\n",
       "      <td>LogisticRegression</td>\n",
       "      <td>0.7</td>\n",
       "      <td>0.7</td>\n",
       "      <td>0.7</td>\n",
       "      <td>0.7</td>\n",
       "      <td>0.728571</td>\n",
       "      <td>0.325843</td>\n",
       "    </tr>\n",
       "    <tr>\n",
       "      <th>SVMLinear</th>\n",
       "      <td>SVMLinear</td>\n",
       "      <td>0.65</td>\n",
       "      <td>0.613333</td>\n",
       "      <td>0.65</td>\n",
       "      <td>0.631034</td>\n",
       "      <td>0.395238</td>\n",
       "      <td>0.152998</td>\n",
       "    </tr>\n",
       "    <tr>\n",
       "      <th>SVMPolynomial</th>\n",
       "      <td>SVMPolynomial</td>\n",
       "      <td>0.65</td>\n",
       "      <td>0.478947</td>\n",
       "      <td>0.65</td>\n",
       "      <td>0.551515</td>\n",
       "      <td>0.309524</td>\n",
       "      <td>-0.133749</td>\n",
       "    </tr>\n",
       "    <tr>\n",
       "      <th>SVMRadialBasis</th>\n",
       "      <td>SVMRadialBasis</td>\n",
       "      <td>0.75</td>\n",
       "      <td>0.765789</td>\n",
       "      <td>0.75</td>\n",
       "      <td>0.677273</td>\n",
       "      <td>0.4</td>\n",
       "      <td>0.352611</td>\n",
       "    </tr>\n",
       "    <tr>\n",
       "      <th>NearestNeighbor</th>\n",
       "      <td>NearestNeighbor</td>\n",
       "      <td>0.65</td>\n",
       "      <td>0.613333</td>\n",
       "      <td>0.65</td>\n",
       "      <td>0.631034</td>\n",
       "      <td>0.395238</td>\n",
       "      <td>0.152998</td>\n",
       "    </tr>\n",
       "    <tr>\n",
       "      <th>RandomForest</th>\n",
       "      <td>RandomForest</td>\n",
       "      <td>0.7</td>\n",
       "      <td>0.630556</td>\n",
       "      <td>0.7</td>\n",
       "      <td>0.640179</td>\n",
       "      <td>0.37619</td>\n",
       "      <td>0.159</td>\n",
       "    </tr>\n",
       "    <tr>\n",
       "      <th>MLP_Baseline</th>\n",
       "      <td>MLP_Baseline</td>\n",
       "      <td>0.7</td>\n",
       "      <td>0.65</td>\n",
       "      <td>0.7</td>\n",
       "      <td>0.671111</td>\n",
       "      <td>0.419048</td>\n",
       "      <td>0.2385</td>\n",
       "    </tr>\n",
       "    <tr>\n",
       "      <th>MLP_Deep</th>\n",
       "      <td>MLP_Deep</td>\n",
       "      <td>0.75</td>\n",
       "      <td>0.767308</td>\n",
       "      <td>0.75</td>\n",
       "      <td>0.756734</td>\n",
       "      <td>0.795238</td>\n",
       "      <td>0.468175</td>\n",
       "    </tr>\n",
       "    <tr>\n",
       "      <th>MLP_Light</th>\n",
       "      <td>MLP_Light</td>\n",
       "      <td>0.7</td>\n",
       "      <td>0.675</td>\n",
       "      <td>0.7</td>\n",
       "      <td>0.686364</td>\n",
       "      <td>0.461905</td>\n",
       "      <td>0.312269</td>\n",
       "    </tr>\n",
       "    <tr>\n",
       "      <th>MLP_Sigmoid</th>\n",
       "      <td>MLP_Sigmoid</td>\n",
       "      <td>0.7</td>\n",
       "      <td>0.740476</td>\n",
       "      <td>0.7</td>\n",
       "      <td>0.713462</td>\n",
       "      <td>0.771429</td>\n",
       "      <td>0.39689</td>\n",
       "    </tr>\n",
       "    <tr>\n",
       "      <th>MLP_Tanh</th>\n",
       "      <td>MLP_Tanh</td>\n",
       "      <td>0.65</td>\n",
       "      <td>0.70487</td>\n",
       "      <td>0.65</td>\n",
       "      <td>0.662333</td>\n",
       "      <td>0.747619</td>\n",
       "      <td>0.344021</td>\n",
       "    </tr>\n",
       "    <tr>\n",
       "      <th>MLP_Regularized</th>\n",
       "      <td>MLP_Regularized</td>\n",
       "      <td>0.65</td>\n",
       "      <td>0.577451</td>\n",
       "      <td>0.65</td>\n",
       "      <td>0.604435</td>\n",
       "      <td>0.352381</td>\n",
       "      <td>0.05195</td>\n",
       "    </tr>\n",
       "    <tr>\n",
       "      <th>MLP_SGD</th>\n",
       "      <td>MLP_SGD</td>\n",
       "      <td>0.7</td>\n",
       "      <td>0.66</td>\n",
       "      <td>0.7</td>\n",
       "      <td>0.67931</td>\n",
       "      <td>0.419048</td>\n",
       "      <td>0.275396</td>\n",
       "    </tr>\n",
       "  </tbody>\n",
       "</table>\n",
       "</div>"
      ],
      "text/plain": [
       "                                 Model Accuracy Precision Recall  F1-Score  \\\n",
       "NaiveBayes                  NaiveBayes      0.6   0.60989    0.6  0.601852   \n",
       "LogisticRegression  LogisticRegression      0.7       0.7    0.7       0.7   \n",
       "SVMLinear                    SVMLinear     0.65  0.613333   0.65  0.631034   \n",
       "SVMPolynomial            SVMPolynomial     0.65  0.478947   0.65  0.551515   \n",
       "SVMRadialBasis          SVMRadialBasis     0.75  0.765789   0.75  0.677273   \n",
       "NearestNeighbor        NearestNeighbor     0.65  0.613333   0.65  0.631034   \n",
       "RandomForest              RandomForest      0.7  0.630556    0.7  0.640179   \n",
       "MLP_Baseline              MLP_Baseline      0.7      0.65    0.7  0.671111   \n",
       "MLP_Deep                      MLP_Deep     0.75  0.767308   0.75  0.756734   \n",
       "MLP_Light                    MLP_Light      0.7     0.675    0.7  0.686364   \n",
       "MLP_Sigmoid                MLP_Sigmoid      0.7  0.740476    0.7  0.713462   \n",
       "MLP_Tanh                      MLP_Tanh     0.65   0.70487   0.65  0.662333   \n",
       "MLP_Regularized        MLP_Regularized     0.65  0.577451   0.65  0.604435   \n",
       "MLP_SGD                        MLP_SGD      0.7      0.66    0.7   0.67931   \n",
       "\n",
       "                   Balanced Acc       MCC  \n",
       "NaiveBayes             0.371429  0.127786  \n",
       "LogisticRegression     0.728571  0.325843  \n",
       "SVMLinear              0.395238  0.152998  \n",
       "SVMPolynomial          0.309524 -0.133749  \n",
       "SVMRadialBasis              0.4  0.352611  \n",
       "NearestNeighbor        0.395238  0.152998  \n",
       "RandomForest            0.37619     0.159  \n",
       "MLP_Baseline           0.419048    0.2385  \n",
       "MLP_Deep               0.795238  0.468175  \n",
       "MLP_Light              0.461905  0.312269  \n",
       "MLP_Sigmoid            0.771429   0.39689  \n",
       "MLP_Tanh               0.747619  0.344021  \n",
       "MLP_Regularized        0.352381   0.05195  \n",
       "MLP_SGD                0.419048  0.275396  "
      ]
     },
     "execution_count": 4,
     "metadata": {},
     "output_type": "execute_result"
    }
   ],
   "source": [
    "metrics_df"
   ]
  },
  {
   "cell_type": "code",
   "execution_count": null,
   "id": "a000ad2c-4ad6-4903-9808-96c2ace30019",
   "metadata": {},
   "outputs": [],
   "source": [
    "test_df.to_csv(\"/users/PAS2136/rayees/3. Benchmarking/Beetle-PUUM/25.SWINv2-linear-probing-species.csv\", index=False)\n",
    "metrics_df.to_csv(\"/users/PAS2136/rayees/3. Benchmarking/Beetle-PUUM/25.SWINv2-linear-probing-species-metrics.csv\", index=False)"
   ]
  },
  {
   "cell_type": "code",
   "execution_count": null,
   "id": "ce4bc4cc-6624-4323-9f19-89186ecb83b8",
   "metadata": {},
   "outputs": [],
   "source": []
  },
  {
   "cell_type": "code",
   "execution_count": null,
   "id": "162cedb4-9611-4b12-bfc4-9ee7ec324e23",
   "metadata": {},
   "outputs": [],
   "source": []
  }
 ],
 "metadata": {
  "kernelspec": {
   "display_name": "Python myenv",
   "language": "python",
   "name": "myenv"
  },
  "language_info": {
   "codemirror_mode": {
    "name": "ipython",
    "version": 3
   },
   "file_extension": ".py",
   "mimetype": "text/x-python",
   "name": "python",
   "nbconvert_exporter": "python",
   "pygments_lexer": "ipython3",
   "version": "3.9.18"
  }
 },
 "nbformat": 4,
 "nbformat_minor": 5
}
