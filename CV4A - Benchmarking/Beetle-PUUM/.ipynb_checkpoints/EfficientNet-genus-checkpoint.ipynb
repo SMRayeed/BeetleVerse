{
 "cells": [
  {
   "cell_type": "code",
   "execution_count": 1,
   "id": "00dde5fe-3102-4e4d-8f51-09fd0664eda7",
   "metadata": {},
   "outputs": [],
   "source": [
    "import timm\n",
    "import torch\n",
    "import timm.data\n",
    "import numpy as np\n",
    "import pandas as pd\n",
    "from tqdm import tqdm\n",
    "from PIL import Image\n",
    "import torchvision.models as models\n",
    "import torchvision.transforms as T\n",
    "from sklearn.preprocessing import LabelEncoder, StandardScaler\n",
    "from sklearn.model_selection import train_test_split\n",
    "from sklearn.metrics import accuracy_score, precision_score, recall_score, f1_score, balanced_accuracy_score, matthews_corrcoef\n",
    "from sklearn.naive_bayes import GaussianNB\n",
    "from sklearn.linear_model import LogisticRegression\n",
    "from sklearn.svm import SVC\n",
    "from sklearn.neighbors import KNeighborsClassifier\n",
    "from sklearn.ensemble import RandomForestClassifier\n",
    "from sklearn.neural_network import MLPClassifier\n",
    "from sklearn.ensemble import RandomForestClassifier"
   ]
  },
  {
   "cell_type": "code",
   "execution_count": 2,
   "id": "ff3ec337-31ab-4503-821d-a384552d0db5",
   "metadata": {},
   "outputs": [],
   "source": [
    "file_path = \"/fs/ess/PAS2136/Hawaii-2025/beetles_intake/BeetlePUUM/1. Completed_Data/CanonBeetles.csv\"\n",
    "\n",
    "canon_df = pd.read_csv(file_path)\n",
    "\n",
    "canon_df[\"ImageFilePath\"] = canon_df[\"cropped_image_path\"].apply(lambda x: f\"/fs/ess/PAS2136/Hawaii-2025/beetles_intake/BeetlePUUM/CANON/{x}\")\n",
    "\n",
    "cols = ['ImageFilePath', 'Genus']\n",
    "\n",
    "df = canon_df[cols]\n"
   ]
  },
  {
   "cell_type": "code",
   "execution_count": 3,
   "id": "bdad8b37-2d52-4c4c-a6e8-516e911e470f",
   "metadata": {},
   "outputs": [
    {
     "data": {
      "text/html": [
       "<div>\n",
       "<style scoped>\n",
       "    .dataframe tbody tr th:only-of-type {\n",
       "        vertical-align: middle;\n",
       "    }\n",
       "\n",
       "    .dataframe tbody tr th {\n",
       "        vertical-align: top;\n",
       "    }\n",
       "\n",
       "    .dataframe thead th {\n",
       "        text-align: right;\n",
       "    }\n",
       "</style>\n",
       "<table border=\"1\" class=\"dataframe\">\n",
       "  <thead>\n",
       "    <tr style=\"text-align: right;\">\n",
       "      <th></th>\n",
       "      <th>ImageFilePath</th>\n",
       "      <th>Genus</th>\n",
       "    </tr>\n",
       "  </thead>\n",
       "  <tbody>\n",
       "    <tr>\n",
       "      <th>0</th>\n",
       "      <td>/fs/ess/PAS2136/Hawaii-2025/beetles_intake/Bee...</td>\n",
       "      <td>Mecyclothorax</td>\n",
       "    </tr>\n",
       "    <tr>\n",
       "      <th>1</th>\n",
       "      <td>/fs/ess/PAS2136/Hawaii-2025/beetles_intake/Bee...</td>\n",
       "      <td>Mecyclothorax</td>\n",
       "    </tr>\n",
       "  </tbody>\n",
       "</table>\n",
       "</div>"
      ],
      "text/plain": [
       "                                       ImageFilePath          Genus\n",
       "0  /fs/ess/PAS2136/Hawaii-2025/beetles_intake/Bee...  Mecyclothorax\n",
       "1  /fs/ess/PAS2136/Hawaii-2025/beetles_intake/Bee...  Mecyclothorax"
      ]
     },
     "execution_count": 3,
     "metadata": {},
     "output_type": "execute_result"
    }
   ],
   "source": [
    "df.head(2)\n"
   ]
  },
  {
   "cell_type": "code",
   "execution_count": 4,
   "id": "e3ca290c-8b4a-4d31-8061-b0f15f9d55fe",
   "metadata": {},
   "outputs": [
    {
     "name": "stderr",
     "output_type": "stream",
     "text": [
      "/users/PAS2136/rayees/myenv/lib64/python3.9/site-packages/timm/models/_factory.py:126: UserWarning: Mapping deprecated model name efficientnet_b3a to current efficientnet_b3.\n",
      "  model = create_fn(\n"
     ]
    }
   ],
   "source": [
    "\n",
    "model = timm.create_model('efficientnet_b3a', pretrained=True)\n",
    "\n",
    "device = \"cuda\" if torch.cuda.is_available() else \"cpu\"\n",
    "\n",
    "model.to(device)\n",
    "\n",
    "\n",
    "for param in model.parameters():\n",
    "    param.requires_grad = False\n",
    "\n",
    "\n",
    "preprocess_train = timm.data.create_transform(\n",
    "    input_size=(224, 224),\n",
    "    is_training=True,\n",
    ")\n",
    "\n",
    "preprocess_val = timm.data.create_transform(\n",
    "    input_size=(224, 224),\n",
    "    is_training=False,\n",
    ")\n",
    "\n",
    "\n",
    "transform = T.Compose([\n",
    "    T.Resize((224, 224)),\n",
    "    T.ToTensor(),\n",
    "    T.Normalize(mean=[0.485, 0.456, 0.406], std=[0.229, 0.224, 0.225]),\n",
    "])\n"
   ]
  },
  {
   "cell_type": "code",
   "execution_count": 5,
   "id": "a276805e-2c01-4b91-9d85-5e3cc7e8425d",
   "metadata": {},
   "outputs": [],
   "source": [
    "def extract_features(image_path) :\n",
    "    \n",
    "    image = Image.open(image_path).convert(\"RGB\")\n",
    "    \n",
    "    image = transform(image).unsqueeze(0).to(device)\n",
    "    \n",
    "    with torch.no_grad():\n",
    "        features = model.forward_features(image)\n",
    "    \n",
    "    return features.cpu().numpy().flatten() \n"
   ]
  },
  {
   "cell_type": "code",
   "execution_count": 6,
   "id": "d4f29cba-8703-451e-aa9c-504651d7175d",
   "metadata": {},
   "outputs": [
    {
     "name": "stderr",
     "output_type": "stream",
     "text": [
      "100%|██████████| 1622/1622 [01:19<00:00, 20.47it/s]\n"
     ]
    }
   ],
   "source": [
    "X = np.vstack([extract_features(img) for img in tqdm(df['ImageFilePath'])])\n",
    "\n",
    "le = LabelEncoder()\n",
    "\n",
    "y = le.fit_transform(df['Genus'])\n",
    "\n",
    "df_indices = df.index \n",
    "\n",
    "X_train, X_test, y_train, y_test, train_idx, test_idx = train_test_split(X, y, df_indices, test_size=0.2, random_state=42)\n",
    "\n",
    "test_df = df.loc[test_idx].copy()\n",
    "\n",
    "scaler = StandardScaler()\n",
    "\n",
    "X_train_scaled = scaler.fit_transform(X_train)\n",
    "\n",
    "X_test_scaled = scaler.transform(X_test)\n"
   ]
  },
  {
   "cell_type": "code",
   "execution_count": 7,
   "id": "2d93f844-07c0-49a1-92a1-e29b074a6e48",
   "metadata": {
    "scrolled": true
   },
   "outputs": [
    {
     "name": "stderr",
     "output_type": "stream",
     "text": [
      "/users/PAS2136/rayees/myenv/lib64/python3.9/site-packages/sklearn/metrics/_classification.py:1531: UndefinedMetricWarning: Precision is ill-defined and being set to 0.0 in labels with no predicted samples. Use `zero_division` parameter to control this behavior.\n",
      "  _warn_prf(average, modifier, f\"{metric.capitalize()} is\", len(result))\n"
     ]
    },
    {
     "name": "stdout",
     "output_type": "stream",
     "text": [
      "NaiveBayes                | Acc: 81.23% | Prec: 77.90% | Rec: 81.23% | F1: 79.28% | Bal Acc: 53.19% | MCC: 0.5843\n",
      "LogisticRegression        | Acc: 92.31% | Prec: 93.23% | Rec: 92.31% | F1: 92.22% | Bal Acc: 80.33% | MCC: 0.8503\n",
      "SVMLinear                 | Acc: 93.54% | Prec: 93.79% | Rec: 93.54% | F1: 92.18% | Bal Acc: 66.68% | MCC: 0.8621\n"
     ]
    },
    {
     "name": "stderr",
     "output_type": "stream",
     "text": [
      "/users/PAS2136/rayees/myenv/lib64/python3.9/site-packages/sklearn/metrics/_classification.py:1531: UndefinedMetricWarning: Precision is ill-defined and being set to 0.0 in labels with no predicted samples. Use `zero_division` parameter to control this behavior.\n",
      "  _warn_prf(average, modifier, f\"{metric.capitalize()} is\", len(result))\n"
     ]
    },
    {
     "name": "stdout",
     "output_type": "stream",
     "text": [
      "NearestNeighbor           | Acc: 65.54% | Prec: 63.47% | Rec: 65.54% | F1: 52.60% | Bal Acc: 33.99% | MCC: 0.0989\n",
      "MLP_Baseline              | Acc: 92.31% | Prec: 92.83% | Rec: 92.31% | F1: 91.42% | Bal Acc: 68.16% | MCC: 0.8354\n"
     ]
    },
    {
     "name": "stderr",
     "output_type": "stream",
     "text": [
      "/users/PAS2136/rayees/myenv/lib64/python3.9/site-packages/sklearn/metrics/_classification.py:1531: UndefinedMetricWarning: Recall is ill-defined and being set to 0.0 in labels with no true samples. Use `zero_division` parameter to control this behavior.\n",
      "  _warn_prf(average, modifier, f\"{metric.capitalize()} is\", len(result))\n",
      "/users/PAS2136/rayees/myenv/lib64/python3.9/site-packages/sklearn/metrics/_classification.py:2480: UserWarning: y_pred contains classes not in y_true\n",
      "  warnings.warn(\"y_pred contains classes not in y_true\")\n"
     ]
    }
   ],
   "source": [
    "models = {\n",
    "    \"NaiveBayes\": GaussianNB(),\n",
    "    \"LogisticRegression\": LogisticRegression(max_iter=100),\n",
    "    \"SVMLinear\": SVC(kernel=\"linear\"),\n",
    "    \"NearestNeighbor\": KNeighborsClassifier(n_neighbors=5),   \n",
    "    \"MLP_Baseline\": MLPClassifier(hidden_layer_sizes=(100,), max_iter=200, random_state=42)\n",
    "}\n",
    "\n",
    "predictions = {}\n",
    "\n",
    "metrics = {}\n",
    "\n",
    "for name, model in models.items():\n",
    "    \n",
    "    model.fit(X_train_scaled, y_train)\n",
    "    preds = model.predict(X_test_scaled)\n",
    "    predictions[name] = preds\n",
    "    \n",
    "    acc = accuracy_score(y_test, preds)\n",
    "    prec = precision_score(y_test, preds, average=\"weighted\")\n",
    "    rec = recall_score(y_test, preds, average=\"weighted\")\n",
    "    f1 = f1_score(y_test, preds, average=\"weighted\")\n",
    "    bal_acc = balanced_accuracy_score(y_test, preds)\n",
    "    mcc = matthews_corrcoef(y_test, preds)\n",
    "    \n",
    "    metrics[name] = {\"Model\": name, \"Accuracy\": acc, \"Precision\": prec, \"Recall\": rec, \"F1-Score\": f1, \"Balanced Acc\": bal_acc, \"MCC\": mcc}\n",
    "    print(f\"{name:<25} | Acc: {acc:.2%} | Prec: {prec:.2%} | Rec: {rec:.2%} | F1: {f1:.2%} | Bal Acc: {bal_acc:.2%} | MCC: {mcc:.4f}\")\n",
    "\n",
    "\n",
    "metrics_df = pd.DataFrame(metrics).T\n"
   ]
  },
  {
   "cell_type": "code",
   "execution_count": 8,
   "id": "278585b7-5485-4c8b-a463-702e99919908",
   "metadata": {},
   "outputs": [
    {
     "data": {
      "text/html": [
       "<div>\n",
       "<style scoped>\n",
       "    .dataframe tbody tr th:only-of-type {\n",
       "        vertical-align: middle;\n",
       "    }\n",
       "\n",
       "    .dataframe tbody tr th {\n",
       "        vertical-align: top;\n",
       "    }\n",
       "\n",
       "    .dataframe thead th {\n",
       "        text-align: right;\n",
       "    }\n",
       "</style>\n",
       "<table border=\"1\" class=\"dataframe\">\n",
       "  <thead>\n",
       "    <tr style=\"text-align: right;\">\n",
       "      <th></th>\n",
       "      <th>ImageFilePath</th>\n",
       "      <th>Genus</th>\n",
       "      <th>Pred_NaiveBayes</th>\n",
       "      <th>Pred_LogisticRegression</th>\n",
       "      <th>Pred_SVMLinear</th>\n",
       "      <th>Pred_NearestNeighbor</th>\n",
       "      <th>Pred_MLP_Baseline</th>\n",
       "    </tr>\n",
       "  </thead>\n",
       "  <tbody>\n",
       "    <tr>\n",
       "      <th>135</th>\n",
       "      <td>/fs/ess/PAS2136/Hawaii-2025/beetles_intake/Bee...</td>\n",
       "      <td>Mecyclothorax</td>\n",
       "      <td>Mecyclothorax</td>\n",
       "      <td>Mecyclothorax</td>\n",
       "      <td>Mecyclothorax</td>\n",
       "      <td>Mecyclothorax</td>\n",
       "      <td>Mecyclothorax</td>\n",
       "    </tr>\n",
       "    <tr>\n",
       "      <th>844</th>\n",
       "      <td>/fs/ess/PAS2136/Hawaii-2025/beetles_intake/Bee...</td>\n",
       "      <td>Mecyclothorax</td>\n",
       "      <td>Mecyclothorax</td>\n",
       "      <td>Mecyclothorax</td>\n",
       "      <td>Mecyclothorax</td>\n",
       "      <td>Mecyclothorax</td>\n",
       "      <td>Mecyclothorax</td>\n",
       "    </tr>\n",
       "  </tbody>\n",
       "</table>\n",
       "</div>"
      ],
      "text/plain": [
       "                                         ImageFilePath          Genus  \\\n",
       "135  /fs/ess/PAS2136/Hawaii-2025/beetles_intake/Bee...  Mecyclothorax   \n",
       "844  /fs/ess/PAS2136/Hawaii-2025/beetles_intake/Bee...  Mecyclothorax   \n",
       "\n",
       "    Pred_NaiveBayes Pred_LogisticRegression Pred_SVMLinear  \\\n",
       "135   Mecyclothorax           Mecyclothorax  Mecyclothorax   \n",
       "844   Mecyclothorax           Mecyclothorax  Mecyclothorax   \n",
       "\n",
       "    Pred_NearestNeighbor Pred_MLP_Baseline  \n",
       "135        Mecyclothorax     Mecyclothorax  \n",
       "844        Mecyclothorax     Mecyclothorax  "
      ]
     },
     "execution_count": 8,
     "metadata": {},
     "output_type": "execute_result"
    }
   ],
   "source": [
    "test_df = test_df.assign(**{f\"Pred_{name}\": le.inverse_transform(pred) for name, pred in predictions.items()})\n",
    "test_df.head(2)"
   ]
  },
  {
   "cell_type": "code",
   "execution_count": 9,
   "id": "120b8fca-5c2c-44e5-add6-0f7ebbc968c8",
   "metadata": {},
   "outputs": [
    {
     "data": {
      "text/html": [
       "<div>\n",
       "<style scoped>\n",
       "    .dataframe tbody tr th:only-of-type {\n",
       "        vertical-align: middle;\n",
       "    }\n",
       "\n",
       "    .dataframe tbody tr th {\n",
       "        vertical-align: top;\n",
       "    }\n",
       "\n",
       "    .dataframe thead th {\n",
       "        text-align: right;\n",
       "    }\n",
       "</style>\n",
       "<table border=\"1\" class=\"dataframe\">\n",
       "  <thead>\n",
       "    <tr style=\"text-align: right;\">\n",
       "      <th></th>\n",
       "      <th>Model</th>\n",
       "      <th>Accuracy</th>\n",
       "      <th>Precision</th>\n",
       "      <th>Recall</th>\n",
       "      <th>F1-Score</th>\n",
       "      <th>Balanced Acc</th>\n",
       "      <th>MCC</th>\n",
       "    </tr>\n",
       "  </thead>\n",
       "  <tbody>\n",
       "    <tr>\n",
       "      <th>NaiveBayes</th>\n",
       "      <td>NaiveBayes</td>\n",
       "      <td>0.812308</td>\n",
       "      <td>0.778984</td>\n",
       "      <td>0.812308</td>\n",
       "      <td>0.792819</td>\n",
       "      <td>0.531859</td>\n",
       "      <td>0.584278</td>\n",
       "    </tr>\n",
       "    <tr>\n",
       "      <th>LogisticRegression</th>\n",
       "      <td>LogisticRegression</td>\n",
       "      <td>0.923077</td>\n",
       "      <td>0.93235</td>\n",
       "      <td>0.923077</td>\n",
       "      <td>0.922182</td>\n",
       "      <td>0.803318</td>\n",
       "      <td>0.850316</td>\n",
       "    </tr>\n",
       "    <tr>\n",
       "      <th>SVMLinear</th>\n",
       "      <td>SVMLinear</td>\n",
       "      <td>0.935385</td>\n",
       "      <td>0.937934</td>\n",
       "      <td>0.935385</td>\n",
       "      <td>0.921756</td>\n",
       "      <td>0.666829</td>\n",
       "      <td>0.862102</td>\n",
       "    </tr>\n",
       "    <tr>\n",
       "      <th>NearestNeighbor</th>\n",
       "      <td>NearestNeighbor</td>\n",
       "      <td>0.655385</td>\n",
       "      <td>0.634658</td>\n",
       "      <td>0.655385</td>\n",
       "      <td>0.525981</td>\n",
       "      <td>0.339869</td>\n",
       "      <td>0.098856</td>\n",
       "    </tr>\n",
       "    <tr>\n",
       "      <th>MLP_Baseline</th>\n",
       "      <td>MLP_Baseline</td>\n",
       "      <td>0.923077</td>\n",
       "      <td>0.928316</td>\n",
       "      <td>0.923077</td>\n",
       "      <td>0.914172</td>\n",
       "      <td>0.681644</td>\n",
       "      <td>0.835381</td>\n",
       "    </tr>\n",
       "  </tbody>\n",
       "</table>\n",
       "</div>"
      ],
      "text/plain": [
       "                                 Model  Accuracy Precision    Recall  \\\n",
       "NaiveBayes                  NaiveBayes  0.812308  0.778984  0.812308   \n",
       "LogisticRegression  LogisticRegression  0.923077   0.93235  0.923077   \n",
       "SVMLinear                    SVMLinear  0.935385  0.937934  0.935385   \n",
       "NearestNeighbor        NearestNeighbor  0.655385  0.634658  0.655385   \n",
       "MLP_Baseline              MLP_Baseline  0.923077  0.928316  0.923077   \n",
       "\n",
       "                    F1-Score Balanced Acc       MCC  \n",
       "NaiveBayes          0.792819     0.531859  0.584278  \n",
       "LogisticRegression  0.922182     0.803318  0.850316  \n",
       "SVMLinear           0.921756     0.666829  0.862102  \n",
       "NearestNeighbor     0.525981     0.339869  0.098856  \n",
       "MLP_Baseline        0.914172     0.681644  0.835381  "
      ]
     },
     "execution_count": 9,
     "metadata": {},
     "output_type": "execute_result"
    }
   ],
   "source": [
    "metrics_df"
   ]
  },
  {
   "cell_type": "code",
   "execution_count": 10,
   "id": "0568d9e0-a2c0-42b4-9847-6c6bd7c19979",
   "metadata": {},
   "outputs": [],
   "source": [
    "test_df.to_csv(\"/users/PAS2136/rayees/3. Benchmarking/Beetle-PUUM/50.EfficientNet-linear-probing-species.csv\", index=False)\n",
    "metrics_df.to_csv(\"/users/PAS2136/rayees/3. Benchmarking/Beetle-PUUM/50.EfficientNet-linear-probing-species-metrics.csv\", index=False)"
   ]
  },
  {
   "cell_type": "code",
   "execution_count": null,
   "id": "15deda5c-07d8-41bd-9fa4-ecc551dc7243",
   "metadata": {},
   "outputs": [],
   "source": []
  },
  {
   "cell_type": "code",
   "execution_count": null,
   "id": "a8d2da71-0e9b-4f90-a14d-b63435a2cbd9",
   "metadata": {},
   "outputs": [],
   "source": []
  }
 ],
 "metadata": {
  "kernelspec": {
   "display_name": "Python myenv",
   "language": "python",
   "name": "myenv"
  },
  "language_info": {
   "codemirror_mode": {
    "name": "ipython",
    "version": 3
   },
   "file_extension": ".py",
   "mimetype": "text/x-python",
   "name": "python",
   "nbconvert_exporter": "python",
   "pygments_lexer": "ipython3",
   "version": "3.9.18"
  }
 },
 "nbformat": 4,
 "nbformat_minor": 5
}
