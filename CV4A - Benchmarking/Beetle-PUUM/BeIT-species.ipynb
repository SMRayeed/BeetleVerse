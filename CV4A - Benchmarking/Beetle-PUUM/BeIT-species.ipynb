{
 "cells": [
  {
   "cell_type": "code",
   "execution_count": 24,
   "id": "3bf5c1e2-5262-4e61-930f-d97e7e95ccb1",
   "metadata": {},
   "outputs": [],
   "source": [
    "import torch\n",
    "import numpy as np\n",
    "import pandas as pd\n",
    "from PIL import Image\n",
    "from tqdm import tqdm\n",
    "from transformers import AutoModel, AutoProcessor, BeitForMaskedImageModeling\n",
    "from sklearn.preprocessing import LabelEncoder, StandardScaler\n",
    "from sklearn.model_selection import train_test_split\n",
    "from sklearn.naive_bayes import GaussianNB\n",
    "from sklearn.linear_model import LogisticRegression\n",
    "from sklearn.svm import SVC\n",
    "from sklearn.neighbors import KNeighborsClassifier\n",
    "from sklearn.ensemble import RandomForestClassifier\n",
    "from sklearn.neural_network import MLPClassifier\n",
    "from sklearn.metrics import accuracy_score, precision_score, recall_score, f1_score, balanced_accuracy_score, matthews_corrcoef"
   ]
  },
  {
   "cell_type": "code",
   "execution_count": 25,
   "id": "fe762841-6c82-4f3d-ba5b-f85dc2c6b703",
   "metadata": {},
   "outputs": [],
   "source": [
    "file_path = \"/fs/ess/PAS2136/Hawaii-2025/beetles_intake/BeetlePUUM/1. Completed_Data/CanonBeetles.csv\"\n",
    "\n",
    "canon_df = pd.read_csv(file_path)\n",
    "\n",
    "canon_df[\"ImageFilePath\"] = canon_df[\"cropped_image_path\"].apply(lambda x: f\"/fs/ess/PAS2136/Hawaii-2025/beetles_intake/BeetlePUUM/CANON/{x}\")\n",
    "\n",
    "cols = ['ImageFilePath', 'ScientificName']\n",
    "\n",
    "df = canon_df[cols]\n"
   ]
  },
  {
   "cell_type": "code",
   "execution_count": 26,
   "id": "61859f02-a22f-4e13-bd62-e8182bf3414f",
   "metadata": {},
   "outputs": [],
   "source": [
    "device = \"cuda\" if torch.cuda.is_available() else \"cpu\"\n",
    "\n",
    "model_name = \"microsoft/beit-base-patch16-224\"\n",
    "\n",
    "model = AutoModel.from_pretrained(model_name).eval().to(\"cuda\" if torch.cuda.is_available() else \"cpu\")\n",
    "\n",
    "processor = AutoProcessor.from_pretrained(model_name)\n"
   ]
  },
  {
   "cell_type": "code",
   "execution_count": 27,
   "id": "236c790d-186a-4167-8b0f-0bfbb30a834e",
   "metadata": {},
   "outputs": [],
   "source": [
    "def extract_features(image_path):\n",
    "\n",
    "    image = Image.open(image_path).convert(\"RGB\")\n",
    "    \n",
    "    inputs = processor(images=image, return_tensors=\"pt\").to(device)\n",
    "    \n",
    "    with torch.no_grad():\n",
    "        outputs = model(**inputs)\n",
    "\n",
    "    features = outputs.last_hidden_state.mean(dim=1)\n",
    "\n",
    "    return features.cpu().numpy().flatten()\n",
    "    "
   ]
  },
  {
   "cell_type": "code",
   "execution_count": 28,
   "id": "4187b46b-1a5f-48e4-bc37-c92c10c28b03",
   "metadata": {},
   "outputs": [
    {
     "name": "stderr",
     "output_type": "stream",
     "text": [
      "100%|██████████| 1622/1622 [05:19<00:00,  5.07it/s]\n"
     ]
    }
   ],
   "source": [
    "X = np.vstack([extract_features(img) for img in tqdm(df[\"ImageFilePath\"])])\n",
    "\n",
    "le = LabelEncoder()\n",
    "\n",
    "y = le.fit_transform(df[\"ScientificName\"])\n",
    "\n",
    "df_indices = df.index \n",
    "\n",
    "X_train, X_test, y_train, y_test, train_idx, test_idx = train_test_split(X, y, df_indices, test_size=0.2, random_state=42)\n",
    "\n",
    "test_df = df.loc[test_idx].copy()\n",
    "\n",
    "scaler = StandardScaler()\n",
    "\n",
    "X_train_scaled = scaler.fit_transform(X_train)\n",
    "\n",
    "X_test_scaled = scaler.transform(X_test)\n"
   ]
  },
  {
   "cell_type": "code",
   "execution_count": null,
   "id": "01abdf5a-939c-4210-8b35-140723bcac44",
   "metadata": {},
   "outputs": [],
   "source": [
    "models = {\n",
    "    \"NaiveBayes\": GaussianNB(),\n",
    "    \"LogisticRegression\": LogisticRegression(max_iter=100),\n",
    "    \"SVMLinear\": SVC(kernel=\"linear\"),\n",
    "    \"SVMPolynomial\": SVC(kernel=\"poly\", degree=4),\n",
    "    \"SVMRadialBasis\": SVC(kernel=\"rbf\", degree=4),\n",
    "    \"NearestNeighbor\": KNeighborsClassifier(n_neighbors=5),\n",
    "    \"RandomForest\": RandomForestClassifier(n_estimators=100, random_state=42),    \n",
    "    \"MLP_Baseline\": MLPClassifier(hidden_layer_sizes=(256, 128), activation='logistic', max_iter=200, random_state=42)\n",
    "}\n",
    "\n",
    "predictions = {}\n",
    "\n",
    "metrics = {}\n",
    "\n",
    "for name, model in models.items():\n",
    "    \n",
    "    model.fit(X_train_scaled, y_train)\n",
    "    preds = model.predict(X_test_scaled)\n",
    "    predictions[name] = preds\n",
    "    \n",
    "    acc = accuracy_score(y_test, preds)\n",
    "    prec = precision_score(y_test, preds, average=\"weighted\")\n",
    "    rec = recall_score(y_test, preds, average=\"weighted\")\n",
    "    f1 = f1_score(y_test, preds, average=\"weighted\")\n",
    "    bal_acc = balanced_accuracy_score(y_test, preds)\n",
    "    mcc = matthews_corrcoef(y_test, preds)\n",
    "    \n",
    "    metrics[name] = {\"Model\": name, \"Accuracy\": acc, \"Precision\": prec, \"Recall\": rec, \"F1-Score\": f1, \"Balanced Acc\": bal_acc, \"MCC\": mcc}\n",
    "    # print(f\"{name:<25} | Acc: {acc:.2%} | Prec: {prec:.2%} | Rec: {rec:.2%} | F1: {f1:.2%} | Bal Acc: {bal_acc:.2%} | MCC: {mcc:.4f}\")\n",
    "\n",
    "\n",
    "metrics_df = pd.DataFrame(metrics).T\n"
   ]
  },
  {
   "cell_type": "code",
   "execution_count": 30,
   "id": "884b4e69-bf85-409d-9000-f14e3aba14a1",
   "metadata": {},
   "outputs": [
    {
     "data": {
      "text/html": [
       "<div>\n",
       "<style scoped>\n",
       "    .dataframe tbody tr th:only-of-type {\n",
       "        vertical-align: middle;\n",
       "    }\n",
       "\n",
       "    .dataframe tbody tr th {\n",
       "        vertical-align: top;\n",
       "    }\n",
       "\n",
       "    .dataframe thead th {\n",
       "        text-align: right;\n",
       "    }\n",
       "</style>\n",
       "<table border=\"1\" class=\"dataframe\">\n",
       "  <thead>\n",
       "    <tr style=\"text-align: right;\">\n",
       "      <th></th>\n",
       "      <th>ImageFilePath</th>\n",
       "      <th>ScientificName</th>\n",
       "      <th>Pred_NaiveBayes</th>\n",
       "      <th>Pred_LogisticRegression</th>\n",
       "      <th>Pred_SVMLinear</th>\n",
       "      <th>Pred_SVMPolynomial</th>\n",
       "      <th>Pred_SVMRadialBasis</th>\n",
       "      <th>Pred_NearestNeighbor</th>\n",
       "      <th>Pred_RandomForest</th>\n",
       "      <th>Pred_MLP_Baseline</th>\n",
       "    </tr>\n",
       "  </thead>\n",
       "  <tbody>\n",
       "    <tr>\n",
       "      <th>135</th>\n",
       "      <td>/fs/ess/PAS2136/Hawaii-2025/beetles_intake/Bee...</td>\n",
       "      <td>Mecyclothorax discedens</td>\n",
       "      <td>Mecyclothorax konanus</td>\n",
       "      <td>Mecyclothorax discedens</td>\n",
       "      <td>Mecyclothorax discedens</td>\n",
       "      <td>Mecyclothorax konanus</td>\n",
       "      <td>Mecyclothorax konanus</td>\n",
       "      <td>Mecyclothorax discedens</td>\n",
       "      <td>Mecyclothorax konanus</td>\n",
       "      <td>Mecyclothorax discedens</td>\n",
       "    </tr>\n",
       "    <tr>\n",
       "      <th>844</th>\n",
       "      <td>/fs/ess/PAS2136/Hawaii-2025/beetles_intake/Bee...</td>\n",
       "      <td>Mecyclothorax konanus</td>\n",
       "      <td>Mecyclothorax konanus</td>\n",
       "      <td>Mecyclothorax konanus</td>\n",
       "      <td>Mecyclothorax konanus</td>\n",
       "      <td>Mecyclothorax konanus</td>\n",
       "      <td>Mecyclothorax konanus</td>\n",
       "      <td>Mecyclothorax konanus</td>\n",
       "      <td>Mecyclothorax konanus</td>\n",
       "      <td>Mecyclothorax konanus</td>\n",
       "    </tr>\n",
       "  </tbody>\n",
       "</table>\n",
       "</div>"
      ],
      "text/plain": [
       "                                         ImageFilePath  \\\n",
       "135  /fs/ess/PAS2136/Hawaii-2025/beetles_intake/Bee...   \n",
       "844  /fs/ess/PAS2136/Hawaii-2025/beetles_intake/Bee...   \n",
       "\n",
       "              ScientificName        Pred_NaiveBayes  Pred_LogisticRegression  \\\n",
       "135  Mecyclothorax discedens  Mecyclothorax konanus  Mecyclothorax discedens   \n",
       "844    Mecyclothorax konanus  Mecyclothorax konanus    Mecyclothorax konanus   \n",
       "\n",
       "              Pred_SVMLinear     Pred_SVMPolynomial    Pred_SVMRadialBasis  \\\n",
       "135  Mecyclothorax discedens  Mecyclothorax konanus  Mecyclothorax konanus   \n",
       "844    Mecyclothorax konanus  Mecyclothorax konanus  Mecyclothorax konanus   \n",
       "\n",
       "        Pred_NearestNeighbor      Pred_RandomForest        Pred_MLP_Baseline  \n",
       "135  Mecyclothorax discedens  Mecyclothorax konanus  Mecyclothorax discedens  \n",
       "844    Mecyclothorax konanus  Mecyclothorax konanus    Mecyclothorax konanus  "
      ]
     },
     "execution_count": 30,
     "metadata": {},
     "output_type": "execute_result"
    }
   ],
   "source": [
    "test_df = test_df.assign(**{f\"Pred_{name}\": le.inverse_transform(pred) for name, pred in predictions.items()})\n",
    "test_df.head(2)"
   ]
  },
  {
   "cell_type": "code",
   "execution_count": 31,
   "id": "fdb846f9-237e-4bc0-ba79-94fc758a5733",
   "metadata": {},
   "outputs": [],
   "source": [
    "test_df.to_csv(\"/users/PAS2136/rayees/3. Benchmarking/Beetle-PUUM/21.BeIT-linear-probing-species.csv\", index=False)\n",
    "metrics_df.to_csv(\"/users/PAS2136/rayees/3. Benchmarking/Beetle-PUUM/21.BeIT-linear-probing-species-metrics.csv\", index=False)"
   ]
  },
  {
   "cell_type": "code",
   "execution_count": null,
   "id": "2aab6cb6-a343-4690-85f7-bc6795d231da",
   "metadata": {},
   "outputs": [],
   "source": []
  },
  {
   "cell_type": "code",
   "execution_count": null,
   "id": "cb572859-3e4d-436a-80cd-5c422349271b",
   "metadata": {},
   "outputs": [],
   "source": []
  }
 ],
 "metadata": {
  "kernelspec": {
   "display_name": "Python myenv",
   "language": "python",
   "name": "myenv"
  },
  "language_info": {
   "codemirror_mode": {
    "name": "ipython",
    "version": 3
   },
   "file_extension": ".py",
   "mimetype": "text/x-python",
   "name": "python",
   "nbconvert_exporter": "python",
   "pygments_lexer": "ipython3",
   "version": "3.9.18"
  }
 },
 "nbformat": 4,
 "nbformat_minor": 5
}
