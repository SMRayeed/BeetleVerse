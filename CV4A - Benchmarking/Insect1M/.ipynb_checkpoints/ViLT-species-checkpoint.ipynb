{
 "cells": [
  {
   "cell_type": "code",
   "execution_count": 1,
   "id": "b241d516-6831-4512-ac1c-42a744a95f8f",
   "metadata": {},
   "outputs": [],
   "source": [
    "import warnings\n",
    "warnings.filterwarnings(\"ignore\")"
   ]
  },
  {
   "cell_type": "code",
   "execution_count": 2,
   "id": "ef796d9c-78ff-40fa-84b0-47d93e25fd55",
   "metadata": {},
   "outputs": [],
   "source": [
    "import torch\n",
    "import numpy as np\n",
    "import pandas as pd\n",
    "from PIL import Image\n",
    "from tqdm.notebook import tqdm \n",
    "from transformers import ViltProcessor, ViltModel\n",
    "from sklearn.preprocessing import LabelEncoder, StandardScaler\n",
    "from sklearn.model_selection import train_test_split\n",
    "from sklearn.naive_bayes import GaussianNB\n",
    "from sklearn.linear_model import LogisticRegression\n",
    "from sklearn.svm import SVC\n",
    "from sklearn.neighbors import KNeighborsClassifier\n",
    "from sklearn.ensemble import RandomForestClassifier\n",
    "from sklearn.neural_network import MLPClassifier\n",
    "from sklearn.metrics import accuracy_score, precision_score, recall_score, f1_score, balanced_accuracy_score, matthews_corrcoef"
   ]
  },
  {
   "cell_type": "code",
   "execution_count": 3,
   "id": "250b0e30-aa8a-4820-9dd1-db8c47874a24",
   "metadata": {},
   "outputs": [
    {
     "data": {
      "text/html": [
       "<div>\n",
       "<style scoped>\n",
       "    .dataframe tbody tr th:only-of-type {\n",
       "        vertical-align: middle;\n",
       "    }\n",
       "\n",
       "    .dataframe tbody tr th {\n",
       "        vertical-align: top;\n",
       "    }\n",
       "\n",
       "    .dataframe thead th {\n",
       "        text-align: right;\n",
       "    }\n",
       "</style>\n",
       "<table border=\"1\" class=\"dataframe\">\n",
       "  <thead>\n",
       "    <tr style=\"text-align: right;\">\n",
       "      <th></th>\n",
       "      <th>ImageFilePath</th>\n",
       "      <th>ScientificName</th>\n",
       "    </tr>\n",
       "  </thead>\n",
       "  <tbody>\n",
       "    <tr>\n",
       "      <th>0</th>\n",
       "      <td>/fs/ess/PAS2136/Rayeed/Carabids-100K-V2/Insect...</td>\n",
       "      <td>Cicindela sexguttata</td>\n",
       "    </tr>\n",
       "    <tr>\n",
       "      <th>1</th>\n",
       "      <td>/fs/ess/PAS2136/Rayeed/Carabids-100K-V2/Insect...</td>\n",
       "      <td>Cicindela sexguttata</td>\n",
       "    </tr>\n",
       "  </tbody>\n",
       "</table>\n",
       "</div>"
      ],
      "text/plain": [
       "                                       ImageFilePath        ScientificName\n",
       "0  /fs/ess/PAS2136/Rayeed/Carabids-100K-V2/Insect...  Cicindela sexguttata\n",
       "1  /fs/ess/PAS2136/Rayeed/Carabids-100K-V2/Insect...  Cicindela sexguttata"
      ]
     },
     "execution_count": 3,
     "metadata": {},
     "output_type": "execute_result"
    }
   ],
   "source": [
    "file_path = \"/fs/ess/PAS2136/Rayeed/Carabids-100K-V2/AllCarabids.csv\"\n",
    "insect_df = pd.read_csv(file_path, sep=\"\\t\")\n",
    "insect_df.rename(columns={\"filepath\": \"ImageFilePath\", \"genus\" : \"Genus\", \"class\": \"ScientificName\"}, inplace=True)\n",
    "insect_df['ImageFilePath'] = \"/fs/ess/PAS2136/Rayeed/Carabids-100K-V2/\" + insect_df['ImageFilePath']\n",
    "df = insect_df[['ImageFilePath', 'ScientificName']]\n",
    "df = df.fillna(\"Unknown\")\n",
    "df.head(2)"
   ]
  },
  {
   "cell_type": "code",
   "execution_count": 4,
   "id": "6d7c592c-2d16-4bbe-af4b-2d389e6a7756",
   "metadata": {},
   "outputs": [],
   "source": [
    "device = \"cuda\" if torch.cuda.is_available() else \"cpu\"\n",
    "\n",
    "model_name = \"dandelin/vilt-b32-mlm\"\n",
    "\n",
    "model = ViltModel.from_pretrained(model_name).eval().to(device)\n",
    "\n",
    "processor = ViltProcessor.from_pretrained(model_name)\n"
   ]
  },
  {
   "cell_type": "code",
   "execution_count": 5,
   "id": "0c7eec3e-94f4-4e39-9e1e-b3058367967e",
   "metadata": {},
   "outputs": [],
   "source": [
    "def extract_features(image_path, taxa) :\n",
    "    \n",
    "    image = Image.open(image_path).convert(\"RGB\")\n",
    "    \n",
    "    text = f\"This is an image of a beetle, of species : {taxa}\"\n",
    "    \n",
    "    inputs = processor(images=image, text=text, return_tensors=\"pt\").to(device)\n",
    "    \n",
    "    with torch.no_grad():\n",
    "        outputs = model(**inputs)\n",
    "    \n",
    "    features = outputs.last_hidden_state.mean(dim=1)\n",
    "    \n",
    "    return features.cpu().numpy().flatten()\n",
    "    "
   ]
  },
  {
   "cell_type": "code",
   "execution_count": 6,
   "id": "8769b292-efc4-4d7e-bab1-32433b80f753",
   "metadata": {},
   "outputs": [
    {
     "data": {
      "application/vnd.jupyter.widget-view+json": {
       "model_id": "01a67538a7374f349c2686b379d24b9a",
       "version_major": 2,
       "version_minor": 0
      },
      "text/plain": [
       "Processing ...: 0it [00:00, ?it/s]"
      ]
     },
     "metadata": {},
     "output_type": "display_data"
    },
    {
     "data": {
      "application/vnd.jupyter.widget-view+json": {
       "model_id": "824cc5b897524694a54ff8dc1a01ef9f",
       "version_major": 2,
       "version_minor": 0
      },
      "text/plain": [
       "Processing Unknown ...:   0%|          | 0/4355 [00:00<?, ?it/s]"
      ]
     },
     "metadata": {},
     "output_type": "display_data"
    },
    {
     "name": "stdout",
     "output_type": "stream",
     "text": [
      "Train set: (77224, 768), Test set: (23661, 768)\n"
     ]
    }
   ],
   "source": [
    "# Separate known and unknown samples\n",
    "df_known = df[df[\"ScientificName\"] != \"Unknown\"]\n",
    "df_unknown = df[df[\"ScientificName\"] == \"Unknown\"]\n",
    "\n",
    "# Extract features for known samples (passing both img and taxa)\n",
    "X_known = np.vstack([\n",
    "    extract_features(img, taxa) for img, taxa in tqdm(zip(df_known[\"ImageFilePath\"], df_known[\"ScientificName\"]), desc=\"Processing ...\")\n",
    "])\n",
    "\n",
    "# Encode labels only for known species\n",
    "le = LabelEncoder()\n",
    "y_known = le.fit_transform(df_known[\"ScientificName\"])\n",
    "\n",
    "df_indices_known = df_known.index\n",
    "\n",
    "# Train-test split only on known species\n",
    "X_train, X_test_known, y_train, y_test_known, train_idx, test_idx_known = train_test_split(\n",
    "    X_known, y_known, df_indices_known, test_size=0.2, random_state=42\n",
    ")\n",
    "\n",
    "# Extract features for unknown samples (passing img but with a placeholder for taxa)\n",
    "X_test_unknown = np.vstack([\n",
    "    extract_features(img, \"Unknown\") for img in tqdm(df_unknown[\"ImageFilePath\"], desc=\"Processing Unknown ...\")\n",
    "])\n",
    "test_idx_unknown = df_unknown.index\n",
    "\n",
    "# Assign a placeholder label (-1) for unknown samples\n",
    "y_test_unknown = np.full(len(X_test_unknown), -1)\n",
    "\n",
    "# Combine known and unknown test sets\n",
    "X_test = np.vstack([X_test_known, X_test_unknown])\n",
    "y_test = np.concatenate([y_test_known, y_test_unknown])\n",
    "test_idx = np.concatenate([test_idx_known, test_idx_unknown])\n",
    "\n",
    "print(f\"Train set: {X_train.shape}, Test set: {X_test.shape}\")\n"
   ]
  },
  {
   "cell_type": "code",
   "execution_count": 7,
   "id": "ebe96a35-2dc4-46eb-806b-c9d39e390e03",
   "metadata": {},
   "outputs": [
    {
     "data": {
      "application/vnd.jupyter.widget-view+json": {
       "model_id": "8f4b2d052e0f466e894b388e98f0532e",
       "version_major": 2,
       "version_minor": 0
      },
      "text/plain": [
       "Training Models:   0%|          | 0/4 [00:00<?, ?it/s]"
      ]
     },
     "metadata": {},
     "output_type": "display_data"
    },
    {
     "name": "stdout",
     "output_type": "stream",
     "text": [
      "NaiveBayes                | Acc: 54.72% | Prec: 57.56% | Rec: 54.72% | F1: 54.46% | Bal Acc: 36.87% | MCC: 0.5561\n",
      "LogisticRegression        | Acc: 76.67% | Prec: 72.10% | Rec: 76.67% | F1: 73.51% | Bal Acc: 64.34% | MCC: 0.7796\n"
     ]
    },
    {
     "name": "stderr",
     "output_type": "stream",
     "text": [
      "huggingface/tokenizers: The current process just got forked, after parallelism has already been used. Disabling parallelism to avoid deadlocks...\n",
      "To disable this warning, you can either:\n",
      "\t- Avoid using `tokenizers` before the fork if possible\n",
      "\t- Explicitly set the environment variable TOKENIZERS_PARALLELISM=(true | false)\n"
     ]
    },
    {
     "name": "stdout",
     "output_type": "stream",
     "text": [
      "NearestNeighbor           | Acc: 61.57% | Prec: 58.44% | Rec: 61.57% | F1: 58.44% | Bal Acc: 35.41% | MCC: 0.6255\n",
      "MLP_Baseline              | Acc: 76.60% | Prec: 73.31% | Rec: 76.60% | F1: 74.15% | Bal Acc: 65.67% | MCC: 0.7794\n"
     ]
    }
   ],
   "source": [
    "\n",
    "test_df = df.loc[test_idx].copy()\n",
    "\n",
    "scaler = StandardScaler()\n",
    "\n",
    "X_train_scaled = scaler.fit_transform(X_train)\n",
    "\n",
    "X_test_scaled = scaler.transform(X_test)\n",
    "\n",
    "\n",
    "seed = 99\n",
    "\n",
    "models = {\n",
    "    \"NaiveBayes\": GaussianNB(),\n",
    "    \"LogisticRegression\": LogisticRegression(max_iter=100),\n",
    "    \"NearestNeighbor\": KNeighborsClassifier(n_neighbors=11),  \n",
    "    \"MLP_Baseline\": MLPClassifier(hidden_layer_sizes=(100,), max_iter=200, random_state=seed)\n",
    "}\n",
    "\n",
    "predictions = {}\n",
    "\n",
    "metrics = {}\n",
    "\n",
    "for name, model in tqdm(models.items(), desc=\"Training Models\", leave=True):\n",
    "    \n",
    "    model.fit(X_train_scaled, y_train)\n",
    "    preds = model.predict(X_test_scaled)\n",
    "    predictions[name] = preds\n",
    "    \n",
    "    acc = accuracy_score(y_test, preds)\n",
    "    prec = precision_score(y_test, preds, average=\"weighted\")\n",
    "    rec = recall_score(y_test, preds, average=\"weighted\")\n",
    "    f1 = f1_score(y_test, preds, average=\"weighted\")\n",
    "    bal_acc = balanced_accuracy_score(y_test, preds)\n",
    "    mcc = matthews_corrcoef(y_test, preds)\n",
    "    \n",
    "    metrics[name] = {\"Model\": name, \"Accuracy\": acc, \"Precision\": prec, \"Recall\": rec, \"F1-Score\": f1, \"Balanced Acc\": bal_acc, \"MCC\": mcc}\n",
    "    print(f\"{name:<25} | Acc: {acc:.2%} | Prec: {prec:.2%} | Rec: {rec:.2%} | F1: {f1:.2%} | Bal Acc: {bal_acc:.2%} | MCC: {mcc:.4f}\")\n",
    "\n",
    "\n",
    "metrics_df = pd.DataFrame(metrics).T\n"
   ]
  },
  {
   "cell_type": "code",
   "execution_count": 8,
   "id": "2e80e8fb-fae8-40e6-8071-f6539b5470f8",
   "metadata": {},
   "outputs": [
    {
     "data": {
      "text/html": [
       "<div>\n",
       "<style scoped>\n",
       "    .dataframe tbody tr th:only-of-type {\n",
       "        vertical-align: middle;\n",
       "    }\n",
       "\n",
       "    .dataframe tbody tr th {\n",
       "        vertical-align: top;\n",
       "    }\n",
       "\n",
       "    .dataframe thead th {\n",
       "        text-align: right;\n",
       "    }\n",
       "</style>\n",
       "<table border=\"1\" class=\"dataframe\">\n",
       "  <thead>\n",
       "    <tr style=\"text-align: right;\">\n",
       "      <th></th>\n",
       "      <th>ImageFilePath</th>\n",
       "      <th>ScientificName</th>\n",
       "      <th>Pred_NaiveBayes</th>\n",
       "      <th>Pred_LogisticRegression</th>\n",
       "      <th>Pred_NearestNeighbor</th>\n",
       "      <th>Pred_MLP_Baseline</th>\n",
       "    </tr>\n",
       "  </thead>\n",
       "  <tbody>\n",
       "    <tr>\n",
       "      <th>19596</th>\n",
       "      <td>/fs/ess/PAS2136/Rayeed/Carabids-100K-V2/Insect...</td>\n",
       "      <td>Cicindela repanda</td>\n",
       "      <td>Cicindela oregona</td>\n",
       "      <td>Cicindela repanda</td>\n",
       "      <td>Cicindela repanda</td>\n",
       "      <td>Cicindela repanda</td>\n",
       "    </tr>\n",
       "    <tr>\n",
       "      <th>18754</th>\n",
       "      <td>/fs/ess/PAS2136/Rayeed/Carabids-100K-V2/Insect...</td>\n",
       "      <td>Agonum aeruginosum</td>\n",
       "      <td>Agonum aeruginosum</td>\n",
       "      <td>Agonum aeruginosum</td>\n",
       "      <td>Cicindela sexguttata</td>\n",
       "      <td>Agonum aeruginosum</td>\n",
       "    </tr>\n",
       "  </tbody>\n",
       "</table>\n",
       "</div>"
      ],
      "text/plain": [
       "                                           ImageFilePath      ScientificName  \\\n",
       "19596  /fs/ess/PAS2136/Rayeed/Carabids-100K-V2/Insect...   Cicindela repanda   \n",
       "18754  /fs/ess/PAS2136/Rayeed/Carabids-100K-V2/Insect...  Agonum aeruginosum   \n",
       "\n",
       "          Pred_NaiveBayes Pred_LogisticRegression  Pred_NearestNeighbor  \\\n",
       "19596   Cicindela oregona       Cicindela repanda     Cicindela repanda   \n",
       "18754  Agonum aeruginosum      Agonum aeruginosum  Cicindela sexguttata   \n",
       "\n",
       "        Pred_MLP_Baseline  \n",
       "19596   Cicindela repanda  \n",
       "18754  Agonum aeruginosum  "
      ]
     },
     "execution_count": 8,
     "metadata": {},
     "output_type": "execute_result"
    }
   ],
   "source": [
    "test_df = test_df.assign(**{f\"Pred_{name}\": le.inverse_transform(pred) for name, pred in predictions.items()})\n",
    "test_df.head(2)"
   ]
  },
  {
   "cell_type": "code",
   "execution_count": 9,
   "id": "6658b5e3-7f11-46dd-b284-b259f9e0c2fe",
   "metadata": {},
   "outputs": [
    {
     "data": {
      "text/html": [
       "<div>\n",
       "<style scoped>\n",
       "    .dataframe tbody tr th:only-of-type {\n",
       "        vertical-align: middle;\n",
       "    }\n",
       "\n",
       "    .dataframe tbody tr th {\n",
       "        vertical-align: top;\n",
       "    }\n",
       "\n",
       "    .dataframe thead th {\n",
       "        text-align: right;\n",
       "    }\n",
       "</style>\n",
       "<table border=\"1\" class=\"dataframe\">\n",
       "  <thead>\n",
       "    <tr style=\"text-align: right;\">\n",
       "      <th></th>\n",
       "      <th>Model</th>\n",
       "      <th>Accuracy</th>\n",
       "      <th>Precision</th>\n",
       "      <th>Recall</th>\n",
       "      <th>F1-Score</th>\n",
       "      <th>Balanced Acc</th>\n",
       "      <th>MCC</th>\n",
       "    </tr>\n",
       "  </thead>\n",
       "  <tbody>\n",
       "    <tr>\n",
       "      <th>NaiveBayes</th>\n",
       "      <td>NaiveBayes</td>\n",
       "      <td>0.54723</td>\n",
       "      <td>0.575627</td>\n",
       "      <td>0.54723</td>\n",
       "      <td>0.544556</td>\n",
       "      <td>0.368698</td>\n",
       "      <td>0.55606</td>\n",
       "    </tr>\n",
       "    <tr>\n",
       "      <th>LogisticRegression</th>\n",
       "      <td>LogisticRegression</td>\n",
       "      <td>0.766705</td>\n",
       "      <td>0.720983</td>\n",
       "      <td>0.766705</td>\n",
       "      <td>0.735081</td>\n",
       "      <td>0.643392</td>\n",
       "      <td>0.779606</td>\n",
       "    </tr>\n",
       "    <tr>\n",
       "      <th>NearestNeighbor</th>\n",
       "      <td>NearestNeighbor</td>\n",
       "      <td>0.615697</td>\n",
       "      <td>0.584398</td>\n",
       "      <td>0.615697</td>\n",
       "      <td>0.584377</td>\n",
       "      <td>0.354126</td>\n",
       "      <td>0.625477</td>\n",
       "    </tr>\n",
       "    <tr>\n",
       "      <th>MLP_Baseline</th>\n",
       "      <td>MLP_Baseline</td>\n",
       "      <td>0.765986</td>\n",
       "      <td>0.733104</td>\n",
       "      <td>0.765986</td>\n",
       "      <td>0.741491</td>\n",
       "      <td>0.656713</td>\n",
       "      <td>0.779351</td>\n",
       "    </tr>\n",
       "  </tbody>\n",
       "</table>\n",
       "</div>"
      ],
      "text/plain": [
       "                                 Model  Accuracy Precision    Recall  \\\n",
       "NaiveBayes                  NaiveBayes   0.54723  0.575627   0.54723   \n",
       "LogisticRegression  LogisticRegression  0.766705  0.720983  0.766705   \n",
       "NearestNeighbor        NearestNeighbor  0.615697  0.584398  0.615697   \n",
       "MLP_Baseline              MLP_Baseline  0.765986  0.733104  0.765986   \n",
       "\n",
       "                    F1-Score Balanced Acc       MCC  \n",
       "NaiveBayes          0.544556     0.368698   0.55606  \n",
       "LogisticRegression  0.735081     0.643392  0.779606  \n",
       "NearestNeighbor     0.584377     0.354126  0.625477  \n",
       "MLP_Baseline        0.741491     0.656713  0.779351  "
      ]
     },
     "execution_count": 9,
     "metadata": {},
     "output_type": "execute_result"
    }
   ],
   "source": [
    "metrics_df"
   ]
  },
  {
   "cell_type": "code",
   "execution_count": 10,
   "id": "4146536f-2efe-4bd7-a8d4-c07f58faefbf",
   "metadata": {},
   "outputs": [],
   "source": [
    "test_df.to_csv(\"/users/PAS2136/rayees/3. Benchmarking/Insect1M/6.ViLT-Insect1M-species.csv\", index=False)\n",
    "metrics_df.to_csv(\"/users/PAS2136/rayees/3. Benchmarking/Insect1M/6.ViLT-linear-Insect1M-metrics.csv\", index=False)"
   ]
  },
  {
   "cell_type": "code",
   "execution_count": null,
   "id": "4a1dcd1c-340f-4622-9717-83cf7b3bd0d2",
   "metadata": {},
   "outputs": [],
   "source": []
  },
  {
   "cell_type": "code",
   "execution_count": null,
   "id": "50897d91-c897-4730-9595-9315950be14d",
   "metadata": {},
   "outputs": [],
   "source": []
  },
  {
   "cell_type": "code",
   "execution_count": null,
   "id": "1cc1d7c2-93f7-4b94-8bfe-91a088ef6a35",
   "metadata": {},
   "outputs": [],
   "source": []
  }
 ],
 "metadata": {
  "kernelspec": {
   "display_name": "Python myenv",
   "language": "python",
   "name": "myenv"
  },
  "language_info": {
   "codemirror_mode": {
    "name": "ipython",
    "version": 3
   },
   "file_extension": ".py",
   "mimetype": "text/x-python",
   "name": "python",
   "nbconvert_exporter": "python",
   "pygments_lexer": "ipython3",
   "version": "3.9.18"
  }
 },
 "nbformat": 4,
 "nbformat_minor": 5
}
