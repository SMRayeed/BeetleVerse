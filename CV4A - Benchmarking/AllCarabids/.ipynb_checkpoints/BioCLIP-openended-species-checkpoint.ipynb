{
 "cells": [
  {
   "cell_type": "code",
   "execution_count": 1,
   "id": "c9c46300-c702-467e-8b23-b73d1395efef",
   "metadata": {},
   "outputs": [],
   "source": [
    "import warnings\n",
    "warnings.filterwarnings(\"ignore\")"
   ]
  },
  {
   "cell_type": "code",
   "execution_count": 2,
   "id": "c517a3c7-a4cb-4cec-9a9b-157768d3cd78",
   "metadata": {},
   "outputs": [],
   "source": [
    "import os\n",
    "import torch\n",
    "import tempfile\n",
    "import open_clip\n",
    "import numpy as np\n",
    "import pandas as pd\n",
    "from PIL import Image\n",
    "from tqdm.notebook import tqdm\n",
    "from torchvision import transforms\n",
    "from sklearn.metrics import accuracy_score\n",
    "from sklearn.preprocessing import LabelEncoder\n",
    "from sklearn.model_selection import train_test_split"
   ]
  },
  {
   "cell_type": "code",
   "execution_count": 3,
   "id": "b93c39b5-e1af-4636-b30d-2a04cb8ab1b3",
   "metadata": {},
   "outputs": [
    {
     "data": {
      "text/html": [
       "<div>\n",
       "<style scoped>\n",
       "    .dataframe tbody tr th:only-of-type {\n",
       "        vertical-align: middle;\n",
       "    }\n",
       "\n",
       "    .dataframe tbody tr th {\n",
       "        vertical-align: top;\n",
       "    }\n",
       "\n",
       "    .dataframe thead th {\n",
       "        text-align: right;\n",
       "    }\n",
       "</style>\n",
       "<table border=\"1\" class=\"dataframe\">\n",
       "  <thead>\n",
       "    <tr style=\"text-align: right;\">\n",
       "      <th></th>\n",
       "      <th>ImageFilePath</th>\n",
       "      <th>ScientificName</th>\n",
       "    </tr>\n",
       "  </thead>\n",
       "  <tbody>\n",
       "    <tr>\n",
       "      <th>0</th>\n",
       "      <td>/fs/ess/PAS2136/Rayeed/Carabids-100K-V2/Insect...</td>\n",
       "      <td>Cicindela sexguttata</td>\n",
       "    </tr>\n",
       "    <tr>\n",
       "      <th>1</th>\n",
       "      <td>/fs/ess/PAS2136/Rayeed/Carabids-100K-V2/Insect...</td>\n",
       "      <td>Cicindela sexguttata</td>\n",
       "    </tr>\n",
       "  </tbody>\n",
       "</table>\n",
       "</div>"
      ],
      "text/plain": [
       "                                       ImageFilePath        ScientificName\n",
       "0  /fs/ess/PAS2136/Rayeed/Carabids-100K-V2/Insect...  Cicindela sexguttata\n",
       "1  /fs/ess/PAS2136/Rayeed/Carabids-100K-V2/Insect...  Cicindela sexguttata"
      ]
     },
     "execution_count": 3,
     "metadata": {},
     "output_type": "execute_result"
    }
   ],
   "source": [
    "file_path = \"/fs/ess/PAS2136/Rayeed/Carabids-100K-V2/AllCarabids.csv\"\n",
    "insect_df = pd.read_csv(file_path, sep=\"\\t\")\n",
    "insect_df.rename(columns={\"filepath\": \"ImageFilePath\", \"class\": \"ScientificName\"}, inplace=True)\n",
    "insect_df['ImageFilePath'] = \"/fs/ess/PAS2136/Rayeed/Carabids-100K-V2/\" + insect_df['ImageFilePath']\n",
    "df = insect_df[['ImageFilePath', 'ScientificName']]\n",
    "df = df.fillna(\"Unknown\")\n",
    "df.head(2)"
   ]
  },
  {
   "cell_type": "code",
   "execution_count": 4,
   "id": "18dc5a8d-63b4-47ee-88b3-6602ecade10e",
   "metadata": {},
   "outputs": [],
   "source": [
    "model, preprocess_train, preprocess_val = open_clip.create_model_and_transforms(\"hf-hub:imageomics/bioclip\")\n",
    "tokenizer = open_clip.get_tokenizer(\"hf-hub:imageomics/bioclip\")\n",
    "\n",
    "\n",
    "device = \"cuda\" if torch.cuda.is_available() else \"cpu\"\n",
    "model.to(device)\n",
    "\n",
    "\n",
    "for param in model.parameters() :\n",
    "    param.requires_grad = False\n"
   ]
  },
  {
   "cell_type": "code",
   "execution_count": null,
   "id": "6d81f9d2-9708-4682-b262-ccb3b9cda1ce",
   "metadata": {},
   "outputs": [],
   "source": []
  },
  {
   "cell_type": "code",
   "execution_count": 5,
   "id": "85fa4b9a-01c2-4f81-b73d-fc9e60f50727",
   "metadata": {},
   "outputs": [],
   "source": [
    "os.chdir(\"/users/PAS2136/rayees/pybioclip\")"
   ]
  },
  {
   "cell_type": "code",
   "execution_count": 7,
   "id": "266fff94-9072-4eaf-88df-f8abd02b83df",
   "metadata": {},
   "outputs": [],
   "source": [
    "\n",
    "from bioclip.predict import TreeOfLifeClassifier, Rank\n",
    "\n",
    "bioClip = TreeOfLifeClassifier()\n"
   ]
  },
  {
   "cell_type": "code",
   "execution_count": 8,
   "id": "ce3b8a8f-c4ca-40b3-b040-f2f24b52d8e8",
   "metadata": {},
   "outputs": [],
   "source": [
    "# bioClip = TreeOfLifeClassifier()\n",
    "\n",
    "# df['Predictions'] = None\n",
    "\n",
    "# for index, row in tqdm(df.iterrows(), total=len(df), desc=\"Processing Images\") :\n",
    "    \n",
    "#     im_path = row[\"ImageFilePath\"]\n",
    "    \n",
    "#     predictions = bioClip.predict(str(im_path), Rank.SPECIES)\n",
    "    \n",
    "#     top_pred = max(predictions, key=lambda x: x['score'])\n",
    "    \n",
    "#     df.at[index, \"Predictions\"] = top_pred\n",
    "    "
   ]
  },
  {
   "cell_type": "code",
   "execution_count": 9,
   "id": "64751349-4bd7-453f-9545-3f4f8e35f987",
   "metadata": {},
   "outputs": [
    {
     "data": {
      "application/vnd.jupyter.widget-view+json": {
       "model_id": "eac0201c87b84519bc42a2ac93139f67",
       "version_major": 2,
       "version_minor": 0
      },
      "text/plain": [
       "Processing Images:   0%|          | 0/100885 [00:00<?, ?it/s]"
      ]
     },
     "metadata": {},
     "output_type": "display_data"
    }
   ],
   "source": [
    "\n",
    "df['Predictions'] = None\n",
    "\n",
    "\n",
    "for index, row in tqdm(df.iterrows(), total=len(df), desc=\"Processing Images\") :\n",
    "\n",
    "    im_path = row[\"ImageFilePath\"]\n",
    "    \n",
    "    img = Image.open(im_path)\n",
    "    \n",
    "    if img.mode != \"RGB\":\n",
    "        \n",
    "        img = img.convert(\"RGB\")\n",
    "        \n",
    "        with tempfile.NamedTemporaryFile(suffix=\".jpg\", delete=False) as temp_file : \n",
    "            \n",
    "            img.save(temp_file.name, format=\"JPEG\")\n",
    "            \n",
    "            temp_path = temp_file.name\n",
    "            \n",
    "        predictions = bioClip.predict(temp_path, Rank.SPECIES)\n",
    "    \n",
    "    else :\n",
    "        predictions = bioClip.predict(str(im_path), Rank.SPECIES)\n",
    "\n",
    "\n",
    "    top_pred = max(predictions, key=lambda x: x['score'])\n",
    "    \n",
    "    df.at[index, \"Predictions\"] = top_pred\n",
    "\n"
   ]
  },
  {
   "cell_type": "code",
   "execution_count": null,
   "id": "0a645953-6ef0-4866-9ade-c113294e91d9",
   "metadata": {},
   "outputs": [],
   "source": []
  },
  {
   "cell_type": "code",
   "execution_count": 10,
   "id": "3ec53cb3-b887-4bb2-b125-13257d99df3c",
   "metadata": {},
   "outputs": [
    {
     "data": {
      "text/html": [
       "<div>\n",
       "<style scoped>\n",
       "    .dataframe tbody tr th:only-of-type {\n",
       "        vertical-align: middle;\n",
       "    }\n",
       "\n",
       "    .dataframe tbody tr th {\n",
       "        vertical-align: top;\n",
       "    }\n",
       "\n",
       "    .dataframe thead th {\n",
       "        text-align: right;\n",
       "    }\n",
       "</style>\n",
       "<table border=\"1\" class=\"dataframe\">\n",
       "  <thead>\n",
       "    <tr style=\"text-align: right;\">\n",
       "      <th></th>\n",
       "      <th>ImageFilePath</th>\n",
       "      <th>ScientificName</th>\n",
       "      <th>Predictions</th>\n",
       "      <th>PredSpecies</th>\n",
       "    </tr>\n",
       "  </thead>\n",
       "  <tbody>\n",
       "    <tr>\n",
       "      <th>0</th>\n",
       "      <td>/fs/ess/PAS2136/Rayeed/Carabids-100K-V2/Insect...</td>\n",
       "      <td>Cicindela sexguttata</td>\n",
       "      <td>None</td>\n",
       "      <td>None</td>\n",
       "    </tr>\n",
       "    <tr>\n",
       "      <th>1</th>\n",
       "      <td>/fs/ess/PAS2136/Rayeed/Carabids-100K-V2/Insect...</td>\n",
       "      <td>Cicindela sexguttata</td>\n",
       "      <td>None</td>\n",
       "      <td>None</td>\n",
       "    </tr>\n",
       "  </tbody>\n",
       "</table>\n",
       "</div>"
      ],
      "text/plain": [
       "                                       ImageFilePath        ScientificName  \\\n",
       "0  /fs/ess/PAS2136/Rayeed/Carabids-100K-V2/Insect...  Cicindela sexguttata   \n",
       "1  /fs/ess/PAS2136/Rayeed/Carabids-100K-V2/Insect...  Cicindela sexguttata   \n",
       "\n",
       "  Predictions PredSpecies  \n",
       "0        None        None  \n",
       "1        None        None  "
      ]
     },
     "execution_count": 10,
     "metadata": {},
     "output_type": "execute_result"
    }
   ],
   "source": [
    "df['PredSpecies'] = df['Predictions'].apply(lambda x: x['species'] if isinstance(x, dict) else None)\n",
    "df.head(2)"
   ]
  },
  {
   "cell_type": "code",
   "execution_count": 11,
   "id": "0806d252-55fd-42b1-8301-767cf13adb6a",
   "metadata": {},
   "outputs": [
    {
     "name": "stdout",
     "output_type": "stream",
     "text": [
      "BioCLIP Open-Ended SPECIES Classification Accuracy: 0.0000% (0/100885)\n"
     ]
    }
   ],
   "source": [
    "filtered_df = df[df[\"ScientificName\"] != \"unknown\"]\n",
    "\n",
    "correct_predictions = (filtered_df[\"PredSpecies\"] == filtered_df[\"ScientificName\"]).sum()\n",
    "\n",
    "total_images = len(filtered_df)\n",
    "\n",
    "accuracy = correct_predictions / total_images if total_images > 0 else 0\n",
    "\n",
    "print(f\"BioCLIP Open-Ended SPECIES Classification Accuracy: {accuracy*100:.4f}% ({correct_predictions}/{total_images})\")\n"
   ]
  },
  {
   "cell_type": "code",
   "execution_count": null,
   "id": "d7c03fb7-5cd1-4c08-a8a7-32a54ba32419",
   "metadata": {},
   "outputs": [],
   "source": []
  },
  {
   "cell_type": "code",
   "execution_count": null,
   "id": "e538a1d4-75cf-4004-9375-95510bc47f22",
   "metadata": {},
   "outputs": [],
   "source": []
  },
  {
   "cell_type": "code",
   "execution_count": 12,
   "id": "6f8d309d-a192-46ef-9211-93e1fa20f8bc",
   "metadata": {},
   "outputs": [],
   "source": [
    "df.to_csv('/users/PAS2136/rayees/3. Benchmarking/AllCarabids/0.BioCLIP-open-ended-species.csv',index=False)"
   ]
  },
  {
   "cell_type": "code",
   "execution_count": null,
   "id": "51760105-bf76-4385-b82b-7d1a2fee5543",
   "metadata": {},
   "outputs": [],
   "source": []
  },
  {
   "cell_type": "code",
   "execution_count": null,
   "id": "92368460-a849-4000-9399-bb090e9dc7fc",
   "metadata": {},
   "outputs": [],
   "source": []
  },
  {
   "cell_type": "code",
   "execution_count": null,
   "id": "68e34372-f76a-4a28-b7f3-9a94eadd15ef",
   "metadata": {},
   "outputs": [],
   "source": []
  },
  {
   "cell_type": "code",
   "execution_count": null,
   "id": "a6c22f7f-6aaf-4b18-9210-c1d160f88eae",
   "metadata": {},
   "outputs": [],
   "source": []
  }
 ],
 "metadata": {
  "kernelspec": {
   "display_name": "Python myenv",
   "language": "python",
   "name": "myenv"
  },
  "language_info": {
   "codemirror_mode": {
    "name": "ipython",
    "version": 3
   },
   "file_extension": ".py",
   "mimetype": "text/x-python",
   "name": "python",
   "nbconvert_exporter": "python",
   "pygments_lexer": "ipython3",
   "version": "3.9.18"
  }
 },
 "nbformat": 4,
 "nbformat_minor": 5
}
