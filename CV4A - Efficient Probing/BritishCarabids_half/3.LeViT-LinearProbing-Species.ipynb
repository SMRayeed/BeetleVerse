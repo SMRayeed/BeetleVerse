{
 "cells": [
  {
   "cell_type": "code",
   "execution_count": 1,
   "id": "d43b91bf-e523-4932-9e59-5dba04a8a4a3",
   "metadata": {},
   "outputs": [],
   "source": [
    "import warnings\n",
    "warnings.filterwarnings(\"ignore\")"
   ]
  },
  {
   "cell_type": "code",
   "execution_count": 2,
   "id": "15ae9bc3-7e86-4667-af03-79271e9a09ec",
   "metadata": {},
   "outputs": [],
   "source": [
    "import torch\n",
    "import numpy as np\n",
    "import pandas as pd\n",
    "from PIL import Image\n",
    "from tqdm.notebook import tqdm\n",
    "from transformers import AutoModel, AutoProcessor\n",
    "from sklearn.preprocessing import LabelEncoder, StandardScaler\n",
    "from sklearn.model_selection import train_test_split\n",
    "from sklearn.naive_bayes import GaussianNB\n",
    "from sklearn.linear_model import LogisticRegression\n",
    "from sklearn.svm import SVC\n",
    "from sklearn.neighbors import KNeighborsClassifier\n",
    "from sklearn.ensemble import RandomForestClassifier\n",
    "from sklearn.neural_network import MLPClassifier\n",
    "from sklearn.metrics import accuracy_score, precision_score, recall_score, f1_score, balanced_accuracy_score, matthews_corrcoef"
   ]
  },
  {
   "cell_type": "code",
   "execution_count": 3,
   "id": "fe01e1c4-a64e-4c39-99b8-5c890cde9e37",
   "metadata": {},
   "outputs": [
    {
     "data": {
      "text/html": [
       "<div>\n",
       "<style scoped>\n",
       "    .dataframe tbody tr th:only-of-type {\n",
       "        vertical-align: middle;\n",
       "    }\n",
       "\n",
       "    .dataframe tbody tr th {\n",
       "        vertical-align: top;\n",
       "    }\n",
       "\n",
       "    .dataframe thead th {\n",
       "        text-align: right;\n",
       "    }\n",
       "</style>\n",
       "<table border=\"1\" class=\"dataframe\">\n",
       "  <thead>\n",
       "    <tr style=\"text-align: right;\">\n",
       "      <th></th>\n",
       "      <th>ImageFilePath</th>\n",
       "      <th>ScientificName</th>\n",
       "    </tr>\n",
       "  </thead>\n",
       "  <tbody>\n",
       "    <tr>\n",
       "      <th>0</th>\n",
       "      <td>/fs/ess/PAS2136/Rayeed/Carabids-100K-V2/Britis...</td>\n",
       "      <td>Ophonus puncticeps</td>\n",
       "    </tr>\n",
       "    <tr>\n",
       "      <th>1</th>\n",
       "      <td>/fs/ess/PAS2136/Rayeed/Carabids-100K-V2/Britis...</td>\n",
       "      <td>Ophonus puncticeps</td>\n",
       "    </tr>\n",
       "  </tbody>\n",
       "</table>\n",
       "</div>"
      ],
      "text/plain": [
       "                                       ImageFilePath      ScientificName\n",
       "0  /fs/ess/PAS2136/Rayeed/Carabids-100K-V2/Britis...  Ophonus puncticeps\n",
       "1  /fs/ess/PAS2136/Rayeed/Carabids-100K-V2/Britis...  Ophonus puncticeps"
      ]
     },
     "execution_count": 3,
     "metadata": {},
     "output_type": "execute_result"
    }
   ],
   "source": [
    "file_path = \"/users/PAS2136/rayees/CV4A - Efficient Probing/ProbingSubsets/probing_half_dataset.csv\"\n",
    "df = pd.read_csv(file_path)\n",
    "cols = ['ImageFilePath', 'ScientificName']\n",
    "df = df[cols]\n",
    "df = df.dropna()\n",
    "df.head(2)"
   ]
  },
  {
   "cell_type": "code",
   "execution_count": 4,
   "id": "34251065-984c-497c-ad00-9a072063618b",
   "metadata": {},
   "outputs": [
    {
     "name": "stderr",
     "output_type": "stream",
     "text": [
      "Using a slow image processor as `use_fast` is unset and a slow processor was saved with this model. `use_fast=True` will be the default behavior in v4.48, even if the model was saved with a slow processor. This will result in minor differences in outputs. You'll still be able to use a slow processor with `use_fast=False`.\n"
     ]
    }
   ],
   "source": [
    "device = \"cuda\" if torch.cuda.is_available() else \"cpu\"\n",
    "\n",
    "model_name = \"facebook/levit-128S\"\n",
    "\n",
    "model = AutoModel.from_pretrained(model_name).eval().to(device)\n",
    "\n",
    "processor = AutoProcessor.from_pretrained(model_name)\n"
   ]
  },
  {
   "cell_type": "code",
   "execution_count": 5,
   "id": "a6a6ef75-6e5a-4b9a-994c-46b1a16d0f69",
   "metadata": {},
   "outputs": [],
   "source": [
    "def extract_features(image_path) :\n",
    "    \n",
    "    image = Image.open(image_path).convert(\"RGB\")\n",
    "    \n",
    "    inputs = processor(images=image, return_tensors=\"pt\").to(device)\n",
    "    \n",
    "    with torch.no_grad():\n",
    "        outputs = model(**inputs)\n",
    "    \n",
    "    \n",
    "    features = outputs.last_hidden_state.mean(dim=1)\n",
    "    \n",
    "    return features.cpu().numpy().flatten()\n",
    "    "
   ]
  },
  {
   "cell_type": "code",
   "execution_count": 6,
   "id": "8769b292-efc4-4d7e-bab1-32433b80f753",
   "metadata": {},
   "outputs": [
    {
     "data": {
      "application/vnd.jupyter.widget-view+json": {
       "model_id": "d1f55760d246409da42d4007ba98d75d",
       "version_major": 2,
       "version_minor": 0
      },
      "text/plain": [
       "Processing Images ...:   0%|          | 0/30000 [00:00<?, ?it/s]"
      ]
     },
     "metadata": {},
     "output_type": "display_data"
    }
   ],
   "source": [
    "X = np.vstack([extract_features(img) for img in tqdm(df[\"ImageFilePath\"], desc=\"Processing Images ...\") ])\n",
    "\n",
    "seed = 99\n",
    "\n",
    "le = LabelEncoder()\n",
    "\n",
    "y = le.fit_transform(df[\"ScientificName\"])\n",
    "\n",
    "df_indices = df.index \n",
    "\n",
    "X_train, X_test, y_train, y_test, train_idx, test_idx = train_test_split(\n",
    "    X, y, df_indices, \n",
    "    test_size=0.2, \n",
    "    random_state=seed,\n",
    "    stratify=y\n",
    ")\n"
   ]
  },
  {
   "cell_type": "code",
   "execution_count": 7,
   "id": "f2e83076-f4e6-4d9f-b4e8-778292ede566",
   "metadata": {},
   "outputs": [],
   "source": [
    "\n",
    "test_df = df.loc[test_idx].copy()\n",
    "\n",
    "scaler = StandardScaler()\n",
    "\n",
    "X_train_scaled = scaler.fit_transform(X_train)\n",
    "\n",
    "X_test_scaled = scaler.transform(X_test)\n"
   ]
  },
  {
   "cell_type": "code",
   "execution_count": 8,
   "id": "ebe96a35-2dc4-46eb-806b-c9d39e390e03",
   "metadata": {},
   "outputs": [
    {
     "data": {
      "application/vnd.jupyter.widget-view+json": {
       "model_id": "194c799bbe1844ada7fcf748ff3e8a88",
       "version_major": 2,
       "version_minor": 0
      },
      "text/plain": [
       "Training Models:   0%|          | 0/4 [00:00<?, ?it/s]"
      ]
     },
     "metadata": {},
     "output_type": "display_data"
    },
    {
     "name": "stdout",
     "output_type": "stream",
     "text": [
      "NaiveBayes                | Acc: 30.85% | Prec: 34.02% | Rec: 30.85% | F1: 29.80% | Bal Acc: 31.58% | MCC: 0.3064\n",
      "LogisticRegression        | Acc: 62.30% | Prec: 63.75% | Rec: 62.30% | F1: 62.49% | Bal Acc: 62.47% | MCC: 0.6217\n",
      "NearestNeighbor           | Acc: 38.15% | Prec: 42.58% | Rec: 38.15% | F1: 38.47% | Bal Acc: 38.05% | MCC: 0.3795\n",
      "MLP_Baseline              | Acc: 59.48% | Prec: 60.46% | Rec: 59.48% | F1: 59.46% | Bal Acc: 59.25% | MCC: 0.5934\n"
     ]
    }
   ],
   "source": [
    "\n",
    "models = {\n",
    "    \"NaiveBayes\": GaussianNB(),\n",
    "    \"LogisticRegression\": LogisticRegression(max_iter=100),\n",
    "    \"NearestNeighbor\": KNeighborsClassifier(n_neighbors=11),  \n",
    "    \"MLP_Baseline\": MLPClassifier(hidden_layer_sizes=(100,), max_iter=200, random_state=seed)\n",
    "}\n",
    "\n",
    "predictions = {}\n",
    "\n",
    "metrics = {}\n",
    "\n",
    "for name, model in tqdm(models.items(), desc=\"Training Models\", leave=True):\n",
    "    \n",
    "    model.fit(X_train_scaled, y_train)\n",
    "    preds = model.predict(X_test_scaled)\n",
    "    predictions[name] = preds\n",
    "    \n",
    "    acc = accuracy_score(y_test, preds)\n",
    "    prec = precision_score(y_test, preds, average=\"weighted\")\n",
    "    rec = recall_score(y_test, preds, average=\"weighted\")\n",
    "    f1 = f1_score(y_test, preds, average=\"weighted\")\n",
    "    bal_acc = balanced_accuracy_score(y_test, preds)\n",
    "    mcc = matthews_corrcoef(y_test, preds)\n",
    "    \n",
    "    metrics[name] = {\"Model\": name, \"Accuracy\": acc, \"Precision\": prec, \"Recall\": rec, \"F1-Score\": f1, \"Balanced Acc\": bal_acc, \"MCC\": mcc}\n",
    "    print(f\"{name:<25} | Acc: {acc:.2%} | Prec: {prec:.2%} | Rec: {rec:.2%} | F1: {f1:.2%} | Bal Acc: {bal_acc:.2%} | MCC: {mcc:.4f}\")\n",
    "\n",
    "\n",
    "metrics_df = pd.DataFrame(metrics).T\n",
    "\n"
   ]
  },
  {
   "cell_type": "code",
   "execution_count": 9,
   "id": "2e80e8fb-fae8-40e6-8071-f6539b5470f8",
   "metadata": {},
   "outputs": [
    {
     "data": {
      "text/html": [
       "<div>\n",
       "<style scoped>\n",
       "    .dataframe tbody tr th:only-of-type {\n",
       "        vertical-align: middle;\n",
       "    }\n",
       "\n",
       "    .dataframe tbody tr th {\n",
       "        vertical-align: top;\n",
       "    }\n",
       "\n",
       "    .dataframe thead th {\n",
       "        text-align: right;\n",
       "    }\n",
       "</style>\n",
       "<table border=\"1\" class=\"dataframe\">\n",
       "  <thead>\n",
       "    <tr style=\"text-align: right;\">\n",
       "      <th></th>\n",
       "      <th>ImageFilePath</th>\n",
       "      <th>ScientificName</th>\n",
       "      <th>Pred_NaiveBayes</th>\n",
       "      <th>Pred_LogisticRegression</th>\n",
       "      <th>Pred_NearestNeighbor</th>\n",
       "      <th>Pred_MLP_Baseline</th>\n",
       "    </tr>\n",
       "  </thead>\n",
       "  <tbody>\n",
       "    <tr>\n",
       "      <th>14029</th>\n",
       "      <td>/fs/ess/PAS2136/Rayeed/Carabids-100K-V2/Britis...</td>\n",
       "      <td>Harpalus tardus</td>\n",
       "      <td>Harpalus rubripes</td>\n",
       "      <td>Pterostichus vernalis</td>\n",
       "      <td>Amara fulva</td>\n",
       "      <td>Pterostichus vernalis</td>\n",
       "    </tr>\n",
       "    <tr>\n",
       "      <th>10269</th>\n",
       "      <td>/fs/ess/PAS2136/Rayeed/Carabids-100K-V2/Britis...</td>\n",
       "      <td>Stomis pumicatus</td>\n",
       "      <td>Sinechostictus stomoides</td>\n",
       "      <td>Stomis pumicatus</td>\n",
       "      <td>Bembidion atrocaeruleum</td>\n",
       "      <td>Stomis pumicatus</td>\n",
       "    </tr>\n",
       "  </tbody>\n",
       "</table>\n",
       "</div>"
      ],
      "text/plain": [
       "                                           ImageFilePath    ScientificName  \\\n",
       "14029  /fs/ess/PAS2136/Rayeed/Carabids-100K-V2/Britis...   Harpalus tardus   \n",
       "10269  /fs/ess/PAS2136/Rayeed/Carabids-100K-V2/Britis...  Stomis pumicatus   \n",
       "\n",
       "                Pred_NaiveBayes Pred_LogisticRegression  \\\n",
       "14029         Harpalus rubripes   Pterostichus vernalis   \n",
       "10269  Sinechostictus stomoides        Stomis pumicatus   \n",
       "\n",
       "          Pred_NearestNeighbor      Pred_MLP_Baseline  \n",
       "14029              Amara fulva  Pterostichus vernalis  \n",
       "10269  Bembidion atrocaeruleum       Stomis pumicatus  "
      ]
     },
     "execution_count": 9,
     "metadata": {},
     "output_type": "execute_result"
    }
   ],
   "source": [
    "test_df = test_df.assign(**{f\"Pred_{name}\": le.inverse_transform(pred) for name, pred in predictions.items()})\n",
    "test_df.head(2)"
   ]
  },
  {
   "cell_type": "code",
   "execution_count": 10,
   "id": "6658b5e3-7f11-46dd-b284-b259f9e0c2fe",
   "metadata": {},
   "outputs": [
    {
     "data": {
      "text/html": [
       "<div>\n",
       "<style scoped>\n",
       "    .dataframe tbody tr th:only-of-type {\n",
       "        vertical-align: middle;\n",
       "    }\n",
       "\n",
       "    .dataframe tbody tr th {\n",
       "        vertical-align: top;\n",
       "    }\n",
       "\n",
       "    .dataframe thead th {\n",
       "        text-align: right;\n",
       "    }\n",
       "</style>\n",
       "<table border=\"1\" class=\"dataframe\">\n",
       "  <thead>\n",
       "    <tr style=\"text-align: right;\">\n",
       "      <th></th>\n",
       "      <th>Model</th>\n",
       "      <th>Accuracy</th>\n",
       "      <th>Precision</th>\n",
       "      <th>Recall</th>\n",
       "      <th>F1-Score</th>\n",
       "      <th>Balanced Acc</th>\n",
       "      <th>MCC</th>\n",
       "    </tr>\n",
       "  </thead>\n",
       "  <tbody>\n",
       "    <tr>\n",
       "      <th>NaiveBayes</th>\n",
       "      <td>NaiveBayes</td>\n",
       "      <td>0.3085</td>\n",
       "      <td>0.34016</td>\n",
       "      <td>0.3085</td>\n",
       "      <td>0.297981</td>\n",
       "      <td>0.315842</td>\n",
       "      <td>0.306401</td>\n",
       "    </tr>\n",
       "    <tr>\n",
       "      <th>LogisticRegression</th>\n",
       "      <td>LogisticRegression</td>\n",
       "      <td>0.623</td>\n",
       "      <td>0.637458</td>\n",
       "      <td>0.623</td>\n",
       "      <td>0.62489</td>\n",
       "      <td>0.624738</td>\n",
       "      <td>0.621687</td>\n",
       "    </tr>\n",
       "    <tr>\n",
       "      <th>NearestNeighbor</th>\n",
       "      <td>NearestNeighbor</td>\n",
       "      <td>0.3815</td>\n",
       "      <td>0.425784</td>\n",
       "      <td>0.3815</td>\n",
       "      <td>0.384708</td>\n",
       "      <td>0.380538</td>\n",
       "      <td>0.37947</td>\n",
       "    </tr>\n",
       "    <tr>\n",
       "      <th>MLP_Baseline</th>\n",
       "      <td>MLP_Baseline</td>\n",
       "      <td>0.594833</td>\n",
       "      <td>0.604645</td>\n",
       "      <td>0.594833</td>\n",
       "      <td>0.594643</td>\n",
       "      <td>0.592482</td>\n",
       "      <td>0.593413</td>\n",
       "    </tr>\n",
       "  </tbody>\n",
       "</table>\n",
       "</div>"
      ],
      "text/plain": [
       "                                 Model  Accuracy Precision    Recall  \\\n",
       "NaiveBayes                  NaiveBayes    0.3085   0.34016    0.3085   \n",
       "LogisticRegression  LogisticRegression     0.623  0.637458     0.623   \n",
       "NearestNeighbor        NearestNeighbor    0.3815  0.425784    0.3815   \n",
       "MLP_Baseline              MLP_Baseline  0.594833  0.604645  0.594833   \n",
       "\n",
       "                    F1-Score Balanced Acc       MCC  \n",
       "NaiveBayes          0.297981     0.315842  0.306401  \n",
       "LogisticRegression   0.62489     0.624738  0.621687  \n",
       "NearestNeighbor     0.384708     0.380538   0.37947  \n",
       "MLP_Baseline        0.594643     0.592482  0.593413  "
      ]
     },
     "execution_count": 10,
     "metadata": {},
     "output_type": "execute_result"
    }
   ],
   "source": [
    "metrics_df"
   ]
  },
  {
   "cell_type": "code",
   "execution_count": 11,
   "id": "525377dd-138a-41c1-b4b1-d8ee80e8712a",
   "metadata": {},
   "outputs": [],
   "source": [
    "\n",
    "basedir = '/users/PAS2136/rayees/CV4A - Efficient Probing/BritishCarabids_half/'\n"
   ]
  },
  {
   "cell_type": "code",
   "execution_count": 12,
   "id": "4146536f-2efe-4bd7-a8d4-c07f58faefbf",
   "metadata": {},
   "outputs": [],
   "source": [
    "\n",
    "test_df.to_csv(f\"{basedir}/3.LeViT-species.csv\", index=False)\n",
    "\n",
    "metrics_df.to_csv(f\"{basedir}/3.LeViT-species-metrics.csv\", index=False)\n",
    "\n"
   ]
  },
  {
   "cell_type": "code",
   "execution_count": null,
   "id": "4a1dcd1c-340f-4622-9717-83cf7b3bd0d2",
   "metadata": {},
   "outputs": [],
   "source": []
  },
  {
   "cell_type": "code",
   "execution_count": null,
   "id": "23e1542a-9916-43d0-b2a6-a6ab29f6257b",
   "metadata": {},
   "outputs": [],
   "source": []
  },
  {
   "cell_type": "code",
   "execution_count": null,
   "id": "b6f1a4f6-5f21-48b3-82d1-a7812ae545cb",
   "metadata": {},
   "outputs": [],
   "source": []
  }
 ],
 "metadata": {
  "kernelspec": {
   "display_name": "Python myenv",
   "language": "python",
   "name": "myenv"
  },
  "language_info": {
   "codemirror_mode": {
    "name": "ipython",
    "version": 3
   },
   "file_extension": ".py",
   "mimetype": "text/x-python",
   "name": "python",
   "nbconvert_exporter": "python",
   "pygments_lexer": "ipython3",
   "version": "3.9.18"
  }
 },
 "nbformat": 4,
 "nbformat_minor": 5
}
