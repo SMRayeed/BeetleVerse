{
 "cells": [
  {
   "cell_type": "code",
   "execution_count": 1,
   "id": "d43b91bf-e523-4932-9e59-5dba04a8a4a3",
   "metadata": {},
   "outputs": [],
   "source": [
    "import warnings\n",
    "warnings.filterwarnings(\"ignore\")"
   ]
  },
  {
   "cell_type": "code",
   "execution_count": 2,
   "id": "15ae9bc3-7e86-4667-af03-79271e9a09ec",
   "metadata": {},
   "outputs": [],
   "source": [
    "import torch\n",
    "import numpy as np\n",
    "import pandas as pd\n",
    "from PIL import Image\n",
    "from tqdm.notebook import tqdm\n",
    "from transformers import AutoModel, AutoProcessor\n",
    "from sklearn.preprocessing import LabelEncoder, StandardScaler\n",
    "from sklearn.model_selection import train_test_split\n",
    "from sklearn.naive_bayes import GaussianNB\n",
    "from sklearn.linear_model import LogisticRegression\n",
    "from sklearn.svm import SVC\n",
    "from sklearn.neighbors import KNeighborsClassifier\n",
    "from sklearn.ensemble import RandomForestClassifier\n",
    "from sklearn.neural_network import MLPClassifier\n",
    "from sklearn.metrics import accuracy_score, precision_score, recall_score, f1_score, balanced_accuracy_score, matthews_corrcoef"
   ]
  },
  {
   "cell_type": "code",
   "execution_count": 3,
   "id": "fe01e1c4-a64e-4c39-99b8-5c890cde9e37",
   "metadata": {},
   "outputs": [
    {
     "data": {
      "text/html": [
       "<div>\n",
       "<style scoped>\n",
       "    .dataframe tbody tr th:only-of-type {\n",
       "        vertical-align: middle;\n",
       "    }\n",
       "\n",
       "    .dataframe tbody tr th {\n",
       "        vertical-align: top;\n",
       "    }\n",
       "\n",
       "    .dataframe thead th {\n",
       "        text-align: right;\n",
       "    }\n",
       "</style>\n",
       "<table border=\"1\" class=\"dataframe\">\n",
       "  <thead>\n",
       "    <tr style=\"text-align: right;\">\n",
       "      <th></th>\n",
       "      <th>ImageFilePath</th>\n",
       "      <th>ScientificName</th>\n",
       "    </tr>\n",
       "  </thead>\n",
       "  <tbody>\n",
       "    <tr>\n",
       "      <th>0</th>\n",
       "      <td>/fs/ess/PAS2136/Rayeed/Carabids-100K-V2/Britis...</td>\n",
       "      <td>Notiophilus biguttatus</td>\n",
       "    </tr>\n",
       "    <tr>\n",
       "      <th>1</th>\n",
       "      <td>/fs/ess/PAS2136/Rayeed/Carabids-100K-V2/Britis...</td>\n",
       "      <td>Notiophilus biguttatus</td>\n",
       "    </tr>\n",
       "  </tbody>\n",
       "</table>\n",
       "</div>"
      ],
      "text/plain": [
       "                                       ImageFilePath          ScientificName\n",
       "0  /fs/ess/PAS2136/Rayeed/Carabids-100K-V2/Britis...  Notiophilus biguttatus\n",
       "1  /fs/ess/PAS2136/Rayeed/Carabids-100K-V2/Britis...  Notiophilus biguttatus"
      ]
     },
     "execution_count": 3,
     "metadata": {},
     "output_type": "execute_result"
    }
   ],
   "source": [
    "file_path = \"/users/PAS2136/rayees/CV4A - Efficient Probing/ProbingSubsets/probing_20_per_species.csv\"\n",
    "df = pd.read_csv(file_path)\n",
    "cols = ['ImageFilePath', 'ScientificName']\n",
    "df = df[cols]\n",
    "df = df.dropna()\n",
    "df.head(2)"
   ]
  },
  {
   "cell_type": "code",
   "execution_count": 4,
   "id": "34251065-984c-497c-ad00-9a072063618b",
   "metadata": {},
   "outputs": [
    {
     "name": "stderr",
     "output_type": "stream",
     "text": [
      "Using a slow image processor as `use_fast` is unset and a slow processor was saved with this model. `use_fast=True` will be the default behavior in v4.48, even if the model was saved with a slow processor. This will result in minor differences in outputs. You'll still be able to use a slow processor with `use_fast=False`.\n"
     ]
    }
   ],
   "source": [
    "device = \"cuda\" if torch.cuda.is_available() else \"cpu\"\n",
    "\n",
    "model_name = \"facebook/levit-128S\"\n",
    "\n",
    "model = AutoModel.from_pretrained(model_name).eval().to(device)\n",
    "\n",
    "processor = AutoProcessor.from_pretrained(model_name)\n"
   ]
  },
  {
   "cell_type": "code",
   "execution_count": 5,
   "id": "a6a6ef75-6e5a-4b9a-994c-46b1a16d0f69",
   "metadata": {},
   "outputs": [],
   "source": [
    "def extract_features(image_path) :\n",
    "    \n",
    "    image = Image.open(image_path).convert(\"RGB\")\n",
    "    \n",
    "    inputs = processor(images=image, return_tensors=\"pt\").to(device)\n",
    "    \n",
    "    with torch.no_grad():\n",
    "        outputs = model(**inputs)\n",
    "    \n",
    "    \n",
    "    features = outputs.last_hidden_state.mean(dim=1)\n",
    "    \n",
    "    return features.cpu().numpy().flatten()\n",
    "    "
   ]
  },
  {
   "cell_type": "code",
   "execution_count": 6,
   "id": "8769b292-efc4-4d7e-bab1-32433b80f753",
   "metadata": {},
   "outputs": [
    {
     "data": {
      "application/vnd.jupyter.widget-view+json": {
       "model_id": "16f29c7bc55a449ab74c0398d49f1716",
       "version_major": 2,
       "version_minor": 0
      },
      "text/plain": [
       "Processing Images ...:   0%|          | 0/2900 [00:00<?, ?it/s]"
      ]
     },
     "metadata": {},
     "output_type": "display_data"
    }
   ],
   "source": [
    "X = np.vstack([extract_features(img) for img in tqdm(df[\"ImageFilePath\"], desc=\"Processing Images ...\") ])\n",
    "\n",
    "seed = 99\n",
    "\n",
    "le = LabelEncoder()\n",
    "\n",
    "y = le.fit_transform(df[\"ScientificName\"])\n",
    "\n",
    "df_indices = df.index \n",
    "\n",
    "X_train, X_test, y_train, y_test, train_idx, test_idx = train_test_split(\n",
    "    X, y, df_indices, \n",
    "    test_size=0.2, \n",
    "    random_state=seed,\n",
    "    stratify=y\n",
    ")\n"
   ]
  },
  {
   "cell_type": "code",
   "execution_count": 7,
   "id": "f2e83076-f4e6-4d9f-b4e8-778292ede566",
   "metadata": {},
   "outputs": [],
   "source": [
    "\n",
    "test_df = df.loc[test_idx].copy()\n",
    "\n",
    "scaler = StandardScaler()\n",
    "\n",
    "X_train_scaled = scaler.fit_transform(X_train)\n",
    "\n",
    "X_test_scaled = scaler.transform(X_test)\n"
   ]
  },
  {
   "cell_type": "code",
   "execution_count": 8,
   "id": "ebe96a35-2dc4-46eb-806b-c9d39e390e03",
   "metadata": {},
   "outputs": [
    {
     "data": {
      "application/vnd.jupyter.widget-view+json": {
       "model_id": "0501d9d3190e48ff9751f253bb0003a5",
       "version_major": 2,
       "version_minor": 0
      },
      "text/plain": [
       "Training Models:   0%|          | 0/4 [00:00<?, ?it/s]"
      ]
     },
     "metadata": {},
     "output_type": "display_data"
    },
    {
     "name": "stdout",
     "output_type": "stream",
     "text": [
      "NaiveBayes                | Acc: 22.24% | Prec: 22.76% | Rec: 22.24% | F1: 20.85% | Bal Acc: 22.24% | MCC: 0.2200\n",
      "LogisticRegression        | Acc: 33.45% | Prec: 31.95% | Rec: 33.45% | F1: 30.79% | Bal Acc: 33.45% | MCC: 0.3325\n",
      "NearestNeighbor           | Acc: 19.31% | Prec: 19.41% | Rec: 19.31% | F1: 17.72% | Bal Acc: 19.31% | MCC: 0.1910\n",
      "MLP_Baseline              | Acc: 28.28% | Prec: 28.17% | Rec: 28.28% | F1: 26.27% | Bal Acc: 28.28% | MCC: 0.2805\n"
     ]
    }
   ],
   "source": [
    "\n",
    "models = {\n",
    "    \"NaiveBayes\": GaussianNB(),\n",
    "    \"LogisticRegression\": LogisticRegression(max_iter=100),\n",
    "    \"NearestNeighbor\": KNeighborsClassifier(n_neighbors=11),  \n",
    "    \"MLP_Baseline\": MLPClassifier(hidden_layer_sizes=(100,), max_iter=200, random_state=seed)\n",
    "}\n",
    "\n",
    "predictions = {}\n",
    "\n",
    "metrics = {}\n",
    "\n",
    "for name, model in tqdm(models.items(), desc=\"Training Models\", leave=True):\n",
    "    \n",
    "    model.fit(X_train_scaled, y_train)\n",
    "    preds = model.predict(X_test_scaled)\n",
    "    predictions[name] = preds\n",
    "    \n",
    "    acc = accuracy_score(y_test, preds)\n",
    "    prec = precision_score(y_test, preds, average=\"weighted\")\n",
    "    rec = recall_score(y_test, preds, average=\"weighted\")\n",
    "    f1 = f1_score(y_test, preds, average=\"weighted\")\n",
    "    bal_acc = balanced_accuracy_score(y_test, preds)\n",
    "    mcc = matthews_corrcoef(y_test, preds)\n",
    "    \n",
    "    metrics[name] = {\"Model\": name, \"Accuracy\": acc, \"Precision\": prec, \"Recall\": rec, \"F1-Score\": f1, \"Balanced Acc\": bal_acc, \"MCC\": mcc}\n",
    "    print(f\"{name:<25} | Acc: {acc:.2%} | Prec: {prec:.2%} | Rec: {rec:.2%} | F1: {f1:.2%} | Bal Acc: {bal_acc:.2%} | MCC: {mcc:.4f}\")\n",
    "\n",
    "\n",
    "metrics_df = pd.DataFrame(metrics).T\n",
    "\n"
   ]
  },
  {
   "cell_type": "code",
   "execution_count": 9,
   "id": "2e80e8fb-fae8-40e6-8071-f6539b5470f8",
   "metadata": {},
   "outputs": [
    {
     "data": {
      "text/html": [
       "<div>\n",
       "<style scoped>\n",
       "    .dataframe tbody tr th:only-of-type {\n",
       "        vertical-align: middle;\n",
       "    }\n",
       "\n",
       "    .dataframe tbody tr th {\n",
       "        vertical-align: top;\n",
       "    }\n",
       "\n",
       "    .dataframe thead th {\n",
       "        text-align: right;\n",
       "    }\n",
       "</style>\n",
       "<table border=\"1\" class=\"dataframe\">\n",
       "  <thead>\n",
       "    <tr style=\"text-align: right;\">\n",
       "      <th></th>\n",
       "      <th>ImageFilePath</th>\n",
       "      <th>ScientificName</th>\n",
       "      <th>Pred_NaiveBayes</th>\n",
       "      <th>Pred_LogisticRegression</th>\n",
       "      <th>Pred_NearestNeighbor</th>\n",
       "      <th>Pred_MLP_Baseline</th>\n",
       "    </tr>\n",
       "  </thead>\n",
       "  <tbody>\n",
       "    <tr>\n",
       "      <th>2214</th>\n",
       "      <td>/fs/ess/PAS2136/Rayeed/Carabids-100K-V2/Britis...</td>\n",
       "      <td>Dromius agilis</td>\n",
       "      <td>Calathus cinctus</td>\n",
       "      <td>Amara spreta</td>\n",
       "      <td>Agonum gracile</td>\n",
       "      <td>Amara spreta</td>\n",
       "    </tr>\n",
       "    <tr>\n",
       "      <th>598</th>\n",
       "      <td>/fs/ess/PAS2136/Rayeed/Carabids-100K-V2/Britis...</td>\n",
       "      <td>Bradycellus ruficollis</td>\n",
       "      <td>Bembidion nigricorne</td>\n",
       "      <td>Bembidion doris</td>\n",
       "      <td>Stenolophus teutonus</td>\n",
       "      <td>Elaphropus bistriatus</td>\n",
       "    </tr>\n",
       "  </tbody>\n",
       "</table>\n",
       "</div>"
      ],
      "text/plain": [
       "                                          ImageFilePath  \\\n",
       "2214  /fs/ess/PAS2136/Rayeed/Carabids-100K-V2/Britis...   \n",
       "598   /fs/ess/PAS2136/Rayeed/Carabids-100K-V2/Britis...   \n",
       "\n",
       "              ScientificName       Pred_NaiveBayes Pred_LogisticRegression  \\\n",
       "2214          Dromius agilis      Calathus cinctus            Amara spreta   \n",
       "598   Bradycellus ruficollis  Bembidion nigricorne         Bembidion doris   \n",
       "\n",
       "      Pred_NearestNeighbor      Pred_MLP_Baseline  \n",
       "2214        Agonum gracile           Amara spreta  \n",
       "598   Stenolophus teutonus  Elaphropus bistriatus  "
      ]
     },
     "execution_count": 9,
     "metadata": {},
     "output_type": "execute_result"
    }
   ],
   "source": [
    "test_df = test_df.assign(**{f\"Pred_{name}\": le.inverse_transform(pred) for name, pred in predictions.items()})\n",
    "test_df.head(2)"
   ]
  },
  {
   "cell_type": "code",
   "execution_count": 10,
   "id": "6658b5e3-7f11-46dd-b284-b259f9e0c2fe",
   "metadata": {},
   "outputs": [
    {
     "data": {
      "text/html": [
       "<div>\n",
       "<style scoped>\n",
       "    .dataframe tbody tr th:only-of-type {\n",
       "        vertical-align: middle;\n",
       "    }\n",
       "\n",
       "    .dataframe tbody tr th {\n",
       "        vertical-align: top;\n",
       "    }\n",
       "\n",
       "    .dataframe thead th {\n",
       "        text-align: right;\n",
       "    }\n",
       "</style>\n",
       "<table border=\"1\" class=\"dataframe\">\n",
       "  <thead>\n",
       "    <tr style=\"text-align: right;\">\n",
       "      <th></th>\n",
       "      <th>Model</th>\n",
       "      <th>Accuracy</th>\n",
       "      <th>Precision</th>\n",
       "      <th>Recall</th>\n",
       "      <th>F1-Score</th>\n",
       "      <th>Balanced Acc</th>\n",
       "      <th>MCC</th>\n",
       "    </tr>\n",
       "  </thead>\n",
       "  <tbody>\n",
       "    <tr>\n",
       "      <th>NaiveBayes</th>\n",
       "      <td>NaiveBayes</td>\n",
       "      <td>0.222414</td>\n",
       "      <td>0.2276</td>\n",
       "      <td>0.222414</td>\n",
       "      <td>0.208523</td>\n",
       "      <td>0.222414</td>\n",
       "      <td>0.220013</td>\n",
       "    </tr>\n",
       "    <tr>\n",
       "      <th>LogisticRegression</th>\n",
       "      <td>LogisticRegression</td>\n",
       "      <td>0.334483</td>\n",
       "      <td>0.319458</td>\n",
       "      <td>0.334483</td>\n",
       "      <td>0.30786</td>\n",
       "      <td>0.334483</td>\n",
       "      <td>0.332462</td>\n",
       "    </tr>\n",
       "    <tr>\n",
       "      <th>NearestNeighbor</th>\n",
       "      <td>NearestNeighbor</td>\n",
       "      <td>0.193103</td>\n",
       "      <td>0.194055</td>\n",
       "      <td>0.193103</td>\n",
       "      <td>0.177181</td>\n",
       "      <td>0.193103</td>\n",
       "      <td>0.190951</td>\n",
       "    </tr>\n",
       "    <tr>\n",
       "      <th>MLP_Baseline</th>\n",
       "      <td>MLP_Baseline</td>\n",
       "      <td>0.282759</td>\n",
       "      <td>0.281667</td>\n",
       "      <td>0.282759</td>\n",
       "      <td>0.262734</td>\n",
       "      <td>0.282759</td>\n",
       "      <td>0.280515</td>\n",
       "    </tr>\n",
       "  </tbody>\n",
       "</table>\n",
       "</div>"
      ],
      "text/plain": [
       "                                 Model  Accuracy Precision    Recall  \\\n",
       "NaiveBayes                  NaiveBayes  0.222414    0.2276  0.222414   \n",
       "LogisticRegression  LogisticRegression  0.334483  0.319458  0.334483   \n",
       "NearestNeighbor        NearestNeighbor  0.193103  0.194055  0.193103   \n",
       "MLP_Baseline              MLP_Baseline  0.282759  0.281667  0.282759   \n",
       "\n",
       "                    F1-Score Balanced Acc       MCC  \n",
       "NaiveBayes          0.208523     0.222414  0.220013  \n",
       "LogisticRegression   0.30786     0.334483  0.332462  \n",
       "NearestNeighbor     0.177181     0.193103  0.190951  \n",
       "MLP_Baseline        0.262734     0.282759  0.280515  "
      ]
     },
     "execution_count": 10,
     "metadata": {},
     "output_type": "execute_result"
    }
   ],
   "source": [
    "metrics_df"
   ]
  },
  {
   "cell_type": "code",
   "execution_count": 11,
   "id": "525377dd-138a-41c1-b4b1-d8ee80e8712a",
   "metadata": {},
   "outputs": [],
   "source": [
    "\n",
    "basedir = '/users/PAS2136/rayees/CV4A - Efficient Probing/BritishCarabids_20_per_species/'\n"
   ]
  },
  {
   "cell_type": "code",
   "execution_count": 12,
   "id": "4146536f-2efe-4bd7-a8d4-c07f58faefbf",
   "metadata": {},
   "outputs": [],
   "source": [
    "\n",
    "test_df.to_csv(f\"{basedir}/3.LeViT-species.csv\", index=False)\n",
    "\n",
    "metrics_df.to_csv(f\"{basedir}/3.LeViT-species-metrics.csv\", index=False)\n",
    "\n"
   ]
  },
  {
   "cell_type": "code",
   "execution_count": null,
   "id": "4a1dcd1c-340f-4622-9717-83cf7b3bd0d2",
   "metadata": {},
   "outputs": [],
   "source": []
  },
  {
   "cell_type": "code",
   "execution_count": null,
   "id": "23e1542a-9916-43d0-b2a6-a6ab29f6257b",
   "metadata": {},
   "outputs": [],
   "source": []
  },
  {
   "cell_type": "code",
   "execution_count": null,
   "id": "b6f1a4f6-5f21-48b3-82d1-a7812ae545cb",
   "metadata": {},
   "outputs": [],
   "source": []
  }
 ],
 "metadata": {
  "kernelspec": {
   "display_name": "Python myenv",
   "language": "python",
   "name": "myenv"
  },
  "language_info": {
   "codemirror_mode": {
    "name": "ipython",
    "version": 3
   },
   "file_extension": ".py",
   "mimetype": "text/x-python",
   "name": "python",
   "nbconvert_exporter": "python",
   "pygments_lexer": "ipython3",
   "version": "3.9.18"
  }
 },
 "nbformat": 4,
 "nbformat_minor": 5
}
