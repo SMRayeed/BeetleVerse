{
 "cells": [
  {
   "cell_type": "code",
   "execution_count": 1,
   "id": "337beda9-c8af-425e-ad65-c8d19741d61b",
   "metadata": {},
   "outputs": [],
   "source": [
    "import warnings\n",
    "warnings.filterwarnings(\"ignore\")"
   ]
  },
  {
   "cell_type": "code",
   "execution_count": 2,
   "id": "021c046e-4b73-40b6-b1b8-d74af9448bc0",
   "metadata": {},
   "outputs": [],
   "source": [
    "import torch\n",
    "import numpy as np\n",
    "import pandas as pd\n",
    "from PIL import Image\n",
    "from tqdm.notebook import tqdm\n",
    "from transformers import AutoProcessor, AutoModelForImageClassification\n",
    "from sklearn.preprocessing import LabelEncoder, StandardScaler\n",
    "from sklearn.model_selection import train_test_split\n",
    "from sklearn.naive_bayes import GaussianNB\n",
    "from sklearn.linear_model import LogisticRegression\n",
    "from sklearn.svm import SVC\n",
    "from sklearn.neighbors import KNeighborsClassifier\n",
    "from sklearn.ensemble import RandomForestClassifier\n",
    "from sklearn.neural_network import MLPClassifier\n",
    "from sklearn.metrics import accuracy_score, precision_score, recall_score, f1_score, balanced_accuracy_score, matthews_corrcoef"
   ]
  },
  {
   "cell_type": "code",
   "execution_count": 3,
   "id": "0ace137d-3c1f-44d7-b97f-7d71b8d41f81",
   "metadata": {},
   "outputs": [
    {
     "data": {
      "text/html": [
       "<div>\n",
       "<style scoped>\n",
       "    .dataframe tbody tr th:only-of-type {\n",
       "        vertical-align: middle;\n",
       "    }\n",
       "\n",
       "    .dataframe tbody tr th {\n",
       "        vertical-align: top;\n",
       "    }\n",
       "\n",
       "    .dataframe thead th {\n",
       "        text-align: right;\n",
       "    }\n",
       "</style>\n",
       "<table border=\"1\" class=\"dataframe\">\n",
       "  <thead>\n",
       "    <tr style=\"text-align: right;\">\n",
       "      <th></th>\n",
       "      <th>ImageFilePath</th>\n",
       "      <th>ScientificName</th>\n",
       "    </tr>\n",
       "  </thead>\n",
       "  <tbody>\n",
       "    <tr>\n",
       "      <th>0</th>\n",
       "      <td>/fs/ess/PAS2136/Rayeed/Carabids-100K-V2/Britis...</td>\n",
       "      <td>Ophonus rufibarbis</td>\n",
       "    </tr>\n",
       "    <tr>\n",
       "      <th>1</th>\n",
       "      <td>/fs/ess/PAS2136/Rayeed/Carabids-100K-V2/Britis...</td>\n",
       "      <td>Calathus mollis</td>\n",
       "    </tr>\n",
       "  </tbody>\n",
       "</table>\n",
       "</div>"
      ],
      "text/plain": [
       "                                       ImageFilePath      ScientificName\n",
       "0  /fs/ess/PAS2136/Rayeed/Carabids-100K-V2/Britis...  Ophonus rufibarbis\n",
       "1  /fs/ess/PAS2136/Rayeed/Carabids-100K-V2/Britis...     Calathus mollis"
      ]
     },
     "execution_count": 3,
     "metadata": {},
     "output_type": "execute_result"
    }
   ],
   "source": [
    "file_path = \"/users/PAS2136/rayees/CV4A - Efficient Probing/ProbingSubsets/probing_2900_ratio.csv\"\n",
    "df = pd.read_csv(file_path)\n",
    "cols = ['ImageFilePath', 'ScientificName']\n",
    "df = df[cols]\n",
    "df = df.dropna()\n",
    "df.head(2)"
   ]
  },
  {
   "cell_type": "code",
   "execution_count": 4,
   "id": "23077587-e7cf-42d2-a44a-e11ff3c94220",
   "metadata": {},
   "outputs": [],
   "source": [
    "device = \"cuda\" if torch.cuda.is_available() else \"cpu\"\n",
    "\n",
    "model_name = \"microsoft/swinv2-base-patch4-window8-256\"\n",
    "\n",
    "processor = AutoProcessor.from_pretrained(model_name, use_fast=True)\n",
    "\n",
    "model = AutoModelForImageClassification.from_pretrained(model_name).to(device).eval()\n"
   ]
  },
  {
   "cell_type": "code",
   "execution_count": 5,
   "id": "e5171da7-526f-434e-96e3-e83b6c0199a9",
   "metadata": {},
   "outputs": [],
   "source": [
    "def extract_features(image_path) :\n",
    "    \n",
    "    image = Image.open(image_path).convert(\"RGB\")\n",
    "    \n",
    "    inputs = processor(images=image, return_tensors=\"pt\").to(device)\n",
    "    \n",
    "    with torch.no_grad():\n",
    "        outputs = model(**inputs)\n",
    "        features = outputs.logits\n",
    "    \n",
    "    return features.cpu().numpy()\n"
   ]
  },
  {
   "cell_type": "code",
   "execution_count": 6,
   "id": "2d317b55-c9ab-496c-91ee-adce9a516b46",
   "metadata": {},
   "outputs": [
    {
     "data": {
      "application/vnd.jupyter.widget-view+json": {
       "model_id": "eae7ddf2c8df43aab17024cafdf316ea",
       "version_major": 2,
       "version_minor": 0
      },
      "text/plain": [
       "Processing Images ...:   0%|          | 0/2900 [00:00<?, ?it/s]"
      ]
     },
     "metadata": {},
     "output_type": "display_data"
    }
   ],
   "source": [
    "X = np.vstack([extract_features(img) for img in tqdm(df[\"ImageFilePath\"], desc=\"Processing Images ...\") ])\n",
    "\n",
    "seed = 99\n",
    "\n",
    "le = LabelEncoder()\n",
    "\n",
    "y = le.fit_transform(df[\"ScientificName\"])\n",
    "\n",
    "df_indices = df.index \n",
    "\n",
    "X_train, X_test, y_train, y_test, train_idx, test_idx = train_test_split(\n",
    "    X, y, df_indices, \n",
    "    test_size=0.2, \n",
    "    random_state=42,\n",
    "    stratify=y\n",
    ")\n"
   ]
  },
  {
   "cell_type": "code",
   "execution_count": 7,
   "id": "c703e140-cd5e-4070-a450-734a00189a7d",
   "metadata": {},
   "outputs": [],
   "source": [
    "\n",
    "test_df = df.loc[test_idx].copy()\n",
    "\n",
    "scaler = StandardScaler()\n",
    "\n",
    "X_train_scaled = scaler.fit_transform(X_train)\n",
    "\n",
    "X_test_scaled = scaler.transform(X_test)\n"
   ]
  },
  {
   "cell_type": "code",
   "execution_count": 8,
   "id": "37e2edc9-b628-4fb8-9cdf-9fd1368f7ef8",
   "metadata": {},
   "outputs": [
    {
     "data": {
      "application/vnd.jupyter.widget-view+json": {
       "model_id": "3e15d3cdf34049328d6a4b9dfe4189cf",
       "version_major": 2,
       "version_minor": 0
      },
      "text/plain": [
       "Training Models:   0%|          | 0/4 [00:00<?, ?it/s]"
      ]
     },
     "metadata": {},
     "output_type": "display_data"
    },
    {
     "name": "stdout",
     "output_type": "stream",
     "text": [
      "NaiveBayes                | Acc: 11.90% | Prec: 11.54% | Rec: 11.90% | F1: 10.06% | Bal Acc: 8.48% | MCC: 0.1141\n",
      "LogisticRegression        | Acc: 38.28% | Prec: 33.58% | Rec: 38.28% | F1: 34.45% | Bal Acc: 30.07% | MCC: 0.3796\n",
      "NearestNeighbor           | Acc: 10.17% | Prec: 10.67% | Rec: 10.17% | F1: 9.21% | Bal Acc: 7.67% | MCC: 0.0970\n",
      "MLP_Baseline              | Acc: 29.14% | Prec: 26.62% | Rec: 29.14% | F1: 26.55% | Bal Acc: 21.74% | MCC: 0.2877\n"
     ]
    }
   ],
   "source": [
    "\n",
    "models = {\n",
    "    \"NaiveBayes\": GaussianNB(),\n",
    "    \"LogisticRegression\": LogisticRegression(max_iter=100),\n",
    "    \"NearestNeighbor\": KNeighborsClassifier(n_neighbors=11),  \n",
    "    \"MLP_Baseline\": MLPClassifier(hidden_layer_sizes=(100,), max_iter=200, random_state=seed)\n",
    "}\n",
    "\n",
    "metrics = {}\n",
    "\n",
    "predictions = {}\n",
    "\n",
    "for name, model in tqdm(models.items(), desc=\"Training Models\", leave=True):\n",
    "\n",
    "    model.fit(X_train_scaled, y_train)\n",
    "    preds = model.predict(X_test_scaled)\n",
    "    predictions[name] = preds\n",
    "    \n",
    "    acc = accuracy_score(y_test, preds)\n",
    "    prec = precision_score(y_test, preds, average=\"weighted\")\n",
    "    rec = recall_score(y_test, preds, average=\"weighted\")\n",
    "    f1 = f1_score(y_test, preds, average=\"weighted\")\n",
    "    bal_acc = balanced_accuracy_score(y_test, preds)\n",
    "    mcc = matthews_corrcoef(y_test, preds)\n",
    "    \n",
    "    metrics[name] = {\"Model\": name, \"Accuracy\": acc, \"Precision\": prec, \"Recall\": rec, \"F1-Score\": f1, \"Balanced Acc\": bal_acc, \"MCC\": mcc}\n",
    "    print(f\"{name:<25} | Acc: {acc:.2%} | Prec: {prec:.2%} | Rec: {rec:.2%} | F1: {f1:.2%} | Bal Acc: {bal_acc:.2%} | MCC: {mcc:.4f}\")\n",
    "\n",
    "metrics_df = pd.DataFrame(metrics).T\n"
   ]
  },
  {
   "cell_type": "code",
   "execution_count": 9,
   "id": "68c25d98-1cc4-494e-9568-c4e8ae6c38b8",
   "metadata": {},
   "outputs": [],
   "source": [
    "test_df = test_df.assign(**{f\"Pred_{name}\": le.inverse_transform(pred) for name, pred in predictions.items()})"
   ]
  },
  {
   "cell_type": "code",
   "execution_count": 10,
   "id": "f88edcee-4e2c-498b-8ca7-7269dbe720ce",
   "metadata": {},
   "outputs": [
    {
     "data": {
      "text/html": [
       "<div>\n",
       "<style scoped>\n",
       "    .dataframe tbody tr th:only-of-type {\n",
       "        vertical-align: middle;\n",
       "    }\n",
       "\n",
       "    .dataframe tbody tr th {\n",
       "        vertical-align: top;\n",
       "    }\n",
       "\n",
       "    .dataframe thead th {\n",
       "        text-align: right;\n",
       "    }\n",
       "</style>\n",
       "<table border=\"1\" class=\"dataframe\">\n",
       "  <thead>\n",
       "    <tr style=\"text-align: right;\">\n",
       "      <th></th>\n",
       "      <th>ImageFilePath</th>\n",
       "      <th>ScientificName</th>\n",
       "      <th>Pred_NaiveBayes</th>\n",
       "      <th>Pred_LogisticRegression</th>\n",
       "      <th>Pred_NearestNeighbor</th>\n",
       "      <th>Pred_MLP_Baseline</th>\n",
       "    </tr>\n",
       "  </thead>\n",
       "  <tbody>\n",
       "    <tr>\n",
       "      <th>1529</th>\n",
       "      <td>/fs/ess/PAS2136/Rayeed/Carabids-100K-V2/Britis...</td>\n",
       "      <td>Acupalpus dubius</td>\n",
       "      <td>Badister bullatus</td>\n",
       "      <td>Dyschirius salinus</td>\n",
       "      <td>Harpalus anxius</td>\n",
       "      <td>Clivina collaris</td>\n",
       "    </tr>\n",
       "    <tr>\n",
       "      <th>1747</th>\n",
       "      <td>/fs/ess/PAS2136/Rayeed/Carabids-100K-V2/Britis...</td>\n",
       "      <td>Bembidion tetracolum</td>\n",
       "      <td>Agonum emarginatum</td>\n",
       "      <td>Bembidion tetracolum</td>\n",
       "      <td>Pterostichus strenuus</td>\n",
       "      <td>Pterostichus vernalis</td>\n",
       "    </tr>\n",
       "  </tbody>\n",
       "</table>\n",
       "</div>"
      ],
      "text/plain": [
       "                                          ImageFilePath        ScientificName  \\\n",
       "1529  /fs/ess/PAS2136/Rayeed/Carabids-100K-V2/Britis...      Acupalpus dubius   \n",
       "1747  /fs/ess/PAS2136/Rayeed/Carabids-100K-V2/Britis...  Bembidion tetracolum   \n",
       "\n",
       "         Pred_NaiveBayes Pred_LogisticRegression   Pred_NearestNeighbor  \\\n",
       "1529   Badister bullatus      Dyschirius salinus        Harpalus anxius   \n",
       "1747  Agonum emarginatum    Bembidion tetracolum  Pterostichus strenuus   \n",
       "\n",
       "          Pred_MLP_Baseline  \n",
       "1529       Clivina collaris  \n",
       "1747  Pterostichus vernalis  "
      ]
     },
     "execution_count": 10,
     "metadata": {},
     "output_type": "execute_result"
    }
   ],
   "source": [
    "test_df.head(2)"
   ]
  },
  {
   "cell_type": "code",
   "execution_count": 11,
   "id": "c299aa70-6cdf-4197-93c5-270d6bf79a8b",
   "metadata": {},
   "outputs": [
    {
     "data": {
      "text/html": [
       "<div>\n",
       "<style scoped>\n",
       "    .dataframe tbody tr th:only-of-type {\n",
       "        vertical-align: middle;\n",
       "    }\n",
       "\n",
       "    .dataframe tbody tr th {\n",
       "        vertical-align: top;\n",
       "    }\n",
       "\n",
       "    .dataframe thead th {\n",
       "        text-align: right;\n",
       "    }\n",
       "</style>\n",
       "<table border=\"1\" class=\"dataframe\">\n",
       "  <thead>\n",
       "    <tr style=\"text-align: right;\">\n",
       "      <th></th>\n",
       "      <th>Model</th>\n",
       "      <th>Accuracy</th>\n",
       "      <th>Precision</th>\n",
       "      <th>Recall</th>\n",
       "      <th>F1-Score</th>\n",
       "      <th>Balanced Acc</th>\n",
       "      <th>MCC</th>\n",
       "    </tr>\n",
       "  </thead>\n",
       "  <tbody>\n",
       "    <tr>\n",
       "      <th>NaiveBayes</th>\n",
       "      <td>NaiveBayes</td>\n",
       "      <td>0.118966</td>\n",
       "      <td>0.115391</td>\n",
       "      <td>0.118966</td>\n",
       "      <td>0.100582</td>\n",
       "      <td>0.084836</td>\n",
       "      <td>0.114082</td>\n",
       "    </tr>\n",
       "    <tr>\n",
       "      <th>LogisticRegression</th>\n",
       "      <td>LogisticRegression</td>\n",
       "      <td>0.382759</td>\n",
       "      <td>0.335833</td>\n",
       "      <td>0.382759</td>\n",
       "      <td>0.344515</td>\n",
       "      <td>0.300715</td>\n",
       "      <td>0.379569</td>\n",
       "    </tr>\n",
       "    <tr>\n",
       "      <th>NearestNeighbor</th>\n",
       "      <td>NearestNeighbor</td>\n",
       "      <td>0.101724</td>\n",
       "      <td>0.106711</td>\n",
       "      <td>0.101724</td>\n",
       "      <td>0.092087</td>\n",
       "      <td>0.076653</td>\n",
       "      <td>0.096984</td>\n",
       "    </tr>\n",
       "    <tr>\n",
       "      <th>MLP_Baseline</th>\n",
       "      <td>MLP_Baseline</td>\n",
       "      <td>0.291379</td>\n",
       "      <td>0.266175</td>\n",
       "      <td>0.291379</td>\n",
       "      <td>0.265534</td>\n",
       "      <td>0.217408</td>\n",
       "      <td>0.287736</td>\n",
       "    </tr>\n",
       "  </tbody>\n",
       "</table>\n",
       "</div>"
      ],
      "text/plain": [
       "                                 Model  Accuracy Precision    Recall  \\\n",
       "NaiveBayes                  NaiveBayes  0.118966  0.115391  0.118966   \n",
       "LogisticRegression  LogisticRegression  0.382759  0.335833  0.382759   \n",
       "NearestNeighbor        NearestNeighbor  0.101724  0.106711  0.101724   \n",
       "MLP_Baseline              MLP_Baseline  0.291379  0.266175  0.291379   \n",
       "\n",
       "                    F1-Score Balanced Acc       MCC  \n",
       "NaiveBayes          0.100582     0.084836  0.114082  \n",
       "LogisticRegression  0.344515     0.300715  0.379569  \n",
       "NearestNeighbor     0.092087     0.076653  0.096984  \n",
       "MLP_Baseline        0.265534     0.217408  0.287736  "
      ]
     },
     "execution_count": 11,
     "metadata": {},
     "output_type": "execute_result"
    }
   ],
   "source": [
    "metrics_df"
   ]
  },
  {
   "cell_type": "code",
   "execution_count": 12,
   "id": "8b64e9cb-38bf-46da-bf64-fab3bd18f0b9",
   "metadata": {},
   "outputs": [],
   "source": [
    "\n",
    "basedir = '/users/PAS2136/rayees/CV4A - Efficient Probing/BritishCarabids_2900_ratio/'\n"
   ]
  },
  {
   "cell_type": "code",
   "execution_count": 13,
   "id": "ce4bc4cc-6624-4323-9f19-89186ecb83b8",
   "metadata": {},
   "outputs": [],
   "source": [
    "\n",
    "test_df.to_csv(f\"{basedir}/5.SWINv2-species.csv\", index=False)\n",
    "\n",
    "metrics_df.to_csv(f\"{basedir}/5.SWINv2-species-metrics.csv\", index=False)\n",
    "\n"
   ]
  },
  {
   "cell_type": "code",
   "execution_count": null,
   "id": "162cedb4-9611-4b12-bfc4-9ee7ec324e23",
   "metadata": {},
   "outputs": [],
   "source": []
  }
 ],
 "metadata": {
  "kernelspec": {
   "display_name": "Python myenv",
   "language": "python",
   "name": "myenv"
  },
  "language_info": {
   "codemirror_mode": {
    "name": "ipython",
    "version": 3
   },
   "file_extension": ".py",
   "mimetype": "text/x-python",
   "name": "python",
   "nbconvert_exporter": "python",
   "pygments_lexer": "ipython3",
   "version": "3.9.18"
  }
 },
 "nbformat": 4,
 "nbformat_minor": 5
}
