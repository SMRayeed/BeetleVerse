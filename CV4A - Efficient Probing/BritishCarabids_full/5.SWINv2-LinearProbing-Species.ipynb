{
 "cells": [
  {
   "cell_type": "code",
   "execution_count": 1,
   "id": "337beda9-c8af-425e-ad65-c8d19741d61b",
   "metadata": {},
   "outputs": [],
   "source": [
    "import warnings\n",
    "warnings.filterwarnings(\"ignore\")"
   ]
  },
  {
   "cell_type": "code",
   "execution_count": 2,
   "id": "021c046e-4b73-40b6-b1b8-d74af9448bc0",
   "metadata": {},
   "outputs": [],
   "source": [
    "import torch\n",
    "import numpy as np\n",
    "import pandas as pd\n",
    "from PIL import Image\n",
    "from tqdm.notebook import tqdm\n",
    "from transformers import AutoProcessor, AutoModelForImageClassification\n",
    "from sklearn.preprocessing import LabelEncoder, StandardScaler\n",
    "from sklearn.model_selection import train_test_split\n",
    "from sklearn.naive_bayes import GaussianNB\n",
    "from sklearn.linear_model import LogisticRegression\n",
    "from sklearn.svm import SVC\n",
    "from sklearn.neighbors import KNeighborsClassifier\n",
    "from sklearn.ensemble import RandomForestClassifier\n",
    "from sklearn.neural_network import MLPClassifier\n",
    "from sklearn.metrics import accuracy_score, precision_score, recall_score, f1_score, balanced_accuracy_score, matthews_corrcoef"
   ]
  },
  {
   "cell_type": "code",
   "execution_count": 3,
   "id": "0ace137d-3c1f-44d7-b97f-7d71b8d41f81",
   "metadata": {},
   "outputs": [
    {
     "data": {
      "text/html": [
       "<div>\n",
       "<style scoped>\n",
       "    .dataframe tbody tr th:only-of-type {\n",
       "        vertical-align: middle;\n",
       "    }\n",
       "\n",
       "    .dataframe tbody tr th {\n",
       "        vertical-align: top;\n",
       "    }\n",
       "\n",
       "    .dataframe thead th {\n",
       "        text-align: right;\n",
       "    }\n",
       "</style>\n",
       "<table border=\"1\" class=\"dataframe\">\n",
       "  <thead>\n",
       "    <tr style=\"text-align: right;\">\n",
       "      <th></th>\n",
       "      <th>ImageFilePath</th>\n",
       "      <th>ScientificName</th>\n",
       "    </tr>\n",
       "  </thead>\n",
       "  <tbody>\n",
       "    <tr>\n",
       "      <th>0</th>\n",
       "      <td>/fs/ess/PAS2136/Rayeed/Carabids-100K-V2/Britis...</td>\n",
       "      <td>Asaphidion curtum</td>\n",
       "    </tr>\n",
       "    <tr>\n",
       "      <th>1</th>\n",
       "      <td>/fs/ess/PAS2136/Rayeed/Carabids-100K-V2/Britis...</td>\n",
       "      <td>Asaphidion curtum</td>\n",
       "    </tr>\n",
       "  </tbody>\n",
       "</table>\n",
       "</div>"
      ],
      "text/plain": [
       "                                       ImageFilePath     ScientificName\n",
       "0  /fs/ess/PAS2136/Rayeed/Carabids-100K-V2/Britis...  Asaphidion curtum\n",
       "1  /fs/ess/PAS2136/Rayeed/Carabids-100K-V2/Britis...  Asaphidion curtum"
      ]
     },
     "execution_count": 3,
     "metadata": {},
     "output_type": "execute_result"
    }
   ],
   "source": [
    "file_path = \"/users/PAS2136/rayees/CV4A - Efficient Probing/ProbingSubsets/probing_full_dataset.csv\"\n",
    "df = pd.read_csv(file_path)\n",
    "cols = ['ImageFilePath', 'ScientificName']\n",
    "df = df[cols]\n",
    "df = df.dropna()\n",
    "df.head(2)"
   ]
  },
  {
   "cell_type": "code",
   "execution_count": 4,
   "id": "23077587-e7cf-42d2-a44a-e11ff3c94220",
   "metadata": {},
   "outputs": [],
   "source": [
    "device = \"cuda\" if torch.cuda.is_available() else \"cpu\"\n",
    "\n",
    "model_name = \"microsoft/swinv2-base-patch4-window8-256\"\n",
    "\n",
    "processor = AutoProcessor.from_pretrained(model_name, use_fast=True)\n",
    "\n",
    "model = AutoModelForImageClassification.from_pretrained(model_name).to(device).eval()\n"
   ]
  },
  {
   "cell_type": "code",
   "execution_count": 5,
   "id": "e5171da7-526f-434e-96e3-e83b6c0199a9",
   "metadata": {},
   "outputs": [],
   "source": [
    "def extract_features(image_path) :\n",
    "    \n",
    "    image = Image.open(image_path).convert(\"RGB\")\n",
    "    \n",
    "    inputs = processor(images=image, return_tensors=\"pt\").to(device)\n",
    "    \n",
    "    with torch.no_grad():\n",
    "        outputs = model(**inputs)\n",
    "        features = outputs.logits\n",
    "    \n",
    "    return features.cpu().numpy()\n"
   ]
  },
  {
   "cell_type": "code",
   "execution_count": 6,
   "id": "2d317b55-c9ab-496c-91ee-adce9a516b46",
   "metadata": {},
   "outputs": [
    {
     "data": {
      "application/vnd.jupyter.widget-view+json": {
       "model_id": "482a3f59a0b64dd3b8980aec7ffbb317",
       "version_major": 2,
       "version_minor": 0
      },
      "text/plain": [
       "Processing Images ...:   0%|          | 0/63077 [00:00<?, ?it/s]"
      ]
     },
     "metadata": {},
     "output_type": "display_data"
    }
   ],
   "source": [
    "X = np.vstack([extract_features(img) for img in tqdm(df[\"ImageFilePath\"], desc=\"Processing Images ...\") ])\n",
    "\n",
    "seed = 99\n",
    "\n",
    "le = LabelEncoder()\n",
    "\n",
    "y = le.fit_transform(df[\"ScientificName\"])\n",
    "\n",
    "df_indices = df.index \n",
    "\n",
    "X_train, X_test, y_train, y_test, train_idx, test_idx = train_test_split(\n",
    "    X, y, df_indices, \n",
    "    test_size=0.2, \n",
    "    random_state=42,\n",
    "    stratify=y\n",
    ")\n"
   ]
  },
  {
   "cell_type": "code",
   "execution_count": 7,
   "id": "c703e140-cd5e-4070-a450-734a00189a7d",
   "metadata": {},
   "outputs": [],
   "source": [
    "\n",
    "test_df = df.loc[test_idx].copy()\n",
    "\n",
    "scaler = StandardScaler()\n",
    "\n",
    "X_train_scaled = scaler.fit_transform(X_train)\n",
    "\n",
    "X_test_scaled = scaler.transform(X_test)\n"
   ]
  },
  {
   "cell_type": "code",
   "execution_count": 8,
   "id": "37e2edc9-b628-4fb8-9cdf-9fd1368f7ef8",
   "metadata": {},
   "outputs": [
    {
     "data": {
      "application/vnd.jupyter.widget-view+json": {
       "model_id": "78e0a0a1d8fa4201b9e7f326b7025ae0",
       "version_major": 2,
       "version_minor": 0
      },
      "text/plain": [
       "Training Models:   0%|          | 0/4 [00:00<?, ?it/s]"
      ]
     },
     "metadata": {},
     "output_type": "display_data"
    },
    {
     "name": "stdout",
     "output_type": "stream",
     "text": [
      "NaiveBayes                | Acc: 12.55% | Prec: 21.62% | Rec: 12.55% | F1: 12.38% | Bal Acc: 16.44% | MCC: 0.1237\n",
      "LogisticRegression        | Acc: 78.03% | Prec: 78.32% | Rec: 78.03% | F1: 77.92% | Bal Acc: 75.63% | MCC: 0.7791\n",
      "NearestNeighbor           | Acc: 34.17% | Prec: 37.86% | Rec: 34.17% | F1: 34.11% | Bal Acc: 29.81% | MCC: 0.3382\n",
      "MLP_Baseline              | Acc: 77.62% | Prec: 77.89% | Rec: 77.62% | F1: 77.54% | Bal Acc: 75.81% | MCC: 0.7750\n"
     ]
    }
   ],
   "source": [
    "\n",
    "models = {\n",
    "    \"NaiveBayes\": GaussianNB(),\n",
    "    \"LogisticRegression\": LogisticRegression(max_iter=100),\n",
    "    \"NearestNeighbor\": KNeighborsClassifier(n_neighbors=11),  \n",
    "    \"MLP_Baseline\": MLPClassifier(hidden_layer_sizes=(100,), max_iter=200, random_state=seed)\n",
    "}\n",
    "\n",
    "metrics = {}\n",
    "\n",
    "predictions = {}\n",
    "\n",
    "for name, model in tqdm(models.items(), desc=\"Training Models\", leave=True):\n",
    "\n",
    "    model.fit(X_train_scaled, y_train)\n",
    "    preds = model.predict(X_test_scaled)\n",
    "    predictions[name] = preds\n",
    "    \n",
    "    acc = accuracy_score(y_test, preds)\n",
    "    prec = precision_score(y_test, preds, average=\"weighted\")\n",
    "    rec = recall_score(y_test, preds, average=\"weighted\")\n",
    "    f1 = f1_score(y_test, preds, average=\"weighted\")\n",
    "    bal_acc = balanced_accuracy_score(y_test, preds)\n",
    "    mcc = matthews_corrcoef(y_test, preds)\n",
    "    \n",
    "    metrics[name] = {\"Model\": name, \"Accuracy\": acc, \"Precision\": prec, \"Recall\": rec, \"F1-Score\": f1, \"Balanced Acc\": bal_acc, \"MCC\": mcc}\n",
    "    print(f\"{name:<25} | Acc: {acc:.2%} | Prec: {prec:.2%} | Rec: {rec:.2%} | F1: {f1:.2%} | Bal Acc: {bal_acc:.2%} | MCC: {mcc:.4f}\")\n",
    "\n",
    "metrics_df = pd.DataFrame(metrics).T\n"
   ]
  },
  {
   "cell_type": "code",
   "execution_count": 9,
   "id": "68c25d98-1cc4-494e-9568-c4e8ae6c38b8",
   "metadata": {},
   "outputs": [],
   "source": [
    "test_df = test_df.assign(**{f\"Pred_{name}\": le.inverse_transform(pred) for name, pred in predictions.items()})"
   ]
  },
  {
   "cell_type": "code",
   "execution_count": 10,
   "id": "f88edcee-4e2c-498b-8ca7-7269dbe720ce",
   "metadata": {},
   "outputs": [
    {
     "data": {
      "text/html": [
       "<div>\n",
       "<style scoped>\n",
       "    .dataframe tbody tr th:only-of-type {\n",
       "        vertical-align: middle;\n",
       "    }\n",
       "\n",
       "    .dataframe tbody tr th {\n",
       "        vertical-align: top;\n",
       "    }\n",
       "\n",
       "    .dataframe thead th {\n",
       "        text-align: right;\n",
       "    }\n",
       "</style>\n",
       "<table border=\"1\" class=\"dataframe\">\n",
       "  <thead>\n",
       "    <tr style=\"text-align: right;\">\n",
       "      <th></th>\n",
       "      <th>ImageFilePath</th>\n",
       "      <th>ScientificName</th>\n",
       "      <th>Pred_NaiveBayes</th>\n",
       "      <th>Pred_LogisticRegression</th>\n",
       "      <th>Pred_NearestNeighbor</th>\n",
       "      <th>Pred_MLP_Baseline</th>\n",
       "    </tr>\n",
       "  </thead>\n",
       "  <tbody>\n",
       "    <tr>\n",
       "      <th>35206</th>\n",
       "      <td>/fs/ess/PAS2136/Rayeed/Carabids-100K-V2/Britis...</td>\n",
       "      <td>Nebria brevicollis</td>\n",
       "      <td>Calathus rotundicollis</td>\n",
       "      <td>Nebria salina</td>\n",
       "      <td>Leistus spinibarbis</td>\n",
       "      <td>Nebria salina</td>\n",
       "    </tr>\n",
       "    <tr>\n",
       "      <th>17377</th>\n",
       "      <td>/fs/ess/PAS2136/Rayeed/Carabids-100K-V2/Britis...</td>\n",
       "      <td>Notiophilus rufipes</td>\n",
       "      <td>Dromius angustus</td>\n",
       "      <td>Notiophilus biguttatus</td>\n",
       "      <td>Agonum thoreyi</td>\n",
       "      <td>Notiophilus rufipes</td>\n",
       "    </tr>\n",
       "  </tbody>\n",
       "</table>\n",
       "</div>"
      ],
      "text/plain": [
       "                                           ImageFilePath       ScientificName  \\\n",
       "35206  /fs/ess/PAS2136/Rayeed/Carabids-100K-V2/Britis...   Nebria brevicollis   \n",
       "17377  /fs/ess/PAS2136/Rayeed/Carabids-100K-V2/Britis...  Notiophilus rufipes   \n",
       "\n",
       "              Pred_NaiveBayes Pred_LogisticRegression Pred_NearestNeighbor  \\\n",
       "35206  Calathus rotundicollis           Nebria salina  Leistus spinibarbis   \n",
       "17377        Dromius angustus  Notiophilus biguttatus       Agonum thoreyi   \n",
       "\n",
       "         Pred_MLP_Baseline  \n",
       "35206        Nebria salina  \n",
       "17377  Notiophilus rufipes  "
      ]
     },
     "execution_count": 10,
     "metadata": {},
     "output_type": "execute_result"
    }
   ],
   "source": [
    "test_df.head(2)"
   ]
  },
  {
   "cell_type": "code",
   "execution_count": 11,
   "id": "c299aa70-6cdf-4197-93c5-270d6bf79a8b",
   "metadata": {},
   "outputs": [
    {
     "data": {
      "text/html": [
       "<div>\n",
       "<style scoped>\n",
       "    .dataframe tbody tr th:only-of-type {\n",
       "        vertical-align: middle;\n",
       "    }\n",
       "\n",
       "    .dataframe tbody tr th {\n",
       "        vertical-align: top;\n",
       "    }\n",
       "\n",
       "    .dataframe thead th {\n",
       "        text-align: right;\n",
       "    }\n",
       "</style>\n",
       "<table border=\"1\" class=\"dataframe\">\n",
       "  <thead>\n",
       "    <tr style=\"text-align: right;\">\n",
       "      <th></th>\n",
       "      <th>Model</th>\n",
       "      <th>Accuracy</th>\n",
       "      <th>Precision</th>\n",
       "      <th>Recall</th>\n",
       "      <th>F1-Score</th>\n",
       "      <th>Balanced Acc</th>\n",
       "      <th>MCC</th>\n",
       "    </tr>\n",
       "  </thead>\n",
       "  <tbody>\n",
       "    <tr>\n",
       "      <th>NaiveBayes</th>\n",
       "      <td>NaiveBayes</td>\n",
       "      <td>0.125476</td>\n",
       "      <td>0.21622</td>\n",
       "      <td>0.125476</td>\n",
       "      <td>0.123813</td>\n",
       "      <td>0.164422</td>\n",
       "      <td>0.1237</td>\n",
       "    </tr>\n",
       "    <tr>\n",
       "      <th>LogisticRegression</th>\n",
       "      <td>LogisticRegression</td>\n",
       "      <td>0.780279</td>\n",
       "      <td>0.78315</td>\n",
       "      <td>0.780279</td>\n",
       "      <td>0.779169</td>\n",
       "      <td>0.756319</td>\n",
       "      <td>0.779134</td>\n",
       "    </tr>\n",
       "    <tr>\n",
       "      <th>NearestNeighbor</th>\n",
       "      <td>NearestNeighbor</td>\n",
       "      <td>0.341709</td>\n",
       "      <td>0.378634</td>\n",
       "      <td>0.341709</td>\n",
       "      <td>0.341106</td>\n",
       "      <td>0.2981</td>\n",
       "      <td>0.338203</td>\n",
       "    </tr>\n",
       "    <tr>\n",
       "      <th>MLP_Baseline</th>\n",
       "      <td>MLP_Baseline</td>\n",
       "      <td>0.776157</td>\n",
       "      <td>0.77885</td>\n",
       "      <td>0.776157</td>\n",
       "      <td>0.775406</td>\n",
       "      <td>0.75813</td>\n",
       "      <td>0.775008</td>\n",
       "    </tr>\n",
       "  </tbody>\n",
       "</table>\n",
       "</div>"
      ],
      "text/plain": [
       "                                 Model  Accuracy Precision    Recall  \\\n",
       "NaiveBayes                  NaiveBayes  0.125476   0.21622  0.125476   \n",
       "LogisticRegression  LogisticRegression  0.780279   0.78315  0.780279   \n",
       "NearestNeighbor        NearestNeighbor  0.341709  0.378634  0.341709   \n",
       "MLP_Baseline              MLP_Baseline  0.776157   0.77885  0.776157   \n",
       "\n",
       "                    F1-Score Balanced Acc       MCC  \n",
       "NaiveBayes          0.123813     0.164422    0.1237  \n",
       "LogisticRegression  0.779169     0.756319  0.779134  \n",
       "NearestNeighbor     0.341106       0.2981  0.338203  \n",
       "MLP_Baseline        0.775406      0.75813  0.775008  "
      ]
     },
     "execution_count": 11,
     "metadata": {},
     "output_type": "execute_result"
    }
   ],
   "source": [
    "metrics_df"
   ]
  },
  {
   "cell_type": "code",
   "execution_count": 12,
   "id": "8b64e9cb-38bf-46da-bf64-fab3bd18f0b9",
   "metadata": {},
   "outputs": [],
   "source": [
    "\n",
    "basedir = '/users/PAS2136/rayees/CV4A - Efficient Probing/BritishCarabids_full/'\n"
   ]
  },
  {
   "cell_type": "code",
   "execution_count": 13,
   "id": "ce4bc4cc-6624-4323-9f19-89186ecb83b8",
   "metadata": {},
   "outputs": [],
   "source": [
    "\n",
    "test_df.to_csv(f\"{basedir}/5.SWINv2-species.csv\", index=False)\n",
    "\n",
    "metrics_df.to_csv(f\"{basedir}/5.SWINv2-species-metrics.csv\", index=False)\n",
    "\n"
   ]
  },
  {
   "cell_type": "code",
   "execution_count": null,
   "id": "162cedb4-9611-4b12-bfc4-9ee7ec324e23",
   "metadata": {},
   "outputs": [],
   "source": []
  }
 ],
 "metadata": {
  "kernelspec": {
   "display_name": "Python myenv",
   "language": "python",
   "name": "myenv"
  },
  "language_info": {
   "codemirror_mode": {
    "name": "ipython",
    "version": 3
   },
   "file_extension": ".py",
   "mimetype": "text/x-python",
   "name": "python",
   "nbconvert_exporter": "python",
   "pygments_lexer": "ipython3",
   "version": "3.9.18"
  }
 },
 "nbformat": 4,
 "nbformat_minor": 5
}
