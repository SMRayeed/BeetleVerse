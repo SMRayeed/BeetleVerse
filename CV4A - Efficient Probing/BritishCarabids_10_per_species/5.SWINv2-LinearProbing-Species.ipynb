{
 "cells": [
  {
   "cell_type": "code",
   "execution_count": 1,
   "id": "337beda9-c8af-425e-ad65-c8d19741d61b",
   "metadata": {},
   "outputs": [],
   "source": [
    "import warnings\n",
    "warnings.filterwarnings(\"ignore\")"
   ]
  },
  {
   "cell_type": "code",
   "execution_count": 2,
   "id": "021c046e-4b73-40b6-b1b8-d74af9448bc0",
   "metadata": {},
   "outputs": [],
   "source": [
    "import torch\n",
    "import numpy as np\n",
    "import pandas as pd\n",
    "from PIL import Image\n",
    "from tqdm.notebook import tqdm\n",
    "from transformers import AutoProcessor, AutoModelForImageClassification\n",
    "from sklearn.preprocessing import LabelEncoder, StandardScaler\n",
    "from sklearn.model_selection import train_test_split\n",
    "from sklearn.naive_bayes import GaussianNB\n",
    "from sklearn.linear_model import LogisticRegression\n",
    "from sklearn.svm import SVC\n",
    "from sklearn.neighbors import KNeighborsClassifier\n",
    "from sklearn.ensemble import RandomForestClassifier\n",
    "from sklearn.neural_network import MLPClassifier\n",
    "from sklearn.metrics import accuracy_score, precision_score, recall_score, f1_score, balanced_accuracy_score, matthews_corrcoef"
   ]
  },
  {
   "cell_type": "code",
   "execution_count": 3,
   "id": "0ace137d-3c1f-44d7-b97f-7d71b8d41f81",
   "metadata": {},
   "outputs": [
    {
     "data": {
      "text/html": [
       "<div>\n",
       "<style scoped>\n",
       "    .dataframe tbody tr th:only-of-type {\n",
       "        vertical-align: middle;\n",
       "    }\n",
       "\n",
       "    .dataframe tbody tr th {\n",
       "        vertical-align: top;\n",
       "    }\n",
       "\n",
       "    .dataframe thead th {\n",
       "        text-align: right;\n",
       "    }\n",
       "</style>\n",
       "<table border=\"1\" class=\"dataframe\">\n",
       "  <thead>\n",
       "    <tr style=\"text-align: right;\">\n",
       "      <th></th>\n",
       "      <th>ImageFilePath</th>\n",
       "      <th>ScientificName</th>\n",
       "    </tr>\n",
       "  </thead>\n",
       "  <tbody>\n",
       "    <tr>\n",
       "      <th>0</th>\n",
       "      <td>/fs/ess/PAS2136/Rayeed/Carabids-100K-V2/Britis...</td>\n",
       "      <td>Notiophilus biguttatus</td>\n",
       "    </tr>\n",
       "    <tr>\n",
       "      <th>1</th>\n",
       "      <td>/fs/ess/PAS2136/Rayeed/Carabids-100K-V2/Britis...</td>\n",
       "      <td>Notiophilus biguttatus</td>\n",
       "    </tr>\n",
       "  </tbody>\n",
       "</table>\n",
       "</div>"
      ],
      "text/plain": [
       "                                       ImageFilePath          ScientificName\n",
       "0  /fs/ess/PAS2136/Rayeed/Carabids-100K-V2/Britis...  Notiophilus biguttatus\n",
       "1  /fs/ess/PAS2136/Rayeed/Carabids-100K-V2/Britis...  Notiophilus biguttatus"
      ]
     },
     "execution_count": 3,
     "metadata": {},
     "output_type": "execute_result"
    }
   ],
   "source": [
    "file_path = \"/users/PAS2136/rayees/CV4A - Efficient Probing/ProbingSubsets/probing_10_per_species.csv\"\n",
    "df = pd.read_csv(file_path)\n",
    "cols = ['ImageFilePath', 'ScientificName']\n",
    "df = df[cols]\n",
    "df = df.dropna()\n",
    "df.head(2)"
   ]
  },
  {
   "cell_type": "code",
   "execution_count": 4,
   "id": "23077587-e7cf-42d2-a44a-e11ff3c94220",
   "metadata": {},
   "outputs": [],
   "source": [
    "device = \"cuda\" if torch.cuda.is_available() else \"cpu\"\n",
    "\n",
    "model_name = \"microsoft/swinv2-base-patch4-window8-256\"\n",
    "\n",
    "processor = AutoProcessor.from_pretrained(model_name, use_fast=True)\n",
    "\n",
    "model = AutoModelForImageClassification.from_pretrained(model_name).to(device).eval()\n"
   ]
  },
  {
   "cell_type": "code",
   "execution_count": 5,
   "id": "e5171da7-526f-434e-96e3-e83b6c0199a9",
   "metadata": {},
   "outputs": [],
   "source": [
    "def extract_features(image_path) :\n",
    "    \n",
    "    image = Image.open(image_path).convert(\"RGB\")\n",
    "    \n",
    "    inputs = processor(images=image, return_tensors=\"pt\").to(device)\n",
    "    \n",
    "    with torch.no_grad():\n",
    "        outputs = model(**inputs)\n",
    "        features = outputs.logits\n",
    "    \n",
    "    return features.cpu().numpy()\n"
   ]
  },
  {
   "cell_type": "code",
   "execution_count": 6,
   "id": "2d317b55-c9ab-496c-91ee-adce9a516b46",
   "metadata": {},
   "outputs": [
    {
     "data": {
      "application/vnd.jupyter.widget-view+json": {
       "model_id": "60e6cbfcd8fa433ab304713ad6ea904a",
       "version_major": 2,
       "version_minor": 0
      },
      "text/plain": [
       "Processing Images ...:   0%|          | 0/5800 [00:00<?, ?it/s]"
      ]
     },
     "metadata": {},
     "output_type": "display_data"
    }
   ],
   "source": [
    "X = np.vstack([extract_features(img) for img in tqdm(df[\"ImageFilePath\"], desc=\"Processing Images ...\") ])\n",
    "\n",
    "seed = 99\n",
    "\n",
    "le = LabelEncoder()\n",
    "\n",
    "y = le.fit_transform(df[\"ScientificName\"])\n",
    "\n",
    "df_indices = df.index \n",
    "\n",
    "X_train, X_test, y_train, y_test, train_idx, test_idx = train_test_split(\n",
    "    X, y, df_indices, \n",
    "    test_size=0.2, \n",
    "    random_state=42,\n",
    "    stratify=y\n",
    ")\n"
   ]
  },
  {
   "cell_type": "code",
   "execution_count": 7,
   "id": "c703e140-cd5e-4070-a450-734a00189a7d",
   "metadata": {},
   "outputs": [],
   "source": [
    "\n",
    "test_df = df.loc[test_idx].copy()\n",
    "\n",
    "scaler = StandardScaler()\n",
    "\n",
    "X_train_scaled = scaler.fit_transform(X_train)\n",
    "\n",
    "X_test_scaled = scaler.transform(X_test)\n"
   ]
  },
  {
   "cell_type": "code",
   "execution_count": 8,
   "id": "37e2edc9-b628-4fb8-9cdf-9fd1368f7ef8",
   "metadata": {},
   "outputs": [
    {
     "data": {
      "application/vnd.jupyter.widget-view+json": {
       "model_id": "d1aa8c67bb8c42a39f84e7e7a97ad066",
       "version_major": 2,
       "version_minor": 0
      },
      "text/plain": [
       "Training Models:   0%|          | 0/4 [00:00<?, ?it/s]"
      ]
     },
     "metadata": {},
     "output_type": "display_data"
    },
    {
     "name": "stdout",
     "output_type": "stream",
     "text": [
      "NaiveBayes                | Acc: 14.48% | Prec: 17.18% | Rec: 14.48% | F1: 13.64% | Bal Acc: 14.48% | MCC: 0.1422\n",
      "LogisticRegression        | Acc: 51.38% | Prec: 55.16% | Rec: 51.38% | F1: 50.81% | Bal Acc: 51.38% | MCC: 0.5123\n",
      "NearestNeighbor           | Acc: 17.76% | Prec: 19.59% | Rec: 17.76% | F1: 16.45% | Bal Acc: 17.76% | MCC: 0.1751\n",
      "MLP_Baseline              | Acc: 45.09% | Prec: 47.77% | Rec: 45.09% | F1: 44.08% | Bal Acc: 45.09% | MCC: 0.4491\n"
     ]
    }
   ],
   "source": [
    "\n",
    "models = {\n",
    "    \"NaiveBayes\": GaussianNB(),\n",
    "    \"LogisticRegression\": LogisticRegression(max_iter=100),\n",
    "    \"NearestNeighbor\": KNeighborsClassifier(n_neighbors=11),  \n",
    "    \"MLP_Baseline\": MLPClassifier(hidden_layer_sizes=(100,), max_iter=200, random_state=seed)\n",
    "}\n",
    "\n",
    "metrics = {}\n",
    "\n",
    "predictions = {}\n",
    "\n",
    "for name, model in tqdm(models.items(), desc=\"Training Models\", leave=True):\n",
    "\n",
    "    model.fit(X_train_scaled, y_train)\n",
    "    preds = model.predict(X_test_scaled)\n",
    "    predictions[name] = preds\n",
    "    \n",
    "    acc = accuracy_score(y_test, preds)\n",
    "    prec = precision_score(y_test, preds, average=\"weighted\")\n",
    "    rec = recall_score(y_test, preds, average=\"weighted\")\n",
    "    f1 = f1_score(y_test, preds, average=\"weighted\")\n",
    "    bal_acc = balanced_accuracy_score(y_test, preds)\n",
    "    mcc = matthews_corrcoef(y_test, preds)\n",
    "    \n",
    "    metrics[name] = {\"Model\": name, \"Accuracy\": acc, \"Precision\": prec, \"Recall\": rec, \"F1-Score\": f1, \"Balanced Acc\": bal_acc, \"MCC\": mcc}\n",
    "    print(f\"{name:<25} | Acc: {acc:.2%} | Prec: {prec:.2%} | Rec: {rec:.2%} | F1: {f1:.2%} | Bal Acc: {bal_acc:.2%} | MCC: {mcc:.4f}\")\n",
    "\n",
    "metrics_df = pd.DataFrame(metrics).T\n"
   ]
  },
  {
   "cell_type": "code",
   "execution_count": 9,
   "id": "68c25d98-1cc4-494e-9568-c4e8ae6c38b8",
   "metadata": {},
   "outputs": [],
   "source": [
    "test_df = test_df.assign(**{f\"Pred_{name}\": le.inverse_transform(pred) for name, pred in predictions.items()})"
   ]
  },
  {
   "cell_type": "code",
   "execution_count": 10,
   "id": "f88edcee-4e2c-498b-8ca7-7269dbe720ce",
   "metadata": {},
   "outputs": [
    {
     "data": {
      "text/html": [
       "<div>\n",
       "<style scoped>\n",
       "    .dataframe tbody tr th:only-of-type {\n",
       "        vertical-align: middle;\n",
       "    }\n",
       "\n",
       "    .dataframe tbody tr th {\n",
       "        vertical-align: top;\n",
       "    }\n",
       "\n",
       "    .dataframe thead th {\n",
       "        text-align: right;\n",
       "    }\n",
       "</style>\n",
       "<table border=\"1\" class=\"dataframe\">\n",
       "  <thead>\n",
       "    <tr style=\"text-align: right;\">\n",
       "      <th></th>\n",
       "      <th>ImageFilePath</th>\n",
       "      <th>ScientificName</th>\n",
       "      <th>Pred_NaiveBayes</th>\n",
       "      <th>Pred_LogisticRegression</th>\n",
       "      <th>Pred_NearestNeighbor</th>\n",
       "      <th>Pred_MLP_Baseline</th>\n",
       "    </tr>\n",
       "  </thead>\n",
       "  <tbody>\n",
       "    <tr>\n",
       "      <th>2356</th>\n",
       "      <td>/fs/ess/PAS2136/Rayeed/Carabids-100K-V2/Britis...</td>\n",
       "      <td>Dromius quadrimaculatus</td>\n",
       "      <td>Dromius quadrimaculatus</td>\n",
       "      <td>Dromius quadrimaculatus</td>\n",
       "      <td>Dromius quadrimaculatus</td>\n",
       "      <td>Dromius quadrimaculatus</td>\n",
       "    </tr>\n",
       "    <tr>\n",
       "      <th>640</th>\n",
       "      <td>/fs/ess/PAS2136/Rayeed/Carabids-100K-V2/Britis...</td>\n",
       "      <td>Calathus mollis</td>\n",
       "      <td>Platynus livens</td>\n",
       "      <td>Calathus mollis</td>\n",
       "      <td>Calathus mollis</td>\n",
       "      <td>Calathus mollis</td>\n",
       "    </tr>\n",
       "  </tbody>\n",
       "</table>\n",
       "</div>"
      ],
      "text/plain": [
       "                                          ImageFilePath  \\\n",
       "2356  /fs/ess/PAS2136/Rayeed/Carabids-100K-V2/Britis...   \n",
       "640   /fs/ess/PAS2136/Rayeed/Carabids-100K-V2/Britis...   \n",
       "\n",
       "               ScientificName          Pred_NaiveBayes  \\\n",
       "2356  Dromius quadrimaculatus  Dromius quadrimaculatus   \n",
       "640           Calathus mollis          Platynus livens   \n",
       "\n",
       "      Pred_LogisticRegression     Pred_NearestNeighbor  \\\n",
       "2356  Dromius quadrimaculatus  Dromius quadrimaculatus   \n",
       "640           Calathus mollis          Calathus mollis   \n",
       "\n",
       "            Pred_MLP_Baseline  \n",
       "2356  Dromius quadrimaculatus  \n",
       "640           Calathus mollis  "
      ]
     },
     "execution_count": 10,
     "metadata": {},
     "output_type": "execute_result"
    }
   ],
   "source": [
    "test_df.head(2)"
   ]
  },
  {
   "cell_type": "code",
   "execution_count": 11,
   "id": "c299aa70-6cdf-4197-93c5-270d6bf79a8b",
   "metadata": {},
   "outputs": [
    {
     "data": {
      "text/html": [
       "<div>\n",
       "<style scoped>\n",
       "    .dataframe tbody tr th:only-of-type {\n",
       "        vertical-align: middle;\n",
       "    }\n",
       "\n",
       "    .dataframe tbody tr th {\n",
       "        vertical-align: top;\n",
       "    }\n",
       "\n",
       "    .dataframe thead th {\n",
       "        text-align: right;\n",
       "    }\n",
       "</style>\n",
       "<table border=\"1\" class=\"dataframe\">\n",
       "  <thead>\n",
       "    <tr style=\"text-align: right;\">\n",
       "      <th></th>\n",
       "      <th>Model</th>\n",
       "      <th>Accuracy</th>\n",
       "      <th>Precision</th>\n",
       "      <th>Recall</th>\n",
       "      <th>F1-Score</th>\n",
       "      <th>Balanced Acc</th>\n",
       "      <th>MCC</th>\n",
       "    </tr>\n",
       "  </thead>\n",
       "  <tbody>\n",
       "    <tr>\n",
       "      <th>NaiveBayes</th>\n",
       "      <td>NaiveBayes</td>\n",
       "      <td>0.144828</td>\n",
       "      <td>0.171786</td>\n",
       "      <td>0.144828</td>\n",
       "      <td>0.136433</td>\n",
       "      <td>0.144828</td>\n",
       "      <td>0.142187</td>\n",
       "    </tr>\n",
       "    <tr>\n",
       "      <th>LogisticRegression</th>\n",
       "      <td>LogisticRegression</td>\n",
       "      <td>0.513793</td>\n",
       "      <td>0.55159</td>\n",
       "      <td>0.513793</td>\n",
       "      <td>0.508146</td>\n",
       "      <td>0.513793</td>\n",
       "      <td>0.512293</td>\n",
       "    </tr>\n",
       "    <tr>\n",
       "      <th>NearestNeighbor</th>\n",
       "      <td>NearestNeighbor</td>\n",
       "      <td>0.177586</td>\n",
       "      <td>0.195893</td>\n",
       "      <td>0.177586</td>\n",
       "      <td>0.164467</td>\n",
       "      <td>0.177586</td>\n",
       "      <td>0.175112</td>\n",
       "    </tr>\n",
       "    <tr>\n",
       "      <th>MLP_Baseline</th>\n",
       "      <td>MLP_Baseline</td>\n",
       "      <td>0.450862</td>\n",
       "      <td>0.477677</td>\n",
       "      <td>0.450862</td>\n",
       "      <td>0.440798</td>\n",
       "      <td>0.450862</td>\n",
       "      <td>0.449125</td>\n",
       "    </tr>\n",
       "  </tbody>\n",
       "</table>\n",
       "</div>"
      ],
      "text/plain": [
       "                                 Model  Accuracy Precision    Recall  \\\n",
       "NaiveBayes                  NaiveBayes  0.144828  0.171786  0.144828   \n",
       "LogisticRegression  LogisticRegression  0.513793   0.55159  0.513793   \n",
       "NearestNeighbor        NearestNeighbor  0.177586  0.195893  0.177586   \n",
       "MLP_Baseline              MLP_Baseline  0.450862  0.477677  0.450862   \n",
       "\n",
       "                    F1-Score Balanced Acc       MCC  \n",
       "NaiveBayes          0.136433     0.144828  0.142187  \n",
       "LogisticRegression  0.508146     0.513793  0.512293  \n",
       "NearestNeighbor     0.164467     0.177586  0.175112  \n",
       "MLP_Baseline        0.440798     0.450862  0.449125  "
      ]
     },
     "execution_count": 11,
     "metadata": {},
     "output_type": "execute_result"
    }
   ],
   "source": [
    "metrics_df"
   ]
  },
  {
   "cell_type": "code",
   "execution_count": 12,
   "id": "8b64e9cb-38bf-46da-bf64-fab3bd18f0b9",
   "metadata": {},
   "outputs": [],
   "source": [
    "\n",
    "basedir = '/users/PAS2136/rayees/CV4A - Efficient Probing/BritishCarabids_10_per_species/'\n"
   ]
  },
  {
   "cell_type": "code",
   "execution_count": 13,
   "id": "ce4bc4cc-6624-4323-9f19-89186ecb83b8",
   "metadata": {},
   "outputs": [],
   "source": [
    "\n",
    "test_df.to_csv(f\"{basedir}/5.SWINv2-species.csv\", index=False)\n",
    "\n",
    "metrics_df.to_csv(f\"{basedir}/5.SWINv2-species-metrics.csv\", index=False)\n",
    "\n"
   ]
  },
  {
   "cell_type": "code",
   "execution_count": null,
   "id": "162cedb4-9611-4b12-bfc4-9ee7ec324e23",
   "metadata": {},
   "outputs": [],
   "source": []
  }
 ],
 "metadata": {
  "kernelspec": {
   "display_name": "Python myenv",
   "language": "python",
   "name": "myenv"
  },
  "language_info": {
   "codemirror_mode": {
    "name": "ipython",
    "version": 3
   },
   "file_extension": ".py",
   "mimetype": "text/x-python",
   "name": "python",
   "nbconvert_exporter": "python",
   "pygments_lexer": "ipython3",
   "version": "3.9.18"
  }
 },
 "nbformat": 4,
 "nbformat_minor": 5
}
